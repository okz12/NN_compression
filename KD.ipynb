{
 "cells": [
  {
   "cell_type": "code",
   "execution_count": 1,
   "metadata": {
    "nbpresent": {
     "id": "719d402e-c9c6-43d4-aa61-da3d3d6f0b1b"
    }
   },
   "outputs": [
    {
     "data": {
      "text/html": [
       "<style>.container { width:95% !important; }</style>"
      ],
      "text/plain": [
       "<IPython.core.display.HTML object>"
      ]
     },
     "metadata": {},
     "output_type": "display_data"
    },
    {
     "data": {
      "application/javascript": [
       "if (!(\"Notification\" in window)) {\n",
       "    alert(\"This browser does not support desktop notifications, so the %%notify magic will not work.\");\n",
       "} else if (Notification.permission !== 'granted' && Notification.permission !== 'denied') {\n",
       "    Notification.requestPermission(function (permission) {\n",
       "        if(!('permission' in Notification)) {\n",
       "            Notification.permission = permission;\n",
       "        }\n",
       "    })\n",
       "}\n"
      ],
      "text/plain": [
       "<IPython.core.display.Javascript object>"
      ]
     },
     "metadata": {},
     "output_type": "display_data"
    }
   ],
   "source": [
    "#Expand notebook to take full screen width\n",
    "from IPython.core.display import display, HTML\n",
    "display(HTML(\"<style>.container { width:95% !important; }</style>\"))\n",
    "\n",
    "#Jupyter magic to notify when a cell finishes execution with %%notify command -- does not work with Jupyterlab\n",
    "import jupyternotify\n",
    "ip = get_ipython()\n",
    "ip.register_magics(jupyternotify.JupyterNotifyMagics)"
   ]
  },
  {
   "cell_type": "code",
   "execution_count": 2,
   "metadata": {
    "nbpresent": {
     "id": "9b7ca5e5-2f44-4a6e-9f31-ba7cc98302af"
    }
   },
   "outputs": [],
   "source": [
    "import torch\n",
    "import torch.nn as nn\n",
    "import torchvision.transforms as transforms\n",
    "import torchvision.datasets as dsets\n",
    "from torch.nn.modules import Module\n",
    "from torch.autograd import Variable\n",
    "import torch.nn.functional as F\n",
    "import numpy as np\n",
    "\n",
    "import IPython.display as ipd\n",
    "import imageio\n",
    "#import os\n",
    "#model_dir = \"/\".join(os.getcwd().split(\"/\")[:-1] + ['models/'])\n",
    "model_dir = \"./models/\"\n",
    "import models\n",
    "from plot_utils import show_sws_weights, show_weights, print_dims, prune_plot, draw_sws_graphs, joint_plot\n",
    "from model_utils import test_accuracy, train_epoch, retrain_sws_epoch, model_prune, get_weight_penalty\n",
    "from helpers import trueAfterN, logsumexp\n",
    "from sws_utils import GaussianMixturePrior, special_flatten, KL, compute_responsibilies, merger, sws_prune\n",
    "import copy\n",
    "from tensorboardX import SummaryWriter\n",
    "import pickle \n",
    "\n",
    "writeTensorboard = False\n",
    "if(writeTensorboard):\n",
    "    writer = SummaryWriter('tensorboard/run1/')\n",
    "\n",
    "import seaborn as sns\n",
    "%matplotlib inline\n",
    "import matplotlib.pyplot as plt\n",
    "sns.set(color_codes=True)\n",
    "sns.set_style(\"whitegrid\")\n",
    "\n",
    "\n",
    "#Data\n",
    "train_dataset = dsets.MNIST(root='./data', train=True, transform=transforms.ToTensor(), download=True)\n",
    "test_dataset = dsets.MNIST(root='./data', train=False , transform=transforms.ToTensor(), download=True)\n",
    "\n",
    "batch_size = 256\n",
    "train_loader = torch.utils.data.DataLoader(dataset=train_dataset, batch_size=batch_size, shuffle=True, pin_memory=True)\n",
    "train_data_full = Variable(train_dataset.train_data.float()/255.0).cuda()\n",
    "test_data_full = Variable(test_dataset.test_data.float()/255.0).cuda()\n",
    "train_labels_full = Variable(train_dataset.train_labels).cuda()\n",
    "test_labels_full = Variable(test_dataset.test_labels).cuda()\n",
    "use_cuda = torch.cuda.is_available()\n",
    "\n",
    "#arguments\n",
    "model_name = 'LeNet_300_100'\n",
    "training_epochs=20\n",
    "retraining_epochs=50\n",
    "temp_list = [8]"
   ]
  },
  {
   "cell_type": "code",
   "execution_count": 3,
   "metadata": {},
   "outputs": [],
   "source": [
    "#4D tensor fix for conv-net\n",
    "test_data_full = test_data_full.view(10000, 1, 28, 28)\n",
    "train_data_full = train_data_full.view(60000, 1, 28, 28)\n",
    "model_name = 'SWSModel'"
   ]
  },
  {
   "cell_type": "markdown",
   "metadata": {
    "nbpresent": {
     "id": "fbd41cf7-10fc-4bf4-9024-d678ff46cc0a"
    }
   },
   "source": [
    "## LeNet 300-100"
   ]
  },
  {
   "cell_type": "markdown",
   "metadata": {
    "nbpresent": {
     "id": "7d2ec801-505b-43da-b2e5-685475cd52f2"
    }
   },
   "source": [
    "### 1. Train Model"
   ]
  },
  {
   "cell_type": "code",
   "execution_count": 113,
   "metadata": {
    "nbpresent": {
     "id": "a1558878-fb36-4497-a104-6c7161f723eb"
    }
   },
   "outputs": [
    {
     "name": "stdout",
     "output_type": "stream",
     "text": [
      "0-component Mean: 2500.0 Variance: 1250.0\n",
      "Non-zero component Mean: 2500.0 Variance: 250.0\n"
     ]
    },
    {
     "data": {
      "text/markdown": [
       "**Epoch: 1**"
      ],
      "text/plain": [
       "<IPython.core.display.Markdown object>"
      ]
     },
     "metadata": {},
     "output_type": "display_data"
    },
    {
     "name": "stdout",
     "output_type": "stream",
     "text": [
      "Layer Loss: 147291.625\n",
      "Layer Loss: 165.992\n",
      "Layer Loss: 21380.977\n",
      "Layer Loss: 63.684\n",
      "Layer Loss: 998.946\n",
      "Layer Loss: 5.666\n",
      "0-neglogprop Loss: -13828.171\n",
      "Remaining-neglogprop Loss: -1037279.125\n"
     ]
    },
    {
     "data": {
      "text/markdown": [
       "**Epoch: 2**"
      ],
      "text/plain": [
       "<IPython.core.display.Markdown object>"
      ]
     },
     "metadata": {},
     "output_type": "display_data"
    },
    {
     "data": {
      "text/markdown": [
       "**Epoch: 3**"
      ],
      "text/plain": [
       "<IPython.core.display.Markdown object>"
      ]
     },
     "metadata": {},
     "output_type": "display_data"
    },
    {
     "data": {
      "text/markdown": [
       "**Epoch: 4**"
      ],
      "text/plain": [
       "<IPython.core.display.Markdown object>"
      ]
     },
     "metadata": {},
     "output_type": "display_data"
    },
    {
     "data": {
      "text/markdown": [
       "**Epoch: 5**"
      ],
      "text/plain": [
       "<IPython.core.display.Markdown object>"
      ]
     },
     "metadata": {},
     "output_type": "display_data"
    },
    {
     "data": {
      "text/markdown": [
       "**Epoch: 6**"
      ],
      "text/plain": [
       "<IPython.core.display.Markdown object>"
      ]
     },
     "metadata": {},
     "output_type": "display_data"
    },
    {
     "data": {
      "text/markdown": [
       "**Epoch: 7**"
      ],
      "text/plain": [
       "<IPython.core.display.Markdown object>"
      ]
     },
     "metadata": {},
     "output_type": "display_data"
    },
    {
     "data": {
      "text/markdown": [
       "**Epoch: 8**"
      ],
      "text/plain": [
       "<IPython.core.display.Markdown object>"
      ]
     },
     "metadata": {},
     "output_type": "display_data"
    },
    {
     "data": {
      "text/markdown": [
       "**Epoch: 9**"
      ],
      "text/plain": [
       "<IPython.core.display.Markdown object>"
      ]
     },
     "metadata": {},
     "output_type": "display_data"
    },
    {
     "data": {
      "text/markdown": [
       "**Epoch: 10**"
      ],
      "text/plain": [
       "<IPython.core.display.Markdown object>"
      ]
     },
     "metadata": {},
     "output_type": "display_data"
    },
    {
     "name": "stdout",
     "output_type": "stream",
     "text": [
      "Tau:5e-07\n",
      "Epoch: 10. Training Accuracy: 99.70. Test Accuracy: 98.01\n",
      "Means: [-0.62, -0.554, -0.481, -0.481, -0.259, -0.155, -0.068, -0.008, 0.064, 0.15, 0.24, 0.375, 0.474, 0.716, 0.606]\n",
      "Mixing Proportions: [4.026, -3.425, -4.208, -4.239, -4.353, -4.256, -4.191, -4.175, -4.215, -4.311, -4.432, -4.487, -4.118, -3.163, 1.423]\n",
      "Precisions: [5.29, 7.781, 7.794, 7.794, 7.794, 7.794, 7.794, 7.794, 7.794, 7.794, 7.794, 7.794, 7.794, 7.794, 7.794, 7.794]\n"
     ]
    },
    {
     "data": {
      "text/markdown": [
       "**Epoch: 11**"
      ],
      "text/plain": [
       "<IPython.core.display.Markdown object>"
      ]
     },
     "metadata": {},
     "output_type": "display_data"
    },
    {
     "name": "stdout",
     "output_type": "stream",
     "text": [
      "Layer Loss: -87283.812\n",
      "Layer Loss: -26.136\n",
      "Layer Loss: 13920.885\n",
      "Layer Loss: 26.134\n",
      "Layer Loss: 3139.626\n",
      "Layer Loss: 0.080\n",
      "0-neglogprop Loss: -26048.775\n",
      "Remaining-neglogprop Loss: -2558721.000\n"
     ]
    },
    {
     "data": {
      "text/markdown": [
       "**Epoch: 12**"
      ],
      "text/plain": [
       "<IPython.core.display.Markdown object>"
      ]
     },
     "metadata": {},
     "output_type": "display_data"
    },
    {
     "data": {
      "text/markdown": [
       "**Epoch: 13**"
      ],
      "text/plain": [
       "<IPython.core.display.Markdown object>"
      ]
     },
     "metadata": {},
     "output_type": "display_data"
    },
    {
     "data": {
      "text/markdown": [
       "**Epoch: 14**"
      ],
      "text/plain": [
       "<IPython.core.display.Markdown object>"
      ]
     },
     "metadata": {},
     "output_type": "display_data"
    },
    {
     "data": {
      "text/markdown": [
       "**Epoch: 15**"
      ],
      "text/plain": [
       "<IPython.core.display.Markdown object>"
      ]
     },
     "metadata": {},
     "output_type": "display_data"
    },
    {
     "data": {
      "text/markdown": [
       "**Epoch: 16**"
      ],
      "text/plain": [
       "<IPython.core.display.Markdown object>"
      ]
     },
     "metadata": {},
     "output_type": "display_data"
    },
    {
     "data": {
      "text/markdown": [
       "**Epoch: 17**"
      ],
      "text/plain": [
       "<IPython.core.display.Markdown object>"
      ]
     },
     "metadata": {},
     "output_type": "display_data"
    },
    {
     "data": {
      "text/markdown": [
       "**Epoch: 18**"
      ],
      "text/plain": [
       "<IPython.core.display.Markdown object>"
      ]
     },
     "metadata": {},
     "output_type": "display_data"
    },
    {
     "data": {
      "text/markdown": [
       "**Epoch: 19**"
      ],
      "text/plain": [
       "<IPython.core.display.Markdown object>"
      ]
     },
     "metadata": {},
     "output_type": "display_data"
    },
    {
     "data": {
      "text/markdown": [
       "**Epoch: 20**"
      ],
      "text/plain": [
       "<IPython.core.display.Markdown object>"
      ]
     },
     "metadata": {},
     "output_type": "display_data"
    },
    {
     "name": "stdout",
     "output_type": "stream",
     "text": [
      "Tau:5e-07\n",
      "Epoch: 20. Training Accuracy: 99.71. Test Accuracy: 98.0\n",
      "Means: [-0.626, -0.478, -0.316, -0.434, -0.297, -0.208, -0.068, -0.007, 0.064, 0.215, 0.215, 0.436, 0.323, 0.725, 0.604]\n",
      "Mixing Proportions: [1.048, -6.75, 0.968, -1.727, -7.848, -7.739, -7.688, -7.672, -7.712, -7.63, -7.746, -2.864, 0.877, -5.644, -1.562]\n",
      "Precisions: [6.936, 7.837, 7.824, 7.834, 7.824, 7.824, 7.824, 7.824, 7.824, 7.824, 7.824, 7.824, 7.824, 7.821, 7.824, 7.825]\n"
     ]
    },
    {
     "data": {
      "text/markdown": [
       "**Epoch: 21**"
      ],
      "text/plain": [
       "<IPython.core.display.Markdown object>"
      ]
     },
     "metadata": {},
     "output_type": "display_data"
    },
    {
     "name": "stdout",
     "output_type": "stream",
     "text": [
      "Layer Loss: -273652.969\n",
      "Layer Loss: 12.876\n",
      "Layer Loss: -3408.826\n",
      "Layer Loss: 15.334\n",
      "Layer Loss: 6347.361\n",
      "Layer Loss: 3.652\n",
      "0-neglogprop Loss: -32615.232\n",
      "Remaining-neglogprop Loss: -2558896.250\n"
     ]
    },
    {
     "data": {
      "text/markdown": [
       "**Epoch: 22**"
      ],
      "text/plain": [
       "<IPython.core.display.Markdown object>"
      ]
     },
     "metadata": {},
     "output_type": "display_data"
    },
    {
     "data": {
      "text/markdown": [
       "**Epoch: 23**"
      ],
      "text/plain": [
       "<IPython.core.display.Markdown object>"
      ]
     },
     "metadata": {},
     "output_type": "display_data"
    },
    {
     "data": {
      "text/markdown": [
       "**Epoch: 24**"
      ],
      "text/plain": [
       "<IPython.core.display.Markdown object>"
      ]
     },
     "metadata": {},
     "output_type": "display_data"
    },
    {
     "data": {
      "text/markdown": [
       "**Epoch: 25**"
      ],
      "text/plain": [
       "<IPython.core.display.Markdown object>"
      ]
     },
     "metadata": {},
     "output_type": "display_data"
    },
    {
     "data": {
      "text/markdown": [
       "**Epoch: 26**"
      ],
      "text/plain": [
       "<IPython.core.display.Markdown object>"
      ]
     },
     "metadata": {},
     "output_type": "display_data"
    },
    {
     "data": {
      "text/markdown": [
       "**Epoch: 27**"
      ],
      "text/plain": [
       "<IPython.core.display.Markdown object>"
      ]
     },
     "metadata": {},
     "output_type": "display_data"
    },
    {
     "data": {
      "text/markdown": [
       "**Epoch: 28**"
      ],
      "text/plain": [
       "<IPython.core.display.Markdown object>"
      ]
     },
     "metadata": {},
     "output_type": "display_data"
    },
    {
     "data": {
      "text/markdown": [
       "**Epoch: 29**"
      ],
      "text/plain": [
       "<IPython.core.display.Markdown object>"
      ]
     },
     "metadata": {},
     "output_type": "display_data"
    },
    {
     "data": {
      "text/markdown": [
       "**Epoch: 30**"
      ],
      "text/plain": [
       "<IPython.core.display.Markdown object>"
      ]
     },
     "metadata": {},
     "output_type": "display_data"
    },
    {
     "name": "stdout",
     "output_type": "stream",
     "text": [
      "Tau:5e-07\n",
      "Epoch: 30. Training Accuracy: 98.32. Test Accuracy: 97.35\n",
      "Means: [-0.628, -0.48, -0.321, -0.467, -0.301, -0.118, -0.106, -0.01, 0.063, 0.127, 0.245, 0.454, 0.34, 0.712, 0.623]\n",
      "Mixing Proportions: [-2.455, -10.785, -2.533, -5.294, -11.813, -1.744, -11.656, -11.641, -11.679, -0.931, -5.492, -6.642, -2.644, -9.224, -5.065]\n",
      "Precisions: [10.798, 7.822, 7.824, 7.821, 7.823, 7.824, 7.801, 7.824, 7.824, 7.824, 7.748, 7.824, 7.824, 7.818, 7.824, 7.824]\n"
     ]
    },
    {
     "data": {
      "text/markdown": [
       "**Epoch: 31**"
      ],
      "text/plain": [
       "<IPython.core.display.Markdown object>"
      ]
     },
     "metadata": {},
     "output_type": "display_data"
    },
    {
     "name": "stdout",
     "output_type": "stream",
     "text": [
      "Layer Loss: -740527.438\n",
      "Layer Loss: -252.214\n",
      "Layer Loss: -66401.016\n",
      "Layer Loss: -3.243\n",
      "Layer Loss: 7986.001\n",
      "Layer Loss: 17.357\n",
      "0-neglogprop Loss: 43878.059\n",
      "Remaining-neglogprop Loss: -2558821.750\n"
     ]
    },
    {
     "data": {
      "text/markdown": [
       "**Epoch: 32**"
      ],
      "text/plain": [
       "<IPython.core.display.Markdown object>"
      ]
     },
     "metadata": {},
     "output_type": "display_data"
    },
    {
     "data": {
      "text/markdown": [
       "**Epoch: 33**"
      ],
      "text/plain": [
       "<IPython.core.display.Markdown object>"
      ]
     },
     "metadata": {},
     "output_type": "display_data"
    },
    {
     "data": {
      "text/markdown": [
       "**Epoch: 34**"
      ],
      "text/plain": [
       "<IPython.core.display.Markdown object>"
      ]
     },
     "metadata": {},
     "output_type": "display_data"
    },
    {
     "data": {
      "text/markdown": [
       "**Epoch: 35**"
      ],
      "text/plain": [
       "<IPython.core.display.Markdown object>"
      ]
     },
     "metadata": {},
     "output_type": "display_data"
    },
    {
     "data": {
      "text/markdown": [
       "**Epoch: 36**"
      ],
      "text/plain": [
       "<IPython.core.display.Markdown object>"
      ]
     },
     "metadata": {},
     "output_type": "display_data"
    },
    {
     "data": {
      "text/markdown": [
       "**Epoch: 37**"
      ],
      "text/plain": [
       "<IPython.core.display.Markdown object>"
      ]
     },
     "metadata": {},
     "output_type": "display_data"
    },
    {
     "data": {
      "text/markdown": [
       "**Epoch: 38**"
      ],
      "text/plain": [
       "<IPython.core.display.Markdown object>"
      ]
     },
     "metadata": {},
     "output_type": "display_data"
    },
    {
     "data": {
      "text/markdown": [
       "**Epoch: 39**"
      ],
      "text/plain": [
       "<IPython.core.display.Markdown object>"
      ]
     },
     "metadata": {},
     "output_type": "display_data"
    },
    {
     "data": {
      "text/markdown": [
       "**Epoch: 40**"
      ],
      "text/plain": [
       "<IPython.core.display.Markdown object>"
      ]
     },
     "metadata": {},
     "output_type": "display_data"
    },
    {
     "name": "stdout",
     "output_type": "stream",
     "text": [
      "Tau:5e-07\n",
      "Epoch: 40. Training Accuracy: 98.38. Test Accuracy: 97.37\n",
      "Means: [-0.633, -0.479, -0.325, -0.505, -0.3, -0.131, -0.105, -0.011, 0.058, 0.144, 0.264, 0.484, 0.36, 0.703, 0.655]\n",
      "Mixing Proportions: [-2.503, -12.291, -2.577, -5.367, -13.289, -1.791, -13.134, -13.119, -13.156, -0.986, -4.681, -6.183, -2.735, -12.158, -5.149]\n",
      "Precisions: [11.063, 7.804, 7.824, 7.805, 7.823, 7.824, 7.783, 7.824, 7.824, 7.824, 7.72, 7.824, 7.824, 7.808, 7.824, 7.823]\n"
     ]
    },
    {
     "data": {
      "text/markdown": [
       "**Epoch: 41**"
      ],
      "text/plain": [
       "<IPython.core.display.Markdown object>"
      ]
     },
     "metadata": {},
     "output_type": "display_data"
    },
    {
     "name": "stdout",
     "output_type": "stream",
     "text": [
      "Layer Loss: -792913.812\n",
      "Layer Loss: -505.980\n",
      "Layer Loss: -74124.148\n",
      "Layer Loss: -129.055\n",
      "Layer Loss: 7698.017\n",
      "Layer Loss: 6.844\n",
      "0-neglogprop Loss: 72179.516\n",
      "Remaining-neglogprop Loss: -2558736.250\n"
     ]
    },
    {
     "data": {
      "text/markdown": [
       "**Epoch: 42**"
      ],
      "text/plain": [
       "<IPython.core.display.Markdown object>"
      ]
     },
     "metadata": {},
     "output_type": "display_data"
    },
    {
     "data": {
      "text/markdown": [
       "**Epoch: 43**"
      ],
      "text/plain": [
       "<IPython.core.display.Markdown object>"
      ]
     },
     "metadata": {},
     "output_type": "display_data"
    },
    {
     "data": {
      "text/markdown": [
       "**Epoch: 44**"
      ],
      "text/plain": [
       "<IPython.core.display.Markdown object>"
      ]
     },
     "metadata": {},
     "output_type": "display_data"
    },
    {
     "data": {
      "text/markdown": [
       "**Epoch: 45**"
      ],
      "text/plain": [
       "<IPython.core.display.Markdown object>"
      ]
     },
     "metadata": {},
     "output_type": "display_data"
    },
    {
     "data": {
      "text/markdown": [
       "**Epoch: 46**"
      ],
      "text/plain": [
       "<IPython.core.display.Markdown object>"
      ]
     },
     "metadata": {},
     "output_type": "display_data"
    },
    {
     "data": {
      "text/markdown": [
       "**Epoch: 47**"
      ],
      "text/plain": [
       "<IPython.core.display.Markdown object>"
      ]
     },
     "metadata": {},
     "output_type": "display_data"
    },
    {
     "data": {
      "text/markdown": [
       "**Epoch: 48**"
      ],
      "text/plain": [
       "<IPython.core.display.Markdown object>"
      ]
     },
     "metadata": {},
     "output_type": "display_data"
    },
    {
     "data": {
      "text/markdown": [
       "**Epoch: 49**"
      ],
      "text/plain": [
       "<IPython.core.display.Markdown object>"
      ]
     },
     "metadata": {},
     "output_type": "display_data"
    },
    {
     "data": {
      "text/markdown": [
       "**Epoch: 50**"
      ],
      "text/plain": [
       "<IPython.core.display.Markdown object>"
      ]
     },
     "metadata": {},
     "output_type": "display_data"
    },
    {
     "name": "stdout",
     "output_type": "stream",
     "text": [
      "Tau:5e-07\n",
      "Epoch: 50. Training Accuracy: 98.55. Test Accuracy: 97.48\n",
      "Means: [-0.64, -0.478, -0.328, -0.513, -0.3, -0.139, -0.105, -0.016, 0.056, 0.152, 0.276, 0.494, 0.371, 0.703, 0.67]\n",
      "Mixing Proportions: [-2.512, -13.497, -2.583, -5.33, -14.428, -1.801, -14.286, -14.272, -14.306, -0.998, -4.401, -5.888, -2.772, -13.532, -5.156]\n",
      "Precisions: [11.079, 7.804, 7.824, 7.804, 7.823, 7.824, 7.779, 7.824, 7.824, 7.824, 7.711, 7.824, 7.824, 7.811, 7.824, 7.823]\n"
     ]
    },
    {
     "data": {
      "text/markdown": [
       "**Epoch: 51**"
      ],
      "text/plain": [
       "<IPython.core.display.Markdown object>"
      ]
     },
     "metadata": {},
     "output_type": "display_data"
    },
    {
     "name": "stdout",
     "output_type": "stream",
     "text": [
      "Layer Loss: -796167.500\n",
      "Layer Loss: -546.322\n",
      "Layer Loss: -74535.672\n",
      "Layer Loss: -124.551\n",
      "Layer Loss: 7594.891\n",
      "Layer Loss: 6.175\n",
      "0-neglogprop Loss: 74252.453\n",
      "Remaining-neglogprop Loss: -2558707.750\n"
     ]
    },
    {
     "data": {
      "text/markdown": [
       "**Epoch: 52**"
      ],
      "text/plain": [
       "<IPython.core.display.Markdown object>"
      ]
     },
     "metadata": {},
     "output_type": "display_data"
    },
    {
     "data": {
      "text/markdown": [
       "**Epoch: 53**"
      ],
      "text/plain": [
       "<IPython.core.display.Markdown object>"
      ]
     },
     "metadata": {},
     "output_type": "display_data"
    },
    {
     "data": {
      "text/markdown": [
       "**Epoch: 54**"
      ],
      "text/plain": [
       "<IPython.core.display.Markdown object>"
      ]
     },
     "metadata": {},
     "output_type": "display_data"
    },
    {
     "data": {
      "text/markdown": [
       "**Epoch: 55**"
      ],
      "text/plain": [
       "<IPython.core.display.Markdown object>"
      ]
     },
     "metadata": {},
     "output_type": "display_data"
    },
    {
     "data": {
      "text/markdown": [
       "**Epoch: 56**"
      ],
      "text/plain": [
       "<IPython.core.display.Markdown object>"
      ]
     },
     "metadata": {},
     "output_type": "display_data"
    },
    {
     "data": {
      "text/markdown": [
       "**Epoch: 57**"
      ],
      "text/plain": [
       "<IPython.core.display.Markdown object>"
      ]
     },
     "metadata": {},
     "output_type": "display_data"
    },
    {
     "data": {
      "text/markdown": [
       "**Epoch: 58**"
      ],
      "text/plain": [
       "<IPython.core.display.Markdown object>"
      ]
     },
     "metadata": {},
     "output_type": "display_data"
    },
    {
     "data": {
      "text/markdown": [
       "**Epoch: 59**"
      ],
      "text/plain": [
       "<IPython.core.display.Markdown object>"
      ]
     },
     "metadata": {},
     "output_type": "display_data"
    },
    {
     "data": {
      "text/markdown": [
       "**Epoch: 60**"
      ],
      "text/plain": [
       "<IPython.core.display.Markdown object>"
      ]
     },
     "metadata": {},
     "output_type": "display_data"
    },
    {
     "name": "stdout",
     "output_type": "stream",
     "text": [
      "Tau:5e-07\n",
      "Epoch: 60. Training Accuracy: 98.63. Test Accuracy: 97.57\n",
      "Means: [-0.648, -0.477, -0.333, -0.515, -0.3, -0.147, -0.105, -0.016, 0.056, 0.157, 0.281, 0.513, 0.379, 0.703, 0.682]\n",
      "Mixing Proportions: [-2.503, -14.55, -2.575, -5.331, -15.351, -1.792, -15.228, -15.217, -15.244, -0.994, -4.319, -5.85, -2.755, -14.614, -5.148]\n",
      "Precisions: [11.085, 7.806, 7.824, 7.806, 7.823, 7.824, 7.778, 7.824, 7.824, 7.824, 7.713, 7.824, 7.824, 7.813, 7.824, 7.823]\n"
     ]
    },
    {
     "data": {
      "text/markdown": [
       "**Epoch: 61**"
      ],
      "text/plain": [
       "<IPython.core.display.Markdown object>"
      ]
     },
     "metadata": {},
     "output_type": "display_data"
    },
    {
     "name": "stdout",
     "output_type": "stream",
     "text": [
      "Layer Loss: -797203.812\n",
      "Layer Loss: -552.631\n",
      "Layer Loss: -74869.664\n",
      "Layer Loss: -121.604\n",
      "Layer Loss: 7446.876\n",
      "Layer Loss: 5.519\n",
      "0-neglogprop Loss: 74941.586\n",
      "Remaining-neglogprop Loss: -2558716.000\n"
     ]
    },
    {
     "data": {
      "text/markdown": [
       "**Epoch: 62**"
      ],
      "text/plain": [
       "<IPython.core.display.Markdown object>"
      ]
     },
     "metadata": {},
     "output_type": "display_data"
    },
    {
     "data": {
      "text/markdown": [
       "**Epoch: 63**"
      ],
      "text/plain": [
       "<IPython.core.display.Markdown object>"
      ]
     },
     "metadata": {},
     "output_type": "display_data"
    },
    {
     "data": {
      "text/markdown": [
       "**Epoch: 64**"
      ],
      "text/plain": [
       "<IPython.core.display.Markdown object>"
      ]
     },
     "metadata": {},
     "output_type": "display_data"
    },
    {
     "data": {
      "text/markdown": [
       "**Epoch: 65**"
      ],
      "text/plain": [
       "<IPython.core.display.Markdown object>"
      ]
     },
     "metadata": {},
     "output_type": "display_data"
    },
    {
     "data": {
      "text/markdown": [
       "**Epoch: 66**"
      ],
      "text/plain": [
       "<IPython.core.display.Markdown object>"
      ]
     },
     "metadata": {},
     "output_type": "display_data"
    },
    {
     "data": {
      "text/markdown": [
       "**Epoch: 67**"
      ],
      "text/plain": [
       "<IPython.core.display.Markdown object>"
      ]
     },
     "metadata": {},
     "output_type": "display_data"
    },
    {
     "data": {
      "text/markdown": [
       "**Epoch: 68**"
      ],
      "text/plain": [
       "<IPython.core.display.Markdown object>"
      ]
     },
     "metadata": {},
     "output_type": "display_data"
    },
    {
     "data": {
      "text/markdown": [
       "**Epoch: 69**"
      ],
      "text/plain": [
       "<IPython.core.display.Markdown object>"
      ]
     },
     "metadata": {},
     "output_type": "display_data"
    },
    {
     "data": {
      "text/markdown": [
       "**Epoch: 70**"
      ],
      "text/plain": [
       "<IPython.core.display.Markdown object>"
      ]
     },
     "metadata": {},
     "output_type": "display_data"
    },
    {
     "name": "stdout",
     "output_type": "stream",
     "text": [
      "Tau:5e-07\n",
      "Epoch: 70. Training Accuracy: 98.72. Test Accuracy: 97.56\n",
      "Means: [-0.654, -0.477, -0.337, -0.512, -0.3, -0.153, -0.105, -0.016, 0.055, 0.162, 0.288, 0.535, 0.388, 0.703, 0.692]\n",
      "Mixing Proportions: [-2.48, -15.422, -2.556, -5.499, -15.991, -1.777, -15.943, -15.935, -15.955, -0.98, -4.259, -5.874, -2.739, -15.48, -5.132]\n",
      "Precisions: [11.088, 7.807, 7.824, 7.808, 7.823, 7.824, 7.78, 7.824, 7.824, 7.824, 7.717, 7.824, 7.824, 7.815, 7.824, 7.823]\n"
     ]
    },
    {
     "data": {
      "text/markdown": [
       "**Epoch: 71**"
      ],
      "text/plain": [
       "<IPython.core.display.Markdown object>"
      ]
     },
     "metadata": {},
     "output_type": "display_data"
    },
    {
     "name": "stdout",
     "output_type": "stream",
     "text": [
      "Layer Loss: -797937.312\n",
      "Layer Loss: -552.490\n",
      "Layer Loss: -75124.430\n",
      "Layer Loss: -118.060\n",
      "Layer Loss: 7307.958\n",
      "Layer Loss: 5.286\n",
      "0-neglogprop Loss: 75364.812\n",
      "Remaining-neglogprop Loss: -2558730.250\n"
     ]
    },
    {
     "data": {
      "text/markdown": [
       "**Epoch: 72**"
      ],
      "text/plain": [
       "<IPython.core.display.Markdown object>"
      ]
     },
     "metadata": {},
     "output_type": "display_data"
    },
    {
     "data": {
      "text/markdown": [
       "**Epoch: 73**"
      ],
      "text/plain": [
       "<IPython.core.display.Markdown object>"
      ]
     },
     "metadata": {},
     "output_type": "display_data"
    },
    {
     "data": {
      "text/markdown": [
       "**Epoch: 74**"
      ],
      "text/plain": [
       "<IPython.core.display.Markdown object>"
      ]
     },
     "metadata": {},
     "output_type": "display_data"
    },
    {
     "data": {
      "text/markdown": [
       "**Epoch: 75**"
      ],
      "text/plain": [
       "<IPython.core.display.Markdown object>"
      ]
     },
     "metadata": {},
     "output_type": "display_data"
    },
    {
     "data": {
      "text/markdown": [
       "**Epoch: 76**"
      ],
      "text/plain": [
       "<IPython.core.display.Markdown object>"
      ]
     },
     "metadata": {},
     "output_type": "display_data"
    },
    {
     "data": {
      "text/markdown": [
       "**Epoch: 77**"
      ],
      "text/plain": [
       "<IPython.core.display.Markdown object>"
      ]
     },
     "metadata": {},
     "output_type": "display_data"
    },
    {
     "data": {
      "text/markdown": [
       "**Epoch: 78**"
      ],
      "text/plain": [
       "<IPython.core.display.Markdown object>"
      ]
     },
     "metadata": {},
     "output_type": "display_data"
    },
    {
     "data": {
      "text/markdown": [
       "**Epoch: 79**"
      ],
      "text/plain": [
       "<IPython.core.display.Markdown object>"
      ]
     },
     "metadata": {},
     "output_type": "display_data"
    },
    {
     "data": {
      "text/markdown": [
       "**Epoch: 80**"
      ],
      "text/plain": [
       "<IPython.core.display.Markdown object>"
      ]
     },
     "metadata": {},
     "output_type": "display_data"
    },
    {
     "name": "stdout",
     "output_type": "stream",
     "text": [
      "Tau:5e-07\n",
      "Epoch: 80. Training Accuracy: 98.78. Test Accuracy: 97.58\n",
      "Means: [-0.66, -0.477, -0.34, -0.509, -0.3, -0.159, -0.105, -0.016, 0.055, 0.165, 0.297, 0.556, 0.396, 0.703, 0.7]\n",
      "Mixing Proportions: [-2.45, -16.075, -2.526, -5.487, -16.532, -1.749, -16.45, -16.444, -16.458, -0.951, -4.222, -5.878, -2.71, -16.118, -5.103]\n",
      "Precisions: [11.09, 7.809, 7.824, 7.81, 7.823, 7.824, 7.781, 7.824, 7.824, 7.824, 7.722, 7.824, 7.824, 7.816, 7.824, 7.823]\n"
     ]
    },
    {
     "data": {
      "text/markdown": [
       "**Epoch: 81**"
      ],
      "text/plain": [
       "<IPython.core.display.Markdown object>"
      ]
     },
     "metadata": {},
     "output_type": "display_data"
    },
    {
     "name": "stdout",
     "output_type": "stream",
     "text": [
      "Layer Loss: -798457.000\n",
      "Layer Loss: -553.078\n",
      "Layer Loss: -75299.305\n",
      "Layer Loss: -116.073\n",
      "Layer Loss: 7178.195\n",
      "Layer Loss: 5.150\n",
      "0-neglogprop Loss: 75620.859\n",
      "Remaining-neglogprop Loss: -2558746.000\n"
     ]
    },
    {
     "data": {
      "text/markdown": [
       "**Epoch: 82**"
      ],
      "text/plain": [
       "<IPython.core.display.Markdown object>"
      ]
     },
     "metadata": {},
     "output_type": "display_data"
    },
    {
     "data": {
      "text/markdown": [
       "**Epoch: 83**"
      ],
      "text/plain": [
       "<IPython.core.display.Markdown object>"
      ]
     },
     "metadata": {},
     "output_type": "display_data"
    },
    {
     "data": {
      "text/markdown": [
       "**Epoch: 84**"
      ],
      "text/plain": [
       "<IPython.core.display.Markdown object>"
      ]
     },
     "metadata": {},
     "output_type": "display_data"
    },
    {
     "data": {
      "text/markdown": [
       "**Epoch: 85**"
      ],
      "text/plain": [
       "<IPython.core.display.Markdown object>"
      ]
     },
     "metadata": {},
     "output_type": "display_data"
    },
    {
     "data": {
      "text/markdown": [
       "**Epoch: 86**"
      ],
      "text/plain": [
       "<IPython.core.display.Markdown object>"
      ]
     },
     "metadata": {},
     "output_type": "display_data"
    },
    {
     "data": {
      "text/markdown": [
       "**Epoch: 87**"
      ],
      "text/plain": [
       "<IPython.core.display.Markdown object>"
      ]
     },
     "metadata": {},
     "output_type": "display_data"
    },
    {
     "data": {
      "text/markdown": [
       "**Epoch: 88**"
      ],
      "text/plain": [
       "<IPython.core.display.Markdown object>"
      ]
     },
     "metadata": {},
     "output_type": "display_data"
    },
    {
     "data": {
      "text/markdown": [
       "**Epoch: 89**"
      ],
      "text/plain": [
       "<IPython.core.display.Markdown object>"
      ]
     },
     "metadata": {},
     "output_type": "display_data"
    },
    {
     "data": {
      "text/markdown": [
       "**Epoch: 90**"
      ],
      "text/plain": [
       "<IPython.core.display.Markdown object>"
      ]
     },
     "metadata": {},
     "output_type": "display_data"
    },
    {
     "name": "stdout",
     "output_type": "stream",
     "text": [
      "Tau:5e-07\n",
      "Epoch: 90. Training Accuracy: 98.81. Test Accuracy: 97.48\n",
      "Means: [-0.666, -0.477, -0.343, -0.504, -0.3, -0.164, -0.105, -0.016, 0.055, 0.168, 0.302, 0.574, 0.402, 0.703, 0.707]\n",
      "Mixing Proportions: [-2.411, -16.532, -2.489, -5.456, -16.796, -1.712, -16.795, -16.795, -16.795, -0.913, -4.254, -5.85, -2.661, -16.563, -5.066]\n",
      "Precisions: [11.093, 7.811, 7.824, 7.812, 7.823, 7.824, 7.783, 7.824, 7.824, 7.824, 7.726, 7.824, 7.824, 7.816, 7.824, 7.823]\n"
     ]
    },
    {
     "data": {
      "text/markdown": [
       "**Epoch: 91**"
      ],
      "text/plain": [
       "<IPython.core.display.Markdown object>"
      ]
     },
     "metadata": {},
     "output_type": "display_data"
    },
    {
     "name": "stdout",
     "output_type": "stream",
     "text": [
      "Layer Loss: -799143.438\n",
      "Layer Loss: -552.432\n",
      "Layer Loss: -75452.992\n",
      "Layer Loss: -115.945\n",
      "Layer Loss: 7083.023\n",
      "Layer Loss: 5.001\n",
      "0-neglogprop Loss: 75946.750\n",
      "Remaining-neglogprop Loss: -2558759.000\n"
     ]
    },
    {
     "data": {
      "text/markdown": [
       "**Epoch: 92**"
      ],
      "text/plain": [
       "<IPython.core.display.Markdown object>"
      ]
     },
     "metadata": {},
     "output_type": "display_data"
    },
    {
     "data": {
      "text/markdown": [
       "**Epoch: 93**"
      ],
      "text/plain": [
       "<IPython.core.display.Markdown object>"
      ]
     },
     "metadata": {},
     "output_type": "display_data"
    },
    {
     "data": {
      "text/markdown": [
       "**Epoch: 94**"
      ],
      "text/plain": [
       "<IPython.core.display.Markdown object>"
      ]
     },
     "metadata": {},
     "output_type": "display_data"
    },
    {
     "data": {
      "text/markdown": [
       "**Epoch: 95**"
      ],
      "text/plain": [
       "<IPython.core.display.Markdown object>"
      ]
     },
     "metadata": {},
     "output_type": "display_data"
    },
    {
     "data": {
      "text/markdown": [
       "**Epoch: 96**"
      ],
      "text/plain": [
       "<IPython.core.display.Markdown object>"
      ]
     },
     "metadata": {},
     "output_type": "display_data"
    },
    {
     "data": {
      "text/markdown": [
       "**Epoch: 97**"
      ],
      "text/plain": [
       "<IPython.core.display.Markdown object>"
      ]
     },
     "metadata": {},
     "output_type": "display_data"
    },
    {
     "data": {
      "text/markdown": [
       "**Epoch: 98**"
      ],
      "text/plain": [
       "<IPython.core.display.Markdown object>"
      ]
     },
     "metadata": {},
     "output_type": "display_data"
    },
    {
     "data": {
      "text/markdown": [
       "**Epoch: 99**"
      ],
      "text/plain": [
       "<IPython.core.display.Markdown object>"
      ]
     },
     "metadata": {},
     "output_type": "display_data"
    },
    {
     "data": {
      "text/markdown": [
       "**Epoch: 100**"
      ],
      "text/plain": [
       "<IPython.core.display.Markdown object>"
      ]
     },
     "metadata": {},
     "output_type": "display_data"
    },
    {
     "name": "stdout",
     "output_type": "stream",
     "text": [
      "Tau:5e-07\n",
      "Epoch: 100. Training Accuracy: 98.83. Test Accuracy: 97.46\n",
      "Means: [-0.672, -0.477, -0.346, -0.501, -0.3, -0.169, -0.105, -0.016, 0.055, 0.171, 0.305, 0.59, 0.408, 0.703, 0.713]\n",
      "Mixing Proportions: [-2.378, -16.857, -2.458, -5.416, -17.058, -1.68, -17.059, -17.059, -17.152, -0.88, -4.363, -5.819, -2.609, -16.881, -5.034]\n",
      "Precisions: [11.093, 7.813, 7.824, 7.814, 7.823, 7.824, 7.784, 7.824, 7.824, 7.824, 7.73, 7.824, 7.824, 7.815, 7.824, 7.823]\n"
     ]
    },
    {
     "data": {
      "text/markdown": [
       "**Epoch: 101**"
      ],
      "text/plain": [
       "<IPython.core.display.Markdown object>"
      ]
     },
     "metadata": {},
     "output_type": "display_data"
    },
    {
     "name": "stdout",
     "output_type": "stream",
     "text": [
      "Layer Loss: -799229.938\n",
      "Layer Loss: -549.950\n",
      "Layer Loss: -75583.773\n",
      "Layer Loss: -118.881\n",
      "Layer Loss: 6998.221\n",
      "Layer Loss: 4.963\n",
      "0-neglogprop Loss: 75952.398\n",
      "Remaining-neglogprop Loss: -2558769.250\n"
     ]
    },
    {
     "data": {
      "text/markdown": [
       "**Epoch: 102**"
      ],
      "text/plain": [
       "<IPython.core.display.Markdown object>"
      ]
     },
     "metadata": {},
     "output_type": "display_data"
    },
    {
     "data": {
      "text/markdown": [
       "**Epoch: 103**"
      ],
      "text/plain": [
       "<IPython.core.display.Markdown object>"
      ]
     },
     "metadata": {},
     "output_type": "display_data"
    },
    {
     "data": {
      "text/markdown": [
       "**Epoch: 104**"
      ],
      "text/plain": [
       "<IPython.core.display.Markdown object>"
      ]
     },
     "metadata": {},
     "output_type": "display_data"
    },
    {
     "data": {
      "text/markdown": [
       "**Epoch: 105**"
      ],
      "text/plain": [
       "<IPython.core.display.Markdown object>"
      ]
     },
     "metadata": {},
     "output_type": "display_data"
    },
    {
     "data": {
      "text/markdown": [
       "**Epoch: 106**"
      ],
      "text/plain": [
       "<IPython.core.display.Markdown object>"
      ]
     },
     "metadata": {},
     "output_type": "display_data"
    },
    {
     "data": {
      "text/markdown": [
       "**Epoch: 107**"
      ],
      "text/plain": [
       "<IPython.core.display.Markdown object>"
      ]
     },
     "metadata": {},
     "output_type": "display_data"
    },
    {
     "data": {
      "text/markdown": [
       "**Epoch: 108**"
      ],
      "text/plain": [
       "<IPython.core.display.Markdown object>"
      ]
     },
     "metadata": {},
     "output_type": "display_data"
    },
    {
     "data": {
      "text/markdown": [
       "**Epoch: 109**"
      ],
      "text/plain": [
       "<IPython.core.display.Markdown object>"
      ]
     },
     "metadata": {},
     "output_type": "display_data"
    },
    {
     "data": {
      "text/markdown": [
       "**Epoch: 110**"
      ],
      "text/plain": [
       "<IPython.core.display.Markdown object>"
      ]
     },
     "metadata": {},
     "output_type": "display_data"
    },
    {
     "name": "stdout",
     "output_type": "stream",
     "text": [
      "Tau:5e-07\n",
      "Epoch: 110. Training Accuracy: 98.85. Test Accuracy: 97.51\n",
      "Means: [-0.677, -0.477, -0.349, -0.504, -0.3, -0.173, -0.105, -0.016, 0.055, 0.174, 0.308, 0.605, 0.413, 0.703, 0.718]\n",
      "Mixing Proportions: [-2.353, -17.103, -2.428, -5.446, -17.265, -1.656, -17.266, -17.266, -17.374, -0.853, -4.505, -5.795, -2.566, -17.122, -5.008]\n",
      "Precisions: [11.093, 7.815, 7.824, 7.814, 7.823, 7.824, 7.786, 7.824, 7.824, 7.824, 7.733, 7.824, 7.824, 7.815, 7.824, 7.823]\n"
     ]
    },
    {
     "data": {
      "text/markdown": [
       "**Epoch: 111**"
      ],
      "text/plain": [
       "<IPython.core.display.Markdown object>"
      ]
     },
     "metadata": {},
     "output_type": "display_data"
    },
    {
     "name": "stdout",
     "output_type": "stream",
     "text": [
      "Layer Loss: -799345.938\n",
      "Layer Loss: -549.556\n",
      "Layer Loss: -75676.258\n",
      "Layer Loss: -124.243\n",
      "Layer Loss: 6921.395\n",
      "Layer Loss: 4.859\n",
      "0-neglogprop Loss: 75957.945\n",
      "Remaining-neglogprop Loss: -2558778.500\n"
     ]
    },
    {
     "data": {
      "text/markdown": [
       "**Epoch: 112**"
      ],
      "text/plain": [
       "<IPython.core.display.Markdown object>"
      ]
     },
     "metadata": {},
     "output_type": "display_data"
    },
    {
     "data": {
      "text/markdown": [
       "**Epoch: 113**"
      ],
      "text/plain": [
       "<IPython.core.display.Markdown object>"
      ]
     },
     "metadata": {},
     "output_type": "display_data"
    },
    {
     "data": {
      "text/markdown": [
       "**Epoch: 114**"
      ],
      "text/plain": [
       "<IPython.core.display.Markdown object>"
      ]
     },
     "metadata": {},
     "output_type": "display_data"
    },
    {
     "data": {
      "text/markdown": [
       "**Epoch: 115**"
      ],
      "text/plain": [
       "<IPython.core.display.Markdown object>"
      ]
     },
     "metadata": {},
     "output_type": "display_data"
    },
    {
     "data": {
      "text/markdown": [
       "**Epoch: 116**"
      ],
      "text/plain": [
       "<IPython.core.display.Markdown object>"
      ]
     },
     "metadata": {},
     "output_type": "display_data"
    },
    {
     "data": {
      "text/markdown": [
       "**Epoch: 117**"
      ],
      "text/plain": [
       "<IPython.core.display.Markdown object>"
      ]
     },
     "metadata": {},
     "output_type": "display_data"
    },
    {
     "data": {
      "text/markdown": [
       "**Epoch: 118**"
      ],
      "text/plain": [
       "<IPython.core.display.Markdown object>"
      ]
     },
     "metadata": {},
     "output_type": "display_data"
    },
    {
     "data": {
      "text/markdown": [
       "**Epoch: 119**"
      ],
      "text/plain": [
       "<IPython.core.display.Markdown object>"
      ]
     },
     "metadata": {},
     "output_type": "display_data"
    },
    {
     "data": {
      "text/markdown": [
       "**Epoch: 120**"
      ],
      "text/plain": [
       "<IPython.core.display.Markdown object>"
      ]
     },
     "metadata": {},
     "output_type": "display_data"
    },
    {
     "name": "stdout",
     "output_type": "stream",
     "text": [
      "Tau:5e-07\n",
      "Epoch: 120. Training Accuracy: 98.90. Test Accuracy: 97.59\n",
      "Means: [-0.683, -0.477, -0.351, -0.507, -0.3, -0.177, -0.105, -0.016, 0.055, 0.176, 0.308, 0.618, 0.418, 0.703, 0.723]\n",
      "Mixing Proportions: [-2.336, -17.298, -2.41, -5.452, -17.432, -1.639, -17.432, -17.432, -17.432, -0.836, -4.586, -5.795, -2.537, -17.314, -4.983]\n",
      "Precisions: [11.094, 7.816, 7.824, 7.816, 7.823, 7.824, 7.787, 7.824, 7.824, 7.824, 7.737, 7.824, 7.824, 7.816, 7.824, 7.824]\n"
     ]
    },
    {
     "data": {
      "text/markdown": [
       "**Epoch: 121**"
      ],
      "text/plain": [
       "<IPython.core.display.Markdown object>"
      ]
     },
     "metadata": {},
     "output_type": "display_data"
    },
    {
     "name": "stdout",
     "output_type": "stream",
     "text": [
      "Layer Loss: -799693.875\n",
      "Layer Loss: -550.043\n",
      "Layer Loss: -75778.727\n",
      "Layer Loss: -127.407\n",
      "Layer Loss: 6857.820\n",
      "Layer Loss: 4.679\n",
      "0-neglogprop Loss: 76057.930\n",
      "Remaining-neglogprop Loss: -2558790.000\n"
     ]
    },
    {
     "data": {
      "text/markdown": [
       "**Epoch: 122**"
      ],
      "text/plain": [
       "<IPython.core.display.Markdown object>"
      ]
     },
     "metadata": {},
     "output_type": "display_data"
    },
    {
     "data": {
      "text/markdown": [
       "**Epoch: 123**"
      ],
      "text/plain": [
       "<IPython.core.display.Markdown object>"
      ]
     },
     "metadata": {},
     "output_type": "display_data"
    },
    {
     "data": {
      "text/markdown": [
       "**Epoch: 124**"
      ],
      "text/plain": [
       "<IPython.core.display.Markdown object>"
      ]
     },
     "metadata": {},
     "output_type": "display_data"
    },
    {
     "data": {
      "text/markdown": [
       "**Epoch: 125**"
      ],
      "text/plain": [
       "<IPython.core.display.Markdown object>"
      ]
     },
     "metadata": {},
     "output_type": "display_data"
    },
    {
     "data": {
      "text/markdown": [
       "**Epoch: 126**"
      ],
      "text/plain": [
       "<IPython.core.display.Markdown object>"
      ]
     },
     "metadata": {},
     "output_type": "display_data"
    },
    {
     "data": {
      "text/markdown": [
       "**Epoch: 127**"
      ],
      "text/plain": [
       "<IPython.core.display.Markdown object>"
      ]
     },
     "metadata": {},
     "output_type": "display_data"
    },
    {
     "data": {
      "text/markdown": [
       "**Epoch: 128**"
      ],
      "text/plain": [
       "<IPython.core.display.Markdown object>"
      ]
     },
     "metadata": {},
     "output_type": "display_data"
    },
    {
     "data": {
      "text/markdown": [
       "**Epoch: 129**"
      ],
      "text/plain": [
       "<IPython.core.display.Markdown object>"
      ]
     },
     "metadata": {},
     "output_type": "display_data"
    },
    {
     "data": {
      "text/markdown": [
       "**Epoch: 130**"
      ],
      "text/plain": [
       "<IPython.core.display.Markdown object>"
      ]
     },
     "metadata": {},
     "output_type": "display_data"
    },
    {
     "name": "stdout",
     "output_type": "stream",
     "text": [
      "Tau:5e-07\n",
      "Epoch: 130. Training Accuracy: 98.88. Test Accuracy: 97.44\n",
      "Means: [-0.688, -0.477, -0.353, -0.508, -0.3, -0.181, -0.105, -0.016, 0.055, 0.178, 0.307, 0.627, 0.423, 0.703, 0.724]\n",
      "Mixing Proportions: [-2.322, -17.46, -2.395, -5.439, -17.537, -1.625, -17.537, -17.537, -17.537, -0.821, -4.665, -5.88, -2.514, -17.474, -4.928]\n",
      "Precisions: [11.094, 7.818, 7.824, 7.817, 7.823, 7.824, 7.789, 7.824, 7.824, 7.824, 7.74, 7.824, 7.824, 7.816, 7.824, 7.823]\n"
     ]
    },
    {
     "data": {
      "text/markdown": [
       "**Epoch: 131**"
      ],
      "text/plain": [
       "<IPython.core.display.Markdown object>"
      ]
     },
     "metadata": {},
     "output_type": "display_data"
    },
    {
     "name": "stdout",
     "output_type": "stream",
     "text": [
      "Layer Loss: -799871.688\n",
      "Layer Loss: -548.339\n",
      "Layer Loss: -75873.750\n",
      "Layer Loss: -129.280\n",
      "Layer Loss: 6804.992\n",
      "Layer Loss: 4.681\n",
      "0-neglogprop Loss: 76122.625\n",
      "Remaining-neglogprop Loss: -2558798.000\n"
     ]
    },
    {
     "data": {
      "text/markdown": [
       "**Epoch: 132**"
      ],
      "text/plain": [
       "<IPython.core.display.Markdown object>"
      ]
     },
     "metadata": {},
     "output_type": "display_data"
    },
    {
     "data": {
      "text/markdown": [
       "**Epoch: 133**"
      ],
      "text/plain": [
       "<IPython.core.display.Markdown object>"
      ]
     },
     "metadata": {},
     "output_type": "display_data"
    },
    {
     "data": {
      "text/markdown": [
       "**Epoch: 134**"
      ],
      "text/plain": [
       "<IPython.core.display.Markdown object>"
      ]
     },
     "metadata": {},
     "output_type": "display_data"
    },
    {
     "data": {
      "text/markdown": [
       "**Epoch: 135**"
      ],
      "text/plain": [
       "<IPython.core.display.Markdown object>"
      ]
     },
     "metadata": {},
     "output_type": "display_data"
    },
    {
     "data": {
      "text/markdown": [
       "**Epoch: 136**"
      ],
      "text/plain": [
       "<IPython.core.display.Markdown object>"
      ]
     },
     "metadata": {},
     "output_type": "display_data"
    },
    {
     "data": {
      "text/markdown": [
       "**Epoch: 137**"
      ],
      "text/plain": [
       "<IPython.core.display.Markdown object>"
      ]
     },
     "metadata": {},
     "output_type": "display_data"
    },
    {
     "data": {
      "text/markdown": [
       "**Epoch: 138**"
      ],
      "text/plain": [
       "<IPython.core.display.Markdown object>"
      ]
     },
     "metadata": {},
     "output_type": "display_data"
    },
    {
     "data": {
      "text/markdown": [
       "**Epoch: 139**"
      ],
      "text/plain": [
       "<IPython.core.display.Markdown object>"
      ]
     },
     "metadata": {},
     "output_type": "display_data"
    },
    {
     "data": {
      "text/markdown": [
       "**Epoch: 140**"
      ],
      "text/plain": [
       "<IPython.core.display.Markdown object>"
      ]
     },
     "metadata": {},
     "output_type": "display_data"
    },
    {
     "name": "stdout",
     "output_type": "stream",
     "text": [
      "Tau:5e-07\n",
      "Epoch: 140. Training Accuracy: 98.91. Test Accuracy: 97.48\n",
      "Means: [-0.693, -0.477, -0.355, -0.511, -0.3, -0.185, -0.105, -0.016, 0.055, 0.18, 0.309, 0.633, 0.428, 0.703, 0.727]\n",
      "Mixing Proportions: [-2.308, -17.599, -2.38, -5.451, -17.652, -1.61, -17.652, -17.652, -17.684, -0.807, -4.68, -5.961, -2.498, -17.61, -4.88]\n",
      "Precisions: [11.095, 7.819, 7.824, 7.817, 7.823, 7.824, 7.79, 7.824, 7.824, 7.824, 7.743, 7.824, 7.824, 7.817, 7.824, 7.823]\n"
     ]
    },
    {
     "data": {
      "text/markdown": [
       "**Epoch: 141**"
      ],
      "text/plain": [
       "<IPython.core.display.Markdown object>"
      ]
     },
     "metadata": {},
     "output_type": "display_data"
    },
    {
     "name": "stdout",
     "output_type": "stream",
     "text": [
      "Layer Loss: -800000.500\n",
      "Layer Loss: -548.883\n",
      "Layer Loss: -75945.805\n",
      "Layer Loss: -131.727\n",
      "Layer Loss: 6755.892\n",
      "Layer Loss: 4.494\n",
      "0-neglogprop Loss: 76165.117\n",
      "Remaining-neglogprop Loss: -2558804.750\n"
     ]
    },
    {
     "data": {
      "text/markdown": [
       "**Epoch: 142**"
      ],
      "text/plain": [
       "<IPython.core.display.Markdown object>"
      ]
     },
     "metadata": {},
     "output_type": "display_data"
    },
    {
     "data": {
      "text/markdown": [
       "**Epoch: 143**"
      ],
      "text/plain": [
       "<IPython.core.display.Markdown object>"
      ]
     },
     "metadata": {},
     "output_type": "display_data"
    },
    {
     "data": {
      "text/markdown": [
       "**Epoch: 144**"
      ],
      "text/plain": [
       "<IPython.core.display.Markdown object>"
      ]
     },
     "metadata": {},
     "output_type": "display_data"
    },
    {
     "data": {
      "text/markdown": [
       "**Epoch: 145**"
      ],
      "text/plain": [
       "<IPython.core.display.Markdown object>"
      ]
     },
     "metadata": {},
     "output_type": "display_data"
    },
    {
     "data": {
      "text/markdown": [
       "**Epoch: 146**"
      ],
      "text/plain": [
       "<IPython.core.display.Markdown object>"
      ]
     },
     "metadata": {},
     "output_type": "display_data"
    },
    {
     "data": {
      "text/markdown": [
       "**Epoch: 147**"
      ],
      "text/plain": [
       "<IPython.core.display.Markdown object>"
      ]
     },
     "metadata": {},
     "output_type": "display_data"
    },
    {
     "data": {
      "text/markdown": [
       "**Epoch: 148**"
      ],
      "text/plain": [
       "<IPython.core.display.Markdown object>"
      ]
     },
     "metadata": {},
     "output_type": "display_data"
    },
    {
     "data": {
      "text/markdown": [
       "**Epoch: 149**"
      ],
      "text/plain": [
       "<IPython.core.display.Markdown object>"
      ]
     },
     "metadata": {},
     "output_type": "display_data"
    },
    {
     "data": {
      "text/markdown": [
       "**Epoch: 150**"
      ],
      "text/plain": [
       "<IPython.core.display.Markdown object>"
      ]
     },
     "metadata": {},
     "output_type": "display_data"
    },
    {
     "name": "stdout",
     "output_type": "stream",
     "text": [
      "Tau:5e-07\n",
      "Epoch: 150. Training Accuracy: 98.91. Test Accuracy: 97.48\n",
      "Means: [-0.698, -0.477, -0.357, -0.513, -0.3, -0.188, -0.105, -0.016, 0.055, 0.181, 0.31, 0.639, 0.433, 0.703, 0.731]\n",
      "Mixing Proportions: [-2.296, -17.719, -2.366, -5.442, -17.766, -1.599, -17.766, -17.766, -17.802, -0.794, -4.695, -6.001, -2.484, -17.729, -4.85]\n",
      "Precisions: [11.094, 7.82, 7.824, 7.817, 7.823, 7.824, 7.791, 7.824, 7.824, 7.824, 7.746, 7.824, 7.824, 7.817, 7.824, 7.824]\n"
     ]
    },
    {
     "data": {
      "text/markdown": [
       "**Epoch: 151**"
      ],
      "text/plain": [
       "<IPython.core.display.Markdown object>"
      ]
     },
     "metadata": {},
     "output_type": "display_data"
    },
    {
     "name": "stdout",
     "output_type": "stream",
     "text": [
      "Layer Loss: -799906.625\n",
      "Layer Loss: -547.302\n",
      "Layer Loss: -75987.391\n",
      "Layer Loss: -132.954\n",
      "Layer Loss: 6718.502\n",
      "Layer Loss: 4.453\n",
      "0-neglogprop Loss: 76046.477\n",
      "Remaining-neglogprop Loss: -2558810.750\n"
     ]
    },
    {
     "data": {
      "text/markdown": [
       "**Epoch: 152**"
      ],
      "text/plain": [
       "<IPython.core.display.Markdown object>"
      ]
     },
     "metadata": {},
     "output_type": "display_data"
    },
    {
     "data": {
      "text/markdown": [
       "**Epoch: 153**"
      ],
      "text/plain": [
       "<IPython.core.display.Markdown object>"
      ]
     },
     "metadata": {},
     "output_type": "display_data"
    },
    {
     "data": {
      "text/markdown": [
       "**Epoch: 154**"
      ],
      "text/plain": [
       "<IPython.core.display.Markdown object>"
      ]
     },
     "metadata": {},
     "output_type": "display_data"
    },
    {
     "data": {
      "text/markdown": [
       "**Epoch: 155**"
      ],
      "text/plain": [
       "<IPython.core.display.Markdown object>"
      ]
     },
     "metadata": {},
     "output_type": "display_data"
    },
    {
     "data": {
      "text/markdown": [
       "**Epoch: 156**"
      ],
      "text/plain": [
       "<IPython.core.display.Markdown object>"
      ]
     },
     "metadata": {},
     "output_type": "display_data"
    },
    {
     "data": {
      "text/markdown": [
       "**Epoch: 157**"
      ],
      "text/plain": [
       "<IPython.core.display.Markdown object>"
      ]
     },
     "metadata": {},
     "output_type": "display_data"
    },
    {
     "data": {
      "text/markdown": [
       "**Epoch: 158**"
      ],
      "text/plain": [
       "<IPython.core.display.Markdown object>"
      ]
     },
     "metadata": {},
     "output_type": "display_data"
    },
    {
     "data": {
      "text/markdown": [
       "**Epoch: 159**"
      ],
      "text/plain": [
       "<IPython.core.display.Markdown object>"
      ]
     },
     "metadata": {},
     "output_type": "display_data"
    },
    {
     "data": {
      "text/markdown": [
       "**Epoch: 160**"
      ],
      "text/plain": [
       "<IPython.core.display.Markdown object>"
      ]
     },
     "metadata": {},
     "output_type": "display_data"
    },
    {
     "name": "stdout",
     "output_type": "stream",
     "text": [
      "Tau:5e-07\n",
      "Epoch: 160. Training Accuracy: 98.91. Test Accuracy: 97.52\n",
      "Means: [-0.703, -0.477, -0.359, -0.516, -0.3, -0.191, -0.105, -0.016, 0.055, 0.183, 0.311, 0.646, 0.438, 0.703, 0.736]\n",
      "Mixing Proportions: [-2.285, -17.825, -2.353, -5.457, -17.868, -1.589, -17.868, -17.868, -17.927, -0.784, -4.692, -5.995, -2.471, -17.835, -4.838]\n",
      "Precisions: [11.095, 7.821, 7.824, 7.818, 7.823, 7.824, 7.792, 7.824, 7.824, 7.824, 7.749, 7.824, 7.824, 7.818, 7.824, 7.824]\n"
     ]
    },
    {
     "data": {
      "text/markdown": [
       "**Epoch: 161**"
      ],
      "text/plain": [
       "<IPython.core.display.Markdown object>"
      ]
     },
     "metadata": {},
     "output_type": "display_data"
    },
    {
     "name": "stdout",
     "output_type": "stream",
     "text": [
      "Layer Loss: -800257.688\n",
      "Layer Loss: -548.431\n",
      "Layer Loss: -76061.016\n",
      "Layer Loss: -135.226\n",
      "Layer Loss: 6681.391\n",
      "Layer Loss: 4.297\n",
      "0-neglogprop Loss: 76241.359\n",
      "Remaining-neglogprop Loss: -2558817.250\n"
     ]
    },
    {
     "data": {
      "text/markdown": [
       "**Epoch: 162**"
      ],
      "text/plain": [
       "<IPython.core.display.Markdown object>"
      ]
     },
     "metadata": {},
     "output_type": "display_data"
    },
    {
     "data": {
      "text/markdown": [
       "**Epoch: 163**"
      ],
      "text/plain": [
       "<IPython.core.display.Markdown object>"
      ]
     },
     "metadata": {},
     "output_type": "display_data"
    },
    {
     "data": {
      "text/markdown": [
       "**Epoch: 164**"
      ],
      "text/plain": [
       "<IPython.core.display.Markdown object>"
      ]
     },
     "metadata": {},
     "output_type": "display_data"
    },
    {
     "data": {
      "text/markdown": [
       "**Epoch: 165**"
      ],
      "text/plain": [
       "<IPython.core.display.Markdown object>"
      ]
     },
     "metadata": {},
     "output_type": "display_data"
    },
    {
     "data": {
      "text/markdown": [
       "**Epoch: 166**"
      ],
      "text/plain": [
       "<IPython.core.display.Markdown object>"
      ]
     },
     "metadata": {},
     "output_type": "display_data"
    },
    {
     "data": {
      "text/markdown": [
       "**Epoch: 167**"
      ],
      "text/plain": [
       "<IPython.core.display.Markdown object>"
      ]
     },
     "metadata": {},
     "output_type": "display_data"
    },
    {
     "data": {
      "text/markdown": [
       "**Epoch: 168**"
      ],
      "text/plain": [
       "<IPython.core.display.Markdown object>"
      ]
     },
     "metadata": {},
     "output_type": "display_data"
    },
    {
     "data": {
      "text/markdown": [
       "**Epoch: 169**"
      ],
      "text/plain": [
       "<IPython.core.display.Markdown object>"
      ]
     },
     "metadata": {},
     "output_type": "display_data"
    },
    {
     "data": {
      "text/markdown": [
       "**Epoch: 170**"
      ],
      "text/plain": [
       "<IPython.core.display.Markdown object>"
      ]
     },
     "metadata": {},
     "output_type": "display_data"
    },
    {
     "name": "stdout",
     "output_type": "stream",
     "text": [
      "Tau:5e-07\n",
      "Epoch: 170. Training Accuracy: 98.93. Test Accuracy: 97.44\n",
      "Means: [-0.707, -0.477, -0.361, -0.518, -0.3, -0.193, -0.105, -0.016, 0.055, 0.184, 0.313, 0.651, 0.443, 0.703, 0.741]\n",
      "Mixing Proportions: [-2.276, -17.92, -2.344, -5.448, -17.959, -1.58, -17.96, -17.959, -18.031, -0.776, -4.677, -5.997, -2.461, -17.929, -4.826]\n",
      "Precisions: [11.095, 7.821, 7.824, 7.818, 7.823, 7.824, 7.792, 7.824, 7.824, 7.824, 7.751, 7.824, 7.824, 7.818, 7.824, 7.824]\n"
     ]
    },
    {
     "data": {
      "text/markdown": [
       "**Epoch: 171**"
      ],
      "text/plain": [
       "<IPython.core.display.Markdown object>"
      ]
     },
     "metadata": {},
     "output_type": "display_data"
    },
    {
     "name": "stdout",
     "output_type": "stream",
     "text": [
      "Layer Loss: -800314.312\n",
      "Layer Loss: -547.172\n",
      "Layer Loss: -76095.180\n",
      "Layer Loss: -135.762\n",
      "Layer Loss: 6650.229\n",
      "Layer Loss: 4.244\n",
      "0-neglogprop Loss: 76267.938\n",
      "Remaining-neglogprop Loss: -2558821.500\n"
     ]
    },
    {
     "data": {
      "text/markdown": [
       "**Epoch: 172**"
      ],
      "text/plain": [
       "<IPython.core.display.Markdown object>"
      ]
     },
     "metadata": {},
     "output_type": "display_data"
    },
    {
     "data": {
      "text/markdown": [
       "**Epoch: 173**"
      ],
      "text/plain": [
       "<IPython.core.display.Markdown object>"
      ]
     },
     "metadata": {},
     "output_type": "display_data"
    },
    {
     "data": {
      "text/markdown": [
       "**Epoch: 174**"
      ],
      "text/plain": [
       "<IPython.core.display.Markdown object>"
      ]
     },
     "metadata": {},
     "output_type": "display_data"
    },
    {
     "data": {
      "text/markdown": [
       "**Epoch: 175**"
      ],
      "text/plain": [
       "<IPython.core.display.Markdown object>"
      ]
     },
     "metadata": {},
     "output_type": "display_data"
    },
    {
     "data": {
      "text/markdown": [
       "**Epoch: 176**"
      ],
      "text/plain": [
       "<IPython.core.display.Markdown object>"
      ]
     },
     "metadata": {},
     "output_type": "display_data"
    },
    {
     "data": {
      "text/markdown": [
       "**Epoch: 177**"
      ],
      "text/plain": [
       "<IPython.core.display.Markdown object>"
      ]
     },
     "metadata": {},
     "output_type": "display_data"
    },
    {
     "data": {
      "text/markdown": [
       "**Epoch: 178**"
      ],
      "text/plain": [
       "<IPython.core.display.Markdown object>"
      ]
     },
     "metadata": {},
     "output_type": "display_data"
    },
    {
     "data": {
      "text/markdown": [
       "**Epoch: 179**"
      ],
      "text/plain": [
       "<IPython.core.display.Markdown object>"
      ]
     },
     "metadata": {},
     "output_type": "display_data"
    },
    {
     "data": {
      "text/markdown": [
       "**Epoch: 180**"
      ],
      "text/plain": [
       "<IPython.core.display.Markdown object>"
      ]
     },
     "metadata": {},
     "output_type": "display_data"
    },
    {
     "name": "stdout",
     "output_type": "stream",
     "text": [
      "Tau:5e-07\n",
      "Epoch: 180. Training Accuracy: 98.96. Test Accuracy: 97.41\n",
      "Means: [-0.712, -0.477, -0.362, -0.519, -0.3, -0.196, -0.105, -0.016, 0.055, 0.186, 0.315, 0.655, 0.447, 0.703, 0.745]\n",
      "Mixing Proportions: [-2.267, -18.007, -2.334, -5.439, -18.043, -1.571, -18.043, -18.043, -18.12, -0.766, -4.685, -6.062, -2.45, -18.015, -4.794]\n",
      "Precisions: [11.095, 7.822, 7.824, 7.819, 7.823, 7.824, 7.793, 7.824, 7.824, 7.824, 7.753, 7.824, 7.824, 7.818, 7.824, 7.824]\n"
     ]
    },
    {
     "data": {
      "text/markdown": [
       "**Epoch: 181**"
      ],
      "text/plain": [
       "<IPython.core.display.Markdown object>"
      ]
     },
     "metadata": {},
     "output_type": "display_data"
    },
    {
     "name": "stdout",
     "output_type": "stream",
     "text": [
      "Layer Loss: -800189.625\n",
      "Layer Loss: -549.401\n",
      "Layer Loss: -76100.805\n",
      "Layer Loss: -137.587\n",
      "Layer Loss: 6630.433\n",
      "Layer Loss: 4.134\n",
      "0-neglogprop Loss: 76179.625\n",
      "Remaining-neglogprop Loss: -2558825.000\n"
     ]
    },
    {
     "data": {
      "text/markdown": [
       "**Epoch: 182**"
      ],
      "text/plain": [
       "<IPython.core.display.Markdown object>"
      ]
     },
     "metadata": {},
     "output_type": "display_data"
    },
    {
     "data": {
      "text/markdown": [
       "**Epoch: 183**"
      ],
      "text/plain": [
       "<IPython.core.display.Markdown object>"
      ]
     },
     "metadata": {},
     "output_type": "display_data"
    },
    {
     "data": {
      "text/markdown": [
       "**Epoch: 184**"
      ],
      "text/plain": [
       "<IPython.core.display.Markdown object>"
      ]
     },
     "metadata": {},
     "output_type": "display_data"
    },
    {
     "data": {
      "text/markdown": [
       "**Epoch: 185**"
      ],
      "text/plain": [
       "<IPython.core.display.Markdown object>"
      ]
     },
     "metadata": {},
     "output_type": "display_data"
    },
    {
     "data": {
      "text/markdown": [
       "**Epoch: 186**"
      ],
      "text/plain": [
       "<IPython.core.display.Markdown object>"
      ]
     },
     "metadata": {},
     "output_type": "display_data"
    },
    {
     "data": {
      "text/markdown": [
       "**Epoch: 187**"
      ],
      "text/plain": [
       "<IPython.core.display.Markdown object>"
      ]
     },
     "metadata": {},
     "output_type": "display_data"
    },
    {
     "data": {
      "text/markdown": [
       "**Epoch: 188**"
      ],
      "text/plain": [
       "<IPython.core.display.Markdown object>"
      ]
     },
     "metadata": {},
     "output_type": "display_data"
    },
    {
     "data": {
      "text/markdown": [
       "**Epoch: 189**"
      ],
      "text/plain": [
       "<IPython.core.display.Markdown object>"
      ]
     },
     "metadata": {},
     "output_type": "display_data"
    },
    {
     "data": {
      "text/markdown": [
       "**Epoch: 190**"
      ],
      "text/plain": [
       "<IPython.core.display.Markdown object>"
      ]
     },
     "metadata": {},
     "output_type": "display_data"
    },
    {
     "name": "stdout",
     "output_type": "stream",
     "text": [
      "Tau:5e-07\n",
      "Epoch: 190. Training Accuracy: 98.89. Test Accuracy: 97.35\n",
      "Means: [-0.716, -0.477, -0.364, -0.521, -0.301, -0.198, -0.105, -0.016, 0.055, 0.187, 0.317, 0.65, 0.451, 0.703, 0.747]\n",
      "Mixing Proportions: [-2.256, -18.086, -2.322, -5.428, -18.119, -1.56, -18.119, -18.119, -18.191, -0.755, -4.669, -6.268, -2.439, -18.093, -4.73]\n",
      "Precisions: [11.095, 7.822, 7.824, 7.818, 7.823, 7.824, 7.793, 7.824, 7.824, 7.824, 7.754, 7.824, 7.824, 7.818, 7.824, 7.823]\n"
     ]
    },
    {
     "data": {
      "text/markdown": [
       "**Epoch: 191**"
      ],
      "text/plain": [
       "<IPython.core.display.Markdown object>"
      ]
     },
     "metadata": {},
     "output_type": "display_data"
    },
    {
     "name": "stdout",
     "output_type": "stream",
     "text": [
      "Layer Loss: -800222.562\n",
      "Layer Loss: -548.854\n",
      "Layer Loss: -76110.250\n",
      "Layer Loss: -138.162\n",
      "Layer Loss: 6616.819\n",
      "Layer Loss: 4.196\n",
      "0-neglogprop Loss: 76170.797\n",
      "Remaining-neglogprop Loss: -2558827.500\n"
     ]
    },
    {
     "data": {
      "text/markdown": [
       "**Epoch: 192**"
      ],
      "text/plain": [
       "<IPython.core.display.Markdown object>"
      ]
     },
     "metadata": {},
     "output_type": "display_data"
    },
    {
     "data": {
      "text/markdown": [
       "**Epoch: 193**"
      ],
      "text/plain": [
       "<IPython.core.display.Markdown object>"
      ]
     },
     "metadata": {},
     "output_type": "display_data"
    },
    {
     "data": {
      "text/markdown": [
       "**Epoch: 194**"
      ],
      "text/plain": [
       "<IPython.core.display.Markdown object>"
      ]
     },
     "metadata": {},
     "output_type": "display_data"
    },
    {
     "data": {
      "text/markdown": [
       "**Epoch: 195**"
      ],
      "text/plain": [
       "<IPython.core.display.Markdown object>"
      ]
     },
     "metadata": {},
     "output_type": "display_data"
    },
    {
     "data": {
      "text/markdown": [
       "**Epoch: 196**"
      ],
      "text/plain": [
       "<IPython.core.display.Markdown object>"
      ]
     },
     "metadata": {},
     "output_type": "display_data"
    },
    {
     "data": {
      "text/markdown": [
       "**Epoch: 197**"
      ],
      "text/plain": [
       "<IPython.core.display.Markdown object>"
      ]
     },
     "metadata": {},
     "output_type": "display_data"
    },
    {
     "data": {
      "text/markdown": [
       "**Epoch: 198**"
      ],
      "text/plain": [
       "<IPython.core.display.Markdown object>"
      ]
     },
     "metadata": {},
     "output_type": "display_data"
    },
    {
     "data": {
      "text/markdown": [
       "**Epoch: 199**"
      ],
      "text/plain": [
       "<IPython.core.display.Markdown object>"
      ]
     },
     "metadata": {},
     "output_type": "display_data"
    },
    {
     "data": {
      "text/markdown": [
       "**Epoch: 200**"
      ],
      "text/plain": [
       "<IPython.core.display.Markdown object>"
      ]
     },
     "metadata": {},
     "output_type": "display_data"
    },
    {
     "name": "stdout",
     "output_type": "stream",
     "text": [
      "Tau:5e-07\n",
      "Epoch: 200. Training Accuracy: 98.95. Test Accuracy: 97.35\n",
      "Means: [-0.72, -0.477, -0.365, -0.523, -0.301, -0.201, -0.105, -0.016, 0.055, 0.188, 0.319, 0.65, 0.455, 0.703, 0.752]\n",
      "Mixing Proportions: [-2.249, -18.158, -2.317, -5.421, -18.189, -1.553, -18.189, -18.189, -18.195, -0.748, -4.698, -6.298, -2.43, -18.165, -4.716]\n",
      "Precisions: [11.096, 7.823, 7.824, 7.819, 7.823, 7.824, 7.793, 7.824, 7.824, 7.824, 7.755, 7.824, 7.824, 7.818, 7.824, 7.824]\n"
     ]
    },
    {
     "data": {
      "text/plain": [
       "<matplotlib.figure.Figure at 0x7f4c599cdda0>"
      ]
     },
     "metadata": {},
     "output_type": "display_data"
    },
    {
     "data": {
      "image/png": "[encoded data removed]",
      "text/plain": [
       "<matplotlib.figure.Figure at 0x7f4c3f7a56a0>"
      ]
     },
     "metadata": {},
     "output_type": "display_data"
    },
    {
     "data": {
      "text/html": [
       "<img src=\"./exp/a25000_b10_r200.gif\">"
      ],
      "text/plain": [
       "<IPython.core.display.HTML object>"
      ]
     },
     "execution_count": 113,
     "metadata": {},
     "output_type": "execute_result"
    },
    {
     "data": {
      "application/javascript": [
       "$(document).ready(\n",
       "    function() {\n",
       "        function appendUniqueDiv(){\n",
       "            // append a div with our uuid so we can check that it's already\n",
       "            // been sent and avoid duplicates on page reload\n",
       "            var notifiedDiv = document.createElement(\"div\")\n",
       "            notifiedDiv.id = \"c1cf295a-4bb9-45cb-8f35-ad069ffe6a86\"\n",
       "            element.append(notifiedDiv)\n",
       "        }\n",
       "\n",
       "        // only send notifications if the pageload is complete; this will\n",
       "        // help stop extra notifications when a saved notebook is loaded,\n",
       "        // which during testing gives us state \"interactive\", not \"complete\"\n",
       "        if (document.readyState === 'complete') {\n",
       "            // check for the div that signifies that the notification\n",
       "            // was already sent\n",
       "            if (document.getElementById(\"c1cf295a-4bb9-45cb-8f35-ad069ffe6a86\") === null) {\n",
       "                var notificationPayload = {\"requireInteraction\": false, \"icon\": \"/static/base/images/favicon.ico\", \"body\": \"Cell execution has finished!\"};\n",
       "                if (Notification.permission !== 'denied') {\n",
       "                    if (Notification.permission !== 'granted') { \n",
       "                        Notification.requestPermission(function (permission) {\n",
       "                            if(!('permission' in Notification)) {\n",
       "                                Notification.permission = permission\n",
       "                            }\n",
       "                        })\n",
       "                    }\n",
       "                    if (Notification.permission === 'granted') {\n",
       "                    var notification = new Notification(\"Jupyter Notebook\", notificationPayload)\n",
       "                    appendUniqueDiv()\n",
       "                    notification.onclick = function () {\n",
       "                        window.focus();\n",
       "                        this.close();\n",
       "                        };\n",
       "                    } \n",
       "                }     \n",
       "            }\n",
       "        }\n",
       "    }\n",
       ")\n"
      ],
      "text/plain": [
       "<IPython.core.display.Javascript object>"
      ]
     },
     "metadata": {},
     "output_type": "display_data"
    }
   ],
   "source": [
    "%%notify\n",
    "#model = models.LeNet_300_100().cuda()\n",
    "#print_dims(model)\n",
    "alpha, beta = (25000, 10)\n",
    "model = torch.load(model_dir + 'mnist_{}_{}.m'.format(model_name, 100)).cuda()\n",
    "gmp = GaussianMixturePrior(16, [x for x in model.parameters()], 0.99, ab = (alpha, beta))\n",
    "\n",
    "test_acc = test_accuracy(test_data_full, test_labels_full, model)\n",
    "train_acc = test_accuracy(train_data_full, train_labels_full, model)\n",
    "acc_history = np.array([train_acc[0], test_acc[0]])\n",
    "stddev_history = np.sqrt(1. / gmp.gammas.exp().data.clone().cpu().numpy())\n",
    "mean_history = gmp.means.data.clone().cpu().numpy()\n",
    "mixprop_history = gmp.rhos.exp().data.clone().cpu().numpy()\n",
    "\n",
    "sws_param1 = [gmp.means]\n",
    "sws_param2 = [gmp.gammas, gmp.rhos]\n",
    "#ipd.display(ipd.Markdown(\"**Default Training**\"))\n",
    "\n",
    "criterion = nn.CrossEntropyLoss()\n",
    "optimizer = torch.optim.Adam(model.parameters(), lr=1e-4)\n",
    "optimizer_gmp = torch.optim.Adam(sws_param1, lr=1e-4)\n",
    "optimizer_gmp2 = torch.optim.Adam(sws_param2, lr=3e-3)\n",
    "graph_title='original_model/'\n",
    "\n",
    "retraining_epochs = 200\n",
    "decay = np.linspace(5e-7, 5e-6, retraining_epochs)\n",
    "#decay = 5e-7 * np.power(10, decay)\n",
    "#decay = 5e-5 * (1 - 1 / np.power(10, decay))\n",
    "\n",
    "exp_name = \"a{}_b{}_r{}\".format(alpha, beta, retraining_epochs)\n",
    "\n",
    "for epoch in range(retraining_epochs):\n",
    "    ipd.display(ipd.Markdown(\"**Epoch: {}**\".format(epoch+1)))\n",
    "    #tau = float(decay[epoch])\n",
    "    tau=5e-7\n",
    "    model, loss = retrain_sws_epoch(model, gmp, optimizer, optimizer_gmp, optimizer_gmp2, criterion, train_loader, tau)\n",
    "\n",
    "    test_acc = test_accuracy(test_data_full, test_labels_full, model)\n",
    "    train_acc = test_accuracy(train_data_full, train_labels_full, model)\n",
    "    weight_penalty = get_weight_penalty(model)\n",
    "\n",
    "    stddev_history = np.vstack((stddev_history,  np.sqrt(1. / gmp.gammas.exp().data.clone().cpu().numpy()) ))\n",
    "    mean_history = np.vstack((mean_history, gmp.means.data.clone().cpu().numpy() ))\n",
    "    mixprop_history = np.vstack((mixprop_history, gmp.rhos.exp().data.clone().cpu().numpy() ))\n",
    "    acc_history = np.vstack(( acc_history, np.array([train_acc[0], test_acc[0]]) ))\n",
    "\n",
    "    if(writeTensorboard):\n",
    "        writer.add_scalars(graph_title + 'CrossEntropyLoss', {'Test': test_acc[1], 'Train': train_acc[1]}, epoch+1)\n",
    "        writer.add_scalars(graph_title + 'Accuracy', {'Test': test_acc[0], 'Train': train_acc[0]}, epoch+1)\n",
    "        writer.add_scalars(graph_title + 'L2', {'L2' : weight_penalty}, epoch+1)\n",
    "        for name, param in model.named_parameters():\n",
    "            writer.add_histogram(graph_title + name, param.clone().cpu().data.numpy(), epoch+1, bins='doane')\n",
    "    if (trueAfterN(epoch, 10)):\n",
    "        gmp.print_batch = True\n",
    "        print ('Tau:{}'.format(tau))\n",
    "        print('Epoch: {}. Training Accuracy: {:.2f}. Test Accuracy: {}'.format(epoch+1, train_acc[0], test_acc[0]))\n",
    "        print ( \"Means: {}\".format(list(np.around(gmp.means.data.clone().cpu().numpy(),3))) )\n",
    "        print ( \"Mixing Proportions: {}\".format(list(np.around(gmp.rhos.data.clone().cpu().numpy(),3))) )\n",
    "        print ( \"Precisions: {}\".format(list(np.around(gmp.gammas.data.clone().cpu().numpy(),3))) )\n",
    "    show_sws_weights(model = model, means = list(gmp.means.data.clone().cpu()), precisions = list(gmp.gammas.data.clone().cpu()), epoch = epoch, accuracy = test_acc[0], savefile = exp_name)\n",
    "        #show_all_weights(model)\n",
    "\n",
    "draw_sws_graphs(mean_history, stddev_history, mixprop_history, acc_history, exp_name)\n",
    "images = []\n",
    "filenames = [\"figs/{}_{}.png\".format(exp_name, x) for x in range(1,retraining_epochs+1)]\n",
    "for filename in filenames:\n",
    "    images.append(imageio.imread(filename))\n",
    "imageio.mimsave('./exp/{}.gif'.format(exp_name), images)\n",
    "torch.save(model, model_dir + 'mnist_retrain_m{}_a{}_b{}_r{}.m'.format(model.name, retraining_epochs, alpha, beta))\n",
    "with open(model_dir + 'mnist_retrain_m{}_a{}_b{}_r{}_gmp.p'.format(model.name, retraining_epochs, alpha, beta),'wb') as f:\n",
    "    pickle.dump(gmp, f)\n",
    "#torch.save(model, model_dir + 'mnist_{}_{}.m'.format(model.name, training_epochs))\n",
    "ipd.HTML('<img src=\"./exp/{}.gif\">'.format(exp_name))"
   ]
  },
  {
   "cell_type": "code",
   "execution_count": null,
   "metadata": {},
   "outputs": [],
   "source": [
    "with open(fn, 'rb') as f:\n",
    "    gmp2 = pickle.load(f)"
   ]
  },
  {
   "cell_type": "code",
   "execution_count": 157,
   "metadata": {
    "scrolled": true
   },
   "outputs": [
    {
     "data": {
      "image/png": "[encoded data removed]",
      "text/plain": [
       "<matplotlib.figure.Figure at 0x7f4c3949e128>"
      ]
     },
     "metadata": {},
     "output_type": "display_data"
    }
   ],
   "source": [
    "## jointplot\n",
    "model_orig = torch.load(model_dir + 'mnist_{}_{}.m'.format(model_name, 100)).cuda()\n",
    "    \n",
    "jointplot(model, model_orig, gmp, 8, 10, 90)"
   ]
  },
  {
   "cell_type": "markdown",
   "metadata": {
    "nbpresent": {
     "id": "e913ca37-25f6-451a-a604-4864ce034700"
    }
   },
   "source": [
    "### Post-Processing"
   ]
  },
  {
   "cell_type": "code",
   "execution_count": 179,
   "metadata": {},
   "outputs": [
    {
     "name": "stdout",
     "output_type": "stream",
     "text": [
      "Pruned %: 97.11263643524249\n"
     ]
    }
   ],
   "source": [
    "pruned_model = torch.load(model_dir + 'mnist_{}_{}.m'.format(model_name, 100)).cuda()\n",
    "pruned_model.load_state_dict(sws_prune(model, gmp))\n",
    "test_accuracy(test_data_full, test_labels_full, pruned_model)\n",
    "print (\"Pruned %: {}\".format((special_flatten(pruned_model.state_dict())==0).sum()/266610 * 100))"
   ]
  },
  {
   "cell_type": "markdown",
   "metadata": {
    "nbpresent": {
     "id": "d84b22ba-54fa-44a6-987f-9983b181812c"
    }
   },
   "source": [
    "### 2. Re-train Model"
   ]
  },
  {
   "cell_type": "code",
   "execution_count": 4,
   "metadata": {},
   "outputs": [],
   "source": [
    "retraining_epochs=40"
   ]
  },
  {
   "cell_type": "code",
   "execution_count": 11,
   "metadata": {},
   "outputs": [
    {
     "data": {
      "text/plain": [
       "'SWSModel'"
      ]
     },
     "execution_count": 11,
     "metadata": {},
     "output_type": "execute_result"
    }
   ],
   "source": [
    "model_kd.name"
   ]
  },
  {
   "cell_type": "code",
   "execution_count": 6,
   "metadata": {
    "nbpresent": {
     "id": "c763088a-efb5-4b56-9459-3667a7f806d6"
    }
   },
   "outputs": [
    {
     "data": {
      "text/markdown": [
       "**Temperature = 8**"
      ],
      "text/plain": [
       "<IPython.core.display.Markdown object>"
      ]
     },
     "metadata": {},
     "output_type": "display_data"
    },
    {
     "name": "stderr",
     "output_type": "stream",
     "text": [
      "/anaconda/envs/py35/lib/python3.5/site-packages/torch/serialization.py:325: SourceChangeWarning: source code of class 'models.SWSModel' has changed. you can retrieve the original source code by accessing the object's source attribute or set `torch.nn.Module.dump_patches = True` and use the patch tool to revert the changes.\n",
      "  warnings.warn(msg, SourceChangeWarning)\n"
     ]
    },
    {
     "data": {
      "text/plain": [
       "<matplotlib.figure.Figure at 0x7f0a47516588>"
      ]
     },
     "metadata": {},
     "output_type": "display_data"
    },
    {
     "data": {
      "image/png": "[encoded data removed]",
      "text/plain": [
       "<matplotlib.figure.Figure at 0x7f0a4750dd68>"
      ]
     },
     "metadata": {},
     "output_type": "display_data"
    },
    {
     "name": "stdout",
     "output_type": "stream",
     "text": [
      "Epoch: 20. Train CE Loss: 1.570, Train Accuracy: 95.897, Test CE Loss: 1.566, Test Accuracy: 96.170, Model L2: 10.133\n",
      "Epoch: 40. Train CE Loss: 1.567, Train Accuracy: 96.177, Test CE Loss: 1.563, Test Accuracy: 96.280, Model L2: 9.712\n"
     ]
    },
    {
     "data": {
      "text/plain": [
       "<matplotlib.figure.Figure at 0x7f0a47505cc0>"
      ]
     },
     "metadata": {},
     "output_type": "display_data"
    },
    {
     "data": {
      "image/png": "[encoded data removed]",
      "text/plain": [
       "<matplotlib.figure.Figure at 0x7f0a476de390>"
      ]
     },
     "metadata": {},
     "output_type": "display_data"
    }
   ],
   "source": [
    "#Get KD Targets   \n",
    "for temp in temp_list:\n",
    "    ipd.display(ipd.Markdown(\"**Temperature = {}**\".format(temp)))\n",
    "    model = torch.load(model_dir + 'mnist_{}_{}.m'.format(model_name, 100)).cuda()\n",
    "    kd_outputs = model.kd_targets(train_data_full,T=temp)\n",
    "    kd_dataset = torch.utils.data.TensorDataset(train_data_full.data, kd_outputs.data)#.data turns variable -> tensor\n",
    "    train_kd_loader = torch.utils.data.DataLoader(dataset=kd_dataset, batch_size=batch_size, shuffle=True)\n",
    "\n",
    "    #Load model\n",
    "    model_kd = torch.load(model_dir + 'mnist_{}_{}.m'.format(model_name, 100)).cuda()\n",
    "    show_sws_weights(model_kd)\n",
    "\n",
    "    #Set up Optimisers and loss\n",
    "    criterion_kd = nn.MSELoss()\n",
    "    learning_rate_kd = 0.0005\n",
    "    wd_kd = 0.001\n",
    "    optimizer_kd_1 = torch.optim.Adam(model_kd.conv1.parameters(), lr=learning_rate_kd, weight_decay = wd_kd)\n",
    "    optimizer_kd_2 = torch.optim.Adam(model_kd.conv2.parameters(), lr=learning_rate_kd, weight_decay = wd_kd)\n",
    "    optimizer_kd_3 = torch.optim.Adam(model_kd.fc1.parameters(), lr=learning_rate_kd, weight_decay = wd_kd)\n",
    "    optimizer_kd_4 = torch.optim.Adam(model_kd.fc2.parameters(), lr=learning_rate_kd, weight_decay = wd_kd)\n",
    "\n",
    "    graph_title = \"compressed_model_T_{}/\".format(temp)\n",
    "\n",
    "    for epoch in range(retraining_epochs):\n",
    "        model_kd, loss = train_epoch(model_kd, optimizer_kd_4, criterion_kd, train_kd_loader)\n",
    "        model_kd, loss = train_epoch(model_kd, optimizer_kd_3, criterion_kd, train_kd_loader)\n",
    "        model_kd, loss = train_epoch(model_kd, optimizer_kd_2, criterion_kd, train_kd_loader)\n",
    "        model_kd, loss = train_epoch(model_kd, optimizer_kd_1, criterion_kd, train_kd_loader)\n",
    "        test_acc = test_accuracy(test_data_full, test_labels_full, model_kd)\n",
    "        train_acc = test_accuracy(train_data_full, train_labels_full, model_kd)\n",
    "        weight_penalty = get_weight_penalty(model_kd)\n",
    "\n",
    "        #writer.add_scalars(graph_title + 'train_CrossEntropyLoss', {'Test': test_acc[1], 'Train': train_acc[1]}, epoch+1)\n",
    "        #writer.add_scalars(graph_title + 'train_Accuracy', {'Test': test_acc[0], 'Train': train_acc[0]}, epoch+1)\n",
    "        #writer.add_scalars(graph_title + 'train_L2', {'L2' : weight_penalty}, epoch+1)\n",
    "        #for name, param in model.named_parameters():\n",
    "        #    writer.add_histogram(graph_title + name, param.clone().cpu().data.numpy(), epoch+1, bins='doane')\n",
    "        if (epoch%20==19):\n",
    "            print('Epoch: {}. Train CE Loss: {:.3f}, Train Accuracy: {:.3f}, Test CE Loss: {:.3f}, Test Accuracy: {:.3f}, Model L2: {:.3f}'.format(epoch+1, train_acc[1], train_acc[0], test_acc[1], test_acc[0], weight_penalty))\n",
    "    torch.save(model_kd, model_dir + 'mnist_{}_kd_t{}_e{}.m'.format(model_kd.name, temp, retraining_epochs))\n",
    "    show_sws_weights(model_kd)"
   ]
  },
  {
   "cell_type": "code",
   "execution_count": 7,
   "metadata": {},
   "outputs": [
    {
     "data": {
      "text/plain": [
       "<matplotlib.figure.Figure at 0x7f0a4774c240>"
      ]
     },
     "metadata": {},
     "output_type": "display_data"
    },
    {
     "data": {
      "image/png": "[encoded data removed]",
      "text/plain": [
       "<matplotlib.figure.Figure at 0x7f0a47758748>"
      ]
     },
     "metadata": {},
     "output_type": "display_data"
    }
   ],
   "source": [
    "show_sws_weights(model_kd)"
   ]
  },
  {
   "cell_type": "markdown",
   "metadata": {
    "nbpresent": {
     "id": "a01461c0-e513-4460-b837-5728c080db0e"
    }
   },
   "source": [
    "### 3. Prune Model"
   ]
  },
  {
   "cell_type": "code",
   "execution_count": 14,
   "metadata": {
    "nbpresent": {
     "id": "f5cdc618-3a61-4603-ae60-8a8e47d06391"
    }
   },
   "outputs": [
    {
     "data": {
      "text/markdown": [
       "**Temperature = 8**"
      ],
      "text/plain": [
       "<IPython.core.display.Markdown object>"
      ]
     },
     "metadata": {},
     "output_type": "display_data"
    },
    {
     "name": "stdout",
     "output_type": "stream",
     "text": [
      "Train CE Loss: 1.683, Train Accuracy: 91.180, Test CE Loss: 1.676, Test Accuracy: 91.300, Model L2: 9.395, Parameters Pruned: 618745/642460 - 96.309%\n",
      "Train CE Loss: 1.907, Train Accuracy: 93.683, Test CE Loss: 1.899, Test Accuracy: 94.050, Model L2: 8.832, Parameters Pruned: 545593/642460 - 84.922%\n"
     ]
    },
    {
     "data": {
      "text/plain": [
       "<matplotlib.figure.Figure at 0x7f0a4737f668>"
      ]
     },
     "metadata": {},
     "output_type": "display_data"
    },
    {
     "data": {
      "image/png": "[encoded data removed]",
      "text/plain": [
       "<matplotlib.figure.Figure at 0x7f0a469b4cc0>"
      ]
     },
     "metadata": {},
     "output_type": "display_data"
    }
   ],
   "source": [
    "#Original Model\n",
    "model = torch.load(model_dir + 'mnist_{}_kd_t{}_e{}.m'.format(model_kd.name, temp, retraining_epochs)).cuda()\n",
    "test_acc_o = test_accuracy(test_data_full, test_labels_full, model)\n",
    "train_acc_o = test_accuracy(train_data_full, train_labels_full, model)\n",
    "weight_penalty_o = get_weight_penalty(model)\n",
    "compress_res = {}\n",
    "\n",
    "for temp in temp_list:\n",
    "    ipd.display(ipd.Markdown(\"**Temperature = {}**\".format(temp)))\n",
    "    graph_title = \"compressed_model_T_{}/\".format(temp)\n",
    "    #Retrained Model\n",
    "    model_kd = torch.load(model_dir + 'mnist_{}_kd_t{}_e{}.m'.format(model_kd.name, temp, retraining_epochs)).cuda()\n",
    "    test_acc_kd = test_accuracy(test_data_full, test_labels_full, model_kd)\n",
    "    train_acc_kd = test_accuracy(train_data_full, train_labels_full, model_kd)\n",
    "    weight_penalty_kd = get_weight_penalty(model_kd)\n",
    "    \n",
    "    #writer.add_scalars(graph_title + 'CrossEntropyLoss', {'Distilled Test': test_acc_kd[1], 'Distilled Train': train_acc_kd[1], 'Original Test': test_acc_o[1], 'Original Train': train_acc_o[1]}, 0)\n",
    "    #writer.add_scalars(graph_title + 'CrossEntropyLoss', {'Distilled Test': test_acc_kd[1], 'Distilled Train': train_acc_kd[1], 'Original Test': test_acc_o[1], 'Original Train': train_acc_o[1]}, 100)\n",
    "    #writer.add_scalars(graph_title + 'Accuracy', {'Distilled Test': test_acc_kd[0], 'Distilled Train': train_acc_kd[0], 'Original Test': test_acc_o[0], 'Original Train': train_acc_o[0]}, 0)\n",
    "    #writer.add_scalars(graph_title + 'Accuracy', {'Distilled Test': test_acc_kd[0], 'Distilled Train': train_acc_kd[0], 'Original Test': test_acc_o[0], 'Original Train': train_acc_o[0]}, 100)\n",
    "    #writer.add_scalars(graph_title + 'L2', {'Distilled' : weight_penalty_kd, 'Original' : weight_penalty_o}, 0)\n",
    "    #writer.add_scalars(graph_title + 'L2', {'Distilled' : weight_penalty_kd, 'Original' : weight_penalty_o}, 100)\n",
    "    \n",
    "    model_c = models.SWSModel().cuda()\n",
    "    pruner = model_prune(model_kd.state_dict())\n",
    "    deviation_list = [x/10.0 for x in range(0,21)]\n",
    "    percentile_list = range(0,101,5)\n",
    "    \n",
    "    \n",
    "    dev_res = {'train ce' : [], 'test ce' : [], 'train acc' : [], 'test acc' : [], 'pruned' : [], 'L2' : []}\n",
    "    for i,lim in enumerate(deviation_list):\n",
    "        model_c.load_state_dict(pruner.deviation_prune(lim))\n",
    "        test_acc = test_accuracy(test_data_full, test_labels_full, model_c)\n",
    "        train_acc = test_accuracy(train_data_full, train_labels_full, model_c)\n",
    "        weight_penalty = get_weight_penalty(model_c)\n",
    "\n",
    "        dev_res['train ce'].append(train_acc[1])\n",
    "        dev_res['test ce'].append(test_acc[1])\n",
    "        dev_res['train acc'].append(train_acc[0])\n",
    "        dev_res['test acc'].append(test_acc[0])\n",
    "        dev_res['pruned'].append(100.0 * pruner.num_pruned/pruner.total_weights)\n",
    "        dev_res['L2'].append(weight_penalty)\n",
    "\n",
    "        #writer.add_scalars(graph_title + 'prune_CrossEntropyLoss', {'Deviation Test': test_acc[1], 'Deviation Train': train_acc[1]}, 100.0 * pruner.num_pruned/pruner.total_weights)\n",
    "        #writer.add_scalars(graph_title + 'prune_Accuracy', {'Deviation Test': test_acc[0], 'Deviation Train': train_acc[0]}, 100.0 * pruner.num_pruned/pruner.total_weights)\n",
    "        #writer.add_scalars(graph_title + 'prune_L2', {'Deviation': weight_penalty}, 100.0 * pruner.num_pruned/pruner.total_weights)\n",
    "\n",
    "        if(i==13):\n",
    "            print('Train CE Loss: {:.3f}, Train Accuracy: {:.3f}, Test CE Loss: {:.3f}, Test Accuracy: {:.3f}, Model L2: {:.3f}, Parameters Pruned: {}/{} - {:.3f}%'\n",
    "              .format(train_acc[1], train_acc[0], test_acc[1], test_acc[0], weight_penalty, pruner.num_pruned, pruner.total_weights, 100.0 * pruner.num_pruned/pruner.total_weights))\n",
    "    \n",
    "    perc_res = {'train ce' : [], 'test ce' : [], 'train acc' : [], 'test acc' : [], 'pruned' : [], 'L2' : [],} \n",
    "    for i,lim in enumerate(percentile_list):\n",
    "        model_c.load_state_dict(pruner.percentile_prune(lim))\n",
    "\n",
    "        test_acc = test_accuracy(test_data_full, test_labels_full, model_c)\n",
    "        train_acc = test_accuracy(train_data_full, train_labels_full, model_c)\n",
    "        weight_penalty = get_weight_penalty(model_c)\n",
    "        perc_res['train ce'].append(train_acc[1])\n",
    "        perc_res['test ce'].append(test_acc[1])\n",
    "        perc_res['train acc'].append(train_acc[0])\n",
    "        perc_res['test acc'].append(test_acc[0])\n",
    "        perc_res['pruned'].append(100.0 * pruner.num_pruned/pruner.total_weights)\n",
    "        perc_res['L2'].append(weight_penalty)\n",
    "\n",
    "        #writer.add_scalars(graph_title + 'prune_CrossEntropyLoss', {'Percentile Test': test_acc[1], 'Percentile Train': train_acc[1]}, 100.0 * pruner.num_pruned/pruner.total_weights)\n",
    "        #writer.add_scalars(graph_title + 'prune_Accuracy', {'Percentile Test': test_acc[0], 'Percentile Train': train_acc[0]}, 100.0 * pruner.num_pruned/pruner.total_weights)\n",
    "        #writer.add_scalars(graph_title + 'prune_L2', {'Percentile': weight_penalty}, 100.0 * pruner.num_pruned/pruner.total_weights)\n",
    "        \n",
    "        if(i==17):\n",
    "            print('Train CE Loss: {:.3f}, Train Accuracy: {:.3f}, Test CE Loss: {:.3f}, Test Accuracy: {:.3f}, Model L2: {:.3f}, Parameters Pruned: {}/{} - {:.3f}%'\n",
    "              .format(train_acc[1], train_acc[0], test_acc[1], test_acc[0], weight_penalty, pruner.num_pruned, pruner.total_weights, 100.0 * pruner.num_pruned/pruner.total_weights))\n",
    "            \n",
    "    prune_plot(temp, dev_res, perc_res, test_acc_o, train_acc_o, weight_penalty_o, test_acc_kd, train_acc_kd, weight_penalty_kd)\n",
    "    #t_res={} \n",
    "    #t_res['dev']=dev_res\n",
    "    #t_res['perc']=perc_res\n",
    "    #compress_res[temp]=t_res"
   ]
  }
 ],
 "metadata": {
  "kernelspec": {
   "display_name": "Python [conda env:py35]",
   "language": "python",
   "name": "conda-env-py35-py"
  },
  "language_info": {
   "codemirror_mode": {
    "name": "ipython",
    "version": 3
   },
   "file_extension": ".py",
   "mimetype": "text/x-python",
   "name": "python",
   "nbconvert_exporter": "python",
   "pygments_lexer": "ipython3",
   "version": "3.5.4"
  }
 },
 "nbformat": 4,
 "nbformat_minor": 2
}
