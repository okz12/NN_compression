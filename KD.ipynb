{
 "cells": [
  {
   "cell_type": "code",
   "execution_count": 56,
   "metadata": {},
   "outputs": [],
   "source": [
    "import torch\n",
    "import torch.nn as nn\n",
    "import torchvision.transforms as transforms\n",
    "import torchvision.datasets as dsets\n",
    "from torch.nn.modules import Module\n",
    "from torch.autograd import Variable\n",
    "import torch.nn.functional as F\n",
    "import numpy as np\n",
    "import os\n",
    "model_dir = \"/\".join(os.getcwd().split(\"/\")[:-1] + ['models'])\n",
    "import models\n",
    "from utils import test_accuracy, train_epoch, show_weights, model_prune, print_dims, get_kd_targets, get_weight_penalty\n",
    "import copy\n",
    "from tensorboardX import SummaryWriter\n",
    "writer = SummaryWriter('runs')\n",
    "\n",
    "import seaborn as sns\n",
    "import matplotlib.pyplot as plt\n",
    "sns.set(color_codes=True)\n",
    "plt.rcParams['text.color'] = 'white'\n",
    "\n",
    "#Data\n",
    "train_dataset = dsets.MNIST(root='./data', train=True, transform=transforms.ToTensor(), download=True)\n",
    "test_dataset = dsets.MNIST(root='./data', train=False , transform=transforms.ToTensor(), download=True)\n",
    "\n",
    "batch_size = 256\n",
    "train_loader = torch.utils.data.DataLoader(dataset=train_dataset, batch_size=batch_size, shuffle=True)\n",
    "train_loader_full = torch.utils.data.DataLoader(dataset=train_dataset, batch_size=60000, shuffle=False)\n",
    "test_loader = torch.utils.data.DataLoader(dataset=test_dataset, batch_size=10000, shuffle=False)\n",
    "use_cuda = torch.cuda.is_available()"
   ]
  },
  {
   "cell_type": "markdown",
   "metadata": {},
   "source": [
    "## LeNet 300-100"
   ]
  },
  {
   "cell_type": "markdown",
   "metadata": {},
   "source": [
    "### 1. Train Model"
   ]
  },
  {
   "cell_type": "code",
   "execution_count": 57,
   "metadata": {},
   "outputs": [],
   "source": [
    "model = models.LeNet_300_100()\n",
    "#print_dims(model)\n",
    "\n",
    "num_epochs = 100\n",
    "criterion = nn.CrossEntropyLoss()\n",
    "learning_rate = 0.0001\n",
    "optimizer = torch.optim.Adam(model.parameters(), lr=learning_rate, weight_decay = 0.000)\n",
    "graph_title='original_model/'\n",
    "\n",
    "model.cuda()\n",
    "for epoch in range(num_epochs):\n",
    "    model, loss = train_epoch(model, optimizer, criterion, train_loader)\n",
    "    \n",
    "    test_acc = test_accuracy(test_loader, model, get_loss=True)\n",
    "    train_acc = test_accuracy(train_loader_full, model, get_loss=True)\n",
    "    weight_penalty = get_weight_penalty(model)\n",
    "    \n",
    "    writer.add_scalars(graph_title + 'CrossEntropyLoss', {'Test': test_acc[1], 'Train': train_acc[1]}, epoch+1)\n",
    "    writer.add_scalars(graph_title + 'Accuracy', {'Test': test_acc[0], 'Train': train_acc[0]}, epoch+1)\n",
    "    writer.add_scalars(graph_title + 'L2', {'L2' : weight_penalty}, epoch+1)\n",
    "    for name, param in model.named_parameters():\n",
    "        writer.add_histogram(graph_title + name, param.clone().cpu().data.numpy(), epoch+1, bins='doane')\n",
    "        \n",
    "    #print('Epoch: {}. Loss: {}. Accuracy: {}'.format(epoch+1, loss.data[0], test_acc[0]))\n",
    "    \n",
    "torch.save(model, model_dir + 'mnist_{}_{}.m'.format(model.name, num_epochs))"
   ]
  },
  {
   "cell_type": "markdown",
   "metadata": {},
   "source": [
    "### 2. Re-train Model"
   ]
  },
  {
   "cell_type": "code",
   "execution_count": 58,
   "metadata": {},
   "outputs": [
    {
     "name": "stdout",
     "output_type": "stream",
     "text": [
      "Epoch: 1. Train CE Loss: 1.509, Train Accuracy: 98.578, Test CE Loss: 1.516, Test Accuracy: 97.050, Model L2: 25.550\n",
      "Epoch: 2. Train CE Loss: 1.538, Train Accuracy: 97.863, Test CE Loss: 1.540, Test Accuracy: 96.840, Model L2: 19.449\n",
      "Epoch: 3. Train CE Loss: 1.543, Train Accuracy: 97.913, Test CE Loss: 1.546, Test Accuracy: 97.040, Model L2: 17.958\n",
      "Epoch: 4. Train CE Loss: 1.541, Train Accuracy: 97.780, Test CE Loss: 1.543, Test Accuracy: 97.000, Model L2: 17.438\n",
      "Epoch: 5. Train CE Loss: 1.542, Train Accuracy: 97.827, Test CE Loss: 1.543, Test Accuracy: 97.010, Model L2: 17.179\n",
      "Epoch: 6. Train CE Loss: 1.540, Train Accuracy: 97.775, Test CE Loss: 1.541, Test Accuracy: 96.990, Model L2: 17.068\n",
      "Epoch: 7. Train CE Loss: 1.541, Train Accuracy: 97.975, Test CE Loss: 1.542, Test Accuracy: 97.120, Model L2: 16.917\n",
      "Epoch: 8. Train CE Loss: 1.540, Train Accuracy: 97.858, Test CE Loss: 1.542, Test Accuracy: 97.040, Model L2: 16.885\n",
      "Epoch: 9. Train CE Loss: 1.539, Train Accuracy: 97.957, Test CE Loss: 1.541, Test Accuracy: 97.160, Model L2: 16.887\n",
      "Epoch: 10. Train CE Loss: 1.537, Train Accuracy: 97.998, Test CE Loss: 1.538, Test Accuracy: 97.240, Model L2: 16.830\n",
      "Epoch: 11. Train CE Loss: 1.538, Train Accuracy: 97.920, Test CE Loss: 1.540, Test Accuracy: 97.090, Model L2: 16.814\n",
      "Epoch: 12. Train CE Loss: 1.537, Train Accuracy: 97.907, Test CE Loss: 1.539, Test Accuracy: 97.020, Model L2: 16.785\n",
      "Epoch: 13. Train CE Loss: 1.537, Train Accuracy: 97.873, Test CE Loss: 1.538, Test Accuracy: 97.110, Model L2: 16.778\n",
      "Epoch: 14. Train CE Loss: 1.535, Train Accuracy: 97.910, Test CE Loss: 1.537, Test Accuracy: 97.070, Model L2: 16.813\n",
      "Epoch: 15. Train CE Loss: 1.537, Train Accuracy: 98.045, Test CE Loss: 1.539, Test Accuracy: 97.260, Model L2: 16.740\n",
      "Epoch: 16. Train CE Loss: 1.535, Train Accuracy: 98.083, Test CE Loss: 1.537, Test Accuracy: 97.430, Model L2: 16.752\n",
      "Epoch: 17. Train CE Loss: 1.535, Train Accuracy: 98.045, Test CE Loss: 1.536, Test Accuracy: 97.420, Model L2: 16.772\n",
      "Epoch: 18. Train CE Loss: 1.536, Train Accuracy: 97.960, Test CE Loss: 1.537, Test Accuracy: 97.230, Model L2: 16.743\n",
      "Epoch: 19. Train CE Loss: 1.536, Train Accuracy: 98.110, Test CE Loss: 1.537, Test Accuracy: 97.380, Model L2: 16.745\n",
      "Epoch: 20. Train CE Loss: 1.534, Train Accuracy: 98.133, Test CE Loss: 1.535, Test Accuracy: 97.550, Model L2: 16.750\n",
      "Epoch: 21. Train CE Loss: 1.535, Train Accuracy: 98.123, Test CE Loss: 1.537, Test Accuracy: 97.170, Model L2: 16.733\n",
      "Epoch: 22. Train CE Loss: 1.536, Train Accuracy: 98.150, Test CE Loss: 1.538, Test Accuracy: 97.270, Model L2: 16.689\n",
      "Epoch: 23. Train CE Loss: 1.536, Train Accuracy: 98.120, Test CE Loss: 1.537, Test Accuracy: 97.260, Model L2: 16.694\n",
      "Epoch: 24. Train CE Loss: 1.537, Train Accuracy: 98.105, Test CE Loss: 1.539, Test Accuracy: 97.340, Model L2: 16.699\n",
      "Epoch: 25. Train CE Loss: 1.535, Train Accuracy: 98.007, Test CE Loss: 1.536, Test Accuracy: 97.290, Model L2: 16.692\n",
      "Epoch: 26. Train CE Loss: 1.534, Train Accuracy: 98.102, Test CE Loss: 1.536, Test Accuracy: 97.360, Model L2: 16.674\n",
      "Epoch: 27. Train CE Loss: 1.536, Train Accuracy: 98.042, Test CE Loss: 1.537, Test Accuracy: 97.250, Model L2: 16.686\n",
      "Epoch: 28. Train CE Loss: 1.534, Train Accuracy: 98.103, Test CE Loss: 1.536, Test Accuracy: 97.340, Model L2: 16.678\n",
      "Epoch: 29. Train CE Loss: 1.536, Train Accuracy: 98.072, Test CE Loss: 1.538, Test Accuracy: 97.200, Model L2: 16.676\n",
      "Epoch: 30. Train CE Loss: 1.535, Train Accuracy: 98.082, Test CE Loss: 1.536, Test Accuracy: 97.360, Model L2: 16.675\n",
      "Epoch: 31. Train CE Loss: 1.536, Train Accuracy: 98.092, Test CE Loss: 1.538, Test Accuracy: 97.340, Model L2: 16.664\n",
      "Epoch: 32. Train CE Loss: 1.534, Train Accuracy: 98.088, Test CE Loss: 1.536, Test Accuracy: 97.210, Model L2: 16.692\n",
      "Epoch: 33. Train CE Loss: 1.535, Train Accuracy: 98.027, Test CE Loss: 1.538, Test Accuracy: 97.270, Model L2: 16.671\n",
      "Epoch: 34. Train CE Loss: 1.535, Train Accuracy: 98.050, Test CE Loss: 1.536, Test Accuracy: 97.400, Model L2: 16.676\n",
      "Epoch: 35. Train CE Loss: 1.534, Train Accuracy: 98.043, Test CE Loss: 1.536, Test Accuracy: 97.290, Model L2: 16.663\n",
      "Epoch: 36. Train CE Loss: 1.535, Train Accuracy: 98.135, Test CE Loss: 1.536, Test Accuracy: 97.380, Model L2: 16.639\n",
      "Epoch: 37. Train CE Loss: 1.535, Train Accuracy: 98.055, Test CE Loss: 1.536, Test Accuracy: 97.530, Model L2: 16.627\n",
      "Epoch: 38. Train CE Loss: 1.535, Train Accuracy: 98.002, Test CE Loss: 1.537, Test Accuracy: 97.220, Model L2: 16.647\n",
      "Epoch: 39. Train CE Loss: 1.534, Train Accuracy: 98.052, Test CE Loss: 1.535, Test Accuracy: 97.420, Model L2: 16.635\n",
      "Epoch: 40. Train CE Loss: 1.536, Train Accuracy: 97.943, Test CE Loss: 1.537, Test Accuracy: 97.260, Model L2: 16.608\n",
      "Epoch: 41. Train CE Loss: 1.535, Train Accuracy: 98.103, Test CE Loss: 1.536, Test Accuracy: 97.260, Model L2: 16.633\n",
      "Epoch: 42. Train CE Loss: 1.534, Train Accuracy: 98.142, Test CE Loss: 1.535, Test Accuracy: 97.390, Model L2: 16.618\n",
      "Epoch: 43. Train CE Loss: 1.534, Train Accuracy: 98.102, Test CE Loss: 1.535, Test Accuracy: 97.330, Model L2: 16.656\n",
      "Epoch: 44. Train CE Loss: 1.533, Train Accuracy: 98.142, Test CE Loss: 1.534, Test Accuracy: 97.360, Model L2: 16.639\n",
      "Epoch: 45. Train CE Loss: 1.535, Train Accuracy: 98.088, Test CE Loss: 1.537, Test Accuracy: 97.430, Model L2: 16.585\n",
      "Epoch: 46. Train CE Loss: 1.535, Train Accuracy: 98.180, Test CE Loss: 1.537, Test Accuracy: 97.300, Model L2: 16.618\n",
      "Epoch: 47. Train CE Loss: 1.534, Train Accuracy: 98.113, Test CE Loss: 1.536, Test Accuracy: 97.490, Model L2: 16.600\n",
      "Epoch: 48. Train CE Loss: 1.534, Train Accuracy: 98.143, Test CE Loss: 1.536, Test Accuracy: 97.490, Model L2: 16.618\n",
      "Epoch: 49. Train CE Loss: 1.534, Train Accuracy: 98.187, Test CE Loss: 1.536, Test Accuracy: 97.380, Model L2: 16.621\n",
      "Epoch: 50. Train CE Loss: 1.535, Train Accuracy: 98.103, Test CE Loss: 1.537, Test Accuracy: 97.270, Model L2: 16.601\n",
      "Epoch: 51. Train CE Loss: 1.535, Train Accuracy: 98.110, Test CE Loss: 1.536, Test Accuracy: 97.340, Model L2: 16.626\n",
      "Epoch: 52. Train CE Loss: 1.535, Train Accuracy: 98.072, Test CE Loss: 1.537, Test Accuracy: 97.170, Model L2: 16.625\n",
      "Epoch: 53. Train CE Loss: 1.537, Train Accuracy: 98.037, Test CE Loss: 1.539, Test Accuracy: 97.320, Model L2: 16.665\n",
      "Epoch: 54. Train CE Loss: 1.535, Train Accuracy: 98.068, Test CE Loss: 1.536, Test Accuracy: 97.380, Model L2: 16.641\n",
      "Epoch: 55. Train CE Loss: 1.534, Train Accuracy: 98.133, Test CE Loss: 1.536, Test Accuracy: 97.400, Model L2: 16.621\n",
      "Epoch: 56. Train CE Loss: 1.535, Train Accuracy: 98.112, Test CE Loss: 1.537, Test Accuracy: 97.150, Model L2: 16.631\n",
      "Epoch: 57. Train CE Loss: 1.535, Train Accuracy: 98.102, Test CE Loss: 1.536, Test Accuracy: 97.310, Model L2: 16.631\n",
      "Epoch: 58. Train CE Loss: 1.535, Train Accuracy: 98.107, Test CE Loss: 1.537, Test Accuracy: 97.270, Model L2: 16.609\n",
      "Epoch: 59. Train CE Loss: 1.535, Train Accuracy: 98.057, Test CE Loss: 1.536, Test Accuracy: 97.340, Model L2: 16.586\n",
      "Epoch: 60. Train CE Loss: 1.535, Train Accuracy: 98.155, Test CE Loss: 1.537, Test Accuracy: 97.270, Model L2: 16.606\n",
      "Epoch: 61. Train CE Loss: 1.537, Train Accuracy: 98.005, Test CE Loss: 1.539, Test Accuracy: 97.140, Model L2: 16.614\n",
      "Epoch: 62. Train CE Loss: 1.536, Train Accuracy: 97.943, Test CE Loss: 1.537, Test Accuracy: 97.330, Model L2: 16.646\n",
      "Epoch: 63. Train CE Loss: 1.532, Train Accuracy: 98.103, Test CE Loss: 1.534, Test Accuracy: 97.480, Model L2: 16.659\n",
      "Epoch: 64. Train CE Loss: 1.535, Train Accuracy: 98.093, Test CE Loss: 1.536, Test Accuracy: 97.300, Model L2: 16.601\n",
      "Epoch: 65. Train CE Loss: 1.535, Train Accuracy: 98.057, Test CE Loss: 1.537, Test Accuracy: 97.260, Model L2: 16.635\n",
      "Epoch: 66. Train CE Loss: 1.534, Train Accuracy: 98.077, Test CE Loss: 1.536, Test Accuracy: 97.430, Model L2: 16.615\n",
      "Epoch: 67. Train CE Loss: 1.533, Train Accuracy: 98.145, Test CE Loss: 1.535, Test Accuracy: 97.420, Model L2: 16.625\n",
      "Epoch: 68. Train CE Loss: 1.537, Train Accuracy: 98.017, Test CE Loss: 1.538, Test Accuracy: 97.310, Model L2: 16.608\n",
      "Epoch: 69. Train CE Loss: 1.534, Train Accuracy: 98.198, Test CE Loss: 1.536, Test Accuracy: 97.310, Model L2: 16.594\n",
      "Epoch: 70. Train CE Loss: 1.535, Train Accuracy: 98.072, Test CE Loss: 1.537, Test Accuracy: 97.190, Model L2: 16.575\n",
      "Epoch: 71. Train CE Loss: 1.534, Train Accuracy: 98.117, Test CE Loss: 1.535, Test Accuracy: 97.320, Model L2: 16.583\n",
      "Epoch: 72. Train CE Loss: 1.534, Train Accuracy: 98.088, Test CE Loss: 1.535, Test Accuracy: 97.280, Model L2: 16.577\n",
      "Epoch: 73. Train CE Loss: 1.536, Train Accuracy: 98.115, Test CE Loss: 1.538, Test Accuracy: 97.290, Model L2: 16.547\n",
      "Epoch: 74. Train CE Loss: 1.535, Train Accuracy: 98.202, Test CE Loss: 1.536, Test Accuracy: 97.350, Model L2: 16.569\n",
      "Epoch: 75. Train CE Loss: 1.534, Train Accuracy: 98.162, Test CE Loss: 1.535, Test Accuracy: 97.450, Model L2: 16.563\n",
      "Epoch: 76. Train CE Loss: 1.534, Train Accuracy: 98.180, Test CE Loss: 1.536, Test Accuracy: 97.300, Model L2: 16.561\n",
      "Epoch: 77. Train CE Loss: 1.534, Train Accuracy: 98.078, Test CE Loss: 1.535, Test Accuracy: 97.240, Model L2: 16.558\n",
      "Epoch: 78. Train CE Loss: 1.535, Train Accuracy: 98.030, Test CE Loss: 1.536, Test Accuracy: 97.330, Model L2: 16.579\n",
      "Epoch: 79. Train CE Loss: 1.534, Train Accuracy: 98.093, Test CE Loss: 1.536, Test Accuracy: 97.310, Model L2: 16.577\n",
      "Epoch: 80. Train CE Loss: 1.535, Train Accuracy: 98.172, Test CE Loss: 1.536, Test Accuracy: 97.540, Model L2: 16.566\n",
      "Epoch: 81. Train CE Loss: 1.535, Train Accuracy: 98.188, Test CE Loss: 1.536, Test Accuracy: 97.440, Model L2: 16.578\n",
      "Epoch: 82. Train CE Loss: 1.535, Train Accuracy: 98.145, Test CE Loss: 1.536, Test Accuracy: 97.360, Model L2: 16.576\n",
      "Epoch: 83. Train CE Loss: 1.532, Train Accuracy: 98.197, Test CE Loss: 1.534, Test Accuracy: 97.510, Model L2: 16.621\n",
      "Epoch: 84. Train CE Loss: 1.535, Train Accuracy: 98.168, Test CE Loss: 1.536, Test Accuracy: 97.370, Model L2: 16.582\n",
      "Epoch: 85. Train CE Loss: 1.534, Train Accuracy: 98.190, Test CE Loss: 1.536, Test Accuracy: 97.500, Model L2: 16.595\n",
      "Epoch: 86. Train CE Loss: 1.535, Train Accuracy: 98.188, Test CE Loss: 1.537, Test Accuracy: 97.370, Model L2: 16.577\n",
      "Epoch: 87. Train CE Loss: 1.535, Train Accuracy: 98.152, Test CE Loss: 1.536, Test Accuracy: 97.230, Model L2: 16.571\n",
      "Epoch: 88. Train CE Loss: 1.533, Train Accuracy: 98.148, Test CE Loss: 1.535, Test Accuracy: 97.500, Model L2: 16.584\n",
      "Epoch: 89. Train CE Loss: 1.534, Train Accuracy: 98.165, Test CE Loss: 1.535, Test Accuracy: 97.420, Model L2: 16.580\n",
      "Epoch: 90. Train CE Loss: 1.535, Train Accuracy: 98.108, Test CE Loss: 1.537, Test Accuracy: 97.450, Model L2: 16.611\n",
      "Epoch: 91. Train CE Loss: 1.534, Train Accuracy: 98.178, Test CE Loss: 1.536, Test Accuracy: 97.410, Model L2: 16.597\n",
      "Epoch: 92. Train CE Loss: 1.535, Train Accuracy: 98.180, Test CE Loss: 1.536, Test Accuracy: 97.450, Model L2: 16.558\n",
      "Epoch: 93. Train CE Loss: 1.538, Train Accuracy: 98.067, Test CE Loss: 1.539, Test Accuracy: 97.250, Model L2: 16.559\n",
      "Epoch: 94. Train CE Loss: 1.533, Train Accuracy: 98.170, Test CE Loss: 1.535, Test Accuracy: 97.510, Model L2: 16.585\n",
      "Epoch: 95. Train CE Loss: 1.534, Train Accuracy: 98.105, Test CE Loss: 1.535, Test Accuracy: 97.500, Model L2: 16.584\n",
      "Epoch: 96. Train CE Loss: 1.534, Train Accuracy: 98.157, Test CE Loss: 1.536, Test Accuracy: 97.470, Model L2: 16.545\n",
      "Epoch: 97. Train CE Loss: 1.534, Train Accuracy: 98.182, Test CE Loss: 1.536, Test Accuracy: 97.460, Model L2: 16.579\n",
      "Epoch: 98. Train CE Loss: 1.534, Train Accuracy: 98.070, Test CE Loss: 1.535, Test Accuracy: 97.420, Model L2: 16.549\n",
      "Epoch: 99. Train CE Loss: 1.535, Train Accuracy: 98.058, Test CE Loss: 1.537, Test Accuracy: 97.360, Model L2: 16.567\n",
      "Epoch: 100. Train CE Loss: 1.536, Train Accuracy: 98.070, Test CE Loss: 1.538, Test Accuracy: 97.360, Model L2: 16.560\n"
     ]
    },
    {
     "data": {
      "text/plain": [
       "<matplotlib.figure.Figure at 0x7f660d63e950>"
      ]
     },
     "metadata": {},
     "output_type": "display_data"
    },
    {
     "data": {
      "image/png": "[encoded data removed]",
      "text/plain": [
       "<matplotlib.figure.Figure at 0x7f6613448650>"
      ]
     },
     "metadata": {},
     "output_type": "display_data"
    }
   ],
   "source": [
    "#Get KD Targets   \n",
    "model_name = 'LeNet_300_100'\n",
    "\n",
    "model = torch.load(model_dir + 'mnist_{}_{}.m'.format(model.name, num_epochs)).cuda()\n",
    "temp = 3\n",
    "train_kd_dataset = get_kd_targets(train_dataset, model, temp)\n",
    "train_kd_loader = torch.utils.data.DataLoader(dataset=train_kd_dataset, batch_size=batch_size, shuffle=True)\n",
    "\n",
    "#Load model\n",
    "model_kd = models.LeNet_300_100().cuda()\n",
    "model_kd.load_state_dict(model.state_dict())\n",
    "\n",
    "#Set up Optimisers and loss\n",
    "criterion_kd = nn.MSELoss()\n",
    "learning_rate_kd = 0.0005\n",
    "wd_kd = 0.0001\n",
    "optimizer_kd_1 = torch.optim.Adam(model_kd.fc1.parameters(), lr=learning_rate_kd, weight_decay = wd_kd)\n",
    "optimizer_kd_2 = torch.optim.Adam(model_kd.fc2.parameters(), lr=learning_rate_kd, weight_decay = wd_kd)\n",
    "optimizer_kd_3 = torch.optim.Adam(model_kd.fc3.parameters(), lr=learning_rate_kd, weight_decay = wd_kd)\n",
    "\n",
    "graph_title = \"compressed_model_T={}/\".format(temp)\n",
    "\n",
    "retraining_epochs=100\n",
    "for epoch in range(retraining_epochs):\n",
    "    model_kd, loss = train_epoch(model_kd, optimizer_kd_3, criterion_kd, train_kd_loader)\n",
    "    model_kd, loss = train_epoch(model_kd, optimizer_kd_2, criterion_kd, train_kd_loader)\n",
    "    model_kd, loss = train_epoch(model_kd, optimizer_kd_1, criterion_kd, train_kd_loader)\n",
    "    test_acc = test_accuracy(test_loader, model_kd, get_loss=True)\n",
    "    train_acc = test_accuracy(train_loader_full, model_kd, get_loss=True)\n",
    "    weight_penalty = get_weight_penalty(model_kd)\n",
    "    \n",
    "    writer.add_scalars(graph_title + 'CrossEntropyLoss', {'Test': test_acc[1], 'Train': train_acc[1]}, epoch+1)\n",
    "    writer.add_scalars(graph_title + 'Accuracy', {'Test': test_acc[0], 'Train': train_acc[0]}, epoch+1)\n",
    "    writer.add_scalars(graph_title + 'L2', {'L2' : weight_penalty}, epoch+1)\n",
    "    for name, param in model.named_parameters():\n",
    "        writer.add_histogram(graph_title + name, param.clone().cpu().data.numpy(), epoch+1, bins='doane')\n",
    "    \n",
    "    print('Epoch: {}. Train CE Loss: {:.3f}, Train Accuracy: {:.3f}, Test CE Loss: {:.3f}, Test Accuracy: {:.3f}, Model L2: {:.3f}'.format(epoch+1, train_acc[1], train_acc[0], test_acc[1], test_acc[0], weight_penalty))\n",
    "show_weights(model_kd)"
   ]
  },
  {
   "cell_type": "code",
   "execution_count": null,
   "metadata": {},
   "outputs": [],
   "source": [
    "torch.save(model_kd, model_dir + 'mnist_{}_kd_{}.m'.format(model_kd.name, retraining_epochs))"
   ]
  },
  {
   "cell_type": "markdown",
   "metadata": {},
   "source": [
    "### 3. Prune Model"
   ]
  },
  {
   "cell_type": "code",
   "execution_count": 60,
   "metadata": {},
   "outputs": [],
   "source": [
    "model_kd = torch.load(model_dir + 'mnist_LeNet_300_100_kd_100.m')\n",
    "model_c = models.LeNet_300_100().cuda()\n",
    "pruner = model_prune(model_kd.state_dict())\n",
    "deviation_list = [x/10.0 for x in range(0,21)]\n",
    "percentile_list = range(0,101,5)"
   ]
  },
  {
   "cell_type": "code",
   "execution_count": 29,
   "metadata": {},
   "outputs": [
    {
     "name": "stdout",
     "output_type": "stream",
     "text": [
      "Train CE Loss: 1.522, Train Accuracy: 98.568, Test CE Loss: 1.526, Test Accuracy: 97.790, Model L2: 17.448, Parameters Pruned: 0/266610 - 0.000%\n",
      "Train CE Loss: 1.522, Train Accuracy: 98.553, Test CE Loss: 1.526, Test Accuracy: 97.740, Model L2: 17.449, Parameters Pruned: 148302/266610 - 55.625%\n",
      "Train CE Loss: 1.522, Train Accuracy: 98.532, Test CE Loss: 1.527, Test Accuracy: 97.760, Model L2: 17.450, Parameters Pruned: 174338/266610 - 65.391%\n",
      "Train CE Loss: 1.524, Train Accuracy: 98.515, Test CE Loss: 1.528, Test Accuracy: 97.730, Model L2: 17.425, Parameters Pruned: 184748/266610 - 69.295%\n",
      "Train CE Loss: 1.527, Train Accuracy: 98.463, Test CE Loss: 1.531, Test Accuracy: 97.680, Model L2: 17.382, Parameters Pruned: 193440/266610 - 72.555%\n",
      "Train CE Loss: 1.535, Train Accuracy: 98.282, Test CE Loss: 1.538, Test Accuracy: 97.530, Model L2: 17.299, Parameters Pruned: 200837/266610 - 75.330%\n",
      "Train CE Loss: 1.545, Train Accuracy: 98.057, Test CE Loss: 1.547, Test Accuracy: 97.310, Model L2: 17.194, Parameters Pruned: 207222/266610 - 77.725%\n",
      "Train CE Loss: 1.557, Train Accuracy: 97.945, Test CE Loss: 1.558, Test Accuracy: 97.170, Model L2: 17.058, Parameters Pruned: 212748/266610 - 79.797%\n",
      "Train CE Loss: 1.581, Train Accuracy: 97.415, Test CE Loss: 1.581, Test Accuracy: 96.540, Model L2: 16.873, Parameters Pruned: 217626/266610 - 81.627%\n",
      "Train CE Loss: 1.615, Train Accuracy: 96.683, Test CE Loss: 1.615, Test Accuracy: 95.930, Model L2: 16.640, Parameters Pruned: 222081/266610 - 83.298%\n",
      "Train CE Loss: 1.671, Train Accuracy: 94.122, Test CE Loss: 1.669, Test Accuracy: 93.680, Model L2: 16.388, Parameters Pruned: 226073/266610 - 84.795%\n",
      "Train CE Loss: 1.772, Train Accuracy: 86.963, Test CE Loss: 1.769, Test Accuracy: 86.810, Model L2: 16.065, Parameters Pruned: 229605/266610 - 86.120%\n",
      "Train CE Loss: 1.846, Train Accuracy: 84.575, Test CE Loss: 1.843, Test Accuracy: 84.600, Model L2: 15.691, Parameters Pruned: 232932/266610 - 87.368%\n",
      "Train CE Loss: 1.918, Train Accuracy: 79.965, Test CE Loss: 1.915, Test Accuracy: 80.240, Model L2: 15.314, Parameters Pruned: 235935/266610 - 88.494%\n",
      "Train CE Loss: 1.998, Train Accuracy: 63.462, Test CE Loss: 1.994, Test Accuracy: 63.980, Model L2: 14.870, Parameters Pruned: 238659/266610 - 89.516%\n",
      "Train CE Loss: 2.085, Train Accuracy: 58.590, Test CE Loss: 2.082, Test Accuracy: 59.340, Model L2: 14.307, Parameters Pruned: 241044/266610 - 90.411%\n",
      "Train CE Loss: 2.156, Train Accuracy: 42.468, Test CE Loss: 2.152, Test Accuracy: 42.720, Model L2: 13.709, Parameters Pruned: 243314/266610 - 91.262%\n",
      "Train CE Loss: 2.196, Train Accuracy: 35.453, Test CE Loss: 2.192, Test Accuracy: 35.540, Model L2: 13.161, Parameters Pruned: 245398/266610 - 92.044%\n",
      "Train CE Loss: 2.215, Train Accuracy: 32.967, Test CE Loss: 2.212, Test Accuracy: 32.780, Model L2: 12.705, Parameters Pruned: 247217/266610 - 92.726%\n",
      "Train CE Loss: 2.230, Train Accuracy: 29.540, Test CE Loss: 2.228, Test Accuracy: 29.860, Model L2: 12.394, Parameters Pruned: 248871/266610 - 93.346%\n",
      "Train CE Loss: 2.257, Train Accuracy: 29.308, Test CE Loss: 2.255, Test Accuracy: 29.580, Model L2: 11.837, Parameters Pruned: 250450/266610 - 93.939%\n"
     ]
    }
   ],
   "source": [
    "dev_res = {'train ce' : [], 'test ce' : [], 'train acc' : [], 'test acc' : [], 'pruned' : [], 'L2' : []}\n",
    "for lim in deviation_list:\n",
    "    model_c.load_state_dict(pruner.deviation_prune(lim))\n",
    "    test_acc = test_accuracy(test_loader, model_c, get_loss=True)\n",
    "    train_acc = test_accuracy(train_loader_full, model_c, get_loss=True)\n",
    "    weight_penalty = get_weight_penalty(model_c)\n",
    "    \n",
    "    dev_res['train ce'].append(train_acc[1])\n",
    "    dev_res['test ce'].append(test_acc[1])\n",
    "    dev_res['train acc'].append(train_acc[0])\n",
    "    dev_res['test acc'].append(test_acc[0])\n",
    "    dev_res['pruned'].append(100.0 * pruner.num_pruned/pruner.total_weights)\n",
    "    dev_res['L2'].append(weight_penalty)\n",
    "    \n",
    "    print('Train CE Loss: {:.3f}, Train Accuracy: {:.3f}, Test CE Loss: {:.3f}, Test Accuracy: {:.3f}, Model L2: {:.3f}, Parameters Pruned: {}/{} - {:.3f}%'\n",
    "          .format(train_acc[1], train_acc[0], test_acc[1], test_acc[0], weight_penalty, pruner.num_pruned, pruner.total_weights, 100.0 * pruner.num_pruned/pruner.total_weights))"
   ]
  },
  {
   "cell_type": "code",
   "execution_count": 28,
   "metadata": {},
   "outputs": [
    {
     "name": "stdout",
     "output_type": "stream",
     "text": [
      "Train CE Loss: 1.522, Train Accuracy: 98.568, Test CE Loss: 1.526, Test Accuracy: 97.790, Model L2: 17.448, Parameters Pruned: 0/266610 - 0.000%\n",
      "Train CE Loss: 1.522, Train Accuracy: 98.572, Test CE Loss: 1.526, Test Accuracy: 97.770, Model L2: 17.448, Parameters Pruned: 13310/266610 - 4.992%\n",
      "Train CE Loss: 1.522, Train Accuracy: 98.552, Test CE Loss: 1.526, Test Accuracy: 97.740, Model L2: 17.448, Parameters Pruned: 26620/266610 - 9.985%\n",
      "Train CE Loss: 1.522, Train Accuracy: 98.550, Test CE Loss: 1.527, Test Accuracy: 97.740, Model L2: 17.448, Parameters Pruned: 39930/266610 - 14.977%\n",
      "Train CE Loss: 1.523, Train Accuracy: 98.550, Test CE Loss: 1.527, Test Accuracy: 97.710, Model L2: 17.448, Parameters Pruned: 53240/266610 - 19.969%\n",
      "Train CE Loss: 1.524, Train Accuracy: 98.518, Test CE Loss: 1.529, Test Accuracy: 97.730, Model L2: 17.448, Parameters Pruned: 66550/266610 - 24.962%\n",
      "Train CE Loss: 1.526, Train Accuracy: 98.512, Test CE Loss: 1.531, Test Accuracy: 97.680, Model L2: 17.448, Parameters Pruned: 79860/266610 - 29.954%\n",
      "Train CE Loss: 1.528, Train Accuracy: 98.528, Test CE Loss: 1.532, Test Accuracy: 97.780, Model L2: 17.448, Parameters Pruned: 93170/266610 - 34.946%\n",
      "Train CE Loss: 1.531, Train Accuracy: 98.488, Test CE Loss: 1.535, Test Accuracy: 97.610, Model L2: 17.448, Parameters Pruned: 106480/266610 - 39.938%\n",
      "Train CE Loss: 1.538, Train Accuracy: 98.410, Test CE Loss: 1.541, Test Accuracy: 97.470, Model L2: 17.448, Parameters Pruned: 119790/266610 - 44.931%\n",
      "Train CE Loss: 1.546, Train Accuracy: 98.222, Test CE Loss: 1.550, Test Accuracy: 97.290, Model L2: 17.448, Parameters Pruned: 133100/266610 - 49.923%\n",
      "Train CE Loss: 1.565, Train Accuracy: 97.790, Test CE Loss: 1.568, Test Accuracy: 96.870, Model L2: 17.448, Parameters Pruned: 146410/266610 - 54.915%\n",
      "Train CE Loss: 1.587, Train Accuracy: 97.133, Test CE Loss: 1.590, Test Accuracy: 96.160, Model L2: 17.448, Parameters Pruned: 159720/266610 - 59.908%\n",
      "Train CE Loss: 1.631, Train Accuracy: 94.927, Test CE Loss: 1.632, Test Accuracy: 94.340, Model L2: 17.448, Parameters Pruned: 173030/266610 - 64.900%\n",
      "Train CE Loss: 1.723, Train Accuracy: 87.655, Test CE Loss: 1.722, Test Accuracy: 87.270, Model L2: 17.448, Parameters Pruned: 186340/266610 - 69.892%\n",
      "Train CE Loss: 1.783, Train Accuracy: 85.443, Test CE Loss: 1.783, Test Accuracy: 85.050, Model L2: 17.448, Parameters Pruned: 199650/266610 - 74.885%\n",
      "Train CE Loss: 1.860, Train Accuracy: 84.615, Test CE Loss: 1.857, Test Accuracy: 84.480, Model L2: 17.448, Parameters Pruned: 212960/266610 - 79.877%\n",
      "Train CE Loss: 2.008, Train Accuracy: 63.452, Test CE Loss: 2.004, Test Accuracy: 64.110, Model L2: 17.448, Parameters Pruned: 226270/266610 - 84.869%\n",
      "Train CE Loss: 2.144, Train Accuracy: 46.180, Test CE Loss: 2.140, Test Accuracy: 46.390, Model L2: 17.448, Parameters Pruned: 239580/266610 - 89.862%\n",
      "Train CE Loss: 2.245, Train Accuracy: 37.002, Test CE Loss: 2.243, Test Accuracy: 37.650, Model L2: 17.448, Parameters Pruned: 252890/266610 - 94.854%\n",
      "Train CE Loss: 2.303, Train Accuracy: 9.035, Test CE Loss: 2.303, Test Accuracy: 8.920, Model L2: 17.448, Parameters Pruned: 266197/266610 - 99.845%\n"
     ]
    }
   ],
   "source": [
    "perc_res = {'train ce' : [], 'test ce' : [], 'train acc' : [], 'test acc' : [], 'pruned' : [], 'L2' : []}\n",
    "\n",
    "graph_title = \n",
    "\n",
    "for lim in percentile_list:\n",
    "    model_c.load_state_dict(pruner.percentile_prune(lim))\n",
    "    \n",
    "    test_acc = test_accuracy(test_loader, model_c, get_loss=True)\n",
    "    train_acc = test_accuracy(train_loader_full, model_c, get_loss=True)\n",
    "    weight_penalty = get_weight_penalty(model_kd)\n",
    "    perc_res['train ce'].append(train_acc[1])\n",
    "    perc_res['test ce'].append(test_acc[1])\n",
    "    perc_res['train acc'].append(train_acc[0])\n",
    "    perc_res['test acc'].append(test_acc[0])\n",
    "    perc_res['pruned'].append(100.0 * pruner.num_pruned/pruner.total_weights)\n",
    "    perc_res['L2'].append(weight_penalty)\n",
    "    \n",
    "    print('Train CE Loss: {:.3f}, Train Accuracy: {:.3f}, Test CE Loss: {:.3f}, Test Accuracy: {:.3f}, Model L2: {:.3f}, Parameters Pruned: {}/{} - {:.3f}%'\n",
    "          .format(train_acc[1], train_acc[0], test_acc[1], test_acc[0], weight_penalty, pruner.num_pruned, pruner.total_weights, 100.0 * pruner.num_pruned/pruner.total_weights))"
   ]
  }
 ],
 "metadata": {
  "kernelspec": {
   "display_name": "Python 2",
   "language": "python",
   "name": "python2"
  },
  "language_info": {
   "codemirror_mode": {
    "name": "ipython",
    "version": 2
   },
   "file_extension": ".py",
   "mimetype": "text/x-python",
   "name": "python",
   "nbconvert_exporter": "python",
   "pygments_lexer": "ipython2",
   "version": "2.7.14"
  }
 },
 "nbformat": 4,
 "nbformat_minor": 2
}
