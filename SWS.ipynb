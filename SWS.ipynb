{
 "cells": [
  {
   "cell_type": "code",
   "execution_count": 1,
   "metadata": {},
   "outputs": [
    {
     "data": {
      "text/html": [
       "<style>.container { width:95% !important; }</style>"
      ],
      "text/plain": [
       "<IPython.core.display.HTML object>"
      ]
     },
     "metadata": {},
     "output_type": "display_data"
    }
   ],
   "source": [
    "from IPython.core.display import display, HTML\n",
    "display(HTML(\"<style>.container { width:95% !important; }</style>\"))"
   ]
  },
  {
   "cell_type": "markdown",
   "metadata": {},
   "source": [
    "## 1. Training Network"
   ]
  },
  {
   "cell_type": "code",
   "execution_count": 4,
   "metadata": {},
   "outputs": [],
   "source": [
    "import torch\n",
    "import torch.nn as nn\n",
    "import torchvision.transforms as transforms\n",
    "import torchvision.datasets as dsets\n",
    "from torch.nn.modules import Module\n",
    "from torch.autograd import Variable\n",
    "import torch.nn.functional as F\n",
    "import numpy as np\n",
    "import sys\n",
    "model_dir = '/homes/okz21/NNC/models/'\n",
    "sys.path.append(model_dir)\n",
    "import models \n",
    "\n",
    "\n",
    "#Data\n",
    "train_dataset = dsets.MNIST(root='./data', train=True, transform=transforms.ToTensor(), download=True)\n",
    "test_dataset = dsets.MNIST(root='./data', train=False , transform=transforms.ToTensor(), download=True)"
   ]
  },
  {
   "cell_type": "code",
   "execution_count": 3,
   "metadata": {},
   "outputs": [
    {
     "name": "stdout",
     "output_type": "stream",
     "text": [
      "torch.Size([25, 1, 5, 5])\n",
      "torch.Size([25])\n",
      "torch.Size([50, 25, 3, 3])\n",
      "torch.Size([50])\n",
      "torch.Size([500, 1250])\n",
      "torch.Size([500])\n",
      "torch.Size([10, 500])\n",
      "torch.Size([10])\n",
      "True\n"
     ]
    }
   ],
   "source": [
    "reload(models)\n",
    "model = models.SWSModel()\n",
    "for params in model.parameters():\n",
    "    print params.size()\n",
    "    \n",
    "num_epochs = 100\n",
    "batch_size = 256\n",
    "\n",
    "train_loader = torch.utils.data.DataLoader(dataset=train_dataset, batch_size=batch_size, shuffle=True)\n",
    "test_loader = torch.utils.data.DataLoader(dataset=test_dataset, batch_size=batch_size, shuffle=False)\n",
    "use_cuda = torch.cuda.is_available()\n",
    "print use_cuda"
   ]
  },
  {
   "cell_type": "code",
   "execution_count": 15,
   "metadata": {},
   "outputs": [
    {
     "ename": "RuntimeError",
     "evalue": "torch.FloatTensor constructor doesn't accept any keyword arguments",
     "output_type": "error",
     "traceback": [
      "\u001b[0;31m---------------------------------------------------------------------------\u001b[0m",
      "\u001b[0;31mRuntimeError\u001b[0m                              Traceback (most recent call last)",
      "\u001b[0;32m<ipython-input-15-2dcd4888c723>\u001b[0m in \u001b[0;36m<module>\u001b[0;34m()\u001b[0m\n\u001b[1;32m     49\u001b[0m     \u001b[0mmodel\u001b[0m\u001b[0;34m.\u001b[0m\u001b[0mcuda\u001b[0m\u001b[0;34m(\u001b[0m\u001b[0;34m)\u001b[0m\u001b[0;34m\u001b[0m\u001b[0m\n\u001b[1;32m     50\u001b[0m \u001b[0;32mfor\u001b[0m \u001b[0mepoch\u001b[0m \u001b[0;32min\u001b[0m \u001b[0mrange\u001b[0m\u001b[0;34m(\u001b[0m\u001b[0mnum_epochs\u001b[0m\u001b[0;34m)\u001b[0m\u001b[0;34m:\u001b[0m\u001b[0;34m\u001b[0m\u001b[0m\n\u001b[0;32m---> 51\u001b[0;31m     \u001b[0mmodel\u001b[0m\u001b[0;34m,\u001b[0m \u001b[0mloss\u001b[0m \u001b[0;34m=\u001b[0m \u001b[0mtrain_epoch\u001b[0m\u001b[0;34m(\u001b[0m\u001b[0mmodel\u001b[0m\u001b[0;34m,\u001b[0m \u001b[0moptimizer\u001b[0m\u001b[0;34m,\u001b[0m \u001b[0mcriterion\u001b[0m\u001b[0;34m,\u001b[0m \u001b[0mtrain_loader\u001b[0m\u001b[0;34m)\u001b[0m\u001b[0;34m\u001b[0m\u001b[0m\n\u001b[0m\u001b[1;32m     52\u001b[0m     \u001b[0maccuracy\u001b[0m \u001b[0;34m=\u001b[0m \u001b[0mtest_accuracy\u001b[0m\u001b[0;34m(\u001b[0m\u001b[0mtest_loader\u001b[0m\u001b[0;34m,\u001b[0m \u001b[0mmodel\u001b[0m\u001b[0;34m)\u001b[0m\u001b[0;34m\u001b[0m\u001b[0m\n\u001b[1;32m     53\u001b[0m     \u001b[0;32mprint\u001b[0m\u001b[0;34m(\u001b[0m\u001b[0;34m'Epoch: {}. Loss: {}. Accuracy: {}'\u001b[0m\u001b[0;34m.\u001b[0m\u001b[0mformat\u001b[0m\u001b[0;34m(\u001b[0m\u001b[0mepoch\u001b[0m\u001b[0;34m,\u001b[0m \u001b[0mloss\u001b[0m\u001b[0;34m.\u001b[0m\u001b[0mdata\u001b[0m\u001b[0;34m[\u001b[0m\u001b[0;36m0\u001b[0m\u001b[0;34m]\u001b[0m\u001b[0;34m,\u001b[0m \u001b[0maccuracy\u001b[0m\u001b[0;34m)\u001b[0m\u001b[0;34m)\u001b[0m\u001b[0;34m\u001b[0m\u001b[0m\n",
      "\u001b[0;32m<ipython-input-15-2dcd4888c723>\u001b[0m in \u001b[0;36mtrain_epoch\u001b[0;34m(model, optimizer, criterion, train_loader)\u001b[0m\n\u001b[1;32m     28\u001b[0m             \u001b[0mimages\u001b[0m\u001b[0;34m=\u001b[0m\u001b[0mimages\u001b[0m\u001b[0;34m.\u001b[0m\u001b[0mcuda\u001b[0m\u001b[0;34m(\u001b[0m\u001b[0;34m)\u001b[0m\u001b[0;34m\u001b[0m\u001b[0m\n\u001b[1;32m     29\u001b[0m             \u001b[0mlabels\u001b[0m\u001b[0;34m=\u001b[0m\u001b[0mlabels\u001b[0m\u001b[0;34m.\u001b[0m\u001b[0mcuda\u001b[0m\u001b[0;34m(\u001b[0m\u001b[0;34m)\u001b[0m\u001b[0;34m\u001b[0m\u001b[0m\n\u001b[0;32m---> 30\u001b[0;31m         \u001b[0mimages\u001b[0m \u001b[0;34m=\u001b[0m \u001b[0mtorch\u001b[0m\u001b[0;34m.\u001b[0m\u001b[0mFloatTensor\u001b[0m\u001b[0;34m(\u001b[0m\u001b[0mimages\u001b[0m\u001b[0;34m,\u001b[0m \u001b[0mrequires_grad\u001b[0m\u001b[0;34m=\u001b[0m\u001b[0mTrue\u001b[0m\u001b[0;34m)\u001b[0m\u001b[0;34m\u001b[0m\u001b[0m\n\u001b[0m\u001b[1;32m     31\u001b[0m         \u001b[0mlabels\u001b[0m \u001b[0;34m=\u001b[0m \u001b[0mVariable\u001b[0m\u001b[0;34m(\u001b[0m\u001b[0mlabels\u001b[0m\u001b[0;34m)\u001b[0m\u001b[0;34m\u001b[0m\u001b[0m\n\u001b[1;32m     32\u001b[0m         \u001b[0;31m# Clear gradients w.r.t. parameters\u001b[0m\u001b[0;34m\u001b[0m\u001b[0;34m\u001b[0m\u001b[0m\n",
      "\u001b[0;31mRuntimeError\u001b[0m: torch.FloatTensor constructor doesn't accept any keyword arguments"
     ]
    }
   ],
   "source": [
    "def test_accuracy(test_loader,model):\n",
    "    # Calculate Accuracy         \n",
    "    correct = 0\n",
    "    total = 0\n",
    "    # Iterate through test dataset\n",
    "    for images, labels in test_loader:\n",
    "        if use_cuda:\n",
    "            images=images.cuda()\n",
    "        images = Variable(images)\n",
    "        # Forward pass only to get logits/output\n",
    "        outputs = model(images)\n",
    "        # Get predictions from the maximum value\n",
    "        _, predicted = torch.max(outputs.data, 1)\n",
    "        # Total number of labels\n",
    "        total += labels.size(0)\n",
    "        if use_cuda:\n",
    "            correct += (predicted.cpu() == labels.cpu()).sum()\n",
    "        else:\n",
    "            correct += (predicted == labels).sum()\n",
    "\n",
    "    accuracy = 100.0 * correct / total\n",
    "    return accuracy\n",
    "    \n",
    "def train_epoch(model, optimizer, criterion, train_loader):\n",
    "    for i, (images, labels) in enumerate(train_loader):\n",
    "\n",
    "        if(use_cuda):\n",
    "            images=images.cuda()\n",
    "            labels=labels.cuda()\n",
    "        images = Variable(images)\n",
    "        labels = Variable(labels)\n",
    "        # Clear gradients w.r.t. parameters\n",
    "        optimizer.zero_grad()\n",
    "        # Forward pass to get output/logits\n",
    "        outputs = model(images)\n",
    "        # Calculate Loss: softmax --> cross entropy loss\n",
    "        loss = criterion(outputs, labels)\n",
    "        # Getting gradients w.r.t. parameters\n",
    "        loss.backward()\n",
    "        # Updating parameters\n",
    "        optimizer.step()\n",
    "    return model, loss\n",
    "\n",
    "criterion = nn.CrossEntropyLoss()\n",
    "learning_rate = 0.001\n",
    "optimizer = torch.optim.Adam(model.parameters(), lr=learning_rate)\n",
    "\n",
    "if use_cuda:\n",
    "    model.cuda()\n",
    "for epoch in range(num_epochs):\n",
    "    model, loss = train_epoch(model, optimizer, criterion, train_loader)\n",
    "    accuracy = test_accuracy(test_loader, model)\n",
    "    print('Epoch: {}. Loss: {}. Accuracy: {}'.format(epoch, loss.data[0], accuracy))"
   ]
  },
  {
   "cell_type": "code",
   "execution_count": 31,
   "metadata": {},
   "outputs": [],
   "source": [
    "torch.save(model, model_dir + 'mnist_{}_{}.m'.format(model.name, num_epochs))"
   ]
  },
  {
   "cell_type": "markdown",
   "metadata": {},
   "source": [
    "## 2. Re-training with empirical prior"
   ]
  },
  {
   "cell_type": "code",
   "execution_count": 126,
   "metadata": {},
   "outputs": [
    {
     "ename": "KeyboardInterrupt",
     "evalue": "",
     "output_type": "error",
     "traceback": [
      "\u001b[0;31m---------------------------------------------------------------------------\u001b[0m",
      "\u001b[0;31mKeyboardInterrupt\u001b[0m                         Traceback (most recent call last)",
      "\u001b[0;32m<ipython-input-126-ba1cb4ab5176>\u001b[0m in \u001b[0;36m<module>\u001b[0;34m()\u001b[0m\n\u001b[1;32m      1\u001b[0m \u001b[0mx\u001b[0m\u001b[0;34m=\u001b[0m\u001b[0;36m100000\u001b[0m\u001b[0;34m\u001b[0m\u001b[0m\n\u001b[1;32m      2\u001b[0m \u001b[0mt\u001b[0m \u001b[0;34m=\u001b[0m \u001b[0mtorch\u001b[0m\u001b[0;34m.\u001b[0m\u001b[0mTensor\u001b[0m\u001b[0;34m(\u001b[0m\u001b[0mx\u001b[0m\u001b[0;34m,\u001b[0m\u001b[0mx\u001b[0m\u001b[0;34m)\u001b[0m\u001b[0;34m\u001b[0m\u001b[0m\n\u001b[0;32m----> 3\u001b[0;31m \u001b[0mt\u001b[0m\u001b[0;34m.\u001b[0m\u001b[0mrandom_\u001b[0m\u001b[0;34m(\u001b[0m\u001b[0;34m)\u001b[0m\u001b[0;34m\u001b[0m\u001b[0m\n\u001b[0m",
      "\u001b[0;31mKeyboardInterrupt\u001b[0m: "
     ]
    }
   ],
   "source": [
    "x=100000\n",
    "t = torch.Tensor(x,x)\n",
    "t.random_()"
   ]
  },
  {
   "cell_type": "code",
   "execution_count": 125,
   "metadata": {},
   "outputs": [
    {
     "name": "stdout",
     "output_type": "stream",
     "text": [
      "\n",
      " 100.6931  200.6931  300.6931  400.6931\n",
      "[torch.FloatTensor of size 1x4]\n",
      "\n"
     ]
    }
   ],
   "source": [
    "def logsumexp(t, axis=1):\n",
    "    t_max, _ = t.max(dim=axis)\n",
    "    t = t-t_max.repeat(t_max.size(1), t_max.size(0))\n",
    "    t.exp_()\n",
    "    t = t.sum(dim=axis)\n",
    "    t.log_()\n",
    "    return t + t_max\n",
    "\n",
    "t = torch.Tensor([[1, 2, 3, 4] , [1, 2, 3, 4], [100, 200, 300, 400], [100, 200, 300, 400]])\n",
    "print logsumexp(t, axis=0)"
   ]
  },
  {
   "cell_type": "code",
   "execution_count": null,
   "metadata": {},
   "outputs": [],
   "source": [
    "def logsumexp(t, w=None, axis=1):\n",
    "    \"\"\"\n",
    "    t: tensor\n",
    "    w: weight tensor\n",
    "    axis: matrix-axis to find max and sum along\n",
    "    \"\"\"\n",
    "    if w is not None:\n",
    "        \n",
    "\n"
   ]
  },
  {
   "cell_type": "code",
   "execution_count": 5,
   "metadata": {},
   "outputs": [],
   "source": [
    "model = model=torch.load(model_dir + 'mnist_{}_{}.m'.format(model.name, num_epochs))"
   ]
  },
  {
   "cell_type": "code",
   "execution_count": 25,
   "metadata": {
    "collapsed": true
   },
   "outputs": [
    {
     "data": {
      "text/plain": [
       "[Variable containing:\n",
       " -0.6000\n",
       " -0.5143\n",
       " -0.4286\n",
       " -0.3429\n",
       " -0.2571\n",
       " -0.1714\n",
       " -0.0857\n",
       "  0.0000\n",
       "  0.0857\n",
       "  0.1714\n",
       "  0.2571\n",
       "  0.3429\n",
       "  0.4286\n",
       "  0.5143\n",
       "  0.6000\n",
       " [torch.FloatTensor of size 15], Variable containing:\n",
       "  2.7726\n",
       "  2.7726\n",
       "  2.7726\n",
       "  2.7726\n",
       "  2.7726\n",
       "  2.7726\n",
       "  2.7726\n",
       "  2.7726\n",
       "  2.7726\n",
       "  2.7726\n",
       "  2.7726\n",
       "  2.7726\n",
       "  2.7726\n",
       "  2.7726\n",
       "  2.7726\n",
       "  2.7726\n",
       " [torch.FloatTensor of size 16], \n",
       " 1.00000e-04 *\n",
       "   6.6667\n",
       "   6.6667\n",
       "   6.6667\n",
       "   6.6667\n",
       "   6.6667\n",
       "   6.6667\n",
       "   6.6667\n",
       "   6.6667\n",
       "   6.6667\n",
       "   6.6667\n",
       "   6.6667\n",
       "   6.6667\n",
       "   6.6667\n",
       "   6.6667\n",
       "   6.6667\n",
       " [torch.FloatTensor of size 15]]"
      ]
     },
     "execution_count": 25,
     "metadata": {},
     "output_type": "execute_result"
    }
   ],
   "source": [
    "#Build\n",
    "J = 16\n",
    "pi_zero=0.99\n",
    "# create trainable ...\n",
    "#    ... means\n",
    "init_mean = Variable(torch.linspace(-0.6, 0.6, J - 1))\n",
    "\n",
    "init_stds = Variable(torch.FloatTensor(np.tile(0.25, J) ))\n",
    "init_gamma = - torch.log(torch.pow(init_stds, 2))\n",
    "\n",
    "\n",
    "init_mixing_proportions = torch.ones((J - 1))\n",
    "init_mixing_proportions *= (1. - pi_zero) / (J - 1)\n",
    "\n",
    "trainable_weights = [init_mean] + [init_gamma] + [init_mixing_proportions]\n",
    "trainable_weights\n",
    "#[p.view(-1) for p in model.parameters()]\n"
   ]
  },
  {
   "cell_type": "code",
   "execution_count": null,
   "metadata": {},
   "outputs": [],
   "source": [
    "def call(self, x, mask=None):\n",
    "    J = self.nb_components\n",
    "    loss = K.variable(0.)\n",
    "    # here we stack together the trainable and non-trainable params\n",
    "    #     ... the mean vector\n",
    "    means = K.concatenate([K.variable([0.]), self.means],axis=0)\n",
    "    #     ... the variances\n",
    "    precision = K.exp(self.gammas)\n",
    "    #     ... the mixing proportions (we are using the log-sum-exp trick here)\n",
    "    min_rho = K.min(self.rhos)\n",
    "    mixing_proportions = K.exp(self.rhos - min_rho)\n",
    "    mixing_proportions = (1 - self.pi_zero) * mixing_proportions / K.sum(mixing_proportions)\n",
    "    mixing_proportions = K.concatenate([K.variable([self.pi_zero]), mixing_proportions],axis=0)\n",
    "\n",
    "    # compute the loss given by the gaussian mixture\n",
    "    for weights in self.network_weights:\n",
    "        loss = loss + self.compute_loss(weights, mixing_proportions, means, precision)\n",
    "\n",
    "    # GAMMA PRIOR ON PRECISION\n",
    "    # ... for the zero component\n",
    "    (alpha, beta) = (5e3,20e-1)\n",
    "    neglogprop = (1 - alpha) * K.gather(self.gammas, [0]) + beta * K.gather(precision, [0])\n",
    "    loss = loss + K.sum(neglogprop)\n",
    "    # ... and all other components\n",
    "    alpha, beta = (2.5e2,1e-1)\n",
    "    idx = np.arange(1, J)\n",
    "    neglogprop = (1 - alpha) * K.gather(self.gammas, idx) + beta * K.gather(precision, idx)\n",
    "    loss = loss + K.sum(neglogprop)\n",
    "\n",
    "    return loss"
   ]
  },
  {
   "cell_type": "code",
   "execution_count": 40,
   "metadata": {},
   "outputs": [
    {
     "name": "stdout",
     "output_type": "stream",
     "text": [
      "[\n",
      "-0.6000\n",
      "-0.5143\n",
      "-0.4286\n",
      "-0.3429\n",
      "-0.2571\n",
      "-0.1714\n",
      "-0.0857\n",
      " 0.0000\n",
      " 0.0857\n",
      " 0.1714\n",
      " 0.2571\n",
      " 0.3429\n",
      " 0.4286\n",
      " 0.5143\n",
      " 0.6000\n",
      "[torch.FloatTensor of size 15]\n",
      ", Variable containing:\n",
      " 2.7726\n",
      " 2.7726\n",
      " 2.7726\n",
      " 2.7726\n",
      " 2.7726\n",
      " 2.7726\n",
      " 2.7726\n",
      " 2.7726\n",
      " 2.7726\n",
      " 2.7726\n",
      " 2.7726\n",
      " 2.7726\n",
      " 2.7726\n",
      " 2.7726\n",
      " 2.7726\n",
      " 2.7726\n",
      "[torch.FloatTensor of size 16]\n",
      ", \n",
      "1.00000e-04 *\n",
      "  6.6667\n",
      "  6.6667\n",
      "  6.6667\n",
      "  6.6667\n",
      "  6.6667\n",
      "  6.6667\n",
      "  6.6667\n",
      "  6.6667\n",
      "  6.6667\n",
      "  6.6667\n",
      "  6.6667\n",
      "  6.6667\n",
      "  6.6667\n",
      "  6.6667\n",
      "  6.6667\n",
      "[torch.FloatTensor of size 15]\n",
      "]\n"
     ]
    }
   ],
   "source": [
    "class GaussianMixturePrior(Module):\n",
    "    def __init__(self, nb_components, network_weights, pretrained_weights, pi_zero, **kwargs):\n",
    "        super(GaussianMixturePrior, self).__init__()\n",
    "        self.nb_components = nb_components \n",
    "        #self.network_weights = [K.flatten(w) for w in network_weights]\n",
    "        self.network_weights = [p.view(-1) for p in network_weights]\n",
    "        #self.pretrained_weights = special_flatten(pretrained_weights)\n",
    "        self.pretrained_weights = [p.view(-1) for p in pretrained_weights]\n",
    "        self.pi_zero = pi_zero\n",
    "        \n",
    "        #Build\n",
    "        J = self.nb_components\n",
    "        pi_zero = self.pi_zero\n",
    "        # create trainable ...\n",
    "        #    ... means\n",
    "        init_mean = torch.linspace(-0.6, 0.6, J - 1)\n",
    "        self.mean = Variable(init_mean)\n",
    "        \n",
    "        init_stds = torch.FloatTensor(np.tile(0.25, J) )\n",
    "        self.gammas = Variable(- torch.log(torch.pow(init_stds, 2)))\n",
    "        \n",
    "\n",
    "        init_mixing_proportions = torch.ones((J - 1))\n",
    "        init_mixing_proportions *= (1. - pi_zero) / (J - 1)\n",
    "        self.rhos = Variable(init_mixing_proportions)\n",
    "\n",
    "        self.trainable_weights = [init_mean] + [init_gamma] + [init_mixing_proportions]\n",
    "        \n",
    "        #Call\n",
    "        loss = Variable(torch.FloatTensor([0.]))\n",
    "        means = torch.cat(( Variable(torch.FloatTensor([0.])) , init_mean), 0)\n",
    "        precision = torch.exp(init_gamma)\n",
    "\n",
    "\n",
    "gmp = GaussianMixturePrior(16, [x for x in model.parameters()], [x for x in model.parameters()], 0.99)"
   ]
  }
 ],
 "metadata": {
  "kernelspec": {
   "display_name": "Python 2",
   "language": "python",
   "name": "python2"
  },
  "language_info": {
   "codemirror_mode": {
    "name": "ipython",
    "version": 2
   },
   "file_extension": ".py",
   "mimetype": "text/x-python",
   "name": "python",
   "nbconvert_exporter": "python",
   "pygments_lexer": "ipython2",
   "version": "2.7.14"
  }
 },
 "nbformat": 4,
 "nbformat_minor": 2
}
