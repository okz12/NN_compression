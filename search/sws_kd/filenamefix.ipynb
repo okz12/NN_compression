{
 "cells": [
  {
   "cell_type": "code",
   "execution_count": 1,
   "metadata": {},
   "outputs": [],
   "source": [
    "import subprocess\n",
    "import glob, os\n",
    "os.chdir(\"./models/\")"
   ]
  },
  {
   "cell_type": "code",
   "execution_count": 30,
   "metadata": {},
   "outputs": [],
   "source": [
    "file_list = []\n",
    "for file in glob.glob(\"*mnist*\"):\n",
    "    file_list.append(file)"
   ]
  },
  {
   "cell_type": "code",
   "execution_count": 79,
   "metadata": {},
   "outputs": [],
   "source": [
    "for filename in file_list:\n",
    "    temp_str = filename.split(\"_\")[7]\n",
    "    mix_str = filename.split(\"_\")[8]\n",
    "    #print (filename, temp_str, mix_str)\n",
    "    if 'm' in temp_str:\n",
    "        temp = \"kdT\" + str(int(float(temp_str.split(\"m\")[1])))\n",
    "        mix = \"m\" + mix_str.split(\"kdT\")[1]\n",
    "        new_filename = filename.replace(mix_str, temp).replace(temp_str, mix)\n",
    "        subprocess.call(\"mv {} {}\".format(filename, new_filename).split(\" \"))"
   ]
  },
  {
   "cell_type": "code",
   "execution_count": 84,
   "metadata": {},
   "outputs": [
    {
     "data": {
      "text/plain": [
       "5"
      ]
     },
     "execution_count": 84,
     "metadata": {},
     "output_type": "execute_result"
    }
   ],
   "source": [
    "import numpy as np\n",
    "\n",
    "f = np.zeros(5)\n",
    "(f==0).sum()\n",
    "f.size"
   ]
  },
  {
   "cell_type": "code",
   "execution_count": 68,
   "metadata": {},
   "outputs": [],
   "source": [
    "tupled_params = [tuple(row) for row in np.vstack((params['mean'], params['var'], params['tau'], params['mixtures'])).T]\n",
    "unique_params = list(set(tupled_params))\n",
    "\n",
    "reduced_params = {}\n",
    "reduced_params['mean'] = np.array([x[0] for x in unique_params])\n",
    "reduced_params['var'] = np.array([x[1] for x in unique_params])\n",
    "reduced_params['tau'] = np.array([x[2] for x in unique_params])\n",
    "reduced_params['mixtures'] = np.array([int(x[3]) for x in unique_params])"
   ]
  }
 ],
 "metadata": {
  "kernelspec": {
   "display_name": "Python [conda env:py35]",
   "language": "python",
   "name": "conda-env-py35-py"
  },
  "language_info": {
   "codemirror_mode": {
    "name": "ipython",
    "version": 3
   },
   "file_extension": ".py",
   "mimetype": "text/x-python",
   "name": "python",
   "nbconvert_exporter": "python",
   "pygments_lexer": "ipython3",
   "version": "3.5.4"
  }
 },
 "nbformat": 4,
 "nbformat_minor": 2
}
