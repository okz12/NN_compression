{
 "cells": [
  {
   "cell_type": "code",
   "execution_count": 1,
   "metadata": {},
   "outputs": [
    {
     "data": {
      "text/html": [
       "<style>.container { width:95% !important; }</style>"
      ],
      "text/plain": [
       "<IPython.core.display.HTML object>"
      ]
     },
     "metadata": {},
     "output_type": "display_data"
    }
   ],
   "source": [
    "#Expand notebook to take full screen width\n",
    "from IPython.core.display import display, HTML\n",
    "display(HTML(\"<style>.container { width:95% !important; }</style>\"))\n",
    "\n",
    "###\n",
    "import sys\n",
    "sys.path.insert(0,'../../src/')\n",
    "\n",
    "%load_ext autoreload\n",
    "%autoreload 2\n",
    "\n",
    "%matplotlib inline\n",
    "import matplotlib.pyplot as plt\n",
    "import matplotlib\n",
    "import seaborn as sns\n",
    "import numpy as np\n",
    "import pickle\n",
    "import pandas as pd\n",
    "sns.reset_orig()\n",
    "matplotlib.rcParams.update({'font.size': 12})\n",
    "from utils_write import stack_weights, cr_calc"
   ]
  },
  {
   "cell_type": "code",
   "execution_count": 2,
   "metadata": {},
   "outputs": [],
   "source": [
    "def loadfile(mean, zmean, tau, temp, mixtures, model, data_size = \"full\",  scaling = False, model_save_dir = \"\", fn=\"\", file = \"res\"):\n",
    "    r = 30 if file == 'ures' else 50\n",
    "    exp_name = \"{}_m{}_zm{}_r{}_t{}_m{}_kdT{}_{}\".format(model, mean, zmean, r, tau, int(mixtures), int(temp),data_size) + fn\n",
    "    if (file=='res' or file == 'ures' or file == 'gmp'):\n",
    "        with open(model_save_dir + '/mnist_retrain_layer_{}_{}.p'.format(file, exp_name),'rb') as f:\n",
    "            file = pickle.load(f)\n",
    "    if (file=='model'):\n",
    "        file = torch.load(model_save_dir + '/mnist_retrain_layer_model_{}.m'.format(exp_name))\n",
    "    return file"
   ]
  },
  {
   "cell_type": "code",
   "execution_count": 147,
   "metadata": {},
   "outputs": [],
   "source": [
    "n_exp = pd.DataFrame(columns = [\"Layer\", \"tau\", \"act\", \"acc\", \"sp\"])\n",
    "idx=0\n",
    "tau_list = [2e-6, 1e-6, 8e-7, 5e-7, 3e-7, 1e-7]\n",
    "for tau in tau_list:\n",
    "    res = loadfile(5000, 5000, tau, 1, 16, \"LeNet_300_100FC1\", \"full\", model_save_dir = \"./files\")\n",
    "    n_exp.loc[idx] = ([\"FC1\", tau, \"n\", res[\"prune_test\"], res[\"sparsity\"]])\n",
    "    idx+=1\n",
    "    \n",
    "for tau in tau_list:\n",
    "    res = loadfile(5000, 5000, tau, 1, 16, \"LeNet_300_100FC1\", \"full\", model_save_dir = \"./mseha\")\n",
    "    n_exp.loc[idx] = ([\"FC1\", tau, \"a\", res[\"prune_test\"], res[\"sparsity\"]])\n",
    "    idx+=1\n",
    "    \n",
    "tau_list = [2e-4, 1e-4, 8e-5, 5e-5, 3e-5, 1e-5]\n",
    "for tau in tau_list:\n",
    "    res = loadfile(5000, 5000, tau, 1, 16, \"LeNet_300_100FC2\", \"full\", model_save_dir = \"./files\")\n",
    "    n_exp.loc[idx] = ([\"FC2\", tau, \"n\", res[\"prune_test\"], res[\"sparsity\"]])\n",
    "    idx+=1\n",
    "    \n",
    "for tau in tau_list:\n",
    "    res = loadfile(5000, 5000, tau, 1, 16, \"LeNet_300_100FC2\", \"full\", model_save_dir = \"./mseha\")\n",
    "    n_exp.loc[idx] = ([\"FC2\", tau, \"a\", res[\"prune_test\"], res[\"sparsity\"]])\n",
    "    idx+=1\n",
    "    \n",
    "tau_list = [2e-2, 1e-2, 8e-3, 5e-3, 3e-3, 1e-3]\n",
    "for tau in tau_list:\n",
    "    res = loadfile(5000, 5000, tau, 1, 16, \"LeNet_300_100FC3\", \"full\", model_save_dir = \"./files\")\n",
    "    n_exp.loc[idx] = ([\"FC3\", tau, \"n\", res[\"prune_test\"], res[\"sparsity\"]])\n",
    "    idx+=1\n",
    "    \n",
    "for tau in tau_list:\n",
    "    res = loadfile(5000, 5000, tau, 1, 16, \"LeNet_300_100FC3\", \"full\", model_save_dir = \"./mseha\")\n",
    "    n_exp.loc[idx] = ([\"FC3\", tau, \"a\", res[\"prune_test\"], res[\"sparsity\"]])\n",
    "    idx+=1"
   ]
  },
  {
   "cell_type": "markdown",
   "metadata": {},
   "source": [
    "### act no act"
   ]
  },
  {
   "cell_type": "code",
   "execution_count": 157,
   "metadata": {},
   "outputs": [
    {
     "data": {
      "image/png": "[encoded data removed]",
      "text/plain": [
       "<Figure size 504x360 with 1 Axes>"
      ]
     },
     "metadata": {},
     "output_type": "display_data"
    },
    {
     "data": {
      "image/png": "[encoded data removed]",
      "text/plain": [
       "<Figure size 504x360 with 1 Axes>"
      ]
     },
     "metadata": {},
     "output_type": "display_data"
    }
   ],
   "source": [
    "plt.figure(figsize=(7,5))\n",
    "f = n_exp.query('act == \\'a\\' and Layer == \\'FC1\\'')\n",
    "plt.scatter(f['sp'], f['acc'], label = \"ReLU\")\n",
    "f= n_exp.query('act == \\'n\\' and Layer == \\'FC1\\'')\n",
    "plt.scatter(f['sp'], f['acc'], label = \"No ReLU\")\n",
    "plt.xlabel(\"Sparsity (%)\")\n",
    "plt.ylabel(\"Accuracy (%)\")\n",
    "plt.legend(loc=3)\n",
    "plt.savefig('figs/l1act.eps', format='eps', dpi=1000, bbox_inches='tight')\n",
    "\n",
    "plt.figure(figsize=(7,5))\n",
    "f = n_exp.query('act == \\'a\\' and Layer == \\'FC2\\'')\n",
    "plt.scatter(f['sp'], f['acc'], label = \"ReLU\")\n",
    "f= n_exp.query('act == \\'n\\' and Layer == \\'FC2\\'')\n",
    "plt.scatter(f['sp'], f['acc'], label = \"No ReLU\")\n",
    "plt.xlabel(\"Sparsity (%)\")\n",
    "plt.ylabel(\"Accuracy (%)\")\n",
    "plt.legend(loc=3)\n",
    "plt.savefig('figs/l2act.eps', format='eps', dpi=1000, bbox_inches='tight')"
   ]
  },
  {
   "cell_type": "code",
   "execution_count": 115,
   "metadata": {},
   "outputs": [],
   "source": [
    "fin_exp = pd.DataFrame(columns = [\"Layer\", \"tau\", \"acc_d\", \"Accuracy\", \"Sparsity\"])\n",
    "idx=0\n",
    "for acc in [88.3, 95.3, 96.3, 97.3]:\n",
    "    for layer in [\"FC1\", \"FC2\", \"FC3\"]:\n",
    "        sp_df = np.round(n_exp.query(\"act == \\'n\\' and acc > {} and Layer == \\'{}\\'\".format(acc, layer)).sort_values(by=['sp']).tail(1)['sp'].max(), 2)\n",
    "        acc_df  = n_exp.query(\"act == \\'n\\' and acc > {} and Layer == \\'{}\\'\".format(acc, layer)).sort_values(by=['sp']).tail(1)['acc'].max()\n",
    "        tau_df =n_exp.query(\"act == \\'n\\' and acc > {} and Layer == \\'{}\\'\".format(acc, layer)).sort_values(by=['sp']).tail(1)['tau'].max()\n",
    "        fin_exp.loc[idx] = ([layer, tau_df, 98.3-acc, acc_df, sp_df])\n",
    "        idx+=1\n",
    "        \n",
    "for i in [(91.27, 78.41, 1), (84.28, 92.73, 2), (85.56, 92.88, 3), (74.8, 95.96, 10)]:\n",
    "    fin_exp.loc[idx] = ([\"Overall\", 0, i[2], i[0], i[1]])\n",
    "    idx+=1"
   ]
  },
  {
   "cell_type": "markdown",
   "metadata": {},
   "source": [
    "5e-7, 5e-5, 1e-2\n",
    "1e-6, 8e-5, 1e-2\n",
    "1e-6, 1e-4, 1e-2\n",
    "2e-6, 2e-4, 1e-2\n",
    "\n",
    "ACT\n",
    "5e-7, 3e-5, 1e-3\n",
    "5e-7, 5e-5, 3e-3\n",
    "1e-6, 5e-5, 8e-3\n",
    "1e-6, 2e-4, 1e-2"
   ]
  },
  {
   "cell_type": "code",
   "execution_count": 116,
   "metadata": {},
   "outputs": [
    {
     "data": {
      "text/html": [
       "<div>\n",
       "<style scoped>\n",
       "    .dataframe tbody tr th:only-of-type {\n",
       "        vertical-align: middle;\n",
       "    }\n",
       "\n",
       "    .dataframe tbody tr th {\n",
       "        vertical-align: top;\n",
       "    }\n",
       "\n",
       "    .dataframe thead th {\n",
       "        text-align: right;\n",
       "    }\n",
       "</style>\n",
       "<table border=\"1\" class=\"dataframe\">\n",
       "  <thead>\n",
       "    <tr style=\"text-align: right;\">\n",
       "      <th></th>\n",
       "      <th></th>\n",
       "      <th>Accuracy</th>\n",
       "      <th>Sparsity</th>\n",
       "    </tr>\n",
       "    <tr>\n",
       "      <th>acc_d</th>\n",
       "      <th>Layer</th>\n",
       "      <th></th>\n",
       "      <th></th>\n",
       "    </tr>\n",
       "  </thead>\n",
       "  <tbody>\n",
       "    <tr>\n",
       "      <th rowspan=\"4\" valign=\"top\">1.0</th>\n",
       "      <th>FC1</th>\n",
       "      <td>97.48</td>\n",
       "      <td>76.91</td>\n",
       "    </tr>\n",
       "    <tr>\n",
       "      <th>FC2</th>\n",
       "      <td>97.36</td>\n",
       "      <td>93.90</td>\n",
       "    </tr>\n",
       "    <tr>\n",
       "      <th>FC3</th>\n",
       "      <td>97.46</td>\n",
       "      <td>81.49</td>\n",
       "    </tr>\n",
       "    <tr>\n",
       "      <th>Overall</th>\n",
       "      <td>91.27</td>\n",
       "      <td>78.41</td>\n",
       "    </tr>\n",
       "    <tr>\n",
       "      <th rowspan=\"4\" valign=\"top\">2.0</th>\n",
       "      <th>FC1</th>\n",
       "      <td>96.63</td>\n",
       "      <td>92.91</td>\n",
       "    </tr>\n",
       "    <tr>\n",
       "      <th>FC2</th>\n",
       "      <td>96.38</td>\n",
       "      <td>95.87</td>\n",
       "    </tr>\n",
       "    <tr>\n",
       "      <th>FC3</th>\n",
       "      <td>97.46</td>\n",
       "      <td>81.49</td>\n",
       "    </tr>\n",
       "    <tr>\n",
       "      <th>Overall</th>\n",
       "      <td>84.28</td>\n",
       "      <td>92.73</td>\n",
       "    </tr>\n",
       "    <tr>\n",
       "      <th rowspan=\"4\" valign=\"top\">3.0</th>\n",
       "      <th>FC1</th>\n",
       "      <td>96.63</td>\n",
       "      <td>92.91</td>\n",
       "    </tr>\n",
       "    <tr>\n",
       "      <th>FC2</th>\n",
       "      <td>95.51</td>\n",
       "      <td>96.67</td>\n",
       "    </tr>\n",
       "    <tr>\n",
       "      <th>FC3</th>\n",
       "      <td>97.46</td>\n",
       "      <td>81.49</td>\n",
       "    </tr>\n",
       "    <tr>\n",
       "      <th>Overall</th>\n",
       "      <td>85.56</td>\n",
       "      <td>92.88</td>\n",
       "    </tr>\n",
       "    <tr>\n",
       "      <th rowspan=\"4\" valign=\"top\">10.0</th>\n",
       "      <th>FC1</th>\n",
       "      <td>91.18</td>\n",
       "      <td>95.91</td>\n",
       "    </tr>\n",
       "    <tr>\n",
       "      <th>FC2</th>\n",
       "      <td>93.23</td>\n",
       "      <td>98.21</td>\n",
       "    </tr>\n",
       "    <tr>\n",
       "      <th>FC3</th>\n",
       "      <td>97.46</td>\n",
       "      <td>81.49</td>\n",
       "    </tr>\n",
       "    <tr>\n",
       "      <th>Overall</th>\n",
       "      <td>74.80</td>\n",
       "      <td>95.96</td>\n",
       "    </tr>\n",
       "  </tbody>\n",
       "</table>\n",
       "</div>"
      ],
      "text/plain": [
       "               Accuracy  Sparsity\n",
       "acc_d Layer                      \n",
       "1.0   FC1         97.48     76.91\n",
       "      FC2         97.36     93.90\n",
       "      FC3         97.46     81.49\n",
       "      Overall     91.27     78.41\n",
       "2.0   FC1         96.63     92.91\n",
       "      FC2         96.38     95.87\n",
       "      FC3         97.46     81.49\n",
       "      Overall     84.28     92.73\n",
       "3.0   FC1         96.63     92.91\n",
       "      FC2         95.51     96.67\n",
       "      FC3         97.46     81.49\n",
       "      Overall     85.56     92.88\n",
       "10.0  FC1         91.18     95.91\n",
       "      FC2         93.23     98.21\n",
       "      FC3         97.46     81.49\n",
       "      Overall     74.80     95.96"
      ]
     },
     "execution_count": 116,
     "metadata": {},
     "output_type": "execute_result"
    }
   ],
   "source": [
    "fin_exp.pivot_table(index=['acc_d', \"Layer\"], values=['Accuracy','Sparsity'])"
   ]
  },
  {
   "cell_type": "code",
   "execution_count": 117,
   "metadata": {},
   "outputs": [
    {
     "name": "stdout",
     "output_type": "stream",
     "text": [
      "\\begin{tabular}{llrr}\n",
      "\\toprule\n",
      "     &         &  Accuracy &  Sparsity \\\\\n",
      "acc\\_d & Layer &           &           \\\\\n",
      "\\midrule\n",
      "\\multirow{4}{*}{1.0} & FC1 &     97.48 &     76.91 \\\\\n",
      "     & FC2 &     97.36 &     93.90 \\\\\n",
      "     & FC3 &     97.46 &     81.49 \\\\\n",
      "     & Overall &     91.27 &     78.41 \\\\\n",
      "\\cline{1-4}\n",
      "\\multirow{4}{*}{2.0} & FC1 &     96.63 &     92.91 \\\\\n",
      "     & FC2 &     96.38 &     95.87 \\\\\n",
      "     & FC3 &     97.46 &     81.49 \\\\\n",
      "     & Overall &     84.28 &     92.73 \\\\\n",
      "\\cline{1-4}\n",
      "\\multirow{4}{*}{3.0} & FC1 &     96.63 &     92.91 \\\\\n",
      "     & FC2 &     95.51 &     96.67 \\\\\n",
      "     & FC3 &     97.46 &     81.49 \\\\\n",
      "     & Overall &     85.56 &     92.88 \\\\\n",
      "\\cline{1-4}\n",
      "\\multirow{4}{*}{10.0} & FC1 &     91.18 &     95.91 \\\\\n",
      "     & FC2 &     93.23 &     98.21 \\\\\n",
      "     & FC3 &     97.46 &     81.49 \\\\\n",
      "     & Overall &     74.80 &     95.96 \\\\\n",
      "\\bottomrule\n",
      "\\end{tabular}\n",
      "\n"
     ]
    }
   ],
   "source": [
    "print(fin_exp.pivot_table(index=['acc_d', \"Layer\"], values=['Accuracy','Sparsity']).to_latex(multirow=True))"
   ]
  },
  {
   "cell_type": "code",
   "execution_count": 146,
   "metadata": {},
   "outputs": [
    {
     "data": {
      "text/plain": [
       "<matplotlib.legend.Legend at 0x1cc14afc710>"
      ]
     },
     "execution_count": 146,
     "metadata": {},
     "output_type": "execute_result"
    },
    {
     "data": {
      "image/png": "[encoded data removed]",
      "text/plain": [
       "<Figure size 432x288 with 1 Axes>"
      ]
     },
     "metadata": {},
     "output_type": "display_data"
    }
   ],
   "source": [
    "\n",
    "    \n",
    "f = n_exp.query('act == \\'a\\'')\n",
    "plt.scatter(f['sp'], f['acc'], label = \"ReLU\")\n",
    "f= n_exp.query('act == \\'n\\'')\n",
    "plt.scatter(f['sp'], f['acc'], label = \"No ReLU\")\n",
    "plt.legend()"
   ]
  },
  {
   "cell_type": "code",
   "execution_count": 10,
   "metadata": {},
   "outputs": [
    {
     "data": {
      "text/plain": [
       "98.49"
      ]
     },
     "execution_count": 10,
     "metadata": {},
     "output_type": "execute_result"
    }
   ],
   "source": [
    "res['prune_test']"
   ]
  },
  {
   "cell_type": "markdown",
   "metadata": {},
   "source": [
    "### Layer Unified"
   ]
  },
  {
   "cell_type": "code",
   "execution_count": 135,
   "metadata": {},
   "outputs": [],
   "source": [
    "taus = [1e-5, 2e-5, 4e-5, 6e-5, 8e-5, 10e-5]\n",
    "test_accs = [98.44, 97.49, 97.02, 96.63, 96.21, 95.57]\n",
    "prune_accs = [98.42, 96.05, 96.26, 96.06, 95.72, 95.18]\n",
    "spars = [52.50, 72.49, 97.51, 97.86, 98.07, 98.04]"
   ]
  },
  {
   "cell_type": "code",
   "execution_count": 136,
   "metadata": {},
   "outputs": [],
   "source": [
    "res2 = [(1.5e-05, 98.17, 97.75, 55.48329019916732), (2e-05, 96.13, 93.56, 98.8785116837328), (2.5e-05, 96.66, 96.28, 64.68099471137617), (3e-05, 96.47, 95.77, 98.43816811072354), (3.5e-05, 96.09, 95.46, 98.5488166235325)]# (5e-05, 95.31, 93.85, 65.61006713926709)]"
   ]
  },
  {
   "cell_type": "code",
   "execution_count": 138,
   "metadata": {},
   "outputs": [],
   "source": [
    "res_df = pd.DataFrame(columns = [\"tau\", \"test_acc\", \"prune_acc\", \"sp\"])\n",
    "idx=0\n",
    "for t, ta, pa, sp in zip(taus, test_accs, prune_accs, spars):\n",
    "    res_df.loc[idx] =([t, ta, pa, sp])\n",
    "    idx+=1\n",
    "for r in res2:\n",
    "    res_df.loc[idx] =r\n",
    "    idx+=1"
   ]
  },
  {
   "cell_type": "code",
   "execution_count": 143,
   "metadata": {},
   "outputs": [],
   "source": [
    "res_df.to_csv(\"layer_uni.csv\")"
   ]
  },
  {
   "cell_type": "code",
   "execution_count": 161,
   "metadata": {},
   "outputs": [
    {
     "data": {
      "image/png": "[encoded data removed]",
      "text/plain": [
       "<Figure size 504x360 with 1 Axes>"
      ]
     },
     "metadata": {},
     "output_type": "display_data"
    }
   ],
   "source": [
    "plt.figure(figsize=(7,5))\n",
    "plt.scatter(res_df['sp'], res_df['prune_acc'])\n",
    "\n",
    "plt.xlabel(\"Sparsity (%)\")\n",
    "plt.ylabel(\"Accuracy (%)\")\n",
    "plt.savefig('figs/swslayerres.eps', format='eps', dpi=1000, bbox_inches='tight')"
   ]
  },
  {
   "cell_type": "code",
   "execution_count": 134,
   "metadata": {},
   "outputs": [
    {
     "data": {
      "text/html": [
       "<div>\n",
       "<style scoped>\n",
       "    .dataframe tbody tr th:only-of-type {\n",
       "        vertical-align: middle;\n",
       "    }\n",
       "\n",
       "    .dataframe tbody tr th {\n",
       "        vertical-align: top;\n",
       "    }\n",
       "\n",
       "    .dataframe thead th {\n",
       "        text-align: right;\n",
       "    }\n",
       "</style>\n",
       "<table border=\"1\" class=\"dataframe\">\n",
       "  <thead>\n",
       "    <tr style=\"text-align: right;\">\n",
       "      <th></th>\n",
       "      <th>tau</th>\n",
       "      <th>test_acc</th>\n",
       "      <th>prune_acc</th>\n",
       "      <th>sp</th>\n",
       "    </tr>\n",
       "  </thead>\n",
       "  <tbody>\n",
       "    <tr>\n",
       "      <th>11</th>\n",
       "      <td>0.00005</td>\n",
       "      <td>95.31</td>\n",
       "      <td>93.85</td>\n",
       "      <td>65.610067</td>\n",
       "    </tr>\n",
       "  </tbody>\n",
       "</table>\n",
       "</div>"
      ],
      "text/plain": [
       "        tau  test_acc  prune_acc         sp\n",
       "11  0.00005     95.31      93.85  65.610067"
      ]
     },
     "execution_count": 134,
     "metadata": {},
     "output_type": "execute_result"
    }
   ],
   "source": [
    "res_df.query('sp < 70 and prune_acc < 94')"
   ]
  },
  {
   "cell_type": "markdown",
   "metadata": {},
   "source": [
    "### Layer Unified"
   ]
  },
  {
   "cell_type": "code",
   "execution_count": 172,
   "metadata": {},
   "outputs": [
    {
     "data": {
      "text/plain": [
       "dict_keys(['init_weights', 'final_weights', 'data_size', 'epochs', 'train_acc', 'test_acc', 'val_acc', 'train_loss', 'test_loss', 'val_loss', 'complexity_loss', 'gmp_stddev', 'gmp_means', 'gmp_mixprop', 'scale', 'mean', 'var', 'zmean', 'zvar', 'tau', 'temp', 'mixtures', 'prune_acc', 'prune_weights', 'sparsity', 'test_prune_acc', 'test_prune_sp'])"
      ]
     },
     "execution_count": 172,
     "metadata": {},
     "output_type": "execute_result"
    }
   ],
   "source": [
    "res.keys()"
   ]
  },
  {
   "cell_type": "code",
   "execution_count": 174,
   "metadata": {},
   "outputs": [
    {
     "data": {
      "text/html": [
       "<div>\n",
       "<style scoped>\n",
       "    .dataframe tbody tr th:only-of-type {\n",
       "        vertical-align: middle;\n",
       "    }\n",
       "\n",
       "    .dataframe tbody tr th {\n",
       "        vertical-align: top;\n",
       "    }\n",
       "\n",
       "    .dataframe thead th {\n",
       "        text-align: right;\n",
       "    }\n",
       "</style>\n",
       "<table border=\"1\" class=\"dataframe\">\n",
       "  <thead>\n",
       "    <tr style=\"text-align: right;\">\n",
       "      <th></th>\n",
       "      <th>model</th>\n",
       "      <th>tauprune_acc</th>\n",
       "      <th>sp</th>\n",
       "    </tr>\n",
       "  </thead>\n",
       "  <tbody>\n",
       "  </tbody>\n",
       "</table>\n",
       "</div>"
      ],
      "text/plain": [
       "Empty DataFrame\n",
       "Columns: [model, tauprune_acc, sp]\n",
       "Index: []"
      ]
     },
     "execution_count": 174,
     "metadata": {},
     "output_type": "execute_result"
    }
   ],
   "source": [
    "ldf"
   ]
  },
  {
   "cell_type": "code",
   "execution_count": 178,
   "metadata": {},
   "outputs": [],
   "source": [
    "from utils_write import loadfile, stack_weights, cr_calc\n",
    "#mnist_retrain_model_SWSModel_m100_zm2000_r50_t8e-05_m16_kdT1_f_full\n",
    "#mnist_retrain_gmp_SWSModel_m100_zm2000_r50_t4e-05_m16_kdT1_f_full\n",
    "#mnist_retrain_model_LeNet_300_100_m100_zm2000_r50_t3e-05_m16_kdT1_f_full\n",
    "\n",
    "ldf = pd.DataFrame(columns = [\"model\", \"tau\", \"prune_acc\", \"sp\"])\n",
    "idx=0\n",
    "tau_list = [1.5e-5, 2e-5, 2.5e-5, 3e-5, 3.5e-5, 4e-5, 6e-5, 8e-5, 10e-5]\n",
    "for tau in tau_list:\n",
    "    res = loadfile(100, 0.1, 2000,0.1,  tau, temp = 1, mixtures = 16, model = \"LeNet_300_100\", data_size = \"full\", model_save_dir = \"../layer_sep/files\")\n",
    "    ldf.loc[idx] = ([\"LeNet\", tau, res[\"test_prune_acc\"][-1], res[\"sparsity\"]])\n",
    "    idx+=1\n",
    "\n",
    "tau_list = [4e-6, 8e-6, 1e-5, 2e-5, 4e-5, 8e-5, 10e-5]\n",
    "for tau in tau_list:\n",
    "    res = loadfile(100, 0.1, 2000,0.1,  tau, temp = 1, mixtures = 16, model = \"SWSModel\", data_size = \"full\", model_save_dir = \"../layer_sep/files\")\n",
    "    ldf.loc[idx] = ([\"SWSModel\", tau, res[\"test_prune_acc\"][-1], res[\"sparsity\"]])\n",
    "    idx+=1"
   ]
  },
  {
   "cell_type": "code",
   "execution_count": 179,
   "metadata": {},
   "outputs": [
    {
     "data": {
      "text/html": [
       "<div>\n",
       "<style scoped>\n",
       "    .dataframe tbody tr th:only-of-type {\n",
       "        vertical-align: middle;\n",
       "    }\n",
       "\n",
       "    .dataframe tbody tr th {\n",
       "        vertical-align: top;\n",
       "    }\n",
       "\n",
       "    .dataframe thead th {\n",
       "        text-align: right;\n",
       "    }\n",
       "</style>\n",
       "<table border=\"1\" class=\"dataframe\">\n",
       "  <thead>\n",
       "    <tr style=\"text-align: right;\">\n",
       "      <th></th>\n",
       "      <th>model</th>\n",
       "      <th>tau</th>\n",
       "      <th>prune_acc</th>\n",
       "      <th>sp</th>\n",
       "    </tr>\n",
       "  </thead>\n",
       "  <tbody>\n",
       "    <tr>\n",
       "      <th>0</th>\n",
       "      <td>LeNet</td>\n",
       "      <td>0.000015</td>\n",
       "      <td>97.60</td>\n",
       "      <td>55.430029</td>\n",
       "    </tr>\n",
       "    <tr>\n",
       "      <th>1</th>\n",
       "      <td>LeNet</td>\n",
       "      <td>0.000020</td>\n",
       "      <td>93.45</td>\n",
       "      <td>98.876261</td>\n",
       "    </tr>\n",
       "    <tr>\n",
       "      <th>2</th>\n",
       "      <td>LeNet</td>\n",
       "      <td>0.000025</td>\n",
       "      <td>95.97</td>\n",
       "      <td>64.866284</td>\n",
       "    </tr>\n",
       "    <tr>\n",
       "      <th>3</th>\n",
       "      <td>LeNet</td>\n",
       "      <td>0.000030</td>\n",
       "      <td>95.73</td>\n",
       "      <td>98.437043</td>\n",
       "    </tr>\n",
       "    <tr>\n",
       "      <th>4</th>\n",
       "      <td>LeNet</td>\n",
       "      <td>0.000035</td>\n",
       "      <td>95.38</td>\n",
       "      <td>98.542440</td>\n",
       "    </tr>\n",
       "    <tr>\n",
       "      <th>5</th>\n",
       "      <td>LeNet</td>\n",
       "      <td>0.000040</td>\n",
       "      <td>95.00</td>\n",
       "      <td>71.736994</td>\n",
       "    </tr>\n",
       "    <tr>\n",
       "      <th>6</th>\n",
       "      <td>LeNet</td>\n",
       "      <td>0.000060</td>\n",
       "      <td>93.10</td>\n",
       "      <td>67.045872</td>\n",
       "    </tr>\n",
       "    <tr>\n",
       "      <th>7</th>\n",
       "      <td>LeNet</td>\n",
       "      <td>0.000080</td>\n",
       "      <td>91.60</td>\n",
       "      <td>82.461273</td>\n",
       "    </tr>\n",
       "    <tr>\n",
       "      <th>8</th>\n",
       "      <td>LeNet</td>\n",
       "      <td>0.000100</td>\n",
       "      <td>88.50</td>\n",
       "      <td>99.154945</td>\n",
       "    </tr>\n",
       "    <tr>\n",
       "      <th>9</th>\n",
       "      <td>SWSModel</td>\n",
       "      <td>0.000004</td>\n",
       "      <td>98.65</td>\n",
       "      <td>50.020857</td>\n",
       "    </tr>\n",
       "    <tr>\n",
       "      <th>10</th>\n",
       "      <td>SWSModel</td>\n",
       "      <td>0.000008</td>\n",
       "      <td>98.65</td>\n",
       "      <td>80.047474</td>\n",
       "    </tr>\n",
       "    <tr>\n",
       "      <th>11</th>\n",
       "      <td>SWSModel</td>\n",
       "      <td>0.000010</td>\n",
       "      <td>98.53</td>\n",
       "      <td>70.217757</td>\n",
       "    </tr>\n",
       "    <tr>\n",
       "      <th>12</th>\n",
       "      <td>SWSModel</td>\n",
       "      <td>0.000020</td>\n",
       "      <td>97.05</td>\n",
       "      <td>98.212029</td>\n",
       "    </tr>\n",
       "    <tr>\n",
       "      <th>13</th>\n",
       "      <td>SWSModel</td>\n",
       "      <td>0.000040</td>\n",
       "      <td>96.10</td>\n",
       "      <td>97.580550</td>\n",
       "    </tr>\n",
       "    <tr>\n",
       "      <th>14</th>\n",
       "      <td>SWSModel</td>\n",
       "      <td>0.000080</td>\n",
       "      <td>94.02</td>\n",
       "      <td>98.894095</td>\n",
       "    </tr>\n",
       "    <tr>\n",
       "      <th>15</th>\n",
       "      <td>SWSModel</td>\n",
       "      <td>0.000100</td>\n",
       "      <td>92.37</td>\n",
       "      <td>98.967095</td>\n",
       "    </tr>\n",
       "  </tbody>\n",
       "</table>\n",
       "</div>"
      ],
      "text/plain": [
       "       model       tau  prune_acc         sp\n",
       "0      LeNet  0.000015      97.60  55.430029\n",
       "1      LeNet  0.000020      93.45  98.876261\n",
       "2      LeNet  0.000025      95.97  64.866284\n",
       "3      LeNet  0.000030      95.73  98.437043\n",
       "4      LeNet  0.000035      95.38  98.542440\n",
       "5      LeNet  0.000040      95.00  71.736994\n",
       "6      LeNet  0.000060      93.10  67.045872\n",
       "7      LeNet  0.000080      91.60  82.461273\n",
       "8      LeNet  0.000100      88.50  99.154945\n",
       "9   SWSModel  0.000004      98.65  50.020857\n",
       "10  SWSModel  0.000008      98.65  80.047474\n",
       "11  SWSModel  0.000010      98.53  70.217757\n",
       "12  SWSModel  0.000020      97.05  98.212029\n",
       "13  SWSModel  0.000040      96.10  97.580550\n",
       "14  SWSModel  0.000080      94.02  98.894095\n",
       "15  SWSModel  0.000100      92.37  98.967095"
      ]
     },
     "execution_count": 179,
     "metadata": {},
     "output_type": "execute_result"
    }
   ],
   "source": [
    "ldf"
   ]
  }
 ],
 "metadata": {
  "kernelspec": {
   "display_name": "Python 3",
   "language": "python",
   "name": "python3"
  },
  "language_info": {
   "codemirror_mode": {
    "name": "ipython",
    "version": 3
   },
   "file_extension": ".py",
   "mimetype": "text/x-python",
   "name": "python",
   "nbconvert_exporter": "python",
   "pygments_lexer": "ipython3",
   "version": "3.6.5"
  },
  "varInspector": {
   "cols": {
    "lenName": 16,
    "lenType": 16,
    "lenVar": 40
   },
   "kernels_config": {
    "python": {
     "delete_cmd_postfix": "",
     "delete_cmd_prefix": "del ",
     "library": "var_list.py",
     "varRefreshCmd": "print(var_dic_list())"
    },
    "r": {
     "delete_cmd_postfix": ") ",
     "delete_cmd_prefix": "rm(",
     "library": "var_list.r",
     "varRefreshCmd": "cat(var_dic_list()) "
    }
   },
   "types_to_exclude": [
    "module",
    "function",
    "builtin_function_or_method",
    "instance",
    "_Feature"
   ],
   "window_display": true
  }
 },
 "nbformat": 4,
 "nbformat_minor": 2
}
