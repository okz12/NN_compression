{
 "cells": [
  {
   "cell_type": "code",
   "execution_count": 2,
   "metadata": {},
   "outputs": [
    {
     "data": {
      "text/html": [
       "<style>.container { width:95% !important; }</style>"
      ],
      "text/plain": [
       "<IPython.core.display.HTML object>"
      ]
     },
     "metadata": {},
     "output_type": "display_data"
    },
    {
     "name": "stdout",
     "output_type": "stream",
     "text": [
      "The autoreload extension is already loaded. To reload it, use:\n",
      "  %reload_ext autoreload\n"
     ]
    }
   ],
   "source": [
    "#Expand notebook to take full screen width\n",
    "from IPython.core.display import display, HTML\n",
    "display(HTML(\"<style>.container { width:95% !important; }</style>\"))\n",
    "\n",
    "###\n",
    "import sys\n",
    "sys.path.insert(0,'../../src/')\n",
    "\n",
    "%load_ext autoreload\n",
    "%autoreload 2\n",
    "\n",
    "%matplotlib inline\n",
    "import matplotlib.pyplot as plt\n",
    "import matplotlib\n",
    "import seaborn as sns\n",
    "import numpy as np\n",
    "import pickle\n",
    "import pandas as pd\n",
    "sns.reset_orig()\n",
    "matplotlib.rcParams.update({'font.size': 12})\n",
    "from utils_write import stack_weights, cr_calc"
   ]
  },
  {
   "cell_type": "code",
   "execution_count": 3,
   "metadata": {},
   "outputs": [],
   "source": [
    "def loadfile(mean, zmean, tau, temp, mixtures, model, data_size = \"full\",  scaling = False, model_save_dir = \"\", fn=\"\", file = \"res\"):\n",
    "    r = 30 if file == 'ures' else 50\n",
    "    exp_name = \"{}_m{}_zm{}_r{}_t{}_m{}_kdT{}_{}\".format(model, mean, zmean, r, tau, int(mixtures), int(temp),data_size) + fn\n",
    "    if (file=='res' or file == 'ures' or file == 'gmp'):\n",
    "        with open(model_save_dir + '/mnist_retrain_layer_{}_{}.p'.format(file, exp_name),'rb') as f:\n",
    "            file = pickle.load(f)\n",
    "    if (file=='model'):\n",
    "        file = torch.load(model_save_dir + '/mnist_retrain_layer_model_{}.m'.format(exp_name))\n",
    "    return file"
   ]
  },
  {
   "cell_type": "code",
   "execution_count": 21,
   "metadata": {},
   "outputs": [
    {
     "name": "stdout",
     "output_type": "stream",
     "text": [
      "2e-06\n",
      "1e-06\n",
      "8e-07\n",
      "5e-07\n",
      "3e-07\n",
      "1e-07\n",
      "2e-06\n",
      "1e-06\n",
      "8e-07\n",
      "5e-07\n",
      "3e-07\n",
      "1e-07\n"
     ]
    },
    {
     "data": {
      "text/plain": [
       "<matplotlib.legend.Legend at 0x7fd57396cb38>"
      ]
     },
     "execution_count": 21,
     "metadata": {},
     "output_type": "execute_result"
    },
    {
     "data": {
      "image/png": "[encoded data removed]",
      "text/plain": [
       "<matplotlib.figure.Figure at 0x7fd57390e470>"
      ]
     },
     "metadata": {},
     "output_type": "display_data"
    }
   ],
   "source": [
    "n_exp = pd.DataFrame(columns = [\"tau\", \"act\", \"acc\", \"sp\"])\n",
    "idx = 0\n",
    "tau_list = [2e-6, 1e-6, 8e-7, 5e-7, 3e-7, 1e-7]\n",
    "for tau in tau_list:\n",
    "    print (tau)\n",
    "    res = loadfile(5000, 5000, tau, 1, 16, \"LeNet_300_100FC1\", \"full\", model_save_dir = \"./files\")\n",
    "    n_exp.loc[idx] = ([tau, \"n\", res[\"prune_test\"], res[\"sparsity\"]])\n",
    "    idx+=1\n",
    "    \n",
    "for tau in tau_list:\n",
    "    print (tau)\n",
    "    res = loadfile(5000, 5000, tau, 1, 16, \"LeNet_300_100FC1\", \"full\", model_save_dir = \"./mseha\")\n",
    "    n_exp.loc[idx] = ([tau, \"a\", res[\"prune_test\"], res[\"sparsity\"]])\n",
    "    idx+=1\n",
    "    \n",
    "f = n_exp.query('act == \\'a\\'')\n",
    "plt.scatter(f['sp'], f['acc'], label = \"ReLU\")\n",
    "f= n_exp.query('act == \\'n\\'')\n",
    "plt.scatter(f['sp'], f['acc'], label = \"No ReLU\")\n",
    "plt.legend()"
   ]
  },
  {
   "cell_type": "code",
   "execution_count": 20,
   "metadata": {},
   "outputs": [
    {
     "name": "stdout",
     "output_type": "stream",
     "text": [
      "0.0002\n",
      "0.0001\n",
      "8e-05\n",
      "5e-05\n",
      "3e-05\n",
      "1e-05\n",
      "0.0002\n",
      "0.0001\n",
      "8e-05\n",
      "5e-05\n",
      "3e-05\n",
      "1e-05\n"
     ]
    },
    {
     "data": {
      "text/plain": [
       "<matplotlib.legend.Legend at 0x7fd573941f98>"
      ]
     },
     "execution_count": 20,
     "metadata": {},
     "output_type": "execute_result"
    },
    {
     "data": {
      "image/png": "[encoded data removed]",
      "text/plain": [
       "<matplotlib.figure.Figure at 0x7fd5520ffc18>"
      ]
     },
     "metadata": {},
     "output_type": "display_data"
    }
   ],
   "source": [
    "n_exp = pd.DataFrame(columns = [\"tau\", \"act\", \"acc\", \"sp\"])\n",
    "idx = 0\n",
    "tau_list = [2e-4, 1e-4, 8e-5, 5e-5, 3e-5, 1e-5]\n",
    "for tau in tau_list:\n",
    "    print (tau)\n",
    "    res = loadfile(5000, 5000, tau, 1, 16, \"LeNet_300_100FC2\", \"full\", model_save_dir = \"./files\")\n",
    "    n_exp.loc[idx] = ([tau, \"n\", res[\"prune_test\"], res[\"sparsity\"]])\n",
    "    idx+=1\n",
    "    \n",
    "for tau in tau_list:\n",
    "    print (tau)\n",
    "    res = loadfile(5000, 5000, tau, 1, 16, \"LeNet_300_100FC2\", \"full\", model_save_dir = \"./mseha\")\n",
    "    n_exp.loc[idx] = ([tau, \"a\", res[\"prune_test\"], res[\"sparsity\"]])\n",
    "    idx+=1\n",
    "    \n",
    "f = n_exp.query('act == \\'a\\'')\n",
    "plt.scatter(f['sp'], f['acc'], label = \"ReLU\")\n",
    "f= n_exp.query('act == \\'n\\'')\n",
    "plt.scatter(f['sp'], f['acc'], label = \"No ReLU\")\n",
    "plt.legend()"
   ]
  },
  {
   "cell_type": "code",
   "execution_count": 10,
   "metadata": {},
   "outputs": [
    {
     "data": {
      "text/plain": [
       "98.49"
      ]
     },
     "execution_count": 10,
     "metadata": {},
     "output_type": "execute_result"
    }
   ],
   "source": [
    "res['prune_test']"
   ]
  }
 ],
 "metadata": {
  "kernelspec": {
   "display_name": "Python [conda env:py35]",
   "language": "python",
   "name": "conda-env-py35-py"
  },
  "language_info": {
   "codemirror_mode": {
    "name": "ipython",
    "version": 3
   },
   "file_extension": ".py",
   "mimetype": "text/x-python",
   "name": "python",
   "nbconvert_exporter": "python",
   "pygments_lexer": "ipython3",
   "version": "3.5.4"
  }
 },
 "nbformat": 4,
 "nbformat_minor": 2
}
