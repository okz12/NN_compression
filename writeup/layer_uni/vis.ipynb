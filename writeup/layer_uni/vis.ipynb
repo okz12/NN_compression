{
 "cells": [
  {
   "cell_type": "code",
   "execution_count": 2,
   "metadata": {},
   "outputs": [
    {
     "data": {
      "text/html": [
       "<style>.container { width:95% !important; }</style>"
      ],
      "text/plain": [
       "<IPython.core.display.HTML object>"
      ]
     },
     "metadata": {},
     "output_type": "display_data"
    },
    {
     "name": "stdout",
     "output_type": "stream",
     "text": [
      "The autoreload extension is already loaded. To reload it, use:\n",
      "  %reload_ext autoreload\n"
     ]
    }
   ],
   "source": [
    "#Expand notebook to take full screen width\n",
    "from IPython.core.display import display, HTML\n",
    "display(HTML(\"<style>.container { width:95% !important; }</style>\"))\n",
    "\n",
    "###\n",
    "import sys\n",
    "sys.path.insert(0,'../../src/')\n",
    "\n",
    "%load_ext autoreload\n",
    "%autoreload 2\n",
    "\n",
    "%matplotlib inline\n",
    "import matplotlib.pyplot as plt\n",
    "import matplotlib\n",
    "import seaborn as sns\n",
    "import numpy as np\n",
    "import pickle\n",
    "import pandas as pd\n",
    "sns.reset_orig()\n",
    "matplotlib.rcParams.update({'font.size': 12})\n",
    "from utils_write import stack_weights, cr_calc"
   ]
  },
  {
   "cell_type": "code",
   "execution_count": 3,
   "metadata": {},
   "outputs": [],
   "source": [
    "def loadfile(mean, zmean, tau, temp, mixtures, model, data_size = \"full\",  scaling = False, model_save_dir = \"\", fn=\"\", file = \"res\"):\n",
    "    r = 30 if file == 'ures' else 50\n",
    "    exp_name = \"{}_m{}_zm{}_r{}_t{}_m{}_kdT{}_{}\".format(model, mean, zmean, r, tau, int(mixtures), int(temp),data_size) + fn\n",
    "    if (file=='res' or file == 'ures' or file == 'gmp'):\n",
    "        with open(model_save_dir + '/mnist_retrain_layer_{}_{}.p'.format(file, exp_name),'rb') as f:\n",
    "            file = pickle.load(f)\n",
    "    if (file=='model'):\n",
    "        file = torch.load(model_save_dir + '/mnist_retrain_layer_model_{}.m'.format(exp_name))\n",
    "    return file"
   ]
  },
  {
   "cell_type": "code",
   "execution_count": 24,
   "metadata": {},
   "outputs": [
    {
     "data": {
      "text/plain": [
       "<matplotlib.legend.Legend at 0x7fd57397cb70>"
      ]
     },
     "execution_count": 24,
     "metadata": {},
     "output_type": "execute_result"
    },
    {
     "data": {
      "image/png": "[encoded data removed]",
      "text/plain": [
       "<matplotlib.figure.Figure at 0x7fd547936b70>"
      ]
     },
     "metadata": {},
     "output_type": "display_data"
    }
   ],
   "source": [
    "n_exp = pd.DataFrame(columns = [\"layer\", \"tau\", \"act\", \"acc\", \"sp\"])\n",
    "idx=0\n",
    "tau_list = [2e-6, 1e-6, 8e-7, 5e-7, 3e-7, 1e-7]\n",
    "for tau in tau_list:\n",
    "    res = loadfile(5000, 5000, tau, 1, 16, \"LeNet_300_100FC1\", \"full\", model_save_dir = \"./files\")\n",
    "    n_exp.loc[idx] = ([1, tau, \"n\", res[\"prune_test\"], res[\"sparsity\"]])\n",
    "    idx+=1\n",
    "    \n",
    "for tau in tau_list:\n",
    "    res = loadfile(5000, 5000, tau, 1, 16, \"LeNet_300_100FC1\", \"full\", model_save_dir = \"./mseha\")\n",
    "    n_exp.loc[idx] = ([1, tau, \"a\", res[\"prune_test\"], res[\"sparsity\"]])\n",
    "    idx+=1\n",
    "    \n",
    "tau_list = [2e-4, 1e-4, 8e-5, 5e-5, 3e-5, 1e-5]\n",
    "for tau in tau_list:\n",
    "    res = loadfile(5000, 5000, tau, 1, 16, \"LeNet_300_100FC2\", \"full\", model_save_dir = \"./files\")\n",
    "    n_exp.loc[idx] = ([2, tau, \"n\", res[\"prune_test\"], res[\"sparsity\"]])\n",
    "    idx+=1\n",
    "    \n",
    "for tau in tau_list:\n",
    "    res = loadfile(5000, 5000, tau, 1, 16, \"LeNet_300_100FC2\", \"full\", model_save_dir = \"./mseha\")\n",
    "    n_exp.loc[idx] = ([2, tau, \"a\", res[\"prune_test\"], res[\"sparsity\"]])\n",
    "    idx+=1\n",
    "    \n",
    "tau_list = [2e-2, 1e-2, 8e-3, 5e-3, 3e-3, 1e-3]\n",
    "for tau in tau_list:\n",
    "    res = loadfile(5000, 5000, tau, 1, 16, \"LeNet_300_100FC3\", \"full\", model_save_dir = \"./files\")\n",
    "    n_exp.loc[idx] = ([3, tau, \"n\", res[\"prune_test\"], res[\"sparsity\"]])\n",
    "    idx+=1\n",
    "    \n",
    "for tau in tau_list:\n",
    "    res = loadfile(5000, 5000, tau, 1, 16, \"LeNet_300_100FC3\", \"full\", model_save_dir = \"./mseha\")\n",
    "    n_exp.loc[idx] = ([3, tau, \"a\", res[\"prune_test\"], res[\"sparsity\"]])\n",
    "    idx+=1\n",
    "    \n",
    "f = n_exp.query('act == \\'a\\'')\n",
    "plt.scatter(f['sp'], f['acc'], label = \"ReLU\")\n",
    "f= n_exp.query('act == \\'n\\'')\n",
    "plt.scatter(f['sp'], f['acc'], label = \"No ReLU\")\n",
    "plt.legend()"
   ]
  },
  {
   "cell_type": "code",
   "execution_count": 27,
   "metadata": {},
   "outputs": [
    {
     "data": {
      "text/html": [
       "<div>\n",
       "<style scoped>\n",
       "    .dataframe tbody tr th:only-of-type {\n",
       "        vertical-align: middle;\n",
       "    }\n",
       "\n",
       "    .dataframe tbody tr th {\n",
       "        vertical-align: top;\n",
       "    }\n",
       "\n",
       "    .dataframe thead th {\n",
       "        text-align: right;\n",
       "    }\n",
       "</style>\n",
       "<table border=\"1\" class=\"dataframe\">\n",
       "  <thead>\n",
       "    <tr style=\"text-align: right;\">\n",
       "      <th></th>\n",
       "      <th>layer</th>\n",
       "      <th>tau</th>\n",
       "      <th>act</th>\n",
       "      <th>acc</th>\n",
       "      <th>sp</th>\n",
       "    </tr>\n",
       "  </thead>\n",
       "  <tbody>\n",
       "    <tr>\n",
       "      <th>1</th>\n",
       "      <td>1</td>\n",
       "      <td>1.000000e-06</td>\n",
       "      <td>n</td>\n",
       "      <td>96.63</td>\n",
       "      <td>92.906157</td>\n",
       "    </tr>\n",
       "    <tr>\n",
       "      <th>2</th>\n",
       "      <td>1</td>\n",
       "      <td>8.000000e-07</td>\n",
       "      <td>n</td>\n",
       "      <td>96.90</td>\n",
       "      <td>74.473036</td>\n",
       "    </tr>\n",
       "    <tr>\n",
       "      <th>3</th>\n",
       "      <td>1</td>\n",
       "      <td>5.000000e-07</td>\n",
       "      <td>n</td>\n",
       "      <td>97.48</td>\n",
       "      <td>76.910403</td>\n",
       "    </tr>\n",
       "    <tr>\n",
       "      <th>4</th>\n",
       "      <td>1</td>\n",
       "      <td>3.000000e-07</td>\n",
       "      <td>n</td>\n",
       "      <td>97.95</td>\n",
       "      <td>66.752017</td>\n",
       "    </tr>\n",
       "    <tr>\n",
       "      <th>5</th>\n",
       "      <td>1</td>\n",
       "      <td>1.000000e-07</td>\n",
       "      <td>n</td>\n",
       "      <td>98.49</td>\n",
       "      <td>55.428450</td>\n",
       "    </tr>\n",
       "    <tr>\n",
       "      <th>13</th>\n",
       "      <td>2</td>\n",
       "      <td>1.000000e-04</td>\n",
       "      <td>n</td>\n",
       "      <td>95.51</td>\n",
       "      <td>96.667774</td>\n",
       "    </tr>\n",
       "    <tr>\n",
       "      <th>14</th>\n",
       "      <td>2</td>\n",
       "      <td>8.000000e-05</td>\n",
       "      <td>n</td>\n",
       "      <td>96.38</td>\n",
       "      <td>95.867110</td>\n",
       "    </tr>\n",
       "    <tr>\n",
       "      <th>15</th>\n",
       "      <td>2</td>\n",
       "      <td>5.000000e-05</td>\n",
       "      <td>n</td>\n",
       "      <td>97.36</td>\n",
       "      <td>93.900332</td>\n",
       "    </tr>\n",
       "    <tr>\n",
       "      <th>16</th>\n",
       "      <td>2</td>\n",
       "      <td>3.000000e-05</td>\n",
       "      <td>n</td>\n",
       "      <td>97.81</td>\n",
       "      <td>91.156146</td>\n",
       "    </tr>\n",
       "    <tr>\n",
       "      <th>17</th>\n",
       "      <td>2</td>\n",
       "      <td>1.000000e-05</td>\n",
       "      <td>n</td>\n",
       "      <td>98.26</td>\n",
       "      <td>84.544850</td>\n",
       "    </tr>\n",
       "    <tr>\n",
       "      <th>25</th>\n",
       "      <td>3</td>\n",
       "      <td>1.000000e-02</td>\n",
       "      <td>n</td>\n",
       "      <td>97.46</td>\n",
       "      <td>81.485149</td>\n",
       "    </tr>\n",
       "    <tr>\n",
       "      <th>26</th>\n",
       "      <td>3</td>\n",
       "      <td>8.000000e-03</td>\n",
       "      <td>n</td>\n",
       "      <td>98.13</td>\n",
       "      <td>73.069307</td>\n",
       "    </tr>\n",
       "    <tr>\n",
       "      <th>27</th>\n",
       "      <td>3</td>\n",
       "      <td>5.000000e-03</td>\n",
       "      <td>n</td>\n",
       "      <td>98.04</td>\n",
       "      <td>76.633663</td>\n",
       "    </tr>\n",
       "    <tr>\n",
       "      <th>28</th>\n",
       "      <td>3</td>\n",
       "      <td>3.000000e-03</td>\n",
       "      <td>n</td>\n",
       "      <td>98.15</td>\n",
       "      <td>79.900990</td>\n",
       "    </tr>\n",
       "    <tr>\n",
       "      <th>29</th>\n",
       "      <td>3</td>\n",
       "      <td>1.000000e-03</td>\n",
       "      <td>n</td>\n",
       "      <td>98.20</td>\n",
       "      <td>75.445545</td>\n",
       "    </tr>\n",
       "  </tbody>\n",
       "</table>\n",
       "</div>"
      ],
      "text/plain": [
       "   layer           tau act    acc         sp\n",
       "1      1  1.000000e-06   n  96.63  92.906157\n",
       "2      1  8.000000e-07   n  96.90  74.473036\n",
       "3      1  5.000000e-07   n  97.48  76.910403\n",
       "4      1  3.000000e-07   n  97.95  66.752017\n",
       "5      1  1.000000e-07   n  98.49  55.428450\n",
       "13     2  1.000000e-04   n  95.51  96.667774\n",
       "14     2  8.000000e-05   n  96.38  95.867110\n",
       "15     2  5.000000e-05   n  97.36  93.900332\n",
       "16     2  3.000000e-05   n  97.81  91.156146\n",
       "17     2  1.000000e-05   n  98.26  84.544850\n",
       "25     3  1.000000e-02   n  97.46  81.485149\n",
       "26     3  8.000000e-03   n  98.13  73.069307\n",
       "27     3  5.000000e-03   n  98.04  76.633663\n",
       "28     3  3.000000e-03   n  98.15  79.900990\n",
       "29     3  1.000000e-03   n  98.20  75.445545"
      ]
     },
     "execution_count": 27,
     "metadata": {},
     "output_type": "execute_result"
    }
   ],
   "source": [
    "n_exp.query(\"act == \\'n\\' and acc > 95\")"
   ]
  },
  {
   "cell_type": "code",
   "execution_count": 20,
   "metadata": {},
   "outputs": [
    {
     "name": "stdout",
     "output_type": "stream",
     "text": [
      "0.0002\n",
      "0.0001\n",
      "8e-05\n",
      "5e-05\n",
      "3e-05\n",
      "1e-05\n",
      "0.0002\n",
      "0.0001\n",
      "8e-05\n",
      "5e-05\n",
      "3e-05\n",
      "1e-05\n"
     ]
    },
    {
     "data": {
      "text/plain": [
       "<matplotlib.legend.Legend at 0x7fd573941f98>"
      ]
     },
     "execution_count": 20,
     "metadata": {},
     "output_type": "execute_result"
    },
    {
     "data": {
      "image/png": "[encoded data removed]",
      "text/plain": [
       "<matplotlib.figure.Figure at 0x7fd5520ffc18>"
      ]
     },
     "metadata": {},
     "output_type": "display_data"
    }
   ],
   "source": [
    "\n",
    "    \n",
    "f = n_exp.query('act == \\'a\\'')\n",
    "plt.scatter(f['sp'], f['acc'], label = \"ReLU\")\n",
    "f= n_exp.query('act == \\'n\\'')\n",
    "plt.scatter(f['sp'], f['acc'], label = \"No ReLU\")\n",
    "plt.legend()"
   ]
  },
  {
   "cell_type": "code",
   "execution_count": 10,
   "metadata": {},
   "outputs": [
    {
     "data": {
      "text/plain": [
       "98.49"
      ]
     },
     "execution_count": 10,
     "metadata": {},
     "output_type": "execute_result"
    }
   ],
   "source": [
    "res['prune_test']"
   ]
  }
 ],
 "metadata": {
  "kernelspec": {
   "display_name": "Python [conda env:py35]",
   "language": "python",
   "name": "conda-env-py35-py"
  },
  "language_info": {
   "codemirror_mode": {
    "name": "ipython",
    "version": 3
   },
   "file_extension": ".py",
   "mimetype": "text/x-python",
   "name": "python",
   "nbconvert_exporter": "python",
   "pygments_lexer": "ipython3",
   "version": "3.5.4"
  }
 },
 "nbformat": 4,
 "nbformat_minor": 2
}
