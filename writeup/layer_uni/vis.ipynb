{
 "cells": [
  {
   "cell_type": "code",
   "execution_count": 1,
   "metadata": {},
   "outputs": [
    {
     "data": {
      "text/html": [
       "<style>.container { width:95% !important; }</style>"
      ],
      "text/plain": [
       "<IPython.core.display.HTML object>"
      ]
     },
     "metadata": {},
     "output_type": "display_data"
    }
   ],
   "source": [
    "#Expand notebook to take full screen width\n",
    "from IPython.core.display import display, HTML\n",
    "display(HTML(\"<style>.container { width:95% !important; }</style>\"))\n",
    "\n",
    "###\n",
    "import sys\n",
    "sys.path.insert(0,'../../src/')\n",
    "\n",
    "%load_ext autoreload\n",
    "%autoreload 2\n",
    "\n",
    "%matplotlib inline\n",
    "import matplotlib.pyplot as plt\n",
    "import matplotlib\n",
    "import seaborn as sns\n",
    "import numpy as np\n",
    "import pickle\n",
    "import pandas as pd\n",
    "sns.reset_orig()\n",
    "matplotlib.rcParams.update({'font.size': 12})\n",
    "from utils_write import stack_weights, cr_calc"
   ]
  },
  {
   "cell_type": "code",
   "execution_count": 2,
   "metadata": {},
   "outputs": [],
   "source": [
    "def loadfile(mean, zmean, tau, temp, mixtures, model, data_size = \"full\",  scaling = False, model_save_dir = \"\", fn=\"\", file = \"res\"):\n",
    "    r = 30 if file == 'ures' else 50\n",
    "    exp_name = \"{}_m{}_zm{}_r{}_t{}_m{}_kdT{}_{}\".format(model, mean, zmean, r, tau, int(mixtures), int(temp),data_size) + fn\n",
    "    if (file=='res' or file == 'ures' or file == 'gmp'):\n",
    "        with open(model_save_dir + '/mnist_retrain_layer_{}_{}.p'.format(file, exp_name),'rb') as f:\n",
    "            file = pickle.load(f)\n",
    "    if (file=='model'):\n",
    "        file = torch.load(model_save_dir + '/mnist_retrain_layer_model_{}.m'.format(exp_name))\n",
    "    return file"
   ]
  },
  {
   "cell_type": "code",
   "execution_count": 3,
   "metadata": {},
   "outputs": [
    {
     "data": {
      "text/plain": [
       "<matplotlib.legend.Legend at 0x1cc13e5fb00>"
      ]
     },
     "execution_count": 3,
     "metadata": {},
     "output_type": "execute_result"
    },
    {
     "data": {
      "image/png": "[encoded data removed]",
      "text/plain": [
       "<Figure size 432x288 with 1 Axes>"
      ]
     },
     "metadata": {},
     "output_type": "display_data"
    }
   ],
   "source": [
    "n_exp = pd.DataFrame(columns = [\"layer\", \"tau\", \"act\", \"acc\", \"sp\"])\n",
    "idx=0\n",
    "tau_list = [2e-6, 1e-6, 8e-7, 5e-7, 3e-7, 1e-7]\n",
    "for tau in tau_list:\n",
    "    res = loadfile(5000, 5000, tau, 1, 16, \"LeNet_300_100FC1\", \"full\", model_save_dir = \"./files\")\n",
    "    n_exp.loc[idx] = ([1, tau, \"n\", res[\"prune_test\"], res[\"sparsity\"]])\n",
    "    idx+=1\n",
    "    \n",
    "for tau in tau_list:\n",
    "    res = loadfile(5000, 5000, tau, 1, 16, \"LeNet_300_100FC1\", \"full\", model_save_dir = \"./mseha\")\n",
    "    n_exp.loc[idx] = ([1, tau, \"a\", res[\"prune_test\"], res[\"sparsity\"]])\n",
    "    idx+=1\n",
    "    \n",
    "tau_list = [2e-4, 1e-4, 8e-5, 5e-5, 3e-5, 1e-5]\n",
    "for tau in tau_list:\n",
    "    res = loadfile(5000, 5000, tau, 1, 16, \"LeNet_300_100FC2\", \"full\", model_save_dir = \"./files\")\n",
    "    n_exp.loc[idx] = ([2, tau, \"n\", res[\"prune_test\"], res[\"sparsity\"]])\n",
    "    idx+=1\n",
    "    \n",
    "for tau in tau_list:\n",
    "    res = loadfile(5000, 5000, tau, 1, 16, \"LeNet_300_100FC2\", \"full\", model_save_dir = \"./mseha\")\n",
    "    n_exp.loc[idx] = ([2, tau, \"a\", res[\"prune_test\"], res[\"sparsity\"]])\n",
    "    idx+=1\n",
    "    \n",
    "tau_list = [2e-2, 1e-2, 8e-3, 5e-3, 3e-3, 1e-3]\n",
    "for tau in tau_list:\n",
    "    res = loadfile(5000, 5000, tau, 1, 16, \"LeNet_300_100FC3\", \"full\", model_save_dir = \"./files\")\n",
    "    n_exp.loc[idx] = ([3, tau, \"n\", res[\"prune_test\"], res[\"sparsity\"]])\n",
    "    idx+=1\n",
    "    \n",
    "for tau in tau_list:\n",
    "    res = loadfile(5000, 5000, tau, 1, 16, \"LeNet_300_100FC3\", \"full\", model_save_dir = \"./mseha\")\n",
    "    n_exp.loc[idx] = ([3, tau, \"a\", res[\"prune_test\"], res[\"sparsity\"]])\n",
    "    idx+=1\n",
    "    \n",
    "f = n_exp.query('act == \\'a\\'')\n",
    "plt.scatter(f['sp'], f['acc'], label = \"ReLU\")\n",
    "f= n_exp.query('act == \\'n\\'')\n",
    "plt.scatter(f['sp'], f['acc'], label = \"No ReLU\")\n",
    "plt.legend()"
   ]
  },
  {
   "cell_type": "code",
   "execution_count": 33,
   "metadata": {},
   "outputs": [
    {
     "data": {
      "text/plain": [
       "0.01"
      ]
     },
     "execution_count": 33,
     "metadata": {},
     "output_type": "execute_result"
    }
   ],
   "source": [
    "tau_df.max()"
   ]
  },
  {
   "cell_type": "code",
   "execution_count": 56,
   "metadata": {},
   "outputs": [],
   "source": [
    "fin_exp = pd.DataFrame(columns = [\"layer\", \"tau\", \"acc_d\", \"acc\", \"sp\"])\n",
    "idx=0\n",
    "for acc in [88.3, 95.3, 96.3, 97.3]:\n",
    "    for layer in [1,2,3]:\n",
    "        sp_df = n_exp.query(\"act == \\'n\\' and acc > {} and layer == {}\".format(acc, layer)).sort_values(by=['sp']).tail(1)['sp'].max()\n",
    "        acc_df  = n_exp.query(\"act == \\'n\\' and acc > {} and layer == {}\".format(acc, layer)).sort_values(by=['sp']).tail(1)['acc'].max()\n",
    "        tau_df =n_exp.query(\"act == \\'n\\' and acc > {} and layer == {}\".format(acc, layer)).sort_values(by=['sp']).tail(1)['tau'].max()\n",
    "        fin_exp.loc[idx] = ([int(layer), tau_df, 98.3-acc, acc_df, sp_df])\n",
    "        idx+=1"
   ]
  },
  {
   "cell_type": "code",
   "execution_count": 57,
   "metadata": {},
   "outputs": [
    {
     "data": {
      "text/plain": [
       "0     1.0\n",
       "1     2.0\n",
       "2     3.0\n",
       "3     1.0\n",
       "4     2.0\n",
       "5     3.0\n",
       "6     1.0\n",
       "7     2.0\n",
       "8     3.0\n",
       "9     1.0\n",
       "10    2.0\n",
       "11    3.0\n",
       "Name: layer, dtype: float64"
      ]
     },
     "execution_count": 57,
     "metadata": {},
     "output_type": "execute_result"
    }
   ],
   "source": [
    "fin_exp['layer']"
   ]
  },
  {
   "cell_type": "code",
   "execution_count": 67,
   "metadata": {},
   "outputs": [
    {
     "data": {
      "text/html": [
       "<div>\n",
       "<style scoped>\n",
       "    .dataframe tbody tr th:only-of-type {\n",
       "        vertical-align: middle;\n",
       "    }\n",
       "\n",
       "    .dataframe tbody tr th {\n",
       "        vertical-align: top;\n",
       "    }\n",
       "\n",
       "    .dataframe thead tr th {\n",
       "        text-align: left;\n",
       "    }\n",
       "\n",
       "    .dataframe thead tr:last-of-type th {\n",
       "        text-align: right;\n",
       "    }\n",
       "</style>\n",
       "<table border=\"1\" class=\"dataframe\">\n",
       "  <thead>\n",
       "    <tr>\n",
       "      <th></th>\n",
       "      <th colspan=\"3\" halign=\"left\">acc</th>\n",
       "      <th colspan=\"3\" halign=\"left\">sp</th>\n",
       "      <th colspan=\"3\" halign=\"left\">tau</th>\n",
       "    </tr>\n",
       "    <tr>\n",
       "      <th>layer</th>\n",
       "      <th>1.0</th>\n",
       "      <th>2.0</th>\n",
       "      <th>3.0</th>\n",
       "      <th>1.0</th>\n",
       "      <th>2.0</th>\n",
       "      <th>3.0</th>\n",
       "      <th>1.0</th>\n",
       "      <th>2.0</th>\n",
       "      <th>3.0</th>\n",
       "    </tr>\n",
       "    <tr>\n",
       "      <th>acc_d</th>\n",
       "      <th></th>\n",
       "      <th></th>\n",
       "      <th></th>\n",
       "      <th></th>\n",
       "      <th></th>\n",
       "      <th></th>\n",
       "      <th></th>\n",
       "      <th></th>\n",
       "      <th></th>\n",
       "    </tr>\n",
       "  </thead>\n",
       "  <tbody>\n",
       "    <tr>\n",
       "      <th>1.0</th>\n",
       "      <td>97.48</td>\n",
       "      <td>97.36</td>\n",
       "      <td>97.46</td>\n",
       "      <td>76.910403</td>\n",
       "      <td>93.900332</td>\n",
       "      <td>81.485149</td>\n",
       "      <td>5.000000e-07</td>\n",
       "      <td>0.00005</td>\n",
       "      <td>0.01</td>\n",
       "    </tr>\n",
       "    <tr>\n",
       "      <th>2.0</th>\n",
       "      <td>96.63</td>\n",
       "      <td>96.38</td>\n",
       "      <td>97.46</td>\n",
       "      <td>92.906157</td>\n",
       "      <td>95.867110</td>\n",
       "      <td>81.485149</td>\n",
       "      <td>1.000000e-06</td>\n",
       "      <td>0.00008</td>\n",
       "      <td>0.01</td>\n",
       "    </tr>\n",
       "    <tr>\n",
       "      <th>3.0</th>\n",
       "      <td>96.63</td>\n",
       "      <td>95.51</td>\n",
       "      <td>97.46</td>\n",
       "      <td>92.906157</td>\n",
       "      <td>96.667774</td>\n",
       "      <td>81.485149</td>\n",
       "      <td>1.000000e-06</td>\n",
       "      <td>0.00010</td>\n",
       "      <td>0.01</td>\n",
       "    </tr>\n",
       "    <tr>\n",
       "      <th>10.0</th>\n",
       "      <td>91.18</td>\n",
       "      <td>93.23</td>\n",
       "      <td>97.46</td>\n",
       "      <td>95.913376</td>\n",
       "      <td>98.212625</td>\n",
       "      <td>81.485149</td>\n",
       "      <td>2.000000e-06</td>\n",
       "      <td>0.00020</td>\n",
       "      <td>0.01</td>\n",
       "    </tr>\n",
       "  </tbody>\n",
       "</table>\n",
       "</div>"
      ],
      "text/plain": [
       "         acc                       sp                                 tau  \\\n",
       "layer    1.0    2.0    3.0        1.0        2.0        3.0           1.0   \n",
       "acc_d                                                                       \n",
       "1.0    97.48  97.36  97.46  76.910403  93.900332  81.485149  5.000000e-07   \n",
       "2.0    96.63  96.38  97.46  92.906157  95.867110  81.485149  1.000000e-06   \n",
       "3.0    96.63  95.51  97.46  92.906157  96.667774  81.485149  1.000000e-06   \n",
       "10.0   91.18  93.23  97.46  95.913376  98.212625  81.485149  2.000000e-06   \n",
       "\n",
       "                      \n",
       "layer      2.0   3.0  \n",
       "acc_d                 \n",
       "1.0    0.00005  0.01  \n",
       "2.0    0.00008  0.01  \n",
       "3.0    0.00010  0.01  \n",
       "10.0   0.00020  0.01  "
      ]
     },
     "execution_count": 67,
     "metadata": {},
     "output_type": "execute_result"
    }
   ],
   "source": [
    "fin_exp.pivot(index='acc_d', columns='layer', values=['acc','sp','tau'])"
   ]
  },
  {
   "cell_type": "code",
   "execution_count": 20,
   "metadata": {},
   "outputs": [
    {
     "name": "stdout",
     "output_type": "stream",
     "text": [
      "0.0002\n",
      "0.0001\n",
      "8e-05\n",
      "5e-05\n",
      "3e-05\n",
      "1e-05\n",
      "0.0002\n",
      "0.0001\n",
      "8e-05\n",
      "5e-05\n",
      "3e-05\n",
      "1e-05\n"
     ]
    },
    {
     "data": {
      "text/plain": [
       "<matplotlib.legend.Legend at 0x7fd573941f98>"
      ]
     },
     "execution_count": 20,
     "metadata": {},
     "output_type": "execute_result"
    },
    {
     "data": {
      "image/png": "[encoded data removed]",
      "text/plain": [
       "<matplotlib.figure.Figure at 0x7fd5520ffc18>"
      ]
     },
     "metadata": {},
     "output_type": "display_data"
    }
   ],
   "source": [
    "\n",
    "    \n",
    "f = n_exp.query('act == \\'a\\'')\n",
    "plt.scatter(f['sp'], f['acc'], label = \"ReLU\")\n",
    "f= n_exp.query('act == \\'n\\'')\n",
    "plt.scatter(f['sp'], f['acc'], label = \"No ReLU\")\n",
    "plt.legend()"
   ]
  },
  {
   "cell_type": "code",
   "execution_count": 10,
   "metadata": {},
   "outputs": [
    {
     "data": {
      "text/plain": [
       "98.49"
      ]
     },
     "execution_count": 10,
     "metadata": {},
     "output_type": "execute_result"
    }
   ],
   "source": [
    "res['prune_test']"
   ]
  }
 ],
 "metadata": {
  "kernelspec": {
   "display_name": "Python 3",
   "language": "python",
   "name": "python3"
  },
  "language_info": {
   "codemirror_mode": {
    "name": "ipython",
    "version": 3
   },
   "file_extension": ".py",
   "mimetype": "text/x-python",
   "name": "python",
   "nbconvert_exporter": "python",
   "pygments_lexer": "ipython3",
   "version": "3.6.5"
  },
  "varInspector": {
   "cols": {
    "lenName": 16,
    "lenType": 16,
    "lenVar": 40
   },
   "kernels_config": {
    "python": {
     "delete_cmd_postfix": "",
     "delete_cmd_prefix": "del ",
     "library": "var_list.py",
     "varRefreshCmd": "print(var_dic_list())"
    },
    "r": {
     "delete_cmd_postfix": ") ",
     "delete_cmd_prefix": "rm(",
     "library": "var_list.r",
     "varRefreshCmd": "cat(var_dic_list()) "
    }
   },
   "types_to_exclude": [
    "module",
    "function",
    "builtin_function_or_method",
    "instance",
    "_Feature"
   ],
   "window_display": true
  }
 },
 "nbformat": 4,
 "nbformat_minor": 2
}
