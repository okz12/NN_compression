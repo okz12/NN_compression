{
 "cells": [
  {
   "cell_type": "code",
   "execution_count": 1,
   "metadata": {},
   "outputs": [
    {
     "data": {
      "text/html": [
       "<style>.container { width:95% !important; }</style>"
      ],
      "text/plain": [
       "<IPython.core.display.HTML object>"
      ]
     },
     "metadata": {},
     "output_type": "display_data"
    },
    {
     "data": {
      "application/javascript": [
       "if (!(\"Notification\" in window)) {\n",
       "    alert(\"This browser does not support desktop notifications, so the %%notify magic will not work.\");\n",
       "} else if (Notification.permission !== 'granted' && Notification.permission !== 'denied') {\n",
       "    Notification.requestPermission(function (permission) {\n",
       "        if(!('permission' in Notification)) {\n",
       "            Notification.permission = permission;\n",
       "        }\n",
       "    })\n",
       "}\n"
      ],
      "text/plain": [
       "<IPython.core.display.Javascript object>"
      ]
     },
     "metadata": {},
     "output_type": "display_data"
    },
    {
     "name": "stdout",
     "output_type": "stream",
     "text": [
      "Automatic pdb calling has been turned ON\n"
     ]
    }
   ],
   "source": [
    "#Expand notebook to take full screen width\n",
    "from IPython.core.display import display, HTML\n",
    "display(HTML(\"<style>.container { width:95% !important; }</style>\"))\n",
    "\n",
    "#Jupyter magic to notify when a cell finishes execution with %%notify command -- does not work with Jupyterlab\n",
    "import jupyternotify\n",
    "ip = get_ipython()\n",
    "ip.register_magics(jupyternotify.JupyterNotifyMagics)\n",
    "\n",
    "###\n",
    "import sys\n",
    "sys.path.insert(0,'../../src/')\n",
    "\n",
    "%load_ext autoreload\n",
    "%autoreload 2\n",
    "\n",
    "%pdb"
   ]
  },
  {
   "cell_type": "code",
   "execution_count": 2,
   "metadata": {},
   "outputs": [
    {
     "name": "stderr",
     "output_type": "stream",
     "text": [
      "/anaconda/envs/py35/lib/python3.5/importlib/_bootstrap.py:222: RuntimeWarning: numpy.dtype size changed, may indicate binary incompatibility. Expected 96, got 88\n",
      "  return f(*args, **kwds)\n",
      "/anaconda/envs/py35/lib/python3.5/importlib/_bootstrap.py:222: RuntimeWarning: numpy.dtype size changed, may indicate binary incompatibility. Expected 96, got 88\n",
      "  return f(*args, **kwds)\n"
     ]
    }
   ],
   "source": [
    "import torch\n",
    "import torch.nn as nn\n",
    "import torchvision.transforms as transforms\n",
    "import torchvision.datasets as dsets\n",
    "from torch.nn.modules import Module\n",
    "from torch.autograd import Variable\n",
    "import torch.nn.functional as F\n",
    "import numpy as np\n",
    "import copy\n",
    "import pickle\n",
    "import model_archs\n",
    "\n",
    "from utils_plot import show_sws_weights, show_weights, print_dims, prune_plot, draw_sws_graphs, joint_plot, plot_data, show_sws_weights_log\n",
    "from utils_model import test_accuracy, train_epoch, retrain_sws_epoch, model_prune, get_weight_penalty, layer_accuracy\n",
    "from utils_misc import trueAfterN, logsumexp, root_dir, model_load_dir, get_ab, get_sparsity\n",
    "from utils_sws import GaussianMixturePrior, special_flatten, KL, compute_responsibilies, merger, sws_prune, sws_prune_l2, sws_prune_copy\n",
    "from mnist_loader import search_train_data, search_retrain_data, search_validation_data, train_data, test_data, batch_size\n",
    "from extract_targets import get_targets\n",
    "from retrain_layer import init_retrain_layer\n",
    "from retrain_model import retrain_model\n",
    "\n",
    "test_data_full = Variable(test_data(fetch='data')).cuda()\n",
    "test_labels_full = Variable(test_data(fetch='labels')).cuda()\n",
    "\n",
    "%matplotlib inline\n",
    "import matplotlib.pyplot as plt\n",
    "import seaborn as sns\n",
    "import numpy as np\n",
    "import pickle"
   ]
  },
  {
   "cell_type": "markdown",
   "metadata": {},
   "source": [
    "### SWS"
   ]
  },
  {
   "cell_type": "code",
   "execution_count": 3,
   "metadata": {},
   "outputs": [
    {
     "name": "stderr",
     "output_type": "stream",
     "text": [
      "/anaconda/envs/py35/lib/python3.5/site-packages/torch/serialization.py:325: SourceChangeWarning: source code of class 'model_archs.LeNet_300_100' has changed. you can retrieve the original source code by accessing the object's source attribute or set `torch.nn.Module.dump_patches = True` and use the patch tool to revert the changes.\n",
      "  warnings.warn(msg, SourceChangeWarning)\n"
     ]
    },
    {
     "name": "stdout",
     "output_type": "stream",
     "text": [
      "0-component Mean: 1000.0 Variance: 1000.0\n",
      "Non-zero component Mean: 1.0 Variance: 0.1\n",
      "Epoch: 10. Test Accuracy: 97.24, Prune Accuracy: 96.51, Sparsity: 97.67\n",
      "Epoch: 20. Test Accuracy: 97.66, Prune Accuracy: 97.31, Sparsity: 97.68\n",
      "Epoch: 30. Test Accuracy: 97.68, Prune Accuracy: 97.53, Sparsity: 97.68\n",
      "Epoch: 40. Test Accuracy: 97.68, Prune Accuracy: 97.62, Sparsity: 97.70\n",
      "Epoch: 50. Test Accuracy: 97.87, Prune Accuracy: 97.51, Sparsity: 97.75\n",
      "Retrain Test: 97.87, Prune Test: 97.51, Prune Sparsity: 97.75\n"
     ]
    },
    {
     "data": {
      "text/plain": [
       "<matplotlib.figure.Figure at 0x7f130c196780>"
      ]
     },
     "metadata": {},
     "output_type": "display_data"
    },
    {
     "data": {
      "image/png": "[encoded data removed]",
      "text/plain": [
       "<matplotlib.figure.Figure at 0x7f12978eb3c8>"
      ]
     },
     "metadata": {},
     "output_type": "display_data"
    }
   ],
   "source": [
    "model, gmp, res = retrain_model(1, 0.1, 1000, 1000, 1e-6, int(0), 16, \"LeNet_300_100\", \"full\", 'CESNT', False, \"./files\")\n",
    "show_sws_weights_log(model = model, means = list(gmp.means.data.clone().cpu()), precisions = list(gmp.gammas.data.clone().cpu()))"
   ]
  },
  {
   "cell_type": "code",
   "execution_count": 4,
   "metadata": {},
   "outputs": [
    {
     "name": "stderr",
     "output_type": "stream",
     "text": [
      "/anaconda/envs/py35/lib/python3.5/site-packages/torch/serialization.py:325: SourceChangeWarning: source code of class 'model_archs.LeNet_300_100' has changed. you can retrieve the original source code by accessing the object's source attribute or set `torch.nn.Module.dump_patches = True` and use the patch tool to revert the changes.\n",
      "  warnings.warn(msg, SourceChangeWarning)\n"
     ]
    },
    {
     "name": "stdout",
     "output_type": "stream",
     "text": [
      "0-component Mean: 1000.0 Variance: 1000.0\n",
      "Non-zero component Mean: 1.0 Variance: 0.1\n",
      "Epoch: 10. Test Accuracy: 97.08, Prune Accuracy: 96.31, Sparsity: 97.71\n",
      "Epoch: 20. Test Accuracy: 97.57, Prune Accuracy: 97.08, Sparsity: 97.72\n",
      "Epoch: 30. Test Accuracy: 97.75, Prune Accuracy: 97.41, Sparsity: 97.70\n",
      "Epoch: 40. Test Accuracy: 97.75, Prune Accuracy: 97.57, Sparsity: 97.76\n",
      "Epoch: 50. Test Accuracy: 97.75, Prune Accuracy: 97.50, Sparsity: 97.78\n",
      "Retrain Test: 97.75, Prune Test: 97.50, Prune Sparsity: 97.78\n"
     ]
    },
    {
     "data": {
      "text/plain": [
       "<matplotlib.figure.Figure at 0x7f130c196668>"
      ]
     },
     "metadata": {},
     "output_type": "display_data"
    },
    {
     "data": {
      "image/png": "[encoded data removed]",
      "text/plain": [
       "<matplotlib.figure.Figure at 0x7f12966b3320>"
      ]
     },
     "metadata": {},
     "output_type": "display_data"
    }
   ],
   "source": [
    "model, gmp, res = retrain_model(1, 0.1, 1000, 1000, 1e-6, int(0), 16, \"LeNet_300_100\", \"full\", 'CESNT', True, \"./files\")\n",
    "show_sws_weights_log(model = model, means = list(gmp.means.data.clone().cpu()), precisions = list(gmp.gammas.data.clone().cpu()))"
   ]
  },
  {
   "cell_type": "markdown",
   "metadata": {},
   "source": [
    "### SWS + KD"
   ]
  },
  {
   "cell_type": "markdown",
   "metadata": {},
   "source": [
    "#### CE"
   ]
  },
  {
   "cell_type": "code",
   "execution_count": 6,
   "metadata": {},
   "outputs": [
    {
     "name": "stderr",
     "output_type": "stream",
     "text": [
      "/anaconda/envs/py35/lib/python3.5/site-packages/torch/serialization.py:325: SourceChangeWarning: source code of class 'model_archs.LeNet_300_100' has changed. you can retrieve the original source code by accessing the object's source attribute or set `torch.nn.Module.dump_patches = True` and use the patch tool to revert the changes.\n",
      "  warnings.warn(msg, SourceChangeWarning)\n"
     ]
    },
    {
     "name": "stdout",
     "output_type": "stream",
     "text": [
      "0-component Mean: 5000.0 Variance: 1000.0\n",
      "Non-zero component Mean: 1000.0 Variance: 0.1\n",
      "Epoch: 10. Test Accuracy: 98.33, Prune Accuracy: 97.91, Sparsity: 69.46\n",
      "Epoch: 20. Test Accuracy: 98.01, Prune Accuracy: 95.71, Sparsity: 94.50\n",
      "Epoch: 30. Test Accuracy: 98.16, Prune Accuracy: 97.04, Sparsity: 96.90\n",
      "Epoch: 40. Test Accuracy: 98.09, Prune Accuracy: 97.46, Sparsity: 96.90\n",
      "Epoch: 50. Test Accuracy: 98.03, Prune Accuracy: 97.66, Sparsity: 96.91\n",
      "Retrain Test: 98.03, Prune Test: 97.66, Prune Sparsity: 96.91\n"
     ]
    },
    {
     "data": {
      "text/plain": [
       "<matplotlib.figure.Figure at 0x7f129682def0>"
      ]
     },
     "metadata": {},
     "output_type": "display_data"
    },
    {
     "data": {
      "image/png": "[encoded data removed]",
      "text/plain": [
       "<matplotlib.figure.Figure at 0x7f1294755da0>"
      ]
     },
     "metadata": {},
     "output_type": "display_data"
    }
   ],
   "source": [
    "model, gmp, res = retrain_model(1000, 0.1, 5000, 1000, 1e-5, 5, 16, \"LeNet_300_100\", \"full\", 'CEST', False, \"./files\", fn = \"_CE\")\n",
    "show_sws_weights_log(model = model, means = list(gmp.means.data.clone().cpu()), precisions = list(gmp.gammas.data.clone().cpu()))"
   ]
  },
  {
   "cell_type": "code",
   "execution_count": 7,
   "metadata": {},
   "outputs": [
    {
     "name": "stderr",
     "output_type": "stream",
     "text": [
      "/anaconda/envs/py35/lib/python3.5/site-packages/torch/serialization.py:325: SourceChangeWarning: source code of class 'model_archs.LeNet_300_100' has changed. you can retrieve the original source code by accessing the object's source attribute or set `torch.nn.Module.dump_patches = True` and use the patch tool to revert the changes.\n",
      "  warnings.warn(msg, SourceChangeWarning)\n"
     ]
    },
    {
     "name": "stdout",
     "output_type": "stream",
     "text": [
      "0-component Mean: 5000.0 Variance: 1000.0\n",
      "Non-zero component Mean: 1000.0 Variance: 0.1\n",
      "Epoch: 10. Test Accuracy: 98.39, Prune Accuracy: 91.25, Sparsity: 71.76\n",
      "Epoch: 20. Test Accuracy: 98.03, Prune Accuracy: 92.80, Sparsity: 97.18\n",
      "Epoch: 30. Test Accuracy: 97.98, Prune Accuracy: 95.00, Sparsity: 97.35\n",
      "Epoch: 40. Test Accuracy: 98.14, Prune Accuracy: 95.73, Sparsity: 97.35\n",
      "Epoch: 50. Test Accuracy: 98.01, Prune Accuracy: 95.96, Sparsity: 97.36\n",
      "Retrain Test: 98.01, Prune Test: 95.96, Prune Sparsity: 97.36\n"
     ]
    },
    {
     "data": {
      "text/plain": [
       "<matplotlib.figure.Figure at 0x7f12967c2390>"
      ]
     },
     "metadata": {},
     "output_type": "display_data"
    },
    {
     "data": {
      "image/png": "[encoded data removed]",
      "text/plain": [
       "<matplotlib.figure.Figure at 0x7f1296235978>"
      ]
     },
     "metadata": {},
     "output_type": "display_data"
    }
   ],
   "source": [
    "model, gmp, res = retrain_model(1000, 0.1, 5000, 1000, 1e-5, 5, 16, \"LeNet_300_100\", \"full\", 'CEST', True, \"./files\", fn = \"_CE\")\n",
    "show_sws_weights_log(model = model, means = list(gmp.means.data.clone().cpu()), precisions = list(gmp.gammas.data.clone().cpu()))"
   ]
  },
  {
   "cell_type": "code",
   "execution_count": 8,
   "metadata": {},
   "outputs": [
    {
     "name": "stderr",
     "output_type": "stream",
     "text": [
      "/anaconda/envs/py35/lib/python3.5/site-packages/torch/serialization.py:325: SourceChangeWarning: source code of class 'model_archs.LeNet_300_100' has changed. you can retrieve the original source code by accessing the object's source attribute or set `torch.nn.Module.dump_patches = True` and use the patch tool to revert the changes.\n",
      "  warnings.warn(msg, SourceChangeWarning)\n"
     ]
    },
    {
     "name": "stdout",
     "output_type": "stream",
     "text": [
      "0-component Mean: 5000.0 Variance: 1000.0\n",
      "Non-zero component Mean: 1000.0 Variance: 0.1\n",
      "Epoch: 10. Test Accuracy: 98.40, Prune Accuracy: 98.04, Sparsity: 68.52\n",
      "Epoch: 20. Test Accuracy: 98.33, Prune Accuracy: 96.57, Sparsity: 82.73\n",
      "Epoch: 30. Test Accuracy: 98.04, Prune Accuracy: 94.63, Sparsity: 97.11\n",
      "Epoch: 40. Test Accuracy: 98.14, Prune Accuracy: 96.13, Sparsity: 97.13\n",
      "Epoch: 50. Test Accuracy: 98.11, Prune Accuracy: 96.36, Sparsity: 97.15\n",
      "Retrain Test: 98.11, Prune Test: 96.36, Prune Sparsity: 97.15\n"
     ]
    },
    {
     "data": {
      "text/plain": [
       "<matplotlib.figure.Figure at 0x7f129630b748>"
      ]
     },
     "metadata": {},
     "output_type": "display_data"
    },
    {
     "data": {
      "image/png": "[encoded data removed]",
      "text/plain": [
       "<matplotlib.figure.Figure at 0x7f1296301be0>"
      ]
     },
     "metadata": {},
     "output_type": "display_data"
    }
   ],
   "source": [
    "#reduce tau 1e-5 -> 0.8e-5\n",
    "model, gmp, res = retrain_model(1000, 0.1, 5000, 1000, 0.8e-5, 5, 16, \"LeNet_300_100\", \"full\", 'CEST', True, \"./files\", fn = \"_CE\")\n",
    "show_sws_weights_log(model = model, means = list(gmp.means.data.clone().cpu()), precisions = list(gmp.gammas.data.clone().cpu()))"
   ]
  },
  {
   "cell_type": "code",
   "execution_count": 9,
   "metadata": {},
   "outputs": [
    {
     "name": "stderr",
     "output_type": "stream",
     "text": [
      "/anaconda/envs/py35/lib/python3.5/site-packages/torch/serialization.py:325: SourceChangeWarning: source code of class 'model_archs.LeNet_300_100' has changed. you can retrieve the original source code by accessing the object's source attribute or set `torch.nn.Module.dump_patches = True` and use the patch tool to revert the changes.\n",
      "  warnings.warn(msg, SourceChangeWarning)\n"
     ]
    },
    {
     "name": "stdout",
     "output_type": "stream",
     "text": [
      "0-component Mean: 5000.0 Variance: 1000.0\n",
      "Non-zero component Mean: 1000.0 Variance: 0.1\n",
      "Epoch: 10. Test Accuracy: 98.37, Prune Accuracy: 98.07, Sparsity: 66.17\n",
      "Epoch: 20. Test Accuracy: 98.32, Prune Accuracy: 94.74, Sparsity: 77.03\n",
      "Epoch: 30. Test Accuracy: 98.09, Prune Accuracy: 93.38, Sparsity: 97.12\n",
      "Epoch: 40. Test Accuracy: 98.17, Prune Accuracy: 95.72, Sparsity: 97.13\n",
      "Epoch: 50. Test Accuracy: 98.13, Prune Accuracy: 96.38, Sparsity: 97.14\n",
      "Retrain Test: 98.13, Prune Test: 96.38, Prune Sparsity: 97.14\n"
     ]
    },
    {
     "data": {
      "text/plain": [
       "<matplotlib.figure.Figure at 0x7f12962f7b70>"
      ]
     },
     "metadata": {},
     "output_type": "display_data"
    },
    {
     "data": {
      "image/png": "[encoded data removed]",
      "text/plain": [
       "<matplotlib.figure.Figure at 0x7f12966afd68>"
      ]
     },
     "metadata": {},
     "output_type": "display_data"
    }
   ],
   "source": [
    "#reduce tau 1e-5 -> 0.8e-5\n",
    "model, gmp, res = retrain_model(1000, 0.1, 5000, 1000, 0.7e-5, 5, 16, \"LeNet_300_100\", \"full\", 'CEST', True, \"./files\", fn = \"_CE\")\n",
    "show_sws_weights_log(model = model, means = list(gmp.means.data.clone().cpu()), precisions = list(gmp.gammas.data.clone().cpu()))"
   ]
  },
  {
   "cell_type": "code",
   "execution_count": 25,
   "metadata": {},
   "outputs": [
    {
     "name": "stderr",
     "output_type": "stream",
     "text": [
      "/anaconda/envs/py35/lib/python3.5/site-packages/torch/serialization.py:325: SourceChangeWarning: source code of class 'model_archs.LeNet_300_100' has changed. you can retrieve the original source code by accessing the object's source attribute or set `torch.nn.Module.dump_patches = True` and use the patch tool to revert the changes.\n",
      "  warnings.warn(msg, SourceChangeWarning)\n"
     ]
    },
    {
     "name": "stdout",
     "output_type": "stream",
     "text": [
      "0-component Mean: 5000.0 Variance: 1000.0\n",
      "Non-zero component Mean: 1000.0 Variance: 0.1\n",
      "Epoch: 10. Test Accuracy: 98.38, Prune Accuracy: 97.67, Sparsity: 63.61\n",
      "Epoch: 20. Test Accuracy: 98.13, Prune Accuracy: 90.47, Sparsity: 84.79\n",
      "Epoch: 30. Test Accuracy: 97.80, Prune Accuracy: 96.16, Sparsity: 92.70\n",
      "Epoch: 40. Test Accuracy: 97.85, Prune Accuracy: 96.55, Sparsity: 93.42\n",
      "Epoch: 50. Test Accuracy: 97.86, Prune Accuracy: 96.84, Sparsity: 93.88\n",
      "Retrain Test: 97.86, Prune Test: 96.84, Prune Sparsity: 93.88\n"
     ]
    },
    {
     "data": {
      "text/plain": [
       "<matplotlib.figure.Figure at 0x7f12947778d0>"
      ]
     },
     "metadata": {},
     "output_type": "display_data"
    },
    {
     "data": {
      "image/png": "[encoded data removed]",
      "text/plain": [
       "<matplotlib.figure.Figure at 0x7f1296261080>"
      ]
     },
     "metadata": {},
     "output_type": "display_data"
    }
   ],
   "source": [
    "#LR 1e-6 to 1e-5, 5e-5 to 1e-5\n",
    "model, gmp, res = retrain_model(1000, 0.1, 5000, 1000, 1e-5, 5, 16, \"LeNet_300_100\", \"full\", 'CEST', True, \"./files\", fn = \"_CE\")\n",
    "show_sws_weights_log(model = model, means = list(gmp.means.data.clone().cpu()), precisions = list(gmp.gammas.data.clone().cpu()))"
   ]
  },
  {
   "cell_type": "code",
   "execution_count": 27,
   "metadata": {},
   "outputs": [
    {
     "name": "stderr",
     "output_type": "stream",
     "text": [
      "/anaconda/envs/py35/lib/python3.5/site-packages/torch/serialization.py:325: SourceChangeWarning: source code of class 'model_archs.LeNet_300_100' has changed. you can retrieve the original source code by accessing the object's source attribute or set `torch.nn.Module.dump_patches = True` and use the patch tool to revert the changes.\n",
      "  warnings.warn(msg, SourceChangeWarning)\n"
     ]
    },
    {
     "name": "stdout",
     "output_type": "stream",
     "text": [
      "0-component Mean: 5000.0 Variance: 1000.0\n",
      "Non-zero component Mean: 1000.0 Variance: 0.1\n",
      "Epoch: 10. Test Accuracy: 98.35, Prune Accuracy: 88.50, Sparsity: 73.58\n",
      "Epoch: 20. Test Accuracy: 98.23, Prune Accuracy: 92.85, Sparsity: 88.04\n",
      "Epoch: 30. Test Accuracy: 98.01, Prune Accuracy: 93.06, Sparsity: 92.33\n",
      "Epoch: 40. Test Accuracy: 98.11, Prune Accuracy: 89.66, Sparsity: 77.26\n",
      "Epoch: 50. Test Accuracy: 98.17, Prune Accuracy: 91.46, Sparsity: 84.50\n",
      "Retrain Test: 98.17, Prune Test: 91.46, Prune Sparsity: 84.50\n"
     ]
    },
    {
     "data": {
      "text/plain": [
       "<matplotlib.figure.Figure at 0x7f12947ab240>"
      ]
     },
     "metadata": {},
     "output_type": "display_data"
    },
    {
     "data": {
      "image/png": "[encoded data removed]",
      "text/plain": [
       "<matplotlib.figure.Figure at 0x7f129650e3c8>"
      ]
     },
     "metadata": {},
     "output_type": "display_data"
    }
   ],
   "source": [
    "#LR 1e-5 to 1e-4, mean back to 5e-5\n",
    "model, gmp, res = retrain_model(1000, 0.1, 5000, 1000, 1e-5, 5, 16, \"LeNet_300_100\", \"full\", 'CEST', True, \"./files\", fn = \"_CE\")\n",
    "show_sws_weights_log(model = model, means = list(gmp.means.data.clone().cpu()), precisions = list(gmp.gammas.data.clone().cpu()))"
   ]
  },
  {
   "cell_type": "code",
   "execution_count": 31,
   "metadata": {},
   "outputs": [
    {
     "name": "stderr",
     "output_type": "stream",
     "text": [
      "/anaconda/envs/py35/lib/python3.5/site-packages/torch/serialization.py:325: SourceChangeWarning: source code of class 'model_archs.LeNet_300_100' has changed. you can retrieve the original source code by accessing the object's source attribute or set `torch.nn.Module.dump_patches = True` and use the patch tool to revert the changes.\n",
      "  warnings.warn(msg, SourceChangeWarning)\n"
     ]
    },
    {
     "name": "stdout",
     "output_type": "stream",
     "text": [
      "0-component Mean: 5000.0 Variance: 1000.0\n",
      "Non-zero component Mean: 1000.0 Variance: 0.1\n",
      "Epoch: 10. Test Accuracy: 98.32, Prune Accuracy: 96.25, Sparsity: 73.79\n",
      "Epoch: 20. Test Accuracy: 97.67, Prune Accuracy: 93.68, Sparsity: 97.53\n",
      "Epoch: 30. Test Accuracy: 97.94, Prune Accuracy: 96.21, Sparsity: 97.56\n",
      "Epoch: 40. Test Accuracy: 97.98, Prune Accuracy: 96.54, Sparsity: 97.57\n",
      "Epoch: 50. Test Accuracy: 98.01, Prune Accuracy: 96.64, Sparsity: 97.57\n",
      "Epoch: 60. Test Accuracy: 98.01, Prune Accuracy: 96.82, Sparsity: 97.57\n",
      "Epoch: 70. Test Accuracy: 97.93, Prune Accuracy: 96.94, Sparsity: 97.58\n",
      "Epoch: 80. Test Accuracy: 98.03, Prune Accuracy: 96.98, Sparsity: 97.58\n",
      "Retrain Test: 98.03, Prune Test: 96.98, Prune Sparsity: 97.58\n"
     ]
    },
    {
     "data": {
      "text/plain": [
       "<matplotlib.figure.Figure at 0x7f129471eef0>"
      ]
     },
     "metadata": {},
     "output_type": "display_data"
    },
    {
     "data": {
      "image/png": "[encoded data removed]",
      "text/plain": [
       "<matplotlib.figure.Figure at 0x7f12964911d0>"
      ]
     },
     "metadata": {},
     "output_type": "display_data"
    }
   ],
   "source": [
    "#LR back to normal, increase tau\n",
    "model, gmp, res = retrain_model(1000, 0.1, 5000, 1000, 1.3e-5, 5, 16, \"LeNet_300_100\", \"full\", 'CEST', True, \"./files\", fn = \"_CE\")\n",
    "show_sws_weights_log(model = model, means = list(gmp.means.data.clone().cpu()), precisions = list(gmp.gammas.data.clone().cpu()))"
   ]
  },
  {
   "cell_type": "code",
   "execution_count": 32,
   "metadata": {},
   "outputs": [
    {
     "name": "stderr",
     "output_type": "stream",
     "text": [
      "/anaconda/envs/py35/lib/python3.5/site-packages/torch/serialization.py:325: SourceChangeWarning: source code of class 'model_archs.LeNet_300_100' has changed. you can retrieve the original source code by accessing the object's source attribute or set `torch.nn.Module.dump_patches = True` and use the patch tool to revert the changes.\n",
      "  warnings.warn(msg, SourceChangeWarning)\n"
     ]
    },
    {
     "name": "stdout",
     "output_type": "stream",
     "text": [
      "0-component Mean: 5000.0 Variance: 1000.0\n",
      "Non-zero component Mean: 1000.0 Variance: 0.1\n",
      "Epoch: 10. Test Accuracy: 98.21, Prune Accuracy: 95.80, Sparsity: 76.42\n",
      "Epoch: 20. Test Accuracy: 97.85, Prune Accuracy: 94.33, Sparsity: 97.50\n",
      "Epoch: 30. Test Accuracy: 97.76, Prune Accuracy: 96.60, Sparsity: 97.53\n",
      "Epoch: 40. Test Accuracy: 97.96, Prune Accuracy: 96.83, Sparsity: 97.53\n",
      "Epoch: 50. Test Accuracy: 98.01, Prune Accuracy: 97.06, Sparsity: 97.54\n",
      "Epoch: 60. Test Accuracy: 98.03, Prune Accuracy: 96.88, Sparsity: 97.54\n",
      "Epoch: 70. Test Accuracy: 97.92, Prune Accuracy: 97.08, Sparsity: 97.55\n",
      "Epoch: 80. Test Accuracy: 97.86, Prune Accuracy: 97.08, Sparsity: 97.55\n",
      "Epoch: 90. Test Accuracy: 97.83, Prune Accuracy: 97.06, Sparsity: 97.55\n",
      "Epoch: 100. Test Accuracy: 97.95, Prune Accuracy: 97.07, Sparsity: 97.55\n",
      "Retrain Test: 97.95, Prune Test: 97.07, Prune Sparsity: 97.55\n"
     ]
    },
    {
     "data": {
      "text/plain": [
       "<matplotlib.figure.Figure at 0x7f1296728160>"
      ]
     },
     "metadata": {},
     "output_type": "display_data"
    },
    {
     "data": {
      "image/png": "[encoded data removed]",
      "text/plain": [
       "<matplotlib.figure.Figure at 0x7f12967130f0>"
      ]
     },
     "metadata": {},
     "output_type": "display_data"
    }
   ],
   "source": [
    "#tau -> 1.5\n",
    "model, gmp, res = retrain_model(1000, 0.1, 5000, 1000, 1.5e-5, 5, 16, \"LeNet_300_100\", \"full\", 'CEST', True, \"./files\", fn = \"_CE\")\n",
    "show_sws_weights_log(model = model, means = list(gmp.means.data.clone().cpu()), precisions = list(gmp.gammas.data.clone().cpu()))"
   ]
  },
  {
   "cell_type": "code",
   "execution_count": 36,
   "metadata": {},
   "outputs": [
    {
     "data": {
      "text/plain": [
       "dict_keys(['sparsity', 'prune_acc', 'complexity_loss', 'temp', 'val_acc', 'cm', 'zvar', 'mean', 'gmp_stddev', 'var', 'mixtures', 'data_size', 'val_loss', 'test_loss', 'epochs', 'test_acc', 'gmp_mixprop', 'train_acc', 'scale', 'init_weights', 'final_weights', 'train_loss', 'zmean', 'gmp_means', 'prune_weights', 'tau'])"
      ]
     },
     "execution_count": 36,
     "metadata": {},
     "output_type": "execute_result"
    }
   ],
   "source": [
    "res.keys()"
   ]
  },
  {
   "cell_type": "code",
   "execution_count": 37,
   "metadata": {},
   "outputs": [
    {
     "data": {
      "text/plain": [
       "[<matplotlib.lines.Line2D at 0x7f12945b8a90>,\n",
       " <matplotlib.lines.Line2D at 0x7f12945b82e8>]"
      ]
     },
     "execution_count": 37,
     "metadata": {},
     "output_type": "execute_result"
    },
    {
     "data": {
      "image/png": "[encoded data removed]",
      "text/plain": [
       "<matplotlib.figure.Figure at 0x7f129082e710>"
      ]
     },
     "metadata": {},
     "output_type": "display_data"
    }
   ],
   "source": [
    "plt.plot(res['scale'])"
   ]
  },
  {
   "cell_type": "code",
   "execution_count": 39,
   "metadata": {},
   "outputs": [
    {
     "name": "stderr",
     "output_type": "stream",
     "text": [
      "/anaconda/envs/py35/lib/python3.5/site-packages/torch/serialization.py:325: SourceChangeWarning: source code of class 'model_archs.LeNet_300_100' has changed. you can retrieve the original source code by accessing the object's source attribute or set `torch.nn.Module.dump_patches = True` and use the patch tool to revert the changes.\n",
      "  warnings.warn(msg, SourceChangeWarning)\n"
     ]
    },
    {
     "name": "stdout",
     "output_type": "stream",
     "text": [
      "0-component Mean: 5000.0 Variance: 1000.0\n",
      "Non-zero component Mean: 1000.0 Variance: 0.1\n",
      "Epoch: 10. Test Accuracy: 98.00, Prune Accuracy: 90.07, Sparsity: 97.58\n",
      "Epoch: 20. Test Accuracy: 97.57, Prune Accuracy: 89.91, Sparsity: 98.11\n",
      "Epoch: 30. Test Accuracy: 97.65, Prune Accuracy: 94.12, Sparsity: 98.12\n",
      "Epoch: 40. Test Accuracy: 97.75, Prune Accuracy: 94.59, Sparsity: 98.12\n",
      "Epoch: 50. Test Accuracy: 97.83, Prune Accuracy: 95.00, Sparsity: 98.13\n",
      "Epoch: 60. Test Accuracy: 97.84, Prune Accuracy: 95.10, Sparsity: 98.13\n",
      "Epoch: 70. Test Accuracy: 97.91, Prune Accuracy: 95.34, Sparsity: 98.13\n",
      "Epoch: 80. Test Accuracy: 97.92, Prune Accuracy: 95.44, Sparsity: 98.13\n",
      "Epoch: 90. Test Accuracy: 97.94, Prune Accuracy: 95.39, Sparsity: 98.13\n",
      "Retrain Test: 97.94, Prune Test: 95.39, Prune Sparsity: 98.13\n"
     ]
    },
    {
     "data": {
      "text/plain": [
       "<matplotlib.figure.Figure at 0x7f12945bbb38>"
      ]
     },
     "metadata": {},
     "output_type": "display_data"
    },
    {
     "data": {
      "image/png": "[encoded data removed]",
      "text/plain": [
       "<matplotlib.figure.Figure at 0x7f12967bd7f0>"
      ]
     },
     "metadata": {},
     "output_type": "display_data"
    }
   ],
   "source": [
    "#tau -> 2, lr = 5e-5, lr ->0 at 70th epoch\n",
    "model, gmp, res = retrain_model(1000, 0.1, 5000, 1000, 2e-5, 5, 16, \"LeNet_300_100\", \"full\", 'CEST', True, \"./files\", fn = \"_CE\")\n",
    "show_sws_weights_log(model = model, means = list(gmp.means.data.clone().cpu()), precisions = list(gmp.gammas.data.clone().cpu()))"
   ]
  },
  {
   "cell_type": "code",
   "execution_count": 45,
   "metadata": {},
   "outputs": [
    {
     "name": "stderr",
     "output_type": "stream",
     "text": [
      "/anaconda/envs/py35/lib/python3.5/site-packages/torch/serialization.py:325: SourceChangeWarning: source code of class 'model_archs.LeNet_300_100' has changed. you can retrieve the original source code by accessing the object's source attribute or set `torch.nn.Module.dump_patches = True` and use the patch tool to revert the changes.\n",
      "  warnings.warn(msg, SourceChangeWarning)\n"
     ]
    },
    {
     "name": "stdout",
     "output_type": "stream",
     "text": [
      "0-component Mean: 5000.0 Variance: 1000.0\n",
      "Non-zero component Mean: 1000.0 Variance: 0.1\n",
      "Epoch: 10. Test Accuracy: 98.04, Prune Accuracy: 93.87, Sparsity: 96.78\n",
      "Epoch: 20. Test Accuracy: 97.47, Prune Accuracy: 94.92, Sparsity: 98.03\n",
      "Epoch: 30. Test Accuracy: 97.75, Prune Accuracy: 95.96, Sparsity: 98.03\n",
      "Epoch: 40. Test Accuracy: 97.77, Prune Accuracy: 96.00, Sparsity: 98.03\n",
      "Epoch: 50. Test Accuracy: 97.78, Prune Accuracy: 95.97, Sparsity: 98.03\n",
      "Retrain Test: 97.78, Prune Test: 95.97, Prune Sparsity: 98.03\n"
     ]
    },
    {
     "data": {
      "text/plain": [
       "<matplotlib.figure.Figure at 0x7f12946f0ef0>"
      ]
     },
     "metadata": {},
     "output_type": "display_data"
    },
    {
     "data": {
      "image/png": "[encoded data removed]",
      "text/plain": [
       "<matplotlib.figure.Figure at 0x7f12965521d0>"
      ]
     },
     "metadata": {},
     "output_type": "display_data"
    }
   ],
   "source": [
    "#\n",
    "model, gmp, res = retrain_model(1000, 0.1, 5000, 1000, 2e-5, 5, 16, \"LeNet_300_100\", \"full\", 'CEST', True, \"./files\", fn = \"_CE\")\n",
    "show_sws_weights_log(model = model, means = list(gmp.means.data.clone().cpu()), precisions = list(gmp.gammas.data.clone().cpu()))"
   ]
  },
  {
   "cell_type": "markdown",
   "metadata": {},
   "source": [
    "#### MSE"
   ]
  },
  {
   "cell_type": "code",
   "execution_count": null,
   "metadata": {},
   "outputs": [],
   "source": []
  }
 ],
 "metadata": {
  "kernelspec": {
   "display_name": "Python [conda env:py35]",
   "language": "python",
   "name": "conda-env-py35-py"
  },
  "language_info": {
   "codemirror_mode": {
    "name": "ipython",
    "version": 3
   },
   "file_extension": ".py",
   "mimetype": "text/x-python",
   "name": "python",
   "nbconvert_exporter": "python",
   "pygments_lexer": "ipython3",
   "version": "3.5.4"
  }
 },
 "nbformat": 4,
 "nbformat_minor": 2
}
