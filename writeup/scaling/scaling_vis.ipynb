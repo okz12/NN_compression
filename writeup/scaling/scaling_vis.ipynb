{
 "cells": [
  {
   "cell_type": "code",
   "execution_count": 1,
   "metadata": {},
   "outputs": [
    {
     "data": {
      "text/html": [
       "<style>.container { width:95% !important; }</style>"
      ],
      "text/plain": [
       "<IPython.core.display.HTML object>"
      ]
     },
     "metadata": {},
     "output_type": "display_data"
    }
   ],
   "source": [
    "#Expand notebook to take full screen width\n",
    "from IPython.core.display import display, HTML\n",
    "display(HTML(\"<style>.container { width:95% !important; }</style>\"))\n",
    "\n",
    "###\n",
    "import sys\n",
    "sys.path.insert(0,'../../src/')\n",
    "\n",
    "%load_ext autoreload\n",
    "%autoreload 2\n",
    "\n",
    "#%pdb"
   ]
  },
  {
   "cell_type": "code",
   "execution_count": 2,
   "metadata": {},
   "outputs": [],
   "source": [
    "%matplotlib inline\n",
    "import matplotlib.pyplot as plt\n",
    "import matplotlib\n",
    "import seaborn as sns\n",
    "import numpy as np\n",
    "import pickle\n",
    "import pandas as pd\n",
    "sns.reset_orig()\n",
    "matplotlib.rcParams.update({'font.size': 12})\n",
    "from utils_write import loadfile, stack_weights, cr_calc"
   ]
  },
  {
   "cell_type": "code",
   "execution_count": 11,
   "metadata": {},
   "outputs": [],
   "source": [
    "#SWS\n",
    "#SWS w/ Scale\n",
    "#SWS w/ Scale fixed\n",
    "sws = loadfile(1, 0.1, 1000, 1000, 1e-6, int(0), 16, \"LeNet_300_100\", scaling=False, model_save_dir = \"./files\")\n",
    "swss = loadfile(1, 0.1, 1000, 1000, 1e-6, int(0), 16, \"LeNet_300_100\", scaling=True, model_save_dir = \"./files\")\n",
    "swssf = loadfile(1, 0.1, 1000, 1000, 1e-6, int(0), 16, \"LeNet_300_100\", scaling=True, model_save_dir = \"./files\", fn=\"_S0\")\n",
    "\n",
    "#SWS KD\n",
    "kd = loadfile(250, 10, 2500, 1250, 1e-6, 5, 16, \"LeNet_300_100\", model_save_dir = \"./files\", scaling=False, fn = \"_MSE\")\n",
    "#SWS KD w/ Scale\n",
    "kds = loadfile(250, 10, 2500, 1250, 1.3e-6, 5, 16, \"LeNet_300_100\", model_save_dir = \"./files\", scaling=True, fn = \"_MSE\")\n",
    "#SWS KD w/ Scale fixed\n",
    "kdsf = loadfile(250, 10, 2500, 1250, 1.3e-6, 5, 16, \"LeNet_300_100\", model_save_dir = \"./files\", scaling=True, fn = \"_MSE_S0\")"
   ]
  },
  {
   "cell_type": "code",
   "execution_count": 18,
   "metadata": {},
   "outputs": [],
   "source": [
    "s_exp = pd.DataFrame(columns = [\"method\", \"acc\", \"sp\"])\n",
    "s_exp.loc[0] = ([\"sws\", sws[\"prune_acc\"][\"test\"], sws[\"sparsity\"]])\n",
    "s_exp.loc[1] = ([\"swss\", swss[\"prune_acc\"][\"test\"], swss[\"sparsity\"]])\n",
    "s_exp.loc[2] = ([\"swssf\", swssf[\"prune_acc\"][\"test\"], swssf[\"sparsity\"]])\n",
    "s_exp.loc[3] = ([\"kd\", kd[\"prune_acc\"][\"test\"], kd[\"sparsity\"]])\n",
    "s_exp.loc[4] = ([\"kds\", kds[\"prune_acc\"][\"test\"], kds[\"sparsity\"]])\n",
    "s_exp.loc[5] = ([\"kdsf\", kdsf[\"prune_acc\"][\"test\"], kdsf[\"sparsity\"]])"
   ]
  },
  {
   "cell_type": "code",
   "execution_count": 20,
   "metadata": {},
   "outputs": [],
   "source": [
    "s = s_exp.query(\"method == \\'sws\\'\")\n",
    "ss = s_exp.query(\"method == \\'swss\\'\")\n",
    "ssf = s_exp.query(\"method == \\'swssf\\'\")\n",
    "kd = s_exp.query(\"method == \\'kd\\'\")\n",
    "kds = s_exp.query(\"method == \\'kds\\'\")\n",
    "kdsf = s_exp.query(\"method == \\'kdsf\\'\")"
   ]
  },
  {
   "cell_type": "code",
   "execution_count": 25,
   "metadata": {},
   "outputs": [
    {
     "data": {
      "text/plain": [
       "([0    97.51\n",
       "  Name: acc, dtype: float64, 1    97.5\n",
       "  Name: acc, dtype: float64], [0    97.752897\n",
       "  Name: sp, dtype: float64, 1    97.781404\n",
       "  Name: sp, dtype: float64])"
      ]
     },
     "execution_count": 25,
     "metadata": {},
     "output_type": "execute_result"
    }
   ],
   "source": [
    "[s['acc'], ss['acc']], [s['sp'], ss['sp']]"
   ]
  },
  {
   "cell_type": "code",
   "execution_count": 33,
   "metadata": {},
   "outputs": [
    {
     "data": {
      "text/plain": [
       "<matplotlib.legend.Legend at 0x2cf68956e80>"
      ]
     },
     "execution_count": 33,
     "metadata": {},
     "output_type": "execute_result"
    },
    {
     "data": {
      "image/png": "[encoded data removed]",
      "text/plain": [
       "<Figure size 432x288 with 1 Axes>"
      ]
     },
     "metadata": {},
     "output_type": "display_data"
    }
   ],
   "source": [
    "plt.scatter(s['acc'], s['sp'], color = 'b', marker = 'o', label = \"Original\")\n",
    "plt.scatter(ss['acc'], ss['sp'], color = 'b', marker = 'x', label = \"Free Scaling\")\n",
    "plt.scatter(ssf['acc'], ssf['sp'], color = 'b', marker = '^', label = \"Fixed Scale\")\n",
    "\n",
    "plt.scatter(kd['acc'], kd['sp'], color = 'g', marker = 'o')\n",
    "plt.scatter(kds['acc'], kds['sp'], color = 'g', marker = 'x')\n",
    "plt.scatter(kdsf['acc'], kdsf['sp'], color = 'g', marker = '^')\n",
    "\n",
    "plt.plot([float(s['acc']), float(ss['acc'])], [float(s['sp']), float(ss['sp'])], color = 'b', label = \"SWS\")\n",
    "plt.plot([float(s['acc']), float(ssf['acc'])], [float(s['sp']), float(ssf['sp'])], color = 'b')\n",
    "plt.plot([float(kd['acc']), float(kds['acc'])], [float(kd['sp']), float(kds['sp'])], color = 'g', label = \"SWS + KD\")\n",
    "plt.plot([float(kd['acc']), float(kdsf['acc'])], [float(kd['sp']), float(kdsf['sp'])], color = 'g')\n",
    "plt.legend()"
   ]
  },
  {
   "cell_type": "markdown",
   "metadata": {},
   "source": [
    "### Init std dev"
   ]
  },
  {
   "cell_type": "code",
   "execution_count": 40,
   "metadata": {},
   "outputs": [
    {
     "name": "stdout",
     "output_type": "stream",
     "text": [
      "1.0\n",
      "1.13086\n",
      "1.456649\n"
     ]
    }
   ],
   "source": [
    "dev = {}\n",
    "for layer in sws['init_weights']:\n",
    "    dev[layer] = np.std(sws['init_weights'][layer])\n",
    "\n",
    "for layer in dev:\n",
    "    print (dev[layer]/dev['fc1'])"
   ]
  }
 ],
 "metadata": {
  "kernelspec": {
   "display_name": "Python 3",
   "language": "python",
   "name": "python3"
  },
  "language_info": {
   "codemirror_mode": {
    "name": "ipython",
    "version": 3
   },
   "file_extension": ".py",
   "mimetype": "text/x-python",
   "name": "python",
   "nbconvert_exporter": "python",
   "pygments_lexer": "ipython3",
   "version": "3.6.5"
  },
  "varInspector": {
   "cols": {
    "lenName": 16,
    "lenType": 16,
    "lenVar": 40
   },
   "kernels_config": {
    "python": {
     "delete_cmd_postfix": "",
     "delete_cmd_prefix": "del ",
     "library": "var_list.py",
     "varRefreshCmd": "print(var_dic_list())"
    },
    "r": {
     "delete_cmd_postfix": ") ",
     "delete_cmd_prefix": "rm(",
     "library": "var_list.r",
     "varRefreshCmd": "cat(var_dic_list()) "
    }
   },
   "types_to_exclude": [
    "module",
    "function",
    "builtin_function_or_method",
    "instance",
    "_Feature"
   ],
   "window_display": true
  }
 },
 "nbformat": 4,
 "nbformat_minor": 2
}
