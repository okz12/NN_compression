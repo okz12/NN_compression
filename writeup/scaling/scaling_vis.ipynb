{
 "cells": [
  {
   "cell_type": "code",
   "execution_count": 1,
   "metadata": {},
   "outputs": [
    {
     "data": {
      "text/html": [
       "<style>.container { width:95% !important; }</style>"
      ],
      "text/plain": [
       "<IPython.core.display.HTML object>"
      ]
     },
     "metadata": {},
     "output_type": "display_data"
    }
   ],
   "source": [
    "#Expand notebook to take full screen width\n",
    "from IPython.core.display import display, HTML\n",
    "display(HTML(\"<style>.container { width:95% !important; }</style>\"))\n",
    "\n",
    "###\n",
    "import sys\n",
    "sys.path.insert(0,'../../src/')\n",
    "\n",
    "%load_ext autoreload\n",
    "%autoreload 2\n",
    "\n",
    "#%pdb"
   ]
  },
  {
   "cell_type": "code",
   "execution_count": 2,
   "metadata": {},
   "outputs": [],
   "source": [
    "%matplotlib inline\n",
    "import matplotlib.pyplot as plt\n",
    "import matplotlib\n",
    "import seaborn as sns\n",
    "import numpy as np\n",
    "import pickle\n",
    "import pandas as pd\n",
    "sns.reset_orig()\n",
    "matplotlib.rcParams.update({'font.size': 12})\n",
    "from utils_write import loadfile, stack_weights, cr_calc"
   ]
  },
  {
   "cell_type": "code",
   "execution_count": 126,
   "metadata": {},
   "outputs": [
    {
     "data": {
      "text/plain": [
       "Text(0,0.5,'Sparsity (%)')"
      ]
     },
     "execution_count": 126,
     "metadata": {},
     "output_type": "execute_result"
    },
    {
     "data": {
      "image/png": "[encoded data removed]",
      "text/plain": [
       "<Figure size 432x288 with 1 Axes>"
      ]
     },
     "metadata": {},
     "output_type": "display_data"
    }
   ],
   "source": [
    "#SWS\n",
    "#SWS w/ Scale\n",
    "#SWS w/ Scale fixed\n",
    "dset = \"mnist\"\n",
    "model = \"LeNet_300_100\"\n",
    "#model = \"LeNet_300_100\"\n",
    "\n",
    "\n",
    "#SWS KD\n",
    "#SWS KD w/ Scale\n",
    "#SWS KD w/ Scale fixed\n",
    "if (model == \"LeNet_300_100\"):\n",
    "    sws = loadfile(1, 0.1, 1000, 1000, 1e-6, int(0), 16, model, scaling=False, model_save_dir = \"./files\", dset = dset)\n",
    "    swss = loadfile(1, 0.1, 1000, 1000, 2e-6, int(0), 16, model, scaling=True, model_save_dir = \"./files\", dset = dset)\n",
    "    swssf = loadfile(1, 0.1, 1000, 1000, 2e-6, int(0), 16, model, scaling=True, model_save_dir = \"./files\", fn=\"_S0\", dset = dset)\n",
    "    kd = loadfile(250, 10, 2500, 1250, 1e-6, 5, 16, model, model_save_dir = \"./files\", scaling=False, fn = \"_MSE\", dset = dset)\n",
    "    kds = loadfile(250, 10, 2500, 1250, 2e-6, 4, 16, model, model_save_dir = \"./files\", scaling=True, fn = \"_MSE\", dset = dset)\n",
    "    kdsf = loadfile(250, 10, 2500, 1250, 2e-6, 4, 16, model, model_save_dir = \"./files\", scaling=True, fn = \"_MSE_S0\", dset = dset)\n",
    "\n",
    "else:\n",
    "    sws = loadfile(1, 0.1, 1000, 1000, 1e-6, int(0), 16, model, scaling=False, model_save_dir = \"../sws/files\", dset = dset)\n",
    "    swss = loadfile(1, 0.1, 1000, 1000, 2e-6, int(0), 16, model, scaling=True, model_save_dir = \"./files\", dset = dset)\n",
    "    swssf = loadfile(1, 0.1, 1000, 1000, 2e-6, int(0), 16, model, scaling=True, model_save_dir = \"./files\", fn=\"_S0\", dset = dset)\n",
    "    kd = loadfile(250, 10, 2500, 1250, 2e-7, 3, 16, model, model_save_dir = \"../vastkd/files\", scaling=False, fn = \"\", dset = dset)\n",
    "    kds = loadfile(250, 10, 2500, 1250, 2e-7, 4, 16, model, model_save_dir = \"./files\", scaling=True, fn = \"_MSE\", dset = dset)\n",
    "    kdsf = loadfile(250, 10, 2500, 1250, 2e-7, 4, 16, model, model_save_dir = \"./files\", scaling=True, fn = \"_MSE_S0\", dset = dset)\n",
    "s_exp = pd.DataFrame(columns = [\"method\", \"acc\", \"sp\"])\n",
    "s_exp.loc[0] = ([\"sws\", sws[\"prune_acc\"][\"test\"], sws[\"sparsity\"]])\n",
    "s_exp.loc[1] = ([\"swss\", swss[\"prune_acc\"][\"test\"], swss[\"sparsity\"]])\n",
    "s_exp.loc[2] = ([\"swssf\", swssf[\"prune_acc\"][\"test\"], swssf[\"sparsity\"]])\n",
    "s_exp.loc[3] = ([\"kd\", kd[\"prune_acc\"][\"test\"], kd[\"sparsity\"]])\n",
    "s_exp.loc[4] = ([\"kds\", kds[\"prune_acc\"][\"test\"], kds[\"sparsity\"]])\n",
    "s_exp.loc[5] = ([\"kdsf\", kdsf[\"prune_acc\"][\"test\"], kdsf[\"sparsity\"]])\n",
    "\n",
    "s = s_exp.query(\"method == \\'sws\\'\")\n",
    "ss = s_exp.query(\"method == \\'swss\\'\")\n",
    "ssf = s_exp.query(\"method == \\'swssf\\'\")\n",
    "kd = s_exp.query(\"method == \\'kd\\'\")\n",
    "kds = s_exp.query(\"method == \\'kds\\'\")\n",
    "kdsf = s_exp.query(\"method == \\'kdsf\\'\")\n",
    "\n",
    "\n",
    "### Building Legend\n",
    "plt.scatter(s['sp'], s['acc'],  color = 'k', marker = 'o', label = \"Original\")\n",
    "plt.scatter(ss['sp'], ss['acc'],  color = 'k', marker = '^', label = \"Free Scaling\")\n",
    "plt.scatter(ssf['sp'], ssf['acc'],  color = 'k', marker = 's', label = \"Fixed Scale\")\n",
    "\n",
    "#Plot lines\n",
    "plt.plot([float(s['sp']), float(ss['sp'])], [float(s['acc']), float(ss['acc'])], color = 'b', label = \"SWS\")\n",
    "plt.plot([float(s['sp']), float(ssf['sp'])], [float(s['acc']), float(ssf['acc'])], color = 'b')\n",
    "plt.plot([float(kd['sp']), float(kds['sp'])], [float(kd['acc']), float(kds['acc'])], color = 'g', label = \"SWS + KD\")\n",
    "plt.plot([float(kd['sp']), float(kdsf['sp'])], [float(kd['acc']), float(kdsf['acc'])],color = 'g')\n",
    "\n",
    "plt.legend()\n",
    "\n",
    "#Plot scatter\n",
    "plt.scatter(s['sp'], s['acc'],  color = 'b', marker = 'o', label = \"Original\")\n",
    "plt.scatter(ss['sp'], ss['acc'], color = 'b', marker = '^', label = \"Free Scaling\")\n",
    "plt.scatter(ssf['sp'], ssf['acc'], color = 'b', marker = 's', label = \"Fixed Scale\")\n",
    "\n",
    "plt.scatter(kd['sp'], kd['acc'], color = 'g', marker = 'o')\n",
    "plt.scatter(kds['sp'], kds['acc'], color = 'g', marker = '^')\n",
    "plt.scatter(kdsf['sp'], kdsf['acc'], color = 'g', marker = 's')\n",
    "\n",
    "plt.xlabel('Accuracy (%)')\n",
    "plt.ylabel('Sparsity (%)')"
   ]
  },
  {
   "cell_type": "code",
   "execution_count": 110,
   "metadata": {},
   "outputs": [
    {
     "data": {
      "text/html": [
       "<div>\n",
       "<style scoped>\n",
       "    .dataframe tbody tr th:only-of-type {\n",
       "        vertical-align: middle;\n",
       "    }\n",
       "\n",
       "    .dataframe tbody tr th {\n",
       "        vertical-align: top;\n",
       "    }\n",
       "\n",
       "    .dataframe thead th {\n",
       "        text-align: right;\n",
       "    }\n",
       "</style>\n",
       "<table border=\"1\" class=\"dataframe\">\n",
       "  <thead>\n",
       "    <tr style=\"text-align: right;\">\n",
       "      <th></th>\n",
       "      <th>method</th>\n",
       "      <th>acc</th>\n",
       "      <th>sp</th>\n",
       "    </tr>\n",
       "  </thead>\n",
       "  <tbody>\n",
       "    <tr>\n",
       "      <th>3</th>\n",
       "      <td>kd</td>\n",
       "      <td>97.91</td>\n",
       "      <td>98.858606</td>\n",
       "    </tr>\n",
       "  </tbody>\n",
       "</table>\n",
       "</div>"
      ],
      "text/plain": [
       "  method    acc         sp\n",
       "3     kd  97.91  98.858606"
      ]
     },
     "execution_count": 110,
     "metadata": {},
     "output_type": "execute_result"
    }
   ],
   "source": [
    "kd"
   ]
  },
  {
   "cell_type": "code",
   "execution_count": 105,
   "metadata": {},
   "outputs": [
    {
     "name": "stdout",
     "output_type": "stream",
     "text": [
      " Volume in drive C is OS\n",
      " Volume Serial Number is D21C-4FD8\n",
      "\n",
      " Directory of C:\\Users\\osman\\OneDrive\\MLSALT\\MPhil Project\\Code\\localgit\\NN_compression\\writeup\\scaling\n",
      "\n",
      "12/08/2018  18:34    <DIR>          .\n",
      "12/08/2018  18:34    <DIR>          ..\n",
      "11/08/2018  17:51    <DIR>          .ipynb_checkpoints\n",
      "12/08/2018  16:39            11,485 exp.py\n",
      "12/08/2018  18:05    <DIR>          files\n",
      "10/08/2018  12:55           125,818 scaling_exp-Copy1.ipynb\n",
      "12/08/2018  14:18           244,222 scaling_exp.ipynb\n",
      "12/08/2018  18:34            45,304 scaling_vis.ipynb\n",
      "               4 File(s)        426,829 bytes\n",
      "               4 Dir(s)  261,246,578,688 bytes free\n"
     ]
    }
   ],
   "source": [
    "! dir"
   ]
  },
  {
   "cell_type": "code",
   "execution_count": null,
   "metadata": {},
   "outputs": [],
   "source": [
    "#SWS\n",
    "#SWS w/ Scale\n",
    "#SWS w/ Scale fixed\n",
    "dset = \"fashionmnist\"\n",
    "sws = loadfile(1, 0.1, 1000, 1000, 1e-6, int(0), 16, \"LeNet_300_100\", scaling=False, model_save_dir = \"./files\", dset = dset)\n",
    "swss = loadfile(1, 0.1, 1000, 1000, 1e-6, int(0), 16, \"LeNet_300_100\", scaling=True, model_save_dir = \"./files\", dset = dset)\n",
    "swssf = loadfile(1, 0.1, 1000, 1000, 1e-6, int(0), 16, \"LeNet_300_100\", scaling=True, model_save_dir = \"./files\", fn=\"_S0\", dset = dset)\n",
    "\n",
    "#SWS KD\n",
    "#SWS KD w/ Scale\n",
    "#SWS KD w/ Scale fixed\n",
    "kd = loadfile(250, 10, 2500, 1250, 1e-6, 5, 16, \"LeNet_300_100\", model_save_dir = \"./files\", scaling=False, fn = \"_MSE\", dset = dset)\n",
    "kds = loadfile(250, 10, 2500, 1250, 1.3e-6, 5, 16, \"LeNet_300_100\", model_save_dir = \"./files\", scaling=True, fn = \"_MSE\", dset = dset)\n",
    "kdsf = loadfile(250, 10, 2500, 1250, 1.3e-6, 5, 16, \"LeNet_300_100\", model_save_dir = \"./files\", scaling=True, fn = \"_MSE_S0\", dset = dset)\n",
    "\n",
    "s_exp = pd.DataFrame(columns = [\"method\", \"acc\", \"sp\"])\n",
    "s_exp.loc[0] = ([\"sws\", sws[\"prune_acc\"][\"test\"], sws[\"sparsity\"]])\n",
    "s_exp.loc[1] = ([\"swss\", swss[\"prune_acc\"][\"test\"], swss[\"sparsity\"]])\n",
    "s_exp.loc[2] = ([\"swssf\", swssf[\"prune_acc\"][\"test\"], swssf[\"sparsity\"]])\n",
    "s_exp.loc[3] = ([\"kd\", kd[\"prune_acc\"][\"test\"], kd[\"sparsity\"]])\n",
    "s_exp.loc[4] = ([\"kds\", kds[\"prune_acc\"][\"test\"], kds[\"sparsity\"]])\n",
    "s_exp.loc[5] = ([\"kdsf\", kdsf[\"prune_acc\"][\"test\"], kdsf[\"sparsity\"]])\n",
    "\n",
    "s = s_exp.query(\"method == \\'sws\\'\")\n",
    "ss = s_exp.query(\"method == \\'swss\\'\")\n",
    "ssf = s_exp.query(\"method == \\'swssf\\'\")\n",
    "kd = s_exp.query(\"method == \\'kd\\'\")\n",
    "kds = s_exp.query(\"method == \\'kds\\'\")\n",
    "kdsf = s_exp.query(\"method == \\'kdsf\\'\")\n",
    "\n",
    "plt.scatter(s['acc'], s['sp'], color = 'k', marker = 'o', label = \"Original\")\n",
    "plt.scatter(ss['acc'], ss['sp'], color = 'k', marker = '^', label = \"Free Scaling\")\n",
    "plt.scatter(ssf['acc'], ssf['sp'], color = 'k', marker = 's', label = \"Fixed Scale\")\n",
    "\n",
    "plt.plot([float(s['acc']), float(ss['acc'])], [float(s['sp']), float(ss['sp'])], color = 'b', label = \"SWS\")\n",
    "plt.plot([float(s['acc']), float(ssf['acc'])], [float(s['sp']), float(ssf['sp'])], color = 'b')\n",
    "plt.plot([float(kd['acc']), float(kds['acc'])], [float(kd['sp']), float(kds['sp'])], color = 'g', label = \"SWS + KD\")\n",
    "plt.plot([float(kd['acc']), float(kdsf['acc'])], [float(kd['sp']), float(kdsf['sp'])], color = 'g')\n",
    "\n",
    "plt.legend()\n",
    "\n",
    "plt.scatter(s['acc'], s['sp'], color = 'b', marker = 'o', label = \"Original\")\n",
    "plt.scatter(ss['acc'], ss['sp'], color = 'b', marker = '^', label = \"Free Scaling\")\n",
    "plt.scatter(ssf['acc'], ssf['sp'], color = 'b', marker = 's', label = \"Fixed Scale\")\n",
    "\n",
    "plt.scatter(s['acc'], s['sp'], color = 'b', marker = 'o', label = \"Original\")\n",
    "plt.scatter(ss['acc'], ss['sp'], color = 'b', marker = '^', label = \"Free Scaling\")\n",
    "plt.scatter(ssf['acc'], ssf['sp'], color = 'b', marker = 's', label = \"Fixed Scale\")\n",
    "\n",
    "plt.scatter(kd['acc'], kd['sp'], color = 'g', marker = 'o')\n",
    "plt.scatter(kds['acc'], kds['sp'], color = 'g', marker = '^')\n",
    "plt.scatter(kdsf['acc'], kdsf['sp'], color = 'g', marker = 's')\n",
    "\n"
   ]
  },
  {
   "cell_type": "code",
   "execution_count": null,
   "metadata": {},
   "outputs": [],
   "source": [
    "#SWS\n",
    "#SWS w/ Scale\n",
    "#SWS w/ Scale fixed\n",
    "dset = \"fashionmnist\"\n",
    "sws = loadfile(1, 0.1, 1000, 1000, 1e-6, int(0), 16, \"LeNet_300_100\", scaling=False, model_save_dir = \"./files\", dset = dset)\n",
    "swss = loadfile(1, 0.1, 1000, 1000, 1e-6, int(0), 16, \"LeNet_300_100\", scaling=True, model_save_dir = \"./files\", dset = dset)\n",
    "swssf = loadfile(1, 0.1, 1000, 1000, 1e-6, int(0), 16, \"LeNet_300_100\", scaling=True, model_save_dir = \"./files\", fn=\"_S0\", dset = dset)\n",
    "\n",
    "#SWS KD\n",
    "#SWS KD w/ Scale\n",
    "#SWS KD w/ Scale fixed\n",
    "kd = loadfile(250, 10, 2500, 1250, 1e-6, 5, 16, \"LeNet_300_100\", model_save_dir = \"./files\", scaling=False, fn = \"_MSE\", dset = dset)\n",
    "kds = loadfile(250, 10, 2500, 1250, 1.3e-6, 5, 16, \"LeNet_300_100\", model_save_dir = \"./files\", scaling=True, fn = \"_MSE\", dset = dset)\n",
    "kdsf = loadfile(250, 10, 2500, 1250, 1.3e-6, 5, 16, \"LeNet_300_100\", model_save_dir = \"./files\", scaling=True, fn = \"_MSE_S0\", dset = dset)\n",
    "\n",
    "s_exp = pd.DataFrame(columns = [\"method\", \"acc\", \"sp\"])\n",
    "s_exp.loc[0] = ([\"sws\", sws[\"prune_acc\"][\"test\"], sws[\"sparsity\"]])\n",
    "s_exp.loc[1] = ([\"swss\", swss[\"prune_acc\"][\"test\"], swss[\"sparsity\"]])\n",
    "s_exp.loc[2] = ([\"swssf\", swssf[\"prune_acc\"][\"test\"], swssf[\"sparsity\"]])\n",
    "s_exp.loc[3] = ([\"kd\", kd[\"prune_acc\"][\"test\"], kd[\"sparsity\"]])\n",
    "s_exp.loc[4] = ([\"kds\", kds[\"prune_acc\"][\"test\"], kds[\"sparsity\"]])\n",
    "s_exp.loc[5] = ([\"kdsf\", kdsf[\"prune_acc\"][\"test\"], kdsf[\"sparsity\"]])\n",
    "\n",
    "s = s_exp.query(\"method == \\'sws\\'\")\n",
    "ss = s_exp.query(\"method == \\'swss\\'\")\n",
    "ssf = s_exp.query(\"method == \\'swssf\\'\")\n",
    "kd = s_exp.query(\"method == \\'kd\\'\")\n",
    "kds = s_exp.query(\"method == \\'kds\\'\")\n",
    "kdsf = s_exp.query(\"method == \\'kdsf\\'\")\n",
    "\n",
    "plt.scatter(s['acc'], s['sp'], color = 'k', marker = 'o', label = \"Original\")\n",
    "plt.scatter(ss['acc'], ss['sp'], color = 'k', marker = '^', label = \"Free Scaling\")\n",
    "plt.scatter(ssf['acc'], ssf['sp'], color = 'k', marker = 's', label = \"Fixed Scale\")\n",
    "\n",
    "plt.plot([float(s['acc']), float(ss['acc'])], [float(s['sp']), float(ss['sp'])], color = 'b', label = \"SWS\")\n",
    "plt.plot([float(s['acc']), float(ssf['acc'])], [float(s['sp']), float(ssf['sp'])], color = 'b')\n",
    "plt.plot([float(kd['acc']), float(kds['acc'])], [float(kd['sp']), float(kds['sp'])], color = 'g', label = \"SWS + KD\")\n",
    "plt.plot([float(kd['acc']), float(kdsf['acc'])], [float(kd['sp']), float(kdsf['sp'])], color = 'g')\n",
    "\n",
    "plt.legend()\n",
    "\n",
    "plt.scatter(s['acc'], s['sp'], color = 'b', marker = 'o', label = \"Original\")\n",
    "plt.scatter(ss['acc'], ss['sp'], color = 'b', marker = '^', label = \"Free Scaling\")\n",
    "plt.scatter(ssf['acc'], ssf['sp'], color = 'b', marker = 's', label = \"Fixed Scale\")\n",
    "\n",
    "plt.scatter(s['acc'], s['sp'], color = 'b', marker = 'o', label = \"Original\")\n",
    "plt.scatter(ss['acc'], ss['sp'], color = 'b', marker = '^', label = \"Free Scaling\")\n",
    "plt.scatter(ssf['acc'], ssf['sp'], color = 'b', marker = 's', label = \"Fixed Scale\")\n",
    "\n",
    "plt.scatter(kd['acc'], kd['sp'], color = 'g', marker = 'o')\n",
    "plt.scatter(kds['acc'], kds['sp'], color = 'g', marker = '^')\n",
    "plt.scatter(kdsf['acc'], kdsf['sp'], color = 'g', marker = 's')\n",
    "\n"
   ]
  },
  {
   "cell_type": "markdown",
   "metadata": {},
   "source": [
    "### Init std dev"
   ]
  },
  {
   "cell_type": "code",
   "execution_count": 40,
   "metadata": {},
   "outputs": [
    {
     "name": "stdout",
     "output_type": "stream",
     "text": [
      "1.0\n",
      "1.13086\n",
      "1.456649\n"
     ]
    }
   ],
   "source": [
    "dev = {}\n",
    "for layer in sws['init_weights']:\n",
    "    dev[layer] = np.std(sws['init_weights'][layer])\n",
    "\n",
    "for layer in dev:\n",
    "    print (dev[layer]/dev['fc1'])"
   ]
  },
  {
   "cell_type": "markdown",
   "metadata": {},
   "source": [
    "### Increasing Scale"
   ]
  },
  {
   "cell_type": "code",
   "execution_count": 49,
   "metadata": {},
   "outputs": [
    {
     "data": {
      "text/plain": [
       "[<matplotlib.lines.Line2D at 0x2cf68d1d710>,\n",
       " <matplotlib.lines.Line2D at 0x2cf68d1d860>]"
      ]
     },
     "execution_count": 49,
     "metadata": {},
     "output_type": "execute_result"
    },
    {
     "data": {
      "image/png": "[encoded data removed]",
      "text/plain": [
       "<Figure size 432x288 with 1 Axes>"
      ]
     },
     "metadata": {},
     "output_type": "display_data"
    }
   ],
   "source": [
    "with open(\"./files/mnist_retrain_res_LeNet_300_100_m250_zm2500_r50_t1e-06_m16_kdT5_s_full_MSE_LR.p\", \"rb\") as f:\n",
    "    scres = pickle.load(f)\n",
    "plt.plot(scres['scale'])"
   ]
  }
 ],
 "metadata": {
  "kernelspec": {
   "display_name": "Python 3",
   "language": "python",
   "name": "python3"
  },
  "language_info": {
   "codemirror_mode": {
    "name": "ipython",
    "version": 3
   },
   "file_extension": ".py",
   "mimetype": "text/x-python",
   "name": "python",
   "nbconvert_exporter": "python",
   "pygments_lexer": "ipython3",
   "version": "3.6.5"
  },
  "varInspector": {
   "cols": {
    "lenName": 16,
    "lenType": 16,
    "lenVar": 40
   },
   "kernels_config": {
    "python": {
     "delete_cmd_postfix": "",
     "delete_cmd_prefix": "del ",
     "library": "var_list.py",
     "varRefreshCmd": "print(var_dic_list())"
    },
    "r": {
     "delete_cmd_postfix": ") ",
     "delete_cmd_prefix": "rm(",
     "library": "var_list.r",
     "varRefreshCmd": "cat(var_dic_list()) "
    }
   },
   "types_to_exclude": [
    "module",
    "function",
    "builtin_function_or_method",
    "instance",
    "_Feature"
   ],
   "window_display": true
  }
 },
 "nbformat": 4,
 "nbformat_minor": 2
}
