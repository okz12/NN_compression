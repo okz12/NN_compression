{
 "cells": [
  {
   "cell_type": "code",
   "execution_count": 1,
   "metadata": {},
   "outputs": [
    {
     "data": {
      "text/html": [
       "<style>.container { width:95% !important; }</style>"
      ],
      "text/plain": [
       "<IPython.core.display.HTML object>"
      ]
     },
     "metadata": {},
     "output_type": "display_data"
    },
    {
     "data": {
      "application/javascript": [
       "if (!(\"Notification\" in window)) {\n",
       "    alert(\"This browser does not support desktop notifications, so the %%notify magic will not work.\");\n",
       "} else if (Notification.permission !== 'granted' && Notification.permission !== 'denied') {\n",
       "    Notification.requestPermission(function (permission) {\n",
       "        if(!('permission' in Notification)) {\n",
       "            Notification.permission = permission;\n",
       "        }\n",
       "    })\n",
       "}\n"
      ],
      "text/plain": [
       "<IPython.core.display.Javascript object>"
      ]
     },
     "metadata": {},
     "output_type": "display_data"
    },
    {
     "name": "stdout",
     "output_type": "stream",
     "text": [
      "Automatic pdb calling has been turned ON\n"
     ]
    }
   ],
   "source": [
    "#Expand notebook to take full screen width\n",
    "from IPython.core.display import display, HTML\n",
    "display(HTML(\"<style>.container { width:95% !important; }</style>\"))\n",
    "\n",
    "#Jupyter magic to notify when a cell finishes execution with %%notify command -- does not work with Jupyterlab\n",
    "import jupyternotify\n",
    "ip = get_ipython()\n",
    "ip.register_magics(jupyternotify.JupyterNotifyMagics)\n",
    "\n",
    "###\n",
    "import sys\n",
    "sys.path.insert(0,'../../src/')\n",
    "\n",
    "%load_ext autoreload\n",
    "%autoreload 2\n",
    "\n",
    "%pdb"
   ]
  },
  {
   "cell_type": "code",
   "execution_count": 2,
   "metadata": {},
   "outputs": [
    {
     "name": "stderr",
     "output_type": "stream",
     "text": [
      "/anaconda/envs/py35/lib/python3.5/importlib/_bootstrap.py:222: RuntimeWarning: numpy.dtype size changed, may indicate binary incompatibility. Expected 96, got 88\n",
      "  return f(*args, **kwds)\n",
      "/anaconda/envs/py35/lib/python3.5/importlib/_bootstrap.py:222: RuntimeWarning: numpy.dtype size changed, may indicate binary incompatibility. Expected 96, got 88\n",
      "  return f(*args, **kwds)\n"
     ]
    }
   ],
   "source": [
    "import torch\n",
    "import torch.nn as nn\n",
    "import torchvision.transforms as transforms\n",
    "import torchvision.datasets as dsets\n",
    "from torch.nn.modules import Module\n",
    "from torch.autograd import Variable\n",
    "import torch.nn.functional as F\n",
    "import numpy as np\n",
    "import copy\n",
    "import pickle\n",
    "import model_archs\n",
    "\n",
    "from utils_plot import show_sws_weights, show_weights, print_dims, prune_plot, draw_sws_graphs, joint_plot, plot_data, show_sws_weights_log\n",
    "from utils_model import test_accuracy, train_epoch, retrain_sws_epoch, model_prune, get_weight_penalty, layer_accuracy\n",
    "from utils_misc import trueAfterN, logsumexp, root_dir, model_load_dir, get_ab, get_sparsity\n",
    "from utils_sws import GaussianMixturePrior, special_flatten, KL, compute_responsibilies, merger, sws_prune, sws_prune_l2, sws_prune_copy\n",
    "from mnist_loader import search_train_data, search_retrain_data, search_validation_data, train_data, test_data, batch_size\n",
    "from extract_targets import get_targets\n",
    "from retrain_layer import init_retrain_layer\n",
    "from retrain_model import retrain_model\n",
    "\n",
    "test_data_full = Variable(test_data(fetch='data')).cuda()\n",
    "test_labels_full = Variable(test_data(fetch='labels')).cuda()\n",
    "\n",
    "%matplotlib inline\n",
    "import matplotlib.pyplot as plt\n",
    "import seaborn as sns\n",
    "import numpy as np\n",
    "import pickle"
   ]
  },
  {
   "cell_type": "markdown",
   "metadata": {},
   "source": [
    "### SWS"
   ]
  },
  {
   "cell_type": "code",
   "execution_count": 4,
   "metadata": {},
   "outputs": [
    {
     "name": "stderr",
     "output_type": "stream",
     "text": [
      "/anaconda/envs/py35/lib/python3.5/site-packages/torch/serialization.py:325: SourceChangeWarning: source code of class 'model_archs.LeNet_300_100' has changed. you can retrieve the original source code by accessing the object's source attribute or set `torch.nn.Module.dump_patches = True` and use the patch tool to revert the changes.\n",
      "  warnings.warn(msg, SourceChangeWarning)\n"
     ]
    },
    {
     "name": "stdout",
     "output_type": "stream",
     "text": [
      "0-component Mean: 1000.0 Variance: 1000.0\n",
      "Non-zero component Mean: 1.0 Variance: 0.1\n",
      "Epoch: 10. Test Accuracy: 97.06, Prune Accuracy: 96.76, Sparsity: 97.61\n",
      "Epoch: 20. Test Accuracy: 97.49, Prune Accuracy: 97.28, Sparsity: 97.62\n",
      "Epoch: 30. Test Accuracy: 97.59, Prune Accuracy: 97.27, Sparsity: 97.64\n",
      "Epoch: 40. Test Accuracy: 97.71, Prune Accuracy: 97.20, Sparsity: 97.67\n",
      "Epoch: 50. Test Accuracy: 97.69, Prune Accuracy: 97.17, Sparsity: 97.73\n",
      "Retrain Test: 97.69, Prune Test: 97.17, Prune Sparsity: 97.73\n"
     ]
    },
    {
     "data": {
      "text/plain": [
       "<matplotlib.figure.Figure at 0x7ff14fe31dd8>"
      ]
     },
     "metadata": {},
     "output_type": "display_data"
    },
    {
     "data": {
      "image/png": "[encoded data removed]",
      "text/plain": [
       "<matplotlib.figure.Figure at 0x7ff14fe3b6d8>"
      ]
     },
     "metadata": {},
     "output_type": "display_data"
    }
   ],
   "source": [
    "model, gmp, res = retrain_model(1, 0.1, 1000, 1000, 1e-6, int(0), 16, \"LeNet_300_100\", \"full\", 'CESNT', False, \"\")\n",
    "show_sws_weights_log(model = model, means = list(gmp.means.data.clone().cpu()), precisions = list(gmp.gammas.data.clone().cpu()))"
   ]
  },
  {
   "cell_type": "code",
   "execution_count": 5,
   "metadata": {},
   "outputs": [
    {
     "name": "stderr",
     "output_type": "stream",
     "text": [
      "/anaconda/envs/py35/lib/python3.5/site-packages/torch/serialization.py:325: SourceChangeWarning: source code of class 'model_archs.LeNet_300_100' has changed. you can retrieve the original source code by accessing the object's source attribute or set `torch.nn.Module.dump_patches = True` and use the patch tool to revert the changes.\n",
      "  warnings.warn(msg, SourceChangeWarning)\n"
     ]
    },
    {
     "name": "stdout",
     "output_type": "stream",
     "text": [
      "0-component Mean: 1000.0 Variance: 1000.0\n",
      "Non-zero component Mean: 1.0 Variance: 0.1\n",
      "Epoch: 10. Test Accuracy: 97.04, Prune Accuracy: 96.69, Sparsity: 97.63\n",
      "Epoch: 20. Test Accuracy: 97.55, Prune Accuracy: 97.41, Sparsity: 97.65\n",
      "Epoch: 30. Test Accuracy: 97.71, Prune Accuracy: 97.54, Sparsity: 97.66\n",
      "Epoch: 40. Test Accuracy: 97.85, Prune Accuracy: 97.52, Sparsity: 97.71\n",
      "Epoch: 50. Test Accuracy: 97.80, Prune Accuracy: 97.64, Sparsity: 97.73\n",
      "Retrain Test: 97.80, Prune Test: 97.64, Prune Sparsity: 97.73\n"
     ]
    },
    {
     "data": {
      "text/plain": [
       "<matplotlib.figure.Figure at 0x7ff14f983cc0>"
      ]
     },
     "metadata": {},
     "output_type": "display_data"
    },
    {
     "data": {
      "image/png": "[encoded data removed]",
      "text/plain": [
       "<matplotlib.figure.Figure at 0x7ff14fe3b3c8>"
      ]
     },
     "metadata": {},
     "output_type": "display_data"
    }
   ],
   "source": [
    "model, gmp, res = retrain_model(1, 0.1, 1000, 1000, 1e-6, int(0), 16, \"LeNet_300_100\", \"full\", 'CESNT', True, \"\")\n",
    "show_sws_weights_log(model = model, means = list(gmp.means.data.clone().cpu()), precisions = list(gmp.gammas.data.clone().cpu()))"
   ]
  },
  {
   "cell_type": "code",
   "execution_count": 8,
   "metadata": {
    "collapsed": true
   },
   "outputs": [
    {
     "name": "stderr",
     "output_type": "stream",
     "text": [
      "/anaconda/envs/py35/lib/python3.5/site-packages/torch/serialization.py:325: SourceChangeWarning: source code of class 'model_archs.LeNet_300_100' has changed. you can retrieve the original source code by accessing the object's source attribute or set `torch.nn.Module.dump_patches = True` and use the patch tool to revert the changes.\n",
      "  warnings.warn(msg, SourceChangeWarning)\n"
     ]
    },
    {
     "name": "stdout",
     "output_type": "stream",
     "text": [
      "0-component Mean: 1000.0 Variance: 1000.0\n",
      "Non-zero component Mean: 1.0 Variance: 0.1\n",
      "Scaling Disabled - Epoch 0\n",
      "Epoch: 10. Test Accuracy: 97.13, Prune Accuracy: 96.47, Sparsity: 97.63\n",
      "Epoch: 20. Test Accuracy: 97.70, Prune Accuracy: 97.29, Sparsity: 97.65\n",
      "Epoch: 30. Test Accuracy: 97.68, Prune Accuracy: 97.50, Sparsity: 97.63\n",
      "Epoch: 40. Test Accuracy: 97.82, Prune Accuracy: 97.58, Sparsity: 97.68\n",
      "Epoch: 50. Test Accuracy: 97.69, Prune Accuracy: 97.52, Sparsity: 97.71\n",
      "Retrain Test: 97.69, Prune Test: 97.52, Prune Sparsity: 97.71\n"
     ]
    },
    {
     "data": {
      "text/plain": [
       "<matplotlib.figure.Figure at 0x7f340fdbe160>"
      ]
     },
     "metadata": {},
     "output_type": "display_data"
    },
    {
     "data": {
      "image/png": "[encoded data removed]",
      "text/plain": [
       "<matplotlib.figure.Figure at 0x7f340fdb6358>"
      ]
     },
     "metadata": {},
     "output_type": "display_data"
    }
   ],
   "source": [
    "model, gmp, res = retrain_model(1, 0.1, 1000, 1000, 1e-6, int(0), 16, \"LeNet_300_100\", \"full\", 'CESNT', True, \"./files\", fn = \"_S0\")\n",
    "show_sws_weights_log(model = model, means = list(gmp.means.data.clone().cpu()), precisions = list(gmp.gammas.data.clone().cpu()))"
   ]
  },
  {
   "cell_type": "markdown",
   "metadata": {},
   "source": [
    "### SWS + KD"
   ]
  },
  {
   "cell_type": "markdown",
   "metadata": {},
   "source": [
    "#### CE"
   ]
  },
  {
   "cell_type": "code",
   "execution_count": 6,
   "metadata": {
    "scrolled": true
   },
   "outputs": [
    {
     "name": "stderr",
     "output_type": "stream",
     "text": [
      "/anaconda/envs/py35/lib/python3.5/site-packages/torch/serialization.py:325: SourceChangeWarning: source code of class 'model_archs.LeNet_300_100' has changed. you can retrieve the original source code by accessing the object's source attribute or set `torch.nn.Module.dump_patches = True` and use the patch tool to revert the changes.\n",
      "  warnings.warn(msg, SourceChangeWarning)\n"
     ]
    },
    {
     "name": "stdout",
     "output_type": "stream",
     "text": [
      "0-component Mean: 5000.0 Variance: 1000.0\n",
      "Non-zero component Mean: 1000.0 Variance: 0.1\n",
      "Epoch: 10. Test Accuracy: 98.34, Prune Accuracy: 98.13, Sparsity: 65.04\n",
      "Epoch: 20. Test Accuracy: 98.12, Prune Accuracy: 96.18, Sparsity: 89.24\n",
      "Epoch: 30. Test Accuracy: 98.11, Prune Accuracy: 96.78, Sparsity: 96.95\n",
      "Epoch: 40. Test Accuracy: 98.10, Prune Accuracy: 97.31, Sparsity: 96.95\n",
      "Epoch: 50. Test Accuracy: 98.12, Prune Accuracy: 97.61, Sparsity: 96.96\n",
      "Retrain Test: 98.12, Prune Test: 97.61, Prune Sparsity: 96.96\n"
     ]
    },
    {
     "data": {
      "text/plain": [
       "<matplotlib.figure.Figure at 0x7ff14f923d68>"
      ]
     },
     "metadata": {},
     "output_type": "display_data"
    },
    {
     "data": {
      "image/png": "[encoded data removed]",
      "text/plain": [
       "<matplotlib.figure.Figure at 0x7ff14f911be0>"
      ]
     },
     "metadata": {},
     "output_type": "display_data"
    }
   ],
   "source": [
    "model, gmp, res = retrain_model(1000, 0.1, 5000, 1000, 1e-5, 5, 16, \"LeNet_300_100\", \"full\", 'CEST', False, \"\", fn = \"_CE\")\n",
    "show_sws_weights_log(model = model, means = list(gmp.means.data.clone().cpu()), precisions = list(gmp.gammas.data.clone().cpu()))"
   ]
  },
  {
   "cell_type": "code",
   "execution_count": 7,
   "metadata": {
    "scrolled": true
   },
   "outputs": [
    {
     "name": "stderr",
     "output_type": "stream",
     "text": [
      "/anaconda/envs/py35/lib/python3.5/site-packages/torch/serialization.py:325: SourceChangeWarning: source code of class 'model_archs.LeNet_300_100' has changed. you can retrieve the original source code by accessing the object's source attribute or set `torch.nn.Module.dump_patches = True` and use the patch tool to revert the changes.\n",
      "  warnings.warn(msg, SourceChangeWarning)\n"
     ]
    },
    {
     "name": "stdout",
     "output_type": "stream",
     "text": [
      "0-component Mean: 5000.0 Variance: 1000.0\n",
      "Non-zero component Mean: 1000.0 Variance: 0.1\n",
      "Epoch: 10. Test Accuracy: 98.31, Prune Accuracy: 97.56, Sparsity: 73.42\n",
      "Epoch: 20. Test Accuracy: 97.71, Prune Accuracy: 94.17, Sparsity: 97.50\n",
      "Epoch: 30. Test Accuracy: 97.83, Prune Accuracy: 96.21, Sparsity: 97.50\n",
      "Epoch: 40. Test Accuracy: 97.73, Prune Accuracy: 96.56, Sparsity: 97.50\n",
      "Epoch: 50. Test Accuracy: 97.69, Prune Accuracy: 96.87, Sparsity: 97.50\n",
      "Retrain Test: 97.69, Prune Test: 96.87, Prune Sparsity: 97.50\n"
     ]
    },
    {
     "data": {
      "text/plain": [
       "<matplotlib.figure.Figure at 0x7ff14f923908>"
      ]
     },
     "metadata": {},
     "output_type": "display_data"
    },
    {
     "data": {
      "image/png": "[encoded data removed]",
      "text/plain": [
       "<matplotlib.figure.Figure at 0x7ff14f70bb38>"
      ]
     },
     "metadata": {},
     "output_type": "display_data"
    }
   ],
   "source": [
    "#tau -> 1.5\n",
    "model, gmp, res = retrain_model(1000, 0.1, 5000, 1000, 1.5e-5, 5, 16, \"LeNet_300_100\", \"full\", 'CEST', True, \"\", fn = \"_CE\")\n",
    "show_sws_weights_log(model = model, means = list(gmp.means.data.clone().cpu()), precisions = list(gmp.gammas.data.clone().cpu()))"
   ]
  },
  {
   "cell_type": "code",
   "execution_count": 9,
   "metadata": {
    "collapsed": true
   },
   "outputs": [
    {
     "name": "stderr",
     "output_type": "stream",
     "text": [
      "/anaconda/envs/py35/lib/python3.5/site-packages/torch/serialization.py:325: SourceChangeWarning: source code of class 'model_archs.LeNet_300_100' has changed. you can retrieve the original source code by accessing the object's source attribute or set `torch.nn.Module.dump_patches = True` and use the patch tool to revert the changes.\n",
      "  warnings.warn(msg, SourceChangeWarning)\n"
     ]
    },
    {
     "name": "stdout",
     "output_type": "stream",
     "text": [
      "0-component Mean: 5000.0 Variance: 1000.0\n",
      "Non-zero component Mean: 1000.0 Variance: 0.1\n",
      "Scaling Disabled - Epoch 0\n",
      "Epoch: 10. Test Accuracy: 98.37, Prune Accuracy: 97.60, Sparsity: 70.51\n",
      "Epoch: 20. Test Accuracy: 98.02, Prune Accuracy: 94.94, Sparsity: 88.62\n",
      "Epoch: 30. Test Accuracy: 98.00, Prune Accuracy: 96.00, Sparsity: 97.10\n",
      "Epoch: 40. Test Accuracy: 98.14, Prune Accuracy: 96.46, Sparsity: 97.13\n",
      "Epoch: 50. Test Accuracy: 98.14, Prune Accuracy: 96.53, Sparsity: 97.13\n",
      "Retrain Test: 98.14, Prune Test: 96.53, Prune Sparsity: 97.13\n"
     ]
    },
    {
     "data": {
      "text/plain": [
       "<matplotlib.figure.Figure at 0x7f340f804a90>"
      ]
     },
     "metadata": {},
     "output_type": "display_data"
    },
    {
     "data": {
      "image/png": "[encoded data removed]",
      "text/plain": [
       "<matplotlib.figure.Figure at 0x7f340fd55908>"
      ]
     },
     "metadata": {},
     "output_type": "display_data"
    }
   ],
   "source": [
    "#tau -> 1.5, LR -> 0\n",
    "model, gmp, res = retrain_model(1000, 0.1, 5000, 1000, 1e-5, 5, 16, \"LeNet_300_100\", \"full\", 'CEST', True, \"./files\", fn = \"_CE_S0\")\n",
    "show_sws_weights_log(model = model, means = list(gmp.means.data.clone().cpu()), precisions = list(gmp.gammas.data.clone().cpu()))"
   ]
  },
  {
   "cell_type": "code",
   "execution_count": 37,
   "metadata": {},
   "outputs": [
    {
     "data": {
      "text/plain": [
       "[<matplotlib.lines.Line2D at 0x7f12945b8a90>,\n",
       " <matplotlib.lines.Line2D at 0x7f12945b82e8>]"
      ]
     },
     "execution_count": 37,
     "metadata": {},
     "output_type": "execute_result"
    },
    {
     "data": {
      "image/png": "[encoded data removed]",
      "text/plain": [
       "<matplotlib.figure.Figure at 0x7f129082e710>"
      ]
     },
     "metadata": {},
     "output_type": "display_data"
    }
   ],
   "source": [
    "plt.plot(res['scale'])"
   ]
  },
  {
   "cell_type": "markdown",
   "metadata": {},
   "source": [
    "#### MSE"
   ]
  },
  {
   "cell_type": "code",
   "execution_count": 8,
   "metadata": {},
   "outputs": [
    {
     "name": "stderr",
     "output_type": "stream",
     "text": [
      "/anaconda/envs/py35/lib/python3.5/site-packages/torch/serialization.py:325: SourceChangeWarning: source code of class 'model_archs.LeNet_300_100' has changed. you can retrieve the original source code by accessing the object's source attribute or set `torch.nn.Module.dump_patches = True` and use the patch tool to revert the changes.\n",
      "  warnings.warn(msg, SourceChangeWarning)\n"
     ]
    },
    {
     "name": "stdout",
     "output_type": "stream",
     "text": [
      "0-component Mean: 2500.0 Variance: 1250.0\n",
      "Non-zero component Mean: 250.0 Variance: 10.0\n",
      "Epoch: 10. Test Accuracy: 98.27, Prune Accuracy: 97.80, Sparsity: 68.91\n",
      "Epoch: 20. Test Accuracy: 97.78, Prune Accuracy: 97.25, Sparsity: 96.58\n",
      "Epoch: 30. Test Accuracy: 98.00, Prune Accuracy: 97.51, Sparsity: 96.62\n",
      "Epoch: 40. Test Accuracy: 98.01, Prune Accuracy: 97.64, Sparsity: 96.66\n",
      "Epoch: 50. Test Accuracy: 98.14, Prune Accuracy: 97.81, Sparsity: 96.69\n",
      "Retrain Test: 98.14, Prune Test: 97.81, Prune Sparsity: 96.69\n"
     ]
    },
    {
     "data": {
      "text/plain": [
       "<matplotlib.figure.Figure at 0x7ff14f3e36d8>"
      ]
     },
     "metadata": {},
     "output_type": "display_data"
    },
    {
     "data": {
      "image/png": "[encoded data removed]",
      "text/plain": [
       "<matplotlib.figure.Figure at 0x7ff14f3bbe80>"
      ]
     },
     "metadata": {},
     "output_type": "display_data"
    }
   ],
   "source": [
    "model, gmp, res = retrain_model(250, 10, 2500, 1250, 1e-6, 5, 16, \"LeNet_300_100\", \"full\", 'MSEST', False, \"\", fn = \"_MSE\")\n",
    "show_sws_weights_log(model = model, means = list(gmp.means.data.clone().cpu()), precisions = list(gmp.gammas.data.clone().cpu()))"
   ]
  },
  {
   "cell_type": "code",
   "execution_count": 9,
   "metadata": {},
   "outputs": [
    {
     "name": "stderr",
     "output_type": "stream",
     "text": [
      "/anaconda/envs/py35/lib/python3.5/site-packages/torch/serialization.py:325: SourceChangeWarning: source code of class 'model_archs.LeNet_300_100' has changed. you can retrieve the original source code by accessing the object's source attribute or set `torch.nn.Module.dump_patches = True` and use the patch tool to revert the changes.\n",
      "  warnings.warn(msg, SourceChangeWarning)\n"
     ]
    },
    {
     "name": "stdout",
     "output_type": "stream",
     "text": [
      "0-component Mean: 2500.0 Variance: 1250.0\n",
      "Non-zero component Mean: 250.0 Variance: 10.0\n",
      "Epoch: 10. Test Accuracy: 98.03, Prune Accuracy: 97.38, Sparsity: 82.34\n",
      "Epoch: 20. Test Accuracy: 97.61, Prune Accuracy: 97.14, Sparsity: 97.17\n",
      "Epoch: 30. Test Accuracy: 97.85, Prune Accuracy: 97.31, Sparsity: 97.20\n",
      "Epoch: 40. Test Accuracy: 97.93, Prune Accuracy: 97.42, Sparsity: 97.23\n",
      "Epoch: 50. Test Accuracy: 98.00, Prune Accuracy: 97.47, Sparsity: 97.26\n",
      "Retrain Test: 98.00, Prune Test: 97.47, Prune Sparsity: 97.26\n"
     ]
    },
    {
     "data": {
      "text/plain": [
       "<matplotlib.figure.Figure at 0x7ff14deb2dd8>"
      ]
     },
     "metadata": {},
     "output_type": "display_data"
    },
    {
     "data": {
      "image/png": "[encoded data removed]",
      "text/plain": [
       "<matplotlib.figure.Figure at 0x7ff14f93ac88>"
      ]
     },
     "metadata": {},
     "output_type": "display_data"
    }
   ],
   "source": [
    "model, gmp, res = retrain_model(250, 10, 2500, 1250, 1.3e-6, 5, 16, \"LeNet_300_100\", \"full\", 'MSEST', True, \"\", fn = \"_MSE\")\n",
    "show_sws_weights_log(model = model, means = list(gmp.means.data.clone().cpu()), precisions = list(gmp.gammas.data.clone().cpu()))"
   ]
  },
  {
   "cell_type": "code",
   "execution_count": 6,
   "metadata": {},
   "outputs": [
    {
     "name": "stderr",
     "output_type": "stream",
     "text": [
      "/anaconda/envs/py35/lib/python3.5/site-packages/torch/serialization.py:325: SourceChangeWarning: source code of class 'model_archs.LeNet_300_100' has changed. you can retrieve the original source code by accessing the object's source attribute or set `torch.nn.Module.dump_patches = True` and use the patch tool to revert the changes.\n",
      "  warnings.warn(msg, SourceChangeWarning)\n"
     ]
    },
    {
     "name": "stdout",
     "output_type": "stream",
     "text": [
      "0-component Mean: 2500.0 Variance: 1250.0\n",
      "Non-zero component Mean: 250.0 Variance: 10.0\n",
      "Epoch: 10. Test Accuracy: 98.11, Prune Accuracy: 84.19, Sparsity: 83.47\n",
      "Epoch: 20. Test Accuracy: 97.55, Prune Accuracy: 96.89, Sparsity: 97.46\n",
      "Epoch: 30. Test Accuracy: 97.93, Prune Accuracy: 97.39, Sparsity: 88.45\n",
      "Epoch: 40. Test Accuracy: 97.89, Prune Accuracy: 97.57, Sparsity: 97.32\n",
      "Epoch: 50. Test Accuracy: 97.93, Prune Accuracy: 97.75, Sparsity: 97.32\n",
      "Retrain Test: 97.93, Prune Test: 97.75, Prune Sparsity: 97.32\n"
     ]
    },
    {
     "data": {
      "text/plain": [
       "<matplotlib.figure.Figure at 0x7f342294f5c0>"
      ]
     },
     "metadata": {},
     "output_type": "display_data"
    },
    {
     "data": {
      "image/png": "[encoded data removed]",
      "text/plain": [
       "<matplotlib.figure.Figure at 0x7f3411e6d3c8>"
      ]
     },
     "metadata": {},
     "output_type": "display_data"
    }
   ],
   "source": [
    "#LR -> 0\n",
    "model, gmp, res = retrain_model(250, 10, 2500, 1250, 1.3e-6, 5, 16, \"LeNet_300_100\", \"full\", 'MSEST', True, \"./files\", fn = \"_MSE_S0\")\n",
    "show_sws_weights_log(model = model, means = list(gmp.means.data.clone().cpu()), precisions = list(gmp.gammas.data.clone().cpu()))"
   ]
  }
 ],
 "metadata": {
  "kernelspec": {
   "display_name": "Python [conda env:py35]",
   "language": "python",
   "name": "conda-env-py35-py"
  },
  "language_info": {
   "codemirror_mode": {
    "name": "ipython",
    "version": 3
   },
   "file_extension": ".py",
   "mimetype": "text/x-python",
   "name": "python",
   "nbconvert_exporter": "python",
   "pygments_lexer": "ipython3",
   "version": "3.5.4"
  }
 },
 "nbformat": 4,
 "nbformat_minor": 2
}
