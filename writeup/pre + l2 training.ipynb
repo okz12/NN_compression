{
 "cells": [
  {
   "cell_type": "code",
   "execution_count": 1,
   "metadata": {},
   "outputs": [
    {
     "data": {
      "text/html": [
       "<style>.container { width:95% !important; }</style>"
      ],
      "text/plain": [
       "<IPython.core.display.HTML object>"
      ]
     },
     "metadata": {},
     "output_type": "display_data"
    },
    {
     "data": {
      "application/javascript": [
       "if (!(\"Notification\" in window)) {\n",
       "    alert(\"This browser does not support desktop notifications, so the %%notify magic will not work.\");\n",
       "} else if (Notification.permission !== 'granted' && Notification.permission !== 'denied') {\n",
       "    Notification.requestPermission(function (permission) {\n",
       "        if(!('permission' in Notification)) {\n",
       "            Notification.permission = permission;\n",
       "        }\n",
       "    })\n",
       "}\n"
      ],
      "text/plain": [
       "<IPython.core.display.Javascript object>"
      ]
     },
     "metadata": {},
     "output_type": "display_data"
    },
    {
     "name": "stdout",
     "output_type": "stream",
     "text": [
      "Automatic pdb calling has been turned ON\n"
     ]
    }
   ],
   "source": [
    "#Expand notebook to take full screen width\n",
    "from IPython.core.display import display, HTML\n",
    "display(HTML(\"<style>.container { width:95% !important; }</style>\"))\n",
    "\n",
    "#Jupyter magic to notify when a cell finishes execution with %%notify command -- does not work with Jupyterlab\n",
    "import jupyternotify\n",
    "ip = get_ipython()\n",
    "ip.register_magics(jupyternotify.JupyterNotifyMagics)\n",
    "\n",
    "###\n",
    "import sys\n",
    "sys.path.insert(0,'../src/')\n",
    "\n",
    "%load_ext autoreload\n",
    "%autoreload 2\n",
    "\n",
    "import copy\n",
    "%matplotlib inline\n",
    "import matplotlib.pyplot as plt\n",
    "%pdb"
   ]
  },
  {
   "cell_type": "code",
   "execution_count": 2,
   "metadata": {},
   "outputs": [
    {
     "name": "stderr",
     "output_type": "stream",
     "text": [
      "/anaconda/envs/py35/lib/python3.5/importlib/_bootstrap.py:222: RuntimeWarning: numpy.dtype size changed, may indicate binary incompatibility. Expected 96, got 88\n",
      "  return f(*args, **kwds)\n",
      "/anaconda/envs/py35/lib/python3.5/importlib/_bootstrap.py:222: RuntimeWarning: numpy.dtype size changed, may indicate binary incompatibility. Expected 96, got 88\n",
      "  return f(*args, **kwds)\n"
     ]
    }
   ],
   "source": [
    "import numpy as np\n",
    "from utils_plot import show_sws_weights\n",
    "import seaborn as sns"
   ]
  },
  {
   "cell_type": "code",
   "execution_count": 3,
   "metadata": {},
   "outputs": [],
   "source": [
    "class plot_data():\n",
    "    def __init__(self, init_model, gmp=\"\", retrain=False, train=False, test=False, val=False, loss_type='CE'):\n",
    "        self.layers =  [x.replace(\".weight\", \"\") for x in init_model.state_dict().keys() if \"weight\" in x]\n",
    "        self.layer_init_weights = {}\n",
    "        for l in self.layers:\n",
    "            self.layer_init_weights[l] = np.concatenate([ init_model.state_dict()[l + \".weight\"].clone().view(-1).cpu().numpy() , init_model.state_dict()[l + \".bias\"].clone().view(-1).cpu().numpy() ])\n",
    "        self.layer_weights = {}\n",
    "        \n",
    "        if (test):\n",
    "            self.test_data_full = Variable(test_data(fetch='data')).cuda()\n",
    "            self.test_labels_full = Variable(test_data(fetch='labels')).cuda()\n",
    "            \n",
    "        if (val):\n",
    "            self.val_data_full = Variable(train_data(fetch='data')[50000:60000]).cuda()\n",
    "            self.val_labels_full = Variable(train_data(fetch='labels')[50000:60000]).cuda()\n",
    "            \n",
    "        if (train and val):\n",
    "            self.train_data_full = Variable(train_data(fetch='data')[40000:50000]).cuda()\n",
    "            self.train_labels_full = Variable(train_data(fetch='labels')[40000:50000]).cuda()\n",
    "            \n",
    "        if (train and not val):\n",
    "            self.train_data_full = Variable(train_data(fetch='data')).cuda()\n",
    "            self.train_labels_full = Variable(train_data(fetch='labels')).cuda()\n",
    "            \n",
    "        self.retrain = retrain\n",
    "        self.loss_type = loss_type\n",
    "            \n",
    "        #accuracy and lost tracking flags\n",
    "        self.test = test\n",
    "        self.val = val\n",
    "        self.train = train\n",
    "        \n",
    "        #accuracy and loss history\n",
    "        self.epochs = []\n",
    "        self.train_accuracy = []\n",
    "        self.test_accuracy = []\n",
    "        self.val_accuracy = []\n",
    "        self.train_loss = []\n",
    "        self.test_loss = []\n",
    "        self.val_loss = []\n",
    "        self.complexity_loss = []\n",
    "        \n",
    "        #gmp tracking\n",
    "        if (retrain):\n",
    "            self.gmp_stddev = np.sqrt(1. / gmp.gammas.exp().data.clone().cpu().numpy())\n",
    "            self.gmp_means = gmp.means.data.clone().cpu().numpy()\n",
    "            self.gmp_mixprop = gmp.rhos.exp().data.clone().cpu().numpy()\n",
    "        \n",
    "    def data_epoch(self, epoch, model, gmp=\"\"):\n",
    "        self.epochs.append(epoch)\n",
    "        \n",
    "        #Updated Model Weights\n",
    "        for l in self.layers:\n",
    "            self.layer_weights[l] = np.concatenate([ model.state_dict()[l + \".weight\"].clone().view(-1).cpu().numpy() , model.state_dict()[l + \".bias\"].clone().view(-1).cpu().numpy() ])\n",
    "        \n",
    "        if (self.test):\n",
    "            test_acc = test_accuracy(self.test_data_full, self.test_labels_full, model, loss_type = self.loss_type)\n",
    "            self.test_accuracy.append(test_acc[0])\n",
    "            self.test_loss.append(test_acc[1])\n",
    "        if (self.train):\n",
    "            train_acc = test_accuracy(self.train_data_full, self.train_labels_full, model, loss_type = self.loss_type)\n",
    "            self.train_accuracy.append(train_acc[0])\n",
    "            self.train_loss.append(train_acc[1])\n",
    "        if (self.val):\n",
    "            val_acc = test_accuracy(self.val_data_full, self.val_labels_full, model, loss_type = self.loss_type)\n",
    "            self.val_accuracy.append(val_acc[0])\n",
    "            self.val_loss.append(val_acc[1])\n",
    "            \n",
    "        if (self.retrain):\n",
    "            self.complexity_loss.append(float(gmp.call()[0]))\n",
    "            self.gmp_stddev = np.vstack((self.gmp_stddev,  np.sqrt(1. / gmp.gammas.exp().data.clone().cpu().numpy()) ))\n",
    "            self.gmp_means = np.vstack((self.gmp_means, gmp.means.data.clone().cpu().numpy() ))\n",
    "            self.gmp_mixprop = np.vstack((self.gmp_mixprop, gmp.rhos.exp().data.clone().cpu().numpy() ))\n",
    "            \n",
    "    def get_weights(self, source='in'):\n",
    "        if 'in':\n",
    "            return np.concatenate([self.layer_weights[x] for x in self.layer_weights])\n",
    "        else:\n",
    "            np.concatenate([self.layer_weights[x] for x in self.layer_weights])"
   ]
  },
  {
   "cell_type": "code",
   "execution_count": 4,
   "metadata": {},
   "outputs": [],
   "source": [
    "#python train_model.py --model SWSModel --epochs 100 --data search\n",
    "import torch\n",
    "import torch.nn as nn\n",
    "import torchvision.transforms as transforms\n",
    "import torchvision.datasets as dsets\n",
    "from torch.nn.modules import Module\n",
    "from torch.autograd import Variable\n",
    "\n",
    "import model_archs\n",
    "from utils_model import test_accuracy, train_epoch, train_epoch_l2\n",
    "from utils_misc import trueAfterN, model_load_dir\n",
    "from utils_plot import print_dims\n",
    "from mnist_loader import search_train_data, search_retrain_data, search_validation_data, train_data, test_data, batch_size\n",
    "\n",
    "from tensorboardX import SummaryWriter\n",
    "writeTensorboard = True\n",
    "if(writeTensorboard):\n",
    "    writer = SummaryWriter('tensorboard/')\n",
    "\n",
    "def train_model(model_name, data_size, training_epochs, w=0):\n",
    "    if(data_size == 'search'):\n",
    "        train_dataset = search_train_data()\n",
    "    if(data_size == 'full'):\n",
    "        train_dataset = train_data()\n",
    "    \n",
    "    train_loader = torch.utils.data.DataLoader(dataset=train_dataset, batch_size=batch_size, shuffle=True)\n",
    "\n",
    "    if model_name == \"SWSModel\":\n",
    "        model = model_archs.SWSModel().cuda()\n",
    "    else:\n",
    "        model = model_archs.LeNet_300_100().cuda()\n",
    "\n",
    "    print (\"Model Name: {} Epochs: {} Data: {}\".format(model.name, training_epochs, data_size))\n",
    "    print_dims(model)\n",
    "    criterion = nn.CrossEntropyLoss()\n",
    "    optimizer = torch.optim.Adam(model.parameters(), lr=5e-4, weight_decay = 0)\n",
    "    \n",
    "    train_stats = plot_data(model, retrain=False, train=True, val=False, test=True)\n",
    "    train_stats.data_epoch(0, model)\n",
    "    \n",
    "    for epoch in range(training_epochs):\n",
    "        model, loss = train_epoch_l2(model, optimizer, criterion, train_loader, w=w)\n",
    "        train_stats.data_epoch(epoch+1, model)\n",
    "        writer.add_histogram('pretrain/l2', train_stats.get_weights('out'), epoch+1, bins='doane')\n",
    "        \n",
    "        if (trueAfterN(epoch, 10)):\n",
    "            print('Epoch: {}. Test Accuracy: {:.2f} Loss: {}'.format(epoch+1, train_stats.test_accuracy[-1], float(loss) ))\n",
    "\n",
    "    return model, train_stats"
   ]
  },
  {
   "cell_type": "code",
   "execution_count": 5,
   "metadata": {},
   "outputs": [
    {
     "name": "stdout",
     "output_type": "stream",
     "text": [
      "Model Name: LeNet_300_100 Epochs: 100 Data: full\n",
      "300x784 + 300\n",
      "100x300 + 100\n",
      "10x100 + 10\n",
      "Epoch: 10. Test Accuracy: 96.73 Loss: 0.0\n",
      "Epoch: 20. Test Accuracy: 97.77 Loss: 0.0\n",
      "Epoch: 30. Test Accuracy: 97.66 Loss: 0.0\n",
      "Epoch: 40. Test Accuracy: 98.09 Loss: 0.0\n",
      "Epoch: 50. Test Accuracy: 97.97 Loss: 0.0\n",
      "Epoch: 60. Test Accuracy: 98.15 Loss: 0.0\n",
      "Epoch: 70. Test Accuracy: 97.79 Loss: 0.0\n",
      "Epoch: 80. Test Accuracy: 98.04 Loss: 0.0\n",
      "Epoch: 90. Test Accuracy: 97.98 Loss: 0.0\n",
      "Epoch: 100. Test Accuracy: 97.80 Loss: 0.0\n"
     ]
    }
   ],
   "source": [
    "model, train_stats = train_model('LeNet', 'full', 100)"
   ]
  },
  {
   "cell_type": "code",
   "execution_count": 6,
   "metadata": {},
   "outputs": [
    {
     "name": "stdout",
     "output_type": "stream",
     "text": [
      "Model Name: LeNet_300_100 Epochs: 100 Data: full\n",
      "300x784 + 300\n",
      "100x300 + 100\n",
      "10x100 + 10\n",
      "Epoch: 10. Test Accuracy: 96.93 Loss: 0.0\n",
      "Epoch: 20. Test Accuracy: 97.70 Loss: 0.0\n",
      "Epoch: 30. Test Accuracy: 97.81 Loss: 0.0\n",
      "Epoch: 40. Test Accuracy: 97.81 Loss: 0.0\n",
      "Epoch: 50. Test Accuracy: 97.75 Loss: 0.0\n",
      "Epoch: 60. Test Accuracy: 97.68 Loss: 0.0\n",
      "Epoch: 70. Test Accuracy: 97.97 Loss: 0.0\n",
      "Epoch: 80. Test Accuracy: 97.89 Loss: 0.0\n",
      "Epoch: 90. Test Accuracy: 98.23 Loss: 0.0\n",
      "Epoch: 100. Test Accuracy: 97.74 Loss: 0.0\n"
     ]
    }
   ],
   "source": [
    "model_l2, train_stats_l2 = train_model('LeNet', 'full', 100, w=0.0005)"
   ]
  },
  {
   "cell_type": "code",
   "execution_count": 38,
   "metadata": {},
   "outputs": [
    {
     "data": {
      "text/plain": [
       "(-0.3, 0.3)"
      ]
     },
     "execution_count": 38,
     "metadata": {},
     "output_type": "execute_result"
    },
    {
     "data": {
      "image/png": "[encoded data removed]",
      "text/plain": [
       "<matplotlib.figure.Figure at 0x7f1c2d704320>"
      ]
     },
     "metadata": {},
     "output_type": "display_data"
    }
   ],
   "source": [
    "plt.figure(figsize=[5,2])\n",
    "sns.distplot(train_stats.layer_weights['fc1'], kde=False, color=\"g\",bins=5000,norm_hist=True, hist_kws={'log':True})\n",
    "plt.xlim([-0.3,0.3])"
   ]
  },
  {
   "cell_type": "code",
   "execution_count": 109,
   "metadata": {
    "scrolled": false
   },
   "outputs": [
    {
     "data": {
      "text/plain": [
       "[<matplotlib.lines.Line2D at 0x7f41012d6d68>]"
      ]
     },
     "execution_count": 109,
     "metadata": {},
     "output_type": "execute_result"
    },
    {
     "data": {
      "image/png": "[encoded data removed]",
      "text/plain": [
       "<matplotlib.figure.Figure at 0x7f4101334c88>"
      ]
     },
     "metadata": {},
     "output_type": "display_data"
    }
   ],
   "source": [
    "plt.plot(train_stats.epochs, train_stats.test_loss)"
   ]
  },
  {
   "cell_type": "code",
   "execution_count": 49,
   "metadata": {},
   "outputs": [],
   "source": [
    "from utils_model import model_prune\n",
    "pruner = model_prune(model.state_dict())\n",
    "model_c = model_archs.LeNet_300_100().cuda()\n",
    "perc_res = {'train ce' : [], 'test ce' : [], 'train acc' : [], 'test acc' : [], 'pruned' : [], 'L2' : [],} \n",
    "\n",
    "test_data_full =  Variable(test_data(fetch = \"data\")).cuda()\n",
    "test_labels_full =  Variable(test_data(fetch = \"labels\")).cuda()\n",
    "train_data_full =  Variable(train_data(fetch = \"data\")).cuda()\n",
    "train_labels_full =  Variable(train_data(fetch = \"labels\")).cuda()\n",
    "\n",
    "for lim in range(0,101):\n",
    "    model_c.load_state_dict(pruner.percentile_prune(lim))\n",
    "\n",
    "    test_acc = test_accuracy(test_data_full, test_labels_full, model_c)\n",
    "    train_acc = test_accuracy(train_data_full, train_labels_full, model_c)\n",
    "    perc_res['train ce'].append(train_acc[1])\n",
    "    perc_res['test ce'].append(test_acc[1])\n",
    "    perc_res['train acc'].append(train_acc[0])\n",
    "    perc_res['test acc'].append(test_acc[0])\n",
    "    perc_res['pruned'].append(100.0 * pruner.num_pruned/pruner.total_weights)"
   ]
  },
  {
   "cell_type": "code",
   "execution_count": 55,
   "metadata": {
    "collapsed": true
   },
   "outputs": [
    {
     "data": {
      "text/plain": [
       "[0.11796770989894867,\n",
       " 0.11797995865345001,\n",
       " 0.11795367300510406,\n",
       " 0.11795684695243835,\n",
       " 0.11797734349966049,\n",
       " 0.11785898357629776,\n",
       " 0.11764560639858246,\n",
       " 0.11770465224981308,\n",
       " 0.1176934763789177,\n",
       " 0.11753717809915543,\n",
       " 0.11724656075239182,\n",
       " 0.1173209697008133,\n",
       " 0.11728695780038834,\n",
       " 0.1170133426785469,\n",
       " 0.11710570752620697,\n",
       " 0.11735354363918304,\n",
       " 0.11754236370325089,\n",
       " 0.11751579493284225,\n",
       " 0.11773689091205597,\n",
       " 0.11782676726579666,\n",
       " 0.11716189980506897,\n",
       " 0.11727439612150192,\n",
       " 0.11751899868249893,\n",
       " 0.1175469234585762,\n",
       " 0.11742830276489258,\n",
       " 0.11763625591993332,\n",
       " 0.11773232370615005,\n",
       " 0.1179601401090622,\n",
       " 0.11720585823059082,\n",
       " 0.11720096319913864,\n",
       " 0.11686406284570694,\n",
       " 0.11637923121452332,\n",
       " 0.116874098777771,\n",
       " 0.11720870435237885,\n",
       " 0.11636202782392502,\n",
       " 0.11653462052345276,\n",
       " 0.11600787937641144,\n",
       " 0.11626944690942764,\n",
       " 0.11510849744081497,\n",
       " 0.1143960952758789,\n",
       " 0.11261390149593353,\n",
       " 0.11282428354024887,\n",
       " 0.1122516393661499,\n",
       " 0.11361599713563919,\n",
       " 0.11427045613527298,\n",
       " 0.11166226118803024,\n",
       " 0.11051789671182632,\n",
       " 0.11058428883552551,\n",
       " 0.10667520016431808,\n",
       " 0.1061859056353569,\n",
       " 0.10435514152050018,\n",
       " 0.09847991168498993,\n",
       " 0.09973441064357758,\n",
       " 0.09706202894449234,\n",
       " 0.09915759414434433,\n",
       " 0.09773658961057663,\n",
       " 0.09950771182775497,\n",
       " 0.1004352942109108,\n",
       " 0.0962638407945633,\n",
       " 0.10215224325656891,\n",
       " 0.09637297689914703,\n",
       " 0.10012221336364746,\n",
       " 0.09953532367944717,\n",
       " 0.09938140213489532,\n",
       " 0.0934615507721901,\n",
       " 0.0908956229686737,\n",
       " 0.09781749546527863,\n",
       " 0.08977027237415314,\n",
       " 0.08942270278930664,\n",
       " 0.09577806293964386,\n",
       " 0.09733359515666962,\n",
       " 0.10327394306659698,\n",
       " 0.10566572099924088,\n",
       " 0.09914420545101166,\n",
       " 0.10558110475540161,\n",
       " 0.10646454244852066,\n",
       " 0.12180408835411072,\n",
       " 0.1298954337835312,\n",
       " 0.17661140859127045,\n",
       " 0.18244615197181702,\n",
       " 0.1901695430278778,\n",
       " 0.22232969105243683,\n",
       " 0.2108997106552124,\n",
       " 0.29956191778182983,\n",
       " 0.25739118456840515,\n",
       " 0.3301459848880768,\n",
       " 0.3898388147354126,\n",
       " 0.5442391037940979,\n",
       " 0.7382400035858154,\n",
       " 0.8173976540565491,\n",
       " 0.9924283623695374,\n",
       " 1.100815773010254,\n",
       " 1.3020936250686646,\n",
       " 1.504072904586792,\n",
       " 1.7399653196334839,\n",
       " 1.8564428091049194,\n",
       " 2.0325186252593994,\n",
       " 2.2044453620910645,\n",
       " 2.250938653945923,\n",
       " 2.290635824203491,\n",
       " 2.3087635040283203]"
      ]
     },
     "execution_count": 55,
     "metadata": {},
     "output_type": "execute_result"
    }
   ],
   "source": [
    "perc_res['train ce']"
   ]
  },
  {
   "cell_type": "code",
   "execution_count": 58,
   "metadata": {},
   "outputs": [
    {
     "data": {
      "text/plain": [
       "[<matplotlib.lines.Line2D at 0x7f1c2caa3a90>]"
      ]
     },
     "execution_count": 58,
     "metadata": {},
     "output_type": "execute_result"
    },
    {
     "data": {
      "image/png": "[encoded data removed]",
      "text/plain": [
       "<matplotlib.figure.Figure at 0x7f1c2c8616d8>"
      ]
     },
     "metadata": {},
     "output_type": "display_data"
    }
   ],
   "source": [
    "plt.plot(perc_res['test acc'])"
   ]
  },
  {
   "cell_type": "code",
   "execution_count": 53,
   "metadata": {},
   "outputs": [
    {
     "data": {
      "image/png": "[encoded data removed]",
      "text/plain": [
       "<matplotlib.figure.Figure at 0x7f4101675198>"
      ]
     },
     "metadata": {},
     "output_type": "display_data"
    }
   ],
   "source": [
    "from mpl_toolkits.mplot3d import Axes3D\n",
    "from matplotlib.collections import PolyCollection\n",
    "import matplotlib.pyplot as plt\n",
    "from matplotlib import colors as mcolors\n",
    "import numpy as np\n",
    "\n",
    "\n",
    "fig = plt.figure()\n",
    "ax = fig.gca(projection='3d')\n",
    "\n",
    "\n",
    "def cc(arg):\n",
    "    return mcolors.to_rgba(arg, alpha=0.6)\n",
    "\n",
    "xs = np.arange(0, 10, 0.4)\n",
    "verts = []\n",
    "zs = [0.0, 1.0, 2.0, 3.0]\n",
    "for z in zs:\n",
    "    ys = np.random.rand(len(xs))\n",
    "    ys[0], ys[-1] = 0, 0\n",
    "    verts.append(list(zip(xs, ys)))\n",
    "\n",
    "poly = PolyCollection(verts, facecolors=[cc('r'), cc('r'), cc('r'),\n",
    "                                         cc('r')])\n",
    "poly.set_alpha(0.7)\n",
    "ax.add_collection3d(poly, zs=zs, zdir='y')\n",
    "\n",
    "ax.set_xlabel('X')\n",
    "ax.set_xlim3d(0, 10)\n",
    "ax.set_ylabel('Y')\n",
    "ax.set_ylim3d(-1, 4)\n",
    "ax.set_zlabel('Z')\n",
    "ax.set_zlim3d(0, 1)\n",
    "\n",
    "plt.show()"
   ]
  }
 ],
 "metadata": {
  "kernelspec": {
   "display_name": "Python [conda env:py35]",
   "language": "python",
   "name": "conda-env-py35-py"
  },
  "language_info": {
   "codemirror_mode": {
    "name": "ipython",
    "version": 3
   },
   "file_extension": ".py",
   "mimetype": "text/x-python",
   "name": "python",
   "nbconvert_exporter": "python",
   "pygments_lexer": "ipython3",
   "version": "3.5.4"
  }
 },
 "nbformat": 4,
 "nbformat_minor": 2
}
