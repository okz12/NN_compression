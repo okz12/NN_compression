{
 "cells": [
  {
   "cell_type": "code",
   "execution_count": 1,
   "metadata": {},
   "outputs": [
    {
     "data": {
      "text/html": [
       "<style>.container { width:95% !important; }</style>"
      ],
      "text/plain": [
       "<IPython.core.display.HTML object>"
      ]
     },
     "metadata": {},
     "output_type": "display_data"
    },
    {
     "data": {
      "application/javascript": [
       "if (!(\"Notification\" in window)) {\n",
       "    alert(\"This browser does not support desktop notifications, so the %%notify magic will not work.\");\n",
       "} else if (Notification.permission !== 'granted' && Notification.permission !== 'denied') {\n",
       "    Notification.requestPermission(function (permission) {\n",
       "        if(!('permission' in Notification)) {\n",
       "            Notification.permission = permission;\n",
       "        }\n",
       "    })\n",
       "}\n"
      ],
      "text/plain": [
       "<IPython.core.display.Javascript object>"
      ]
     },
     "metadata": {},
     "output_type": "display_data"
    },
    {
     "name": "stdout",
     "output_type": "stream",
     "text": [
      "Automatic pdb calling has been turned ON\n"
     ]
    }
   ],
   "source": [
    "#Expand notebook to take full screen width\n",
    "from IPython.core.display import display, HTML\n",
    "display(HTML(\"<style>.container { width:95% !important; }</style>\"))\n",
    "\n",
    "#Jupyter magic to notify when a cell finishes execution with %%notify command -- does not work with Jupyterlab\n",
    "import jupyternotify\n",
    "ip = get_ipython()\n",
    "ip.register_magics(jupyternotify.JupyterNotifyMagics)\n",
    "\n",
    "###\n",
    "import sys\n",
    "sys.path.insert(0,'../../src/')\n",
    "\n",
    "%load_ext autoreload\n",
    "%autoreload 2\n",
    "\n",
    "%pdb"
   ]
  },
  {
   "cell_type": "code",
   "execution_count": 2,
   "metadata": {},
   "outputs": [
    {
     "name": "stderr",
     "output_type": "stream",
     "text": [
      "/anaconda/envs/py35/lib/python3.5/importlib/_bootstrap.py:222: RuntimeWarning: numpy.dtype size changed, may indicate binary incompatibility. Expected 96, got 88\n",
      "  return f(*args, **kwds)\n",
      "/anaconda/envs/py35/lib/python3.5/importlib/_bootstrap.py:222: RuntimeWarning: numpy.dtype size changed, may indicate binary incompatibility. Expected 96, got 88\n",
      "  return f(*args, **kwds)\n"
     ]
    }
   ],
   "source": [
    "import torch\n",
    "import torch.nn as nn\n",
    "import torchvision.transforms as transforms\n",
    "import torchvision.datasets as dsets\n",
    "from torch.nn.modules import Module\n",
    "from torch.autograd import Variable\n",
    "import torch.nn.functional as F\n",
    "import numpy as np\n",
    "import copy\n",
    "import pickle\n",
    "import model_archs\n",
    "\n",
    "from utils_plot import show_sws_weights, show_weights, print_dims, prune_plot, draw_sws_graphs, joint_plot, plot_data\n",
    "from utils_model import test_accuracy, train_epoch, retrain_sws_epoch, model_prune, get_weight_penalty, layer_accuracy\n",
    "from utils_misc import trueAfterN, logsumexp, root_dir, model_load_dir, get_ab, get_sparsity\n",
    "from utils_sws import GaussianMixturePrior, special_flatten, KL, compute_responsibilies, merger, sws_prune, sws_prune_l2, sws_prune_copy\n",
    "from mnist_loader import search_train_data, search_retrain_data, search_validation_data, train_data, test_data, batch_size\n",
    "from extract_targets import get_targets\n",
    "from retrain_layer import init_retrain_layer\n",
    "from retrain_model import retrain_model\n",
    "\n",
    "test_data_full = Variable(test_data(fetch='data')).cuda()\n",
    "test_labels_full = Variable(test_data(fetch='labels')).cuda()\n",
    "\n",
    "%matplotlib inline\n",
    "import matplotlib.pyplot as plt\n",
    "import seaborn as sns\n",
    "import numpy as np\n",
    "import pickle"
   ]
  },
  {
   "cell_type": "markdown",
   "metadata": {},
   "source": [
    "### 1. Training Loss / Accuracy w/ Free Parameter Plots"
   ]
  },
  {
   "cell_type": "code",
   "execution_count": 4,
   "metadata": {
    "scrolled": true
   },
   "outputs": [
    {
     "name": "stdout",
     "output_type": "stream",
     "text": [
      "0-component Mean: 1000.0 Variance: 10.0\n",
      "Non-zero component Mean: 100.0 Variance: 2.0\n",
      "Epoch: 10. Test Accuracy: 98.15\n",
      "Epoch: 20. Test Accuracy: 98.03\n",
      "Epoch: 30. Test Accuracy: 98.04\n",
      "Epoch: 40. Test Accuracy: 98.07\n",
      "Epoch: 50. Test Accuracy: 97.97\n",
      "Retrain Test: 97.97, Prune Test: 75.18, Prune Sparsity: 98.09\n"
     ]
    }
   ],
   "source": [
    "model_kd_s, gmp_kd_s, res_kd_s = retrain_model(100, 10, 2500, 1250, 1e-6, int(0), 15, \"LeNet_300_100\", \"full\", 'CESNT', False, \"./files\")"
   ]
  },
  {
   "cell_type": "code",
   "execution_count": 6,
   "metadata": {
    "scrolled": true
   },
   "outputs": [
    {
     "name": "stdout",
     "output_type": "stream",
     "text": [
      "96.54251528449795\n"
     ]
    },
    {
     "data": {
      "text/plain": [
       "<matplotlib.figure.Figure at 0x7f4ad087f978>"
      ]
     },
     "metadata": {},
     "output_type": "display_data"
    },
    {
     "data": {
      "image/png": "[encoded data removed]",
      "text/plain": [
       "<matplotlib.figure.Figure at 0x7f4acf6db470>"
      ]
     },
     "metadata": {},
     "output_type": "display_data"
    },
    {
     "data": {
      "text/plain": [
       "(97.68, 0.08251509070396423)"
      ]
     },
     "execution_count": 6,
     "metadata": {},
     "output_type": "execute_result"
    }
   ],
   "source": [
    "nm = sws_prune_copy(model_kd_s, gmp_kd_s)\n",
    "print(get_sparsity(nm))\n",
    "show_sws_weights(nm)\n",
    "test_accuracy(test_data_full, test_labels_full, nm)"
   ]
  },
  {
   "cell_type": "code",
   "execution_count": 5,
   "metadata": {},
   "outputs": [
    {
     "name": "stdout",
     "output_type": "stream",
     "text": [
      "0-component Mean: 2500.0 Variance: 1250.0\n",
      "Non-zero component Mean: 1000.0 Variance: 10.0\n",
      "Epoch: 10. Test Accuracy: 97.05\n",
      "Epoch: 20. Test Accuracy: 97.30\n",
      "Epoch: 30. Test Accuracy: 97.38\n",
      "Epoch: 40. Test Accuracy: 97.48\n",
      "Epoch: 50. Test Accuracy: 97.52\n",
      "Retrain Test: 97.52, Prune Test: 96.19, Prune Sparsity: 97.42\n",
      "0-component Mean: 2500.0 Variance: 12.0\n",
      "Non-zero component Mean: 100.0 Variance: 10.0\n",
      "Epoch: 10. Test Accuracy: 98.06\n",
      "Epoch: 20. Test Accuracy: 98.03\n",
      "Epoch: 30. Test Accuracy: 98.18\n",
      "Epoch: 40. Test Accuracy: 98.19\n",
      "Epoch: 50. Test Accuracy: 98.20\n",
      "Retrain Test: 98.20, Prune Test: 94.08, Prune Sparsity: 96.80\n"
     ]
    }
   ],
   "source": [
    "model_kd_s, gmp_kd_s, res_kd_s = retrain_model(1000, 10, 2500, 1250, 1e-6, int(0), 15, \"LeNet_300_100\", \"full\", 'CESNT', False, \"\")\n",
    "model_kd_s, gmp_kd_s, res_kd_s = retrain_model(100, 10, 2500, 12, 1e-6, int(0), 15, \"LeNet_300_100\", \"full\", 'CESNT', False, \"\")"
   ]
  },
  {
   "cell_type": "markdown",
   "metadata": {},
   "source": [
    "### 2. Variance on Gamma Priors"
   ]
  },
  {
   "cell_type": "code",
   "execution_count": 5,
   "metadata": {},
   "outputs": [
    {
     "name": "stdout",
     "output_type": "stream",
     "text": [
      "0-component Mean: 2500.0 Variance: 10000.0\n",
      "Non-zero component Mean: 100.0 Variance: 0.1\n",
      "Epoch: 10. Test Accuracy: 97.26\n",
      "Epoch: 20. Test Accuracy: 97.79\n",
      "Epoch: 30. Test Accuracy: 98.04\n",
      "Epoch: 40. Test Accuracy: 98.09\n",
      "Epoch: 50. Test Accuracy: 98.15\n",
      "Retrain Test: 98.15, Prune Test: 97.62, Prune Sparsity: 96.20\n",
      "0-component Mean: 2500.0 Variance: 10000.0\n",
      "Non-zero component Mean: 100.0 Variance: 1.0\n",
      "Epoch: 10. Test Accuracy: 97.29\n",
      "Epoch: 20. Test Accuracy: 97.88\n",
      "Epoch: 30. Test Accuracy: 98.01\n",
      "Epoch: 40. Test Accuracy: 98.07\n",
      "Epoch: 50. Test Accuracy: 98.10\n",
      "Retrain Test: 98.10, Prune Test: 97.43, Prune Sparsity: 96.10\n",
      "0-component Mean: 2500.0 Variance: 10000.0\n",
      "Non-zero component Mean: 100.0 Variance: 10.0\n",
      "Epoch: 10. Test Accuracy: 97.26\n",
      "Epoch: 20. Test Accuracy: 97.77\n",
      "Epoch: 30. Test Accuracy: 97.98\n",
      "Epoch: 40. Test Accuracy: 98.13\n",
      "Epoch: 50. Test Accuracy: 98.21\n",
      "Retrain Test: 98.21, Prune Test: 97.77, Prune Sparsity: 96.04\n",
      "0-component Mean: 2500.0 Variance: 10000.0\n",
      "Non-zero component Mean: 100.0 Variance: 100.0\n",
      "Epoch: 10. Test Accuracy: 97.32\n",
      "Epoch: 20. Test Accuracy: 97.86\n",
      "Epoch: 30. Test Accuracy: 97.96\n",
      "Epoch: 40. Test Accuracy: 98.13\n",
      "Epoch: 50. Test Accuracy: 98.18\n",
      "Retrain Test: 98.18, Prune Test: 97.53, Prune Sparsity: 96.08\n",
      "0-component Mean: 2500.0 Variance: 10000.0\n",
      "Non-zero component Mean: 100.0 Variance: 999.9999999999998\n",
      "Epoch: 10. Test Accuracy: 97.36\n",
      "Epoch: 20. Test Accuracy: 97.88\n",
      "Epoch: 30. Test Accuracy: 98.04\n",
      "Epoch: 40. Test Accuracy: 98.19\n",
      "Epoch: 50. Test Accuracy: 98.24\n",
      "Retrain Test: 98.24, Prune Test: 97.79, Prune Sparsity: 96.01\n"
     ]
    }
   ],
   "source": [
    "vlist = [0.1, 1, 10, 100, 1000]\n",
    "start_processing = False\n",
    "#start from 10, 1000\n",
    "for var in vlist:\n",
    "    for zvar in [10000]:\n",
    "        fn_text = \"_var_{}_zvar_{}\".format(var,zvar)\n",
    "        model, gmp, res = retrain_model(100, var, 2500, zvar, 1e-6, int(0), 15, \"LeNet_300_100\", \"full\", 'CESNT', False, \"./files\", fn = fn_text)"
   ]
  },
  {
   "cell_type": "markdown",
   "metadata": {},
   "source": [
    "### 3. Means "
   ]
  },
  {
   "cell_type": "code",
   "execution_count": 6,
   "metadata": {},
   "outputs": [
    {
     "name": "stdout",
     "output_type": "stream",
     "text": [
      "0-component Mean: 10000.0 Variance: 1000.0\n",
      "Non-zero component Mean: 0.1 Variance: 0.1\n",
      "Epoch: 10. Test Accuracy: 97.69\n",
      "Epoch: 20. Test Accuracy: 97.89\n",
      "Epoch: 30. Test Accuracy: 98.13\n",
      "Epoch: 40. Test Accuracy: 98.17\n",
      "Epoch: 50. Test Accuracy: 98.17\n",
      "Retrain Test: 98.17, Prune Test: 97.96, Prune Sparsity: 95.95\n",
      "0-component Mean: 0.1 Variance: 1000.0000000000001\n",
      "Non-zero component Mean: 1.0 Variance: 0.1\n",
      "Epoch: 10. Test Accuracy: 97.41\n",
      "Epoch: 20. Test Accuracy: 97.94\n",
      "Epoch: 30. Test Accuracy: 98.02\n",
      "Epoch: 40. Test Accuracy: 98.12\n",
      "Epoch: 50. Test Accuracy: 98.19\n",
      "Retrain Test: 98.19, Prune Test: 97.77, Prune Sparsity: 95.90\n",
      "0-component Mean: 1.0 Variance: 1000.0000000000001\n",
      "Non-zero component Mean: 1.0 Variance: 0.1\n",
      "Epoch: 10. Test Accuracy: 97.44\n",
      "Epoch: 20. Test Accuracy: 97.92\n",
      "Epoch: 30. Test Accuracy: 98.06\n",
      "Epoch: 40. Test Accuracy: 98.16\n",
      "Epoch: 50. Test Accuracy: 98.19\n",
      "Retrain Test: 98.19, Prune Test: 97.83, Prune Sparsity: 95.90\n",
      "0-component Mean: 10.0 Variance: 1000.0\n",
      "Non-zero component Mean: 1.0 Variance: 0.1\n",
      "Epoch: 10. Test Accuracy: 97.43\n",
      "Epoch: 20. Test Accuracy: 97.84\n",
      "Epoch: 30. Test Accuracy: 98.08\n",
      "Epoch: 40. Test Accuracy: 98.15\n",
      "Epoch: 50. Test Accuracy: 98.23\n",
      "Retrain Test: 98.23, Prune Test: 97.91, Prune Sparsity: 95.93\n",
      "0-component Mean: 100.0 Variance: 999.9999999999998\n",
      "Non-zero component Mean: 1.0 Variance: 0.1\n",
      "Epoch: 10. Test Accuracy: 97.30\n",
      "Epoch: 20. Test Accuracy: 97.91\n",
      "Epoch: 30. Test Accuracy: 98.17\n",
      "Epoch: 40. Test Accuracy: 98.24\n",
      "Epoch: 50. Test Accuracy: 98.30\n",
      "Retrain Test: 98.30, Prune Test: 97.79, Prune Sparsity: 95.93\n",
      "0-component Mean: 1000.0 Variance: 1000.0\n",
      "Non-zero component Mean: 1.0 Variance: 0.1\n",
      "Epoch: 10. Test Accuracy: 97.46\n",
      "Epoch: 20. Test Accuracy: 97.87\n",
      "Epoch: 30. Test Accuracy: 98.03\n",
      "Epoch: 40. Test Accuracy: 98.15\n",
      "Epoch: 50. Test Accuracy: 98.26\n",
      "Retrain Test: 98.26, Prune Test: 97.74, Prune Sparsity: 96.16\n",
      "0-component Mean: 10000.0 Variance: 1000.0\n",
      "Non-zero component Mean: 1.0 Variance: 0.1\n",
      "Epoch: 10. Test Accuracy: 97.84\n",
      "Epoch: 20. Test Accuracy: 98.05\n",
      "Epoch: 30. Test Accuracy: 98.22\n",
      "Epoch: 40. Test Accuracy: 98.28\n",
      "Epoch: 50. Test Accuracy: 98.19\n",
      "Retrain Test: 98.19, Prune Test: 98.09, Prune Sparsity: 95.77\n",
      "0-component Mean: 0.1 Variance: 1000.0000000000001\n",
      "Non-zero component Mean: 10.0 Variance: 0.1\n",
      "Epoch: 10. Test Accuracy: 97.43\n",
      "Epoch: 20. Test Accuracy: 98.00\n",
      "Epoch: 30. Test Accuracy: 98.09\n",
      "Epoch: 40. Test Accuracy: 98.18\n",
      "Epoch: 50. Test Accuracy: 98.21\n",
      "Retrain Test: 98.21, Prune Test: 98.03, Prune Sparsity: 95.78\n",
      "0-component Mean: 1.0 Variance: 1000.0000000000001\n",
      "Non-zero component Mean: 10.0 Variance: 0.1\n",
      "Epoch: 10. Test Accuracy: 97.48\n",
      "Epoch: 20. Test Accuracy: 97.91\n",
      "Epoch: 30. Test Accuracy: 98.15\n",
      "Epoch: 40. Test Accuracy: 98.24\n",
      "Epoch: 50. Test Accuracy: 98.24\n",
      "Retrain Test: 98.24, Prune Test: 97.82, Prune Sparsity: 95.81\n",
      "0-component Mean: 10.0 Variance: 1000.0\n",
      "Non-zero component Mean: 10.0 Variance: 0.1\n",
      "Epoch: 10. Test Accuracy: 97.43\n",
      "Epoch: 20. Test Accuracy: 97.95\n",
      "Epoch: 30. Test Accuracy: 98.14\n",
      "Epoch: 40. Test Accuracy: 98.25\n",
      "Epoch: 50. Test Accuracy: 98.27\n",
      "Retrain Test: 98.27, Prune Test: 98.02, Prune Sparsity: 95.82\n",
      "0-component Mean: 100.0 Variance: 999.9999999999998\n",
      "Non-zero component Mean: 10.0 Variance: 0.1\n",
      "Epoch: 10. Test Accuracy: 97.39\n",
      "Epoch: 20. Test Accuracy: 97.92\n",
      "Epoch: 30. Test Accuracy: 98.14\n",
      "Epoch: 40. Test Accuracy: 98.20\n",
      "Epoch: 50. Test Accuracy: 98.20\n",
      "Retrain Test: 98.20, Prune Test: 97.84, Prune Sparsity: 95.79\n",
      "0-component Mean: 1000.0 Variance: 1000.0\n",
      "Non-zero component Mean: 10.0 Variance: 0.1\n",
      "Epoch: 10. Test Accuracy: 97.34\n",
      "Epoch: 20. Test Accuracy: 97.92\n",
      "Epoch: 30. Test Accuracy: 98.02\n",
      "Epoch: 40. Test Accuracy: 98.21\n",
      "Epoch: 50. Test Accuracy: 98.22\n",
      "Retrain Test: 98.22, Prune Test: 97.81, Prune Sparsity: 96.04\n",
      "0-component Mean: 10000.0 Variance: 1000.0\n",
      "Non-zero component Mean: 10.0 Variance: 0.1\n",
      "Epoch: 10. Test Accuracy: 97.75\n",
      "Epoch: 20. Test Accuracy: 98.04\n",
      "Epoch: 30. Test Accuracy: 98.04\n",
      "Epoch: 40. Test Accuracy: 98.26\n",
      "Epoch: 50. Test Accuracy: 98.27\n",
      "Retrain Test: 98.27, Prune Test: 97.97, Prune Sparsity: 95.81\n",
      "0-component Mean: 0.1 Variance: 1000.0000000000001\n",
      "Non-zero component Mean: 100.0 Variance: 0.1\n",
      "Epoch: 10. Test Accuracy: 97.25\n",
      "Epoch: 20. Test Accuracy: 97.83\n",
      "Epoch: 30. Test Accuracy: 98.02\n",
      "Epoch: 40. Test Accuracy: 98.10\n",
      "Epoch: 50. Test Accuracy: 98.12\n",
      "Retrain Test: 98.12, Prune Test: 97.86, Prune Sparsity: 96.20\n",
      "0-component Mean: 1.0 Variance: 1000.0000000000001\n",
      "Non-zero component Mean: 100.0 Variance: 0.1\n",
      "Epoch: 10. Test Accuracy: 97.32\n",
      "Epoch: 20. Test Accuracy: 97.80\n",
      "Epoch: 30. Test Accuracy: 97.97\n",
      "Epoch: 40. Test Accuracy: 98.11\n",
      "Epoch: 50. Test Accuracy: 98.16\n",
      "Retrain Test: 98.16, Prune Test: 97.73, Prune Sparsity: 91.69\n",
      "0-component Mean: 10.0 Variance: 1000.0\n",
      "Non-zero component Mean: 100.0 Variance: 0.1\n",
      "Epoch: 10. Test Accuracy: 97.29\n",
      "Epoch: 20. Test Accuracy: 97.72\n",
      "Epoch: 30. Test Accuracy: 97.89\n",
      "Epoch: 40. Test Accuracy: 98.06\n",
      "Epoch: 50. Test Accuracy: 98.07\n",
      "Retrain Test: 98.07, Prune Test: 97.65, Prune Sparsity: 96.22\n",
      "0-component Mean: 100.0 Variance: 999.9999999999998\n",
      "Non-zero component Mean: 100.0 Variance: 0.1\n",
      "Epoch: 10. Test Accuracy: 97.29\n",
      "Epoch: 20. Test Accuracy: 97.75\n",
      "Epoch: 30. Test Accuracy: 97.91\n",
      "Epoch: 40. Test Accuracy: 98.00\n",
      "Epoch: 50. Test Accuracy: 98.10\n",
      "Retrain Test: 98.10, Prune Test: 97.84, Prune Sparsity: 76.86\n",
      "0-component Mean: 1000.0 Variance: 1000.0\n",
      "Non-zero component Mean: 100.0 Variance: 0.1\n",
      "Epoch: 10. Test Accuracy: 97.24\n",
      "Epoch: 20. Test Accuracy: 97.75\n",
      "Epoch: 30. Test Accuracy: 97.93\n",
      "Epoch: 40. Test Accuracy: 97.98\n",
      "Epoch: 50. Test Accuracy: 98.07\n",
      "Retrain Test: 98.07, Prune Test: 97.64, Prune Sparsity: 96.53\n",
      "0-component Mean: 10000.0 Variance: 1000.0\n",
      "Non-zero component Mean: 100.0 Variance: 0.1\n",
      "Epoch: 10. Test Accuracy: 97.49\n",
      "Epoch: 20. Test Accuracy: 97.80\n",
      "Epoch: 30. Test Accuracy: 97.97\n",
      "Epoch: 40. Test Accuracy: 97.94\n",
      "Epoch: 50. Test Accuracy: 97.91\n",
      "Retrain Test: 97.91, Prune Test: 97.70, Prune Sparsity: 96.43\n",
      "0-component Mean: 0.1 Variance: 1000.0000000000001\n",
      "Non-zero component Mean: 1000.0 Variance: 0.1\n",
      "Epoch: 10. Test Accuracy: 96.81\n",
      "Epoch: 20. Test Accuracy: 97.36\n",
      "Epoch: 30. Test Accuracy: 97.43\n",
      "Epoch: 40. Test Accuracy: 97.48\n",
      "Epoch: 50. Test Accuracy: 97.49\n",
      "Retrain Test: 97.49, Prune Test: 96.44, Prune Sparsity: 96.86\n",
      "0-component Mean: 1.0 Variance: 1000.0000000000001\n",
      "Non-zero component Mean: 1000.0 Variance: 0.1\n",
      "Epoch: 10. Test Accuracy: 96.86\n",
      "Epoch: 20. Test Accuracy: 97.36\n",
      "Epoch: 30. Test Accuracy: 97.53\n",
      "Epoch: 40. Test Accuracy: 97.60\n",
      "Epoch: 50. Test Accuracy: 97.67\n",
      "Retrain Test: 97.67, Prune Test: 96.59, Prune Sparsity: 96.84\n",
      "0-component Mean: 10.0 Variance: 1000.0\n",
      "Non-zero component Mean: 1000.0 Variance: 0.1\n",
      "Epoch: 10. Test Accuracy: 96.80\n",
      "Epoch: 20. Test Accuracy: 97.36\n",
      "Epoch: 30. Test Accuracy: 97.43\n",
      "Epoch: 40. Test Accuracy: 97.45\n",
      "Epoch: 50. Test Accuracy: 97.55\n",
      "Retrain Test: 97.55, Prune Test: 96.74, Prune Sparsity: 96.91\n",
      "0-component Mean: 100.0 Variance: 999.9999999999998\n",
      "Non-zero component Mean: 1000.0 Variance: 0.1\n",
      "Epoch: 10. Test Accuracy: 96.63\n",
      "Epoch: 20. Test Accuracy: 97.32\n",
      "Epoch: 30. Test Accuracy: 97.47\n",
      "Epoch: 40. Test Accuracy: 97.50\n",
      "Epoch: 50. Test Accuracy: 97.52\n",
      "Retrain Test: 97.52, Prune Test: 96.41, Prune Sparsity: 97.18\n",
      "0-component Mean: 1000.0 Variance: 1000.0\n",
      "Non-zero component Mean: 1000.0 Variance: 0.1\n",
      "Epoch: 10. Test Accuracy: 96.76\n",
      "Epoch: 20. Test Accuracy: 97.23\n",
      "Epoch: 30. Test Accuracy: 97.29\n",
      "Epoch: 40. Test Accuracy: 97.29\n",
      "Epoch: 50. Test Accuracy: 97.32\n",
      "Retrain Test: 97.32, Prune Test: 96.31, Prune Sparsity: 97.16\n",
      "0-component Mean: 10000.0 Variance: 1000.0\n",
      "Non-zero component Mean: 1000.0 Variance: 0.1\n",
      "Epoch: 10. Test Accuracy: 97.55\n",
      "Epoch: 20. Test Accuracy: 97.69\n",
      "Epoch: 30. Test Accuracy: 97.64\n",
      "Epoch: 40. Test Accuracy: 97.65\n",
      "Epoch: 50. Test Accuracy: 97.69\n",
      "Retrain Test: 97.69, Prune Test: 96.07, Prune Sparsity: 96.39\n"
     ]
    }
   ],
   "source": [
    "mlist = [0.1, 1, 10, 100, 1000, 10000]\n",
    "#mean 0.1, zm = 10000\n",
    "start_processing = False\n",
    "stop_processing = False\n",
    "for mean in mlist:\n",
    "    for zmean in mlist:\n",
    "        if (mean == 10000 and zmean == 0.1):\n",
    "            stop_processing = True\n",
    "        if (zmean == 10000 and mean ==0.1):\n",
    "            start_processing = True\n",
    "        if (start_processing and not stop_processing):\n",
    "            model, gmp, res = retrain_model(mean, 0.1, zmean, 1000, 1e-6, int(0), 16, \"LeNet_300_100\", \"full\", 'CESNT', False, \"./files\")"
   ]
  },
  {
   "cell_type": "code",
   "execution_count": 11,
   "metadata": {},
   "outputs": [
    {
     "name": "stdout",
     "output_type": "stream",
     "text": [
      "0-component Mean: 1000.0 Variance: 1000.0\n",
      "Non-zero component Mean: 10000.0 Variance: 0.1\n",
      "Epoch: 10. Test Accuracy: 97.37\n",
      "Epoch: 20. Test Accuracy: 95.54\n",
      "Epoch: 30. Test Accuracy: 95.28\n",
      "Epoch: 40. Test Accuracy: 95.31\n",
      "Epoch: 50. Test Accuracy: 95.20\n",
      "Retrain Test: 95.20, Prune Test: 76.10, Prune Sparsity: 98.55\n"
     ]
    }
   ],
   "source": [
    "model, gmp, res = retrain_model(10000, 0.1, 1000, 1000, 1e-6, int(0), 16, \"LeNet_300_100\", \"full\", 'CESNT', False, \"./files\")"
   ]
  },
  {
   "cell_type": "code",
   "execution_count": 13,
   "metadata": {},
   "outputs": [
    {
     "data": {
      "text/plain": [
       "<matplotlib.figure.Figure at 0x7f465fb31710>"
      ]
     },
     "metadata": {},
     "output_type": "display_data"
    },
    {
     "data": {
      "image/png": "[encoded data removed]",
      "text/plain": [
       "<matplotlib.figure.Figure at 0x7f465fb22c88>"
      ]
     },
     "metadata": {},
     "output_type": "display_data"
    }
   ],
   "source": [
    "show_sws_weights(model = model, means = list(gmp.means.data.clone().cpu()), precisions = list(gmp.gammas.data.clone().cpu()))"
   ]
  },
  {
   "cell_type": "code",
   "execution_count": 19,
   "metadata": {},
   "outputs": [
    {
     "data": {
      "text/plain": [
       "<matplotlib.figure.Figure at 0x7f465f520ef0>"
      ]
     },
     "metadata": {},
     "output_type": "display_data"
    },
    {
     "data": {
      "image/png": "[encoded data removed]",
      "text/plain": [
       "<matplotlib.figure.Figure at 0x7f465f5fbd30>"
      ]
     },
     "metadata": {},
     "output_type": "display_data"
    },
    {
     "data": {
      "text/plain": [
       "(76.08, 0.8191263675689697)"
      ]
     },
     "execution_count": 19,
     "metadata": {},
     "output_type": "execute_result"
    }
   ],
   "source": [
    "nm = sws_prune_copy(model, gmp)\n",
    "show_sws_weights(model = nm, means = list(gmp.means.data.clone().cpu()), precisions = list(gmp.gammas.data.clone().cpu()))\n",
    "test_accuracy(test_data_full, test_labels_full, nm)"
   ]
  },
  {
   "cell_type": "markdown",
   "metadata": {},
   "source": [
    "### 4. Mixtures"
   ]
  },
  {
   "cell_type": "code",
   "execution_count": 3,
   "metadata": {},
   "outputs": [
    {
     "name": "stdout",
     "output_type": "stream",
     "text": [
      "0-component Mean: 1000.0 Variance: 1000.0\n",
      "Non-zero component Mean: 1.0 Variance: 0.1\n",
      "Epoch: 10. Test Accuracy: 97.26\n",
      "Epoch: 20. Test Accuracy: 97.84\n",
      "Epoch: 30. Test Accuracy: 97.93\n",
      "Epoch: 40. Test Accuracy: 98.14\n",
      "Epoch: 50. Test Accuracy: 98.14\n",
      "Retrain Test: 98.14, Prune Test: 9.80, Prune Sparsity: 100.00\n",
      "0-component Mean: 1000.0 Variance: 1000.0\n",
      "Non-zero component Mean: 1.0 Variance: 0.1\n",
      "Epoch: 10. Test Accuracy: 97.38\n",
      "Epoch: 20. Test Accuracy: 97.86\n",
      "Epoch: 30. Test Accuracy: 98.06\n",
      "Epoch: 40. Test Accuracy: 98.11\n",
      "Epoch: 50. Test Accuracy: 98.16\n",
      "Retrain Test: 98.16, Prune Test: 25.99, Prune Sparsity: 98.95\n",
      "0-component Mean: 1000.0 Variance: 1000.0\n",
      "Non-zero component Mean: 1.0 Variance: 0.1\n",
      "Epoch: 10. Test Accuracy: 97.39\n",
      "Epoch: 20. Test Accuracy: 97.82\n",
      "Epoch: 30. Test Accuracy: 98.01\n",
      "Epoch: 40. Test Accuracy: 98.16\n",
      "Epoch: 50. Test Accuracy: 98.21\n",
      "Retrain Test: 98.21, Prune Test: 93.21, Prune Sparsity: 97.59\n",
      "0-component Mean: 1000.0 Variance: 1000.0\n",
      "Non-zero component Mean: 1.0 Variance: 0.1\n",
      "Epoch: 10. Test Accuracy: 97.42\n",
      "Epoch: 20. Test Accuracy: 97.87\n",
      "Epoch: 30. Test Accuracy: 98.11\n",
      "Epoch: 40. Test Accuracy: 98.13\n",
      "Epoch: 50. Test Accuracy: 98.22\n",
      "Retrain Test: 98.22, Prune Test: 96.91, Prune Sparsity: 96.37\n"
     ]
    }
   ],
   "source": [
    "mixlist = [3, 6, 9, 12]#16\n",
    "for mixtures in mixlist:\n",
    "    model, gmp, res = retrain_model(1, 0.1, 1000, 1000, 1e-6, int(0), mixtures, \"LeNet_300_100\", \"full\", 'CESNT', False, \"./files\")"
   ]
  },
  {
   "cell_type": "markdown",
   "metadata": {},
   "source": [
    "### 5. Tau"
   ]
  },
  {
   "cell_type": "code",
   "execution_count": 4,
   "metadata": {},
   "outputs": [
    {
     "name": "stdout",
     "output_type": "stream",
     "text": [
      "0-component Mean: 1000.0 Variance: 1000.0\n",
      "Non-zero component Mean: 1.0 Variance: 0.1\n",
      "Epoch: 10. Test Accuracy: 38.76\n",
      "Epoch: 20. Test Accuracy: 27.14\n",
      "Epoch: 30. Test Accuracy: 31.53\n",
      "Epoch: 40. Test Accuracy: 33.19\n",
      "Epoch: 50. Test Accuracy: 35.05\n",
      "Retrain Test: 35.05, Prune Test: 29.25, Prune Sparsity: 98.23\n",
      "0-component Mean: 1000.0 Variance: 1000.0\n",
      "Non-zero component Mean: 1.0 Variance: 0.1\n",
      "Epoch: 10. Test Accuracy: 92.43\n",
      "Epoch: 20. Test Accuracy: 94.33\n",
      "Epoch: 30. Test Accuracy: 95.08\n",
      "Epoch: 40. Test Accuracy: 95.54\n",
      "Epoch: 50. Test Accuracy: 95.82\n",
      "Retrain Test: 95.82, Prune Test: 94.60, Prune Sparsity: 98.97\n",
      "0-component Mean: 1000.0 Variance: 1000.0\n",
      "Non-zero component Mean: 1.0 Variance: 0.1\n",
      "Epoch: 10. Test Accuracy: 98.36\n",
      "Epoch: 20. Test Accuracy: 98.37\n",
      "Epoch: 30. Test Accuracy: 98.13\n",
      "Epoch: 40. Test Accuracy: 98.16\n",
      "Epoch: 50. Test Accuracy: 98.20\n",
      "Retrain Test: 98.20, Prune Test: 80.78, Prune Sparsity: 97.59\n",
      "0-component Mean: 1000.0 Variance: 1000.0\n",
      "Non-zero component Mean: 1.0 Variance: 0.1\n",
      "Epoch: 10. Test Accuracy: 98.37\n",
      "Epoch: 20. Test Accuracy: 98.41\n",
      "Epoch: 30. Test Accuracy: 98.49\n",
      "Epoch: 40. Test Accuracy: 98.43\n",
      "Epoch: 50. Test Accuracy: 98.50\n",
      "Retrain Test: 98.50, Prune Test: 86.35, Prune Sparsity: 96.31\n"
     ]
    }
   ],
   "source": [
    "taulist = [1e-4, 1e-5, 1e-7, 1e-8]#1e-6,\n",
    "for tau in taulist:\n",
    "    model, gmp, res = retrain_model(1, 0.1, 1000, 1000, tau, int(0), 16, \"LeNet_300_100\", \"full\", 'CESNT', False, \"./files\")"
   ]
  },
  {
   "cell_type": "markdown",
   "metadata": {},
   "source": [
    "### 6. Final"
   ]
  },
  {
   "cell_type": "code",
   "execution_count": null,
   "metadata": {},
   "outputs": [
    {
     "name": "stdout",
     "output_type": "stream",
     "text": [
      "0-component Mean: 1000.0 Variance: 1000.0\n",
      "Non-zero component Mean: 1.0 Variance: 0.1\n",
      "Epoch: 10. Test Accuracy: 98.41\n",
      "Epoch: 20. Test Accuracy: 98.81\n"
     ]
    }
   ],
   "source": [
    "model, gmp, res = retrain_model(1, 0.1, 1000, 1000, 1e-6, int(0), 16, \"SWSModel\", \"full\", 'CESNT', False, \"./files\")"
   ]
  }
 ],
 "metadata": {
  "kernelspec": {
   "display_name": "Python [conda env:py35]",
   "language": "python",
   "name": "conda-env-py35-py"
  },
  "language_info": {
   "codemirror_mode": {
    "name": "ipython",
    "version": 3
   },
   "file_extension": ".py",
   "mimetype": "text/x-python",
   "name": "python",
   "nbconvert_exporter": "python",
   "pygments_lexer": "ipython3",
   "version": "3.5.4"
  }
 },
 "nbformat": 4,
 "nbformat_minor": 2
}
