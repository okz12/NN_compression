{
 "cells": [
  {
   "cell_type": "code",
   "execution_count": 1,
   "metadata": {},
   "outputs": [
    {
     "data": {
      "text/html": [
       "<style>.container { width:95% !important; }</style>"
      ],
      "text/plain": [
       "<IPython.core.display.HTML object>"
      ]
     },
     "metadata": {},
     "output_type": "display_data"
    },
    {
     "data": {
      "application/javascript": [
       "if (!(\"Notification\" in window)) {\n",
       "    alert(\"This browser does not support desktop notifications, so the %%notify magic will not work.\");\n",
       "} else if (Notification.permission !== 'granted' && Notification.permission !== 'denied') {\n",
       "    Notification.requestPermission(function (permission) {\n",
       "        if(!('permission' in Notification)) {\n",
       "            Notification.permission = permission;\n",
       "        }\n",
       "    })\n",
       "}\n"
      ],
      "text/plain": [
       "<IPython.core.display.Javascript object>"
      ]
     },
     "metadata": {},
     "output_type": "display_data"
    },
    {
     "name": "stdout",
     "output_type": "stream",
     "text": [
      "Automatic pdb calling has been turned ON\n"
     ]
    }
   ],
   "source": [
    "#Expand notebook to take full screen width\n",
    "from IPython.core.display import display, HTML\n",
    "display(HTML(\"<style>.container { width:95% !important; }</style>\"))\n",
    "\n",
    "#Jupyter magic to notify when a cell finishes execution with %%notify command -- does not work with Jupyterlab\n",
    "import jupyternotify\n",
    "ip = get_ipython()\n",
    "ip.register_magics(jupyternotify.JupyterNotifyMagics)\n",
    "\n",
    "###\n",
    "import sys\n",
    "sys.path.insert(0,'../../src/')\n",
    "\n",
    "%load_ext autoreload\n",
    "%autoreload 2\n",
    "\n",
    "%pdb"
   ]
  },
  {
   "cell_type": "code",
   "execution_count": 2,
   "metadata": {},
   "outputs": [
    {
     "name": "stderr",
     "output_type": "stream",
     "text": [
      "/anaconda/envs/py35/lib/python3.5/importlib/_bootstrap.py:222: RuntimeWarning: numpy.dtype size changed, may indicate binary incompatibility. Expected 96, got 88\n",
      "  return f(*args, **kwds)\n",
      "/anaconda/envs/py35/lib/python3.5/importlib/_bootstrap.py:222: RuntimeWarning: numpy.dtype size changed, may indicate binary incompatibility. Expected 96, got 88\n",
      "  return f(*args, **kwds)\n"
     ]
    }
   ],
   "source": [
    "import torch\n",
    "import torch.nn as nn\n",
    "import torchvision.transforms as transforms\n",
    "import torchvision.datasets as dsets\n",
    "from torch.nn.modules import Module\n",
    "from torch.autograd import Variable\n",
    "import torch.nn.functional as F\n",
    "import numpy as np\n",
    "import copy\n",
    "import pickle\n",
    "import model_archs\n",
    "\n",
    "from utils_plot import show_sws_weights, show_weights, print_dims, prune_plot, draw_sws_graphs, joint_plot, plot_data, show_sws_weights_log\n",
    "from utils_model import test_accuracy, train_epoch, retrain_sws_epoch, model_prune, get_weight_penalty, layer_accuracy\n",
    "from utils_misc import trueAfterN, logsumexp, root_dir, model_load_dir, get_ab, get_sparsity\n",
    "from utils_sws import GaussianMixturePrior, special_flatten, KL, compute_responsibilies, merger, sws_prune, sws_prune_l2, sws_prune_copy\n",
    "from mnist_loader import search_train_data, search_retrain_data, search_validation_data, train_data, test_data, batch_size\n",
    "from extract_targets import get_targets\n",
    "from retrain_layer import init_retrain_layer\n",
    "from retrain_model import retrain_model\n",
    "\n",
    "test_data_full = Variable(test_data(fetch='data')).cuda()\n",
    "test_labels_full = Variable(test_data(fetch='labels')).cuda()\n",
    "\n",
    "%matplotlib inline\n",
    "import matplotlib.pyplot as plt\n",
    "import seaborn as sns\n",
    "import numpy as np\n",
    "import pickle"
   ]
  },
  {
   "cell_type": "markdown",
   "metadata": {},
   "source": [
    "### 1. Training Loss / Accuracy w/ Free Parameter Plots"
   ]
  },
  {
   "cell_type": "code",
   "execution_count": null,
   "metadata": {
    "scrolled": true
   },
   "outputs": [
    {
     "name": "stderr",
     "output_type": "stream",
     "text": [
      "/anaconda/envs/py35/lib/python3.5/site-packages/torch/serialization.py:325: SourceChangeWarning: source code of class 'model_archs.LeNet_300_100' has changed. you can retrieve the original source code by accessing the object's source attribute or set `torch.nn.Module.dump_patches = True` and use the patch tool to revert the changes.\n",
      "  warnings.warn(msg, SourceChangeWarning)\n"
     ]
    },
    {
     "name": "stdout",
     "output_type": "stream",
     "text": [
      "0-component Mean: 2500.0 Variance: 1250.0\n",
      "Non-zero component Mean: 100.0 Variance: 10.0\n",
      "Epoch: 10. Test Accuracy: 97.16, Prune Accuracy: 96.71, Sparsity: 93.92\n",
      "Epoch: 20. Test Accuracy: 97.47, Prune Accuracy: 97.19, Sparsity: 95.85\n",
      "Epoch: 30. Test Accuracy: 97.58, Prune Accuracy: 97.32, Sparsity: 66.96\n",
      "Epoch: 40. Test Accuracy: 97.67, Prune Accuracy: 97.51, Sparsity: 97.62\n",
      "Epoch: 50. Test Accuracy: 97.67, Prune Accuracy: 97.24, Sparsity: 97.77\n",
      "Retrain Test: 97.67, Prune Test: 97.24, Prune Sparsity: 97.77\n"
     ]
    },
    {
     "data": {
      "text/plain": [
       "<matplotlib.figure.Figure at 0x7f61dc3153c8>"
      ]
     },
     "metadata": {},
     "output_type": "display_data"
    },
    {
     "data": {
      "image/png": "[encoded data removed]",
      "text/plain": [
       "<matplotlib.figure.Figure at 0x7f61682bf4e0>"
      ]
     },
     "metadata": {},
     "output_type": "display_data"
    }
   ],
   "source": [
    "model, gmp, res = retrain_model(100, 10, 2500, 1250, 1e-6, int(0), 16, \"LeNet_300_100\", \"full\", 'CESNT', False, \"./files\")\n",
    "show_sws_weights_log(model = model, means = list(gmp.means.data.clone().cpu()), precisions = list(gmp.gammas.data.clone().cpu()))"
   ]
  },
  {
   "cell_type": "code",
   "execution_count": 6,
   "metadata": {
    "scrolled": true
   },
   "outputs": [
    {
     "name": "stdout",
     "output_type": "stream",
     "text": [
      "96.54251528449795\n"
     ]
    },
    {
     "data": {
      "text/plain": [
       "<matplotlib.figure.Figure at 0x7f4ad087f978>"
      ]
     },
     "metadata": {},
     "output_type": "display_data"
    },
    {
     "data": {
      "image/png": "[encoded data removed]",
      "text/plain": [
       "<matplotlib.figure.Figure at 0x7f4acf6db470>"
      ]
     },
     "metadata": {},
     "output_type": "display_data"
    },
    {
     "data": {
      "text/plain": [
       "(97.68, 0.08251509070396423)"
      ]
     },
     "execution_count": 6,
     "metadata": {},
     "output_type": "execute_result"
    }
   ],
   "source": [
    "nm = sws_prune_copy(model_kd_s, gmp_kd_s)\n",
    "print(get_sparsity(nm))\n",
    "show_sws_weights(nm)\n",
    "test_accuracy(test_data_full, test_labels_full, nm)"
   ]
  },
  {
   "cell_type": "markdown",
   "metadata": {},
   "source": [
    "### 2. Variance on Gamma Priors"
   ]
  },
  {
   "cell_type": "code",
   "execution_count": 5,
   "metadata": {},
   "outputs": [
    {
     "name": "stdout",
     "output_type": "stream",
     "text": [
      "0-component Mean: 2500.0 Variance: 10000.0\n",
      "Non-zero component Mean: 100.0 Variance: 0.1\n",
      "Epoch: 10. Test Accuracy: 97.26\n",
      "Epoch: 20. Test Accuracy: 97.79\n",
      "Epoch: 30. Test Accuracy: 98.04\n",
      "Epoch: 40. Test Accuracy: 98.09\n",
      "Epoch: 50. Test Accuracy: 98.15\n",
      "Retrain Test: 98.15, Prune Test: 97.62, Prune Sparsity: 96.20\n",
      "0-component Mean: 2500.0 Variance: 10000.0\n",
      "Non-zero component Mean: 100.0 Variance: 1.0\n",
      "Epoch: 10. Test Accuracy: 97.29\n",
      "Epoch: 20. Test Accuracy: 97.88\n",
      "Epoch: 30. Test Accuracy: 98.01\n",
      "Epoch: 40. Test Accuracy: 98.07\n",
      "Epoch: 50. Test Accuracy: 98.10\n",
      "Retrain Test: 98.10, Prune Test: 97.43, Prune Sparsity: 96.10\n",
      "0-component Mean: 2500.0 Variance: 10000.0\n",
      "Non-zero component Mean: 100.0 Variance: 10.0\n",
      "Epoch: 10. Test Accuracy: 97.26\n",
      "Epoch: 20. Test Accuracy: 97.77\n",
      "Epoch: 30. Test Accuracy: 97.98\n",
      "Epoch: 40. Test Accuracy: 98.13\n",
      "Epoch: 50. Test Accuracy: 98.21\n",
      "Retrain Test: 98.21, Prune Test: 97.77, Prune Sparsity: 96.04\n",
      "0-component Mean: 2500.0 Variance: 10000.0\n",
      "Non-zero component Mean: 100.0 Variance: 100.0\n",
      "Epoch: 10. Test Accuracy: 97.32\n",
      "Epoch: 20. Test Accuracy: 97.86\n",
      "Epoch: 30. Test Accuracy: 97.96\n",
      "Epoch: 40. Test Accuracy: 98.13\n",
      "Epoch: 50. Test Accuracy: 98.18\n",
      "Retrain Test: 98.18, Prune Test: 97.53, Prune Sparsity: 96.08\n",
      "0-component Mean: 2500.0 Variance: 10000.0\n",
      "Non-zero component Mean: 100.0 Variance: 999.9999999999998\n",
      "Epoch: 10. Test Accuracy: 97.36\n",
      "Epoch: 20. Test Accuracy: 97.88\n",
      "Epoch: 30. Test Accuracy: 98.04\n",
      "Epoch: 40. Test Accuracy: 98.19\n",
      "Epoch: 50. Test Accuracy: 98.24\n",
      "Retrain Test: 98.24, Prune Test: 97.79, Prune Sparsity: 96.01\n"
     ]
    }
   ],
   "source": [
    "vlist = [0.1, 1, 10, 100, 1000]\n",
    "for var in vlist:\n",
    "    for zvar in vlist:\n",
    "        fn_text = \"_var_{}_zvar_{}\".format(var,zvar)\n",
    "        model, gmp, res = retrain_model(100, var, 2500, zvar, 1e-6, int(0), 15, \"LeNet_300_100\", \"full\", 'CESNT', False, \"./files\", fn = fn_text)"
   ]
  },
  {
   "cell_type": "markdown",
   "metadata": {},
   "source": [
    "### 3. Means "
   ]
  },
  {
   "cell_type": "code",
   "execution_count": null,
   "metadata": {},
   "outputs": [],
   "source": [
    "mlist = [0.1, 1, 10, 100, 1000]\n",
    "zmlist = [0.1, 1, 10, 100, 1000, 10000]\n",
    "for mean in mlist:\n",
    "    for zmean in zmlist:\n",
    "        model, gmp, res = retrain_model(mean, 0.1, zmean, 1000, 1e-6, int(0), 16, \"LeNet_300_100\", \"full\", 'CESNT', False, \"./files\")"
   ]
  },
  {
   "cell_type": "markdown",
   "metadata": {},
   "source": [
    "### 4. Mixtures"
   ]
  },
  {
   "cell_type": "code",
   "execution_count": null,
   "metadata": {},
   "outputs": [
    {
     "name": "stderr",
     "output_type": "stream",
     "text": [
      "/anaconda/envs/py35/lib/python3.5/site-packages/torch/serialization.py:325: SourceChangeWarning: source code of class 'model_archs.LeNet_300_100' has changed. you can retrieve the original source code by accessing the object's source attribute or set `torch.nn.Module.dump_patches = True` and use the patch tool to revert the changes.\n",
      "  warnings.warn(msg, SourceChangeWarning)\n"
     ]
    },
    {
     "name": "stdout",
     "output_type": "stream",
     "text": [
      "0-component Mean: 1000.0 Variance: 1000.0\n",
      "Non-zero component Mean: 1.0 Variance: 0.1\n",
      "Epoch: 10. Test Accuracy: 97.18, Prune Accuracy: 9.80, Sparsity: 99.54\n",
      "Epoch: 20. Test Accuracy: 97.43, Prune Accuracy: 9.80, Sparsity: 99.25\n",
      "Epoch: 30. Test Accuracy: 97.75, Prune Accuracy: 9.80, Sparsity: 99.04\n",
      "Epoch: 40. Test Accuracy: 97.78, Prune Accuracy: 9.80, Sparsity: 98.97\n",
      "Epoch: 50. Test Accuracy: 97.87, Prune Accuracy: 9.80, Sparsity: 98.98\n",
      "Retrain Test: 97.87, Prune Test: 9.80, Prune Sparsity: 98.98\n",
      "0-component Mean: 1000.0 Variance: 1000.0\n",
      "Non-zero component Mean: 1.0 Variance: 0.1\n",
      "Epoch: 10. Test Accuracy: 97.06, Prune Accuracy: 61.44, Sparsity: 98.14\n",
      "Epoch: 20. Test Accuracy: 97.58, Prune Accuracy: 81.49, Sparsity: 98.03\n",
      "Epoch: 30. Test Accuracy: 97.70, Prune Accuracy: 78.83, Sparsity: 97.83\n",
      "Epoch: 40. Test Accuracy: 97.76, Prune Accuracy: 83.30, Sparsity: 97.77\n",
      "Epoch: 50. Test Accuracy: 97.82, Prune Accuracy: 80.02, Sparsity: 97.79\n",
      "Retrain Test: 97.82, Prune Test: 80.02, Prune Sparsity: 97.79\n",
      "0-component Mean: 1000.0 Variance: 1000.0\n",
      "Non-zero component Mean: 1.0 Variance: 0.1\n",
      "Epoch: 10. Test Accuracy: 97.32, Prune Accuracy: 95.40, Sparsity: 97.75\n",
      "Epoch: 20. Test Accuracy: 97.67, Prune Accuracy: 96.52, Sparsity: 97.76\n",
      "Epoch: 30. Test Accuracy: 97.86, Prune Accuracy: 96.52, Sparsity: 97.77\n",
      "Epoch: 40. Test Accuracy: 97.81, Prune Accuracy: 96.42, Sparsity: 97.79\n",
      "Epoch: 50. Test Accuracy: 97.95, Prune Accuracy: 96.82, Sparsity: 97.81\n",
      "Retrain Test: 97.95, Prune Test: 96.82, Prune Sparsity: 97.81\n",
      "0-component Mean: 1000.0 Variance: 1000.0\n",
      "Non-zero component Mean: 1.0 Variance: 0.1\n",
      "Epoch: 10. Test Accuracy: 97.21, Prune Accuracy: 96.52, Sparsity: 97.75\n",
      "Epoch: 20. Test Accuracy: 97.68, Prune Accuracy: 97.06, Sparsity: 97.75\n"
     ]
    }
   ],
   "source": [
    "mixlist = [3, 6, 9, 12]#16\n",
    "for mixtures in mixlist:\n",
    "    model, gmp, res = retrain_model(1, 0.1, 1000, 1000, 1e-6, int(0), mixtures, \"LeNet_300_100\", \"full\", 'CESNT', False, \"./files\")"
   ]
  },
  {
   "cell_type": "markdown",
   "metadata": {},
   "source": [
    "### 5. Tau"
   ]
  },
  {
   "cell_type": "code",
   "execution_count": null,
   "metadata": {},
   "outputs": [
    {
     "name": "stderr",
     "output_type": "stream",
     "text": [
      "/anaconda/envs/py35/lib/python3.5/site-packages/torch/serialization.py:325: SourceChangeWarning: source code of class 'model_archs.LeNet_300_100' has changed. you can retrieve the original source code by accessing the object's source attribute or set `torch.nn.Module.dump_patches = True` and use the patch tool to revert the changes.\n",
      "  warnings.warn(msg, SourceChangeWarning)\n"
     ]
    },
    {
     "name": "stdout",
     "output_type": "stream",
     "text": [
      "0-component Mean: 1000.0 Variance: 1000.0\n",
      "Non-zero component Mean: 1.0 Variance: 0.1\n",
      "Epoch: 10. Test Accuracy: 98.31, Prune Accuracy: 97.96, Sparsity: 71.95\n",
      "Epoch: 20. Test Accuracy: 98.34, Prune Accuracy: 94.21, Sparsity: 81.66\n",
      "Epoch: 30. Test Accuracy: 98.06, Prune Accuracy: 97.28, Sparsity: 95.12\n",
      "Epoch: 40. Test Accuracy: 98.06, Prune Accuracy: 97.77, Sparsity: 95.54\n",
      "Epoch: 50. Test Accuracy: 98.18, Prune Accuracy: 97.82, Sparsity: 95.57\n",
      "Retrain Test: 98.18, Prune Test: 97.82, Prune Sparsity: 95.57\n"
     ]
    }
   ],
   "source": [
    "taulist = [1e-4, 1e-5, 1e-7, 1e-8]\n",
    "taulist = [1e-5, 2e-5, 5e-6, 2e-6, 5e-7, 2e-7, 1e-7, 5e-8]#1e-6,\n",
    "taulist = [8e-8]\n",
    "for tau in taulist:\n",
    "    model, gmp, res = retrain_model(1, 0.1, 1000, 1000, tau, int(0), 16, \"LeNet_300_100\", \"full\", 'CESNT', False, \"./files\")"
   ]
  },
  {
   "cell_type": "markdown",
   "metadata": {},
   "source": [
    "### 6. Final"
   ]
  },
  {
   "cell_type": "code",
   "execution_count": null,
   "metadata": {},
   "outputs": [],
   "source": [
    "model, gmp, res = retrain_model(1, 0.1, 1000, 1000, 1e-6, int(0), 16, \"SWSModel\", \"full\", 'CESNT', False, \"./files\")"
   ]
  },
  {
   "cell_type": "code",
   "execution_count": null,
   "metadata": {},
   "outputs": [
    {
     "name": "stderr",
     "output_type": "stream",
     "text": [
      "/anaconda/envs/py35/lib/python3.5/site-packages/torch/serialization.py:325: SourceChangeWarning: source code of class 'model_archs.LeNet_300_100' has changed. you can retrieve the original source code by accessing the object's source attribute or set `torch.nn.Module.dump_patches = True` and use the patch tool to revert the changes.\n",
      "  warnings.warn(msg, SourceChangeWarning)\n"
     ]
    },
    {
     "name": "stdout",
     "output_type": "stream",
     "text": [
      "0-component Mean: 1000.0 Variance: 1000.0\n",
      "Non-zero component Mean: 250.0 Variance: 10.0\n",
      "Epoch: 10. Test Accuracy: 89.83, Prune Accuracy: 88.19, Sparsity: 33.59\n"
     ]
    }
   ],
   "source": [
    "model, gmp, res = retrain_model(250, 10, 1000, 1000, 1e-6, int(0), 16, \"LeNet_300_100\", \"full\", 'CESNT', False, \"./files\", dset = \"fashionmnist\")\n",
    "show_sws_weights_log(model = model, means = list(gmp.means.data.clone().cpu()), precisions = list(gmp.gammas.data.clone().cpu()))"
   ]
  },
  {
   "cell_type": "code",
   "execution_count": 12,
   "metadata": {},
   "outputs": [
    {
     "name": "stdout",
     "output_type": "stream",
     "text": [
      "0-component Mean: 1000.0 Variance: 1000.0\n",
      "Non-zero component Mean: 1.0 Variance: 0.1\n",
      "Epoch: 10. Test Accuracy: 87.95, Prune Accuracy: 87.29, Sparsity: 97.87\n",
      "Epoch: 20. Test Accuracy: 88.77, Prune Accuracy: 87.57, Sparsity: 97.90\n",
      "Epoch: 30. Test Accuracy: 88.93, Prune Accuracy: 88.31, Sparsity: 97.92\n",
      "Epoch: 40. Test Accuracy: 89.07, Prune Accuracy: 88.03, Sparsity: 97.93\n",
      "Epoch: 50. Test Accuracy: 89.23, Prune Accuracy: 88.45, Sparsity: 97.95\n",
      "Retrain Test: 89.23, Prune Test: 88.45, Prune Sparsity: 97.95\n"
     ]
    },
    {
     "data": {
      "text/plain": [
       "<matplotlib.figure.Figure at 0x7f78107443c8>"
      ]
     },
     "metadata": {},
     "output_type": "display_data"
    },
    {
     "data": {
      "image/png": "[encoded data removed]",
      "text/plain": [
       "<matplotlib.figure.Figure at 0x7f781075c898>"
      ]
     },
     "metadata": {},
     "output_type": "display_data"
    }
   ],
   "source": [
    "model, gmp, res = retrain_model(1, 0.1, 1000, 1000, 1e-6, int(0), 16, \"SWSModel\", \"full\", 'CESNT', False, \"./files\", dset = \"fashionmnist\")\n",
    "show_sws_weights_log(model = model, means = list(gmp.means.data.clone().cpu()), precisions = list(gmp.gammas.data.clone().cpu()))"
   ]
  }
 ],
 "metadata": {
  "kernelspec": {
   "display_name": "Python [conda env:py35]",
   "language": "python",
   "name": "conda-env-py35-py"
  },
  "language_info": {
   "codemirror_mode": {
    "name": "ipython",
    "version": 3
   },
   "file_extension": ".py",
   "mimetype": "text/x-python",
   "name": "python",
   "nbconvert_exporter": "python",
   "pygments_lexer": "ipython3",
   "version": "3.5.4"
  }
 },
 "nbformat": 4,
 "nbformat_minor": 2
}
