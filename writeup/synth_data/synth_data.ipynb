{
 "cells": [
  {
   "cell_type": "code",
   "execution_count": 1,
   "metadata": {},
   "outputs": [
    {
     "data": {
      "text/html": [
       "<style>.container { width:95% !important; }</style>"
      ],
      "text/plain": [
       "<IPython.core.display.HTML object>"
      ]
     },
     "metadata": {},
     "output_type": "display_data"
    },
    {
     "data": {
      "application/javascript": [
       "if (!(\"Notification\" in window)) {\n",
       "    alert(\"This browser does not support desktop notifications, so the %%notify magic will not work.\");\n",
       "} else if (Notification.permission !== 'granted' && Notification.permission !== 'denied') {\n",
       "    Notification.requestPermission(function (permission) {\n",
       "        if(!('permission' in Notification)) {\n",
       "            Notification.permission = permission;\n",
       "        }\n",
       "    })\n",
       "}\n"
      ],
      "text/plain": [
       "<IPython.core.display.Javascript object>"
      ]
     },
     "metadata": {},
     "output_type": "display_data"
    },
    {
     "name": "stdout",
     "output_type": "stream",
     "text": [
      "Automatic pdb calling has been turned ON\n"
     ]
    }
   ],
   "source": [
    "#Expand notebook to take full screen width\n",
    "from IPython.core.display import display, HTML\n",
    "display(HTML(\"<style>.container { width:95% !important; }</style>\"))\n",
    "\n",
    "#Jupyter magic to notify when a cell finishes execution with %%notify command -- does not work with Jupyterlab\n",
    "import jupyternotify\n",
    "ip = get_ipython()\n",
    "ip.register_magics(jupyternotify.JupyterNotifyMagics)\n",
    "\n",
    "###\n",
    "import sys\n",
    "sys.path.insert(0,'../../src/')\n",
    "\n",
    "%load_ext autoreload\n",
    "%autoreload 2\n",
    "\n",
    "%pdb"
   ]
  },
  {
   "cell_type": "code",
   "execution_count": 20,
   "metadata": {},
   "outputs": [
    {
     "name": "stdout",
     "output_type": "stream",
     "text": [
      "Automatic pdb calling has been turned OFF\n"
     ]
    }
   ],
   "source": [
    "\n",
    "%pdb"
   ]
  },
  {
   "cell_type": "code",
   "execution_count": 2,
   "metadata": {},
   "outputs": [
    {
     "name": "stderr",
     "output_type": "stream",
     "text": [
      "/anaconda/envs/py35/lib/python3.5/importlib/_bootstrap.py:222: RuntimeWarning: numpy.dtype size changed, may indicate binary incompatibility. Expected 96, got 88\n",
      "  return f(*args, **kwds)\n",
      "/anaconda/envs/py35/lib/python3.5/importlib/_bootstrap.py:222: RuntimeWarning: numpy.dtype size changed, may indicate binary incompatibility. Expected 96, got 88\n",
      "  return f(*args, **kwds)\n"
     ]
    }
   ],
   "source": [
    "import torch\n",
    "import torch.nn as nn\n",
    "import torchvision.transforms as transforms\n",
    "import torchvision.datasets as dsets\n",
    "from torch.nn.modules import Module\n",
    "from torch.autograd import Variable\n",
    "import torch.nn.functional as F\n",
    "import numpy as np\n",
    "import copy\n",
    "import pickle\n",
    "import model_archs\n",
    "\n",
    "from utils_plot import show_sws_weights, show_weights, print_dims, prune_plot, draw_sws_graphs, joint_plot, plot_data, show_sws_weights_log\n",
    "from utils_model import test_accuracy, train_epoch, retrain_sws_epoch, model_prune, get_weight_penalty, layer_accuracy\n",
    "from utils_misc import trueAfterN, logsumexp, root_dir, model_load_dir, get_ab, get_sparsity\n",
    "from utils_sws import GaussianMixturePrior, special_flatten, KL, compute_responsibilies, merger, sws_prune, sws_prune_l2, sws_prune_copy\n",
    "from mnist_loader import search_train_data, search_retrain_data, search_validation_data, train_data, test_data, batch_size\n",
    "from extract_targets import get_targets\n",
    "from retrain_layer import init_retrain_layer\n",
    "#from retrain_model import retrain_model\n",
    "\n",
    "test_data_full = Variable(test_data(fetch='data')).cuda()\n",
    "test_labels_full = Variable(test_data(fetch='labels')).cuda()\n",
    "\n",
    "%matplotlib inline\n",
    "import matplotlib.pyplot as plt\n",
    "import seaborn as sns\n",
    "import numpy as np\n",
    "import pickle"
   ]
  },
  {
   "cell_type": "code",
   "execution_count": 129,
   "metadata": {},
   "outputs": [],
   "source": [
    "from utils_plot import show_sws_weights, show_weights, print_dims, prune_plot, draw_sws_graphs, joint_plot, plot_data\n",
    "from utils_model import test_accuracy, train_epoch, retrain_sws_epoch, model_prune, get_weight_penalty\n",
    "from utils_misc import trueAfterN, logsumexp, root_dir, model_load_dir, get_ab, get_sparsity\n",
    "from utils_sws import GaussianMixturePrior, special_flatten, KL, compute_responsibilies, merger, sws_prune, sws_prune_l2, sws_prune_copy, compressed_model\n",
    "from mnist_loader import search_train_data, search_retrain_data, search_validation_data, train_data, test_data, batch_size\n",
    "\n",
    "def retrain_model(mean, var, zmean, zvar, tau, temp, mixtures, model_name, mode, loss_type = 'MSESNT', scaling = False, model_save_dir = \"\",  fn=\"\", dset=\"mnist\"):\n",
    "    ab = get_ab(mean, var)\n",
    "    zab = get_ab(zmean, zvar)\n",
    "\n",
    "    model_file = 'mnist_{}_{}_{}'.format(\"LeNet_300_100\", 100, \"full\")\n",
    "    model = torch.load(model_load_dir + model_file + '.m').cuda()\n",
    "\n",
    "    train_input = train_data(fetch = \"data\")[0:2000].cuda()\n",
    "    if (mode == \"sws\"):\n",
    "        output = train_data(fetch = \"labels\")[0:2000].cuda()\n",
    "        retraining_epochs = 250\n",
    "    if (mode == \"kd\"):\n",
    "        output = model(Variable(train_input))\n",
    "        output = (nn.Softmax(dim=1)(output/temp)).data\n",
    "        retraining_epochs = 250\n",
    "    if (mode == \"synth\"):\n",
    "        mean=train_input.mean(dim=0).cpu().numpy()\n",
    "        std=train_input.std(dim=0).cpu().numpy()\n",
    "        new_data = np.concatenate([[np.random.normal(mean, std) for x in range(10000)]], axis=1)\n",
    "        train_data_exp = torch.Tensor(new_data).clamp(0,1).cuda()\n",
    "        #train_input_exp = torch.cat([train_input + (torch.FloatTensor(2000, 28, 28).normal_(0, 0.2)).cuda() for x in range(5)]).clamp(0, 1)\n",
    "        output = model(Variable(train_input_exp))\n",
    "        output = (nn.Softmax(dim=1)(output/temp)).data\n",
    "        train_input = train_input_exp\n",
    "        retraining_epochs = 250\n",
    "\n",
    "    dataset = torch.utils.data.TensorDataset(train_input, output)\n",
    "    loader = torch.utils.data.DataLoader(dataset=dataset, batch_size=batch_size, shuffle=True)\n",
    "\n",
    "    s = \"s\" if scaling else \"f\" \n",
    "    exp_name = \"{}_m{}_zm{}_r{}_t{}_m{}_kdT{}_{}_{}\".format(model.name, mean, zmean, retraining_epochs, tau, int(mixtures), int(temp), s, mode) + fn\n",
    "    gmp = GaussianMixturePrior(mixtures, [x for x in model.parameters()], 0.99, zero_ab = zab, ab = ab, scaling = scaling)\n",
    "    gmp.print_batch = False\n",
    "\n",
    "    mlr = 0.5e-4 if scaling else 0.5e-4\n",
    "\n",
    "    optimizable_params = [\n",
    "        {'params': model.parameters(), 'lr': 5e-4},\n",
    "        {'params': [gmp.means], 'lr': mlr},\n",
    "        {'params': [gmp.gammas, gmp.rhos], 'lr': 3e-3}]\n",
    "    if (scaling):\n",
    "        optimizable_params = optimizable_params + [{'params': gmp.scale, 'lr': 1e-6}]\n",
    "\n",
    "    opt = torch.optim.Adam(optimizable_params)#log precisions and mixing proportions\n",
    "\n",
    "    res_stats = plot_data(init_model = model, gmp = gmp, mode = 'retrain', data_size = \"full\", loss_type='CE', mv = (mean, var), zmv = (zmean, zvar), tau = tau, temp = temp, mixtures = mixtures)\n",
    "    s_hist = []\n",
    "    a_hist = []\n",
    "    for epoch in range(retraining_epochs):\n",
    "        ### [ACT DISABLE LR]\n",
    "        if(scaling and epoch == 0):\n",
    "            opt.param_groups[3]['lr'] = 0\n",
    "            print (\"Scaling Disabled - Epoch {}\".format(epoch))\n",
    "        model, loss = retrain_sws_epoch(model, gmp, opt, loader, tau, temp, loss_type)\n",
    "        res_stats.data_epoch(epoch + 1, model, gmp)\n",
    "\n",
    "\n",
    "        if (trueAfterN(epoch, 10)):\n",
    "            #test_acc = test_accuracy(test_data_full, test_labels_full, model)\n",
    "            nm = sws_prune_copy(model, gmp)\n",
    "            s = get_sparsity(nm)\n",
    "            a = test_accuracy(test_data_full, test_labels_full, nm)[0]\n",
    "\n",
    "            print('Epoch: {}. Test Accuracy: {:.2f}, Prune Accuracy: {:.2f}, Sparsity: {:.2f}'.format(epoch+1, res_stats.test_accuracy[-1], a, s))\n",
    "            #show_sws_weights(model = model, means = list(gmp.means.data.clone().cpu()), precisions = list(gmp.gammas.data.clone().cpu()), epoch = epoch)###\n",
    "        nm = sws_prune_copy(model, gmp)\n",
    "        s = get_sparsity(nm)\n",
    "        a = test_accuracy(test_data_full, test_labels_full, nm)[0]\n",
    "        s_hist.append(s)\n",
    "        a_hist.append(a)\n",
    "\n",
    "    res = res_stats.gen_dict()\n",
    "\n",
    "    model_prune = sws_prune_copy(model, gmp)\n",
    "\n",
    "    res_stats.data_prune(model_prune)\n",
    "    res = res_stats.gen_dict()\n",
    "    res['test_prune_acc'] = a_hist\n",
    "    res['test_prune_sp'] = s_hist\n",
    "    cm = compressed_model(model_prune.state_dict(), [gmp])\n",
    "    res['cm'] = cm.get_cr_list()\n",
    "\n",
    "    print('Retrain Test: {:.2f}, Prune Test: {:.2f}, Prune Sparsity: {:.2f}'.format(res['test_acc'][-1], res['prune_acc']['test'],res['sparsity']))\n",
    "\n",
    "    if(model_save_dir!=\"\"):\n",
    "        torch.save(model, model_save_dir + '/mnist_retrain_model_{}.m'.format(exp_name))\n",
    "        with open(model_save_dir + '/mnist_retrain_gmp_{}.p'.format(exp_name),'wb') as f:\n",
    "            pickle.dump(gmp, f)\n",
    "        with open(model_save_dir + '/mnist_retrain_res_{}.p'.format(exp_name),'wb') as f:\n",
    "            pickle.dump(res, f)\n",
    "\n",
    "    return model, gmp, res"
   ]
  },
  {
   "cell_type": "code",
   "execution_count": 130,
   "metadata": {
    "scrolled": true
   },
   "outputs": [
    {
     "name": "stderr",
     "output_type": "stream",
     "text": [
      "/anaconda/envs/py35/lib/python3.5/site-packages/torch/serialization.py:325: SourceChangeWarning: source code of class 'model_archs.LeNet_300_100' has changed. you can retrieve the original source code by accessing the object's source attribute or set `torch.nn.Module.dump_patches = True` and use the patch tool to revert the changes.\n",
      "  warnings.warn(msg, SourceChangeWarning)\n"
     ]
    },
    {
     "name": "stdout",
     "output_type": "stream",
     "text": [
      "0-component Mean: 1000.0 Variance: 1000.0\n",
      "Non-zero component Mean: 1.0 Variance: 0.1\n",
      "Epoch: 10. Test Accuracy: 98.18, Prune Accuracy: 97.80, Sparsity: 54.30\n",
      "Epoch: 20. Test Accuracy: 97.72, Prune Accuracy: 96.37, Sparsity: 72.96\n",
      "Epoch: 30. Test Accuracy: 96.93, Prune Accuracy: 92.99, Sparsity: 82.70\n",
      "Epoch: 40. Test Accuracy: 96.01, Prune Accuracy: 77.89, Sparsity: 87.36\n",
      "Epoch: 50. Test Accuracy: 94.94, Prune Accuracy: 67.40, Sparsity: 89.23\n",
      "Epoch: 60. Test Accuracy: 94.16, Prune Accuracy: 65.56, Sparsity: 91.05\n",
      "Epoch: 70. Test Accuracy: 94.18, Prune Accuracy: 61.33, Sparsity: 92.44\n",
      "Epoch: 80. Test Accuracy: 93.40, Prune Accuracy: 55.10, Sparsity: 94.21\n",
      "Epoch: 90. Test Accuracy: 93.49, Prune Accuracy: 46.23, Sparsity: 95.98\n",
      "Epoch: 100. Test Accuracy: 92.83, Prune Accuracy: 42.15, Sparsity: 97.50\n",
      "Epoch: 110. Test Accuracy: 92.18, Prune Accuracy: 25.08, Sparsity: 98.43\n",
      "Epoch: 120. Test Accuracy: 92.04, Prune Accuracy: 28.78, Sparsity: 98.92\n",
      "Epoch: 130. Test Accuracy: 91.84, Prune Accuracy: 26.68, Sparsity: 99.22\n",
      "Epoch: 140. Test Accuracy: 91.37, Prune Accuracy: 39.59, Sparsity: 99.44\n",
      "Epoch: 150. Test Accuracy: 91.09, Prune Accuracy: 38.26, Sparsity: 99.58\n",
      "Epoch: 160. Test Accuracy: 90.30, Prune Accuracy: 43.86, Sparsity: 99.65\n",
      "Epoch: 170. Test Accuracy: 89.94, Prune Accuracy: 52.52, Sparsity: 99.70\n",
      "Epoch: 180. Test Accuracy: 89.16, Prune Accuracy: 55.01, Sparsity: 99.72\n",
      "Epoch: 190. Test Accuracy: 88.33, Prune Accuracy: 56.64, Sparsity: 99.72\n",
      "Epoch: 200. Test Accuracy: 88.31, Prune Accuracy: 60.09, Sparsity: 99.72\n",
      "Epoch: 210. Test Accuracy: 88.32, Prune Accuracy: 61.93, Sparsity: 99.72\n",
      "Epoch: 220. Test Accuracy: 88.23, Prune Accuracy: 61.18, Sparsity: 99.72\n",
      "Epoch: 230. Test Accuracy: 88.10, Prune Accuracy: 61.68, Sparsity: 99.72\n",
      "Epoch: 240. Test Accuracy: 87.66, Prune Accuracy: 62.99, Sparsity: 99.72\n",
      "Epoch: 250. Test Accuracy: 88.04, Prune Accuracy: 62.54, Sparsity: 99.72\n",
      "Retrain Test: 88.04, Prune Test: 62.54, Prune Sparsity: 99.72\n"
     ]
    },
    {
     "data": {
      "text/plain": [
       "<matplotlib.figure.Figure at 0x7f5d8edfb940>"
      ]
     },
     "metadata": {},
     "output_type": "display_data"
    },
    {
     "data": {
      "image/png": "[encoded data removed]",
      "text/plain": [
       "<matplotlib.figure.Figure at 0x7f5d8edfbd68>"
      ]
     },
     "metadata": {},
     "output_type": "display_data"
    }
   ],
   "source": [
    "model, gmp, res = retrain_model(1, 0.1, 1000, 1000, 5e-6, int(0), 16, \"LeNet_300_100\", \"sws\", 'CESNT', False, \"\")\n",
    "show_sws_weights_log(model = model, means = list(gmp.means.data.clone().cpu()), precisions = list(gmp.gammas.data.clone().cpu()))"
   ]
  },
  {
   "cell_type": "code",
   "execution_count": 131,
   "metadata": {},
   "outputs": [
    {
     "name": "stderr",
     "output_type": "stream",
     "text": [
      "/anaconda/envs/py35/lib/python3.5/site-packages/torch/serialization.py:325: SourceChangeWarning: source code of class 'model_archs.LeNet_300_100' has changed. you can retrieve the original source code by accessing the object's source attribute or set `torch.nn.Module.dump_patches = True` and use the patch tool to revert the changes.\n",
      "  warnings.warn(msg, SourceChangeWarning)\n"
     ]
    },
    {
     "name": "stdout",
     "output_type": "stream",
     "text": [
      "0-component Mean: 2500.0 Variance: 1250.0\n",
      "Non-zero component Mean: 250.0 Variance: 10.0\n",
      "Epoch: 10. Test Accuracy: 98.25, Prune Accuracy: 98.08, Sparsity: 49.13\n",
      "Epoch: 20. Test Accuracy: 97.69, Prune Accuracy: 97.37, Sparsity: 61.89\n",
      "Epoch: 30. Test Accuracy: 96.88, Prune Accuracy: 96.51, Sparsity: 68.68\n",
      "Epoch: 40. Test Accuracy: 96.02, Prune Accuracy: 95.74, Sparsity: 72.40\n",
      "Epoch: 50. Test Accuracy: 95.51, Prune Accuracy: 94.44, Sparsity: 75.37\n",
      "Epoch: 60. Test Accuracy: 94.72, Prune Accuracy: 90.13, Sparsity: 77.90\n",
      "Epoch: 70. Test Accuracy: 94.27, Prune Accuracy: 74.36, Sparsity: 88.27\n",
      "Epoch: 80. Test Accuracy: 94.00, Prune Accuracy: 66.03, Sparsity: 93.88\n",
      "Epoch: 90. Test Accuracy: 93.76, Prune Accuracy: 60.43, Sparsity: 95.93\n",
      "Epoch: 100. Test Accuracy: 93.55, Prune Accuracy: 54.46, Sparsity: 97.35\n",
      "Epoch: 110. Test Accuracy: 93.18, Prune Accuracy: 51.42, Sparsity: 98.38\n",
      "Epoch: 120. Test Accuracy: 92.88, Prune Accuracy: 50.55, Sparsity: 99.07\n",
      "Epoch: 130. Test Accuracy: 92.55, Prune Accuracy: 63.93, Sparsity: 99.47\n",
      "Epoch: 140. Test Accuracy: 92.15, Prune Accuracy: 58.49, Sparsity: 99.54\n",
      "Epoch: 150. Test Accuracy: 91.84, Prune Accuracy: 67.15, Sparsity: 99.54\n",
      "Epoch: 160. Test Accuracy: 91.41, Prune Accuracy: 62.57, Sparsity: 99.55\n",
      "Epoch: 170. Test Accuracy: 91.04, Prune Accuracy: 60.88, Sparsity: 99.55\n",
      "Epoch: 180. Test Accuracy: 90.92, Prune Accuracy: 65.31, Sparsity: 99.55\n",
      "Epoch: 190. Test Accuracy: 90.73, Prune Accuracy: 69.80, Sparsity: 99.55\n",
      "Epoch: 200. Test Accuracy: 90.64, Prune Accuracy: 74.11, Sparsity: 99.55\n",
      "Epoch: 210. Test Accuracy: 90.91, Prune Accuracy: 73.38, Sparsity: 99.55\n",
      "Epoch: 220. Test Accuracy: 90.58, Prune Accuracy: 74.36, Sparsity: 99.55\n",
      "Epoch: 230. Test Accuracy: 90.57, Prune Accuracy: 76.38, Sparsity: 99.55\n",
      "Epoch: 240. Test Accuracy: 90.79, Prune Accuracy: 81.03, Sparsity: 99.55\n",
      "Epoch: 250. Test Accuracy: 90.58, Prune Accuracy: 78.91, Sparsity: 99.55\n",
      "Retrain Test: 90.58, Prune Test: 78.91, Prune Sparsity: 99.55\n"
     ]
    },
    {
     "data": {
      "text/plain": [
       "<matplotlib.figure.Figure at 0x7f5d8e9d68d0>"
      ]
     },
     "metadata": {},
     "output_type": "display_data"
    },
    {
     "data": {
      "image/png": "[encoded data removed]",
      "text/plain": [
       "<matplotlib.figure.Figure at 0x7f5d8ee9d6a0>"
      ]
     },
     "metadata": {},
     "output_type": "display_data"
    }
   ],
   "source": [
    "model, gmp, res = retrain_model(250, 10, 2500, 1250, 5e-6, 5, 16, \"LeNet_300_100\", \"kd\", 'MSEST', False, \"\")\n",
    "show_sws_weights_log(model = model, means = list(gmp.means.data.clone().cpu()), precisions = list(gmp.gammas.data.clone().cpu()))"
   ]
  },
  {
   "cell_type": "code",
   "execution_count": 132,
   "metadata": {},
   "outputs": [
    {
     "name": "stderr",
     "output_type": "stream",
     "text": [
      "/anaconda/envs/py35/lib/python3.5/site-packages/torch/serialization.py:325: SourceChangeWarning: source code of class 'model_archs.LeNet_300_100' has changed. you can retrieve the original source code by accessing the object's source attribute or set `torch.nn.Module.dump_patches = True` and use the patch tool to revert the changes.\n",
      "  warnings.warn(msg, SourceChangeWarning)\n"
     ]
    },
    {
     "name": "stdout",
     "output_type": "stream",
     "text": [
      "0-component Mean: 2500.0 Variance: 1250.0\n",
      "Non-zero component Mean: 250.0 Variance: 10.0\n",
      "Epoch: 10. Test Accuracy: 97.70, Prune Accuracy: 96.78, Sparsity: 58.55\n",
      "Epoch: 20. Test Accuracy: 94.46, Prune Accuracy: 69.77, Sparsity: 96.34\n",
      "Epoch: 30. Test Accuracy: 90.93, Prune Accuracy: 77.64, Sparsity: 90.71\n",
      "Epoch: 40. Test Accuracy: 89.43, Prune Accuracy: 84.97, Sparsity: 99.32\n",
      "Epoch: 50. Test Accuracy: 89.16, Prune Accuracy: 86.62, Sparsity: 99.47\n",
      "Epoch: 60. Test Accuracy: 89.90, Prune Accuracy: 87.67, Sparsity: 99.47\n",
      "Epoch: 70. Test Accuracy: 89.55, Prune Accuracy: 87.45, Sparsity: 99.47\n",
      "Epoch: 80. Test Accuracy: 89.79, Prune Accuracy: 87.59, Sparsity: 99.42\n",
      "Epoch: 90. Test Accuracy: 89.64, Prune Accuracy: 88.52, Sparsity: 97.91\n",
      "Epoch: 100. Test Accuracy: 90.04, Prune Accuracy: 88.64, Sparsity: 99.26\n",
      "Epoch: 110. Test Accuracy: 89.89, Prune Accuracy: 87.91, Sparsity: 99.41\n",
      "Epoch: 120. Test Accuracy: 89.72, Prune Accuracy: 88.58, Sparsity: 99.41\n",
      "Epoch: 130. Test Accuracy: 89.83, Prune Accuracy: 88.71, Sparsity: 99.43\n",
      "Epoch: 140. Test Accuracy: 89.87, Prune Accuracy: 88.77, Sparsity: 99.42\n",
      "Epoch: 150. Test Accuracy: 89.28, Prune Accuracy: 88.72, Sparsity: 99.43\n",
      "Epoch: 160. Test Accuracy: 90.08, Prune Accuracy: 88.68, Sparsity: 99.43\n",
      "Epoch: 170. Test Accuracy: 89.40, Prune Accuracy: 88.62, Sparsity: 99.43\n",
      "Epoch: 180. Test Accuracy: 89.71, Prune Accuracy: 88.37, Sparsity: 99.43\n",
      "Epoch: 190. Test Accuracy: 89.46, Prune Accuracy: 88.40, Sparsity: 99.43\n",
      "Epoch: 200. Test Accuracy: 89.92, Prune Accuracy: 89.03, Sparsity: 99.44\n",
      "Epoch: 210. Test Accuracy: 89.89, Prune Accuracy: 88.42, Sparsity: 99.44\n",
      "Epoch: 220. Test Accuracy: 90.02, Prune Accuracy: 88.04, Sparsity: 99.45\n",
      "Epoch: 230. Test Accuracy: 90.11, Prune Accuracy: 88.00, Sparsity: 99.45\n",
      "Epoch: 240. Test Accuracy: 89.80, Prune Accuracy: 87.88, Sparsity: 99.44\n",
      "Epoch: 250. Test Accuracy: 90.02, Prune Accuracy: 87.93, Sparsity: 99.44\n",
      "Retrain Test: 90.02, Prune Test: 87.93, Prune Sparsity: 99.44\n"
     ]
    },
    {
     "data": {
      "text/plain": [
       "<matplotlib.figure.Figure at 0x7f5d8d5a7e48>"
      ]
     },
     "metadata": {},
     "output_type": "display_data"
    },
    {
     "data": {
      "image/png": "[encoded data removed]",
      "text/plain": [
       "<matplotlib.figure.Figure at 0x7f5d8d5a7ef0>"
      ]
     },
     "metadata": {},
     "output_type": "display_data"
    }
   ],
   "source": [
    "model, gmp, res = retrain_model(250, 10, 2500, 1250, 5e-6, 5, 16, \"LeNet_300_100\", \"synth\", 'MSEST', False, \"\")\n",
    "show_sws_weights_log(model = model, means = list(gmp.means.data.clone().cpu()), precisions = list(gmp.gammas.data.clone().cpu()))"
   ]
  }
 ],
 "metadata": {
  "kernelspec": {
   "display_name": "Python [conda env:py35]",
   "language": "python",
   "name": "conda-env-py35-py"
  },
  "language_info": {
   "codemirror_mode": {
    "name": "ipython",
    "version": 3
   },
   "file_extension": ".py",
   "mimetype": "text/x-python",
   "name": "python",
   "nbconvert_exporter": "python",
   "pygments_lexer": "ipython3",
   "version": "3.5.4"
  }
 },
 "nbformat": 4,
 "nbformat_minor": 2
}
