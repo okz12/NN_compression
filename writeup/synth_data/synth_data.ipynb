{
 "cells": [
  {
   "cell_type": "code",
   "execution_count": 1,
   "metadata": {},
   "outputs": [
    {
     "data": {
      "text/html": [
       "<style>.container { width:95% !important; }</style>"
      ],
      "text/plain": [
       "<IPython.core.display.HTML object>"
      ]
     },
     "metadata": {},
     "output_type": "display_data"
    },
    {
     "data": {
      "application/javascript": [
       "if (!(\"Notification\" in window)) {\n",
       "    alert(\"This browser does not support desktop notifications, so the %%notify magic will not work.\");\n",
       "} else if (Notification.permission !== 'granted' && Notification.permission !== 'denied') {\n",
       "    Notification.requestPermission(function (permission) {\n",
       "        if(!('permission' in Notification)) {\n",
       "            Notification.permission = permission;\n",
       "        }\n",
       "    })\n",
       "}\n"
      ],
      "text/plain": [
       "<IPython.core.display.Javascript object>"
      ]
     },
     "metadata": {},
     "output_type": "display_data"
    }
   ],
   "source": [
    "#Expand notebook to take full screen width\n",
    "from IPython.core.display import display, HTML\n",
    "display(HTML(\"<style>.container { width:95% !important; }</style>\"))\n",
    "\n",
    "#Jupyter magic to notify when a cell finishes execution with %%notify command -- does not work with Jupyterlab\n",
    "import jupyternotify\n",
    "ip = get_ipython()\n",
    "ip.register_magics(jupyternotify.JupyterNotifyMagics)\n",
    "\n",
    "###\n",
    "import sys\n",
    "sys.path.insert(0,'../../src/')\n",
    "\n",
    "%load_ext autoreload\n",
    "%autoreload 2\n",
    "\n",
    "#%pdb"
   ]
  },
  {
   "cell_type": "code",
   "execution_count": 2,
   "metadata": {},
   "outputs": [
    {
     "name": "stderr",
     "output_type": "stream",
     "text": [
      "/anaconda/envs/py35/lib/python3.5/importlib/_bootstrap.py:222: RuntimeWarning: numpy.dtype size changed, may indicate binary incompatibility. Expected 96, got 88\n",
      "  return f(*args, **kwds)\n",
      "/anaconda/envs/py35/lib/python3.5/importlib/_bootstrap.py:222: RuntimeWarning: numpy.dtype size changed, may indicate binary incompatibility. Expected 96, got 88\n",
      "  return f(*args, **kwds)\n"
     ]
    }
   ],
   "source": [
    "import torch\n",
    "import torch.nn as nn\n",
    "import torchvision.transforms as transforms\n",
    "import torchvision.datasets as dsets\n",
    "from torch.nn.modules import Module\n",
    "from torch.autograd import Variable\n",
    "import torch.nn.functional as F\n",
    "import numpy as np\n",
    "import copy\n",
    "import pickle\n",
    "import model_archs\n",
    "\n",
    "from utils_plot import show_sws_weights, show_weights, print_dims, prune_plot, draw_sws_graphs, joint_plot, plot_data, show_sws_weights_log\n",
    "from utils_model import test_accuracy, train_epoch, retrain_sws_epoch, model_prune, get_weight_penalty, layer_accuracy\n",
    "from utils_misc import trueAfterN, logsumexp, root_dir, model_load_dir, get_ab, get_sparsity\n",
    "from utils_sws import GaussianMixturePrior, special_flatten, KL, compute_responsibilies, merger, sws_prune, sws_prune_l2, sws_prune_copy\n",
    "from mnist_loader import search_train_data, search_retrain_data, search_validation_data, train_data, test_data, batch_size\n",
    "from extract_targets import get_targets\n",
    "from retrain_layer import init_retrain_layer\n",
    "#from retrain_model import retrain_model\n",
    "\n",
    "%matplotlib inline\n",
    "import matplotlib.pyplot as plt\n",
    "import seaborn as sns\n",
    "import numpy as np\n",
    "import pickle"
   ]
  },
  {
   "cell_type": "code",
   "execution_count": 14,
   "metadata": {},
   "outputs": [],
   "source": [
    "from utils_plot import show_sws_weights, show_weights, print_dims, prune_plot, draw_sws_graphs, joint_plot, plot_data\n",
    "from utils_model import test_accuracy, train_epoch, retrain_sws_epoch, model_prune, get_weight_penalty\n",
    "from utils_misc import trueAfterN, logsumexp, root_dir, model_load_dir, get_ab, get_sparsity\n",
    "from utils_sws import GaussianMixturePrior, special_flatten, KL, compute_responsibilies, merger, sws_prune, sws_prune_l2, sws_prune_copy, compressed_model\n",
    "from mnist_loader import search_train_data, search_retrain_data, search_validation_data, train_data, test_data, batch_size\n",
    "\n",
    "def retrain_model(mean, var, zmean, zvar, tau, temp, mixtures, model_name, mode, loss_type = 'MSESNT', scaling = False, model_save_dir = \"\",  fn=\"\", dset=\"mnist\"):\n",
    "    ab = get_ab(mean, var)\n",
    "    zab = get_ab(zmean, zvar)\n",
    "    \n",
    "    test_data_full = Variable(test_data(fetch='data', dset=dset)).cuda()\n",
    "    test_labels_full = Variable(test_data(fetch='labels', dset=dset)).cuda()\n",
    "\n",
    "    model_file = '{}_{}_{}_{}'.format(dset, \"LeNet_300_100\", 100, \"full\")\n",
    "    model = torch.load(model_load_dir + model_file + '.m').cuda()\n",
    "\n",
    "    train_input = train_data(fetch = \"data\", dset=dset)[0:1000].cuda()\n",
    "    if (mode == \"sws\"):\n",
    "        output = train_data(fetch = \"labels\", dset=dset)[0:1000].cuda()\n",
    "        retraining_epochs = 250\n",
    "    if (mode == \"kd\"):\n",
    "        output = model(Variable(train_input))\n",
    "        output = (nn.Softmax(dim=1)(output/temp)).data\n",
    "        retraining_epochs = 250\n",
    "    if (mode == \"synth\"):\n",
    "        #data_aug 1\n",
    "        if (True):\n",
    "            mean=train_input.mean(dim=0).cpu().numpy()\n",
    "            std=train_input.std(dim=0).cpu().numpy()\n",
    "            new_data = np.concatenate([[np.random.normal(mean, std) for x in range(10000)]], axis=1)\n",
    "            train_data_exp = torch.Tensor(new_data).clamp(0,1).cuda()\n",
    "            train_input_exp = torch.cat([train_input + (torch.FloatTensor(1000, 28, 28).normal_(0, 0.2)).cuda() for x in range(10)]).clamp(0, 1)\n",
    "        if (False):\n",
    "            train_input_exp = torch.load(\"synth_data_2.m\")\n",
    "        output = model(Variable(train_input_exp))\n",
    "        output = (nn.Softmax(dim=1)(output/temp)).data\n",
    "        train_input = train_input_exp\n",
    "        retraining_epochs = 250\n",
    "\n",
    "    dataset = torch.utils.data.TensorDataset(train_input, output)\n",
    "    loader = torch.utils.data.DataLoader(dataset=dataset, batch_size=batch_size, shuffle=True)\n",
    "\n",
    "    s = \"s\" if scaling else \"f\" \n",
    "    exp_name = \"{}_m{}_zm{}_r{}_t{}_m{}_kdT{}_{}_{}\".format(model.name, mean, zmean, retraining_epochs, tau, int(mixtures), int(temp), s, mode) + fn\n",
    "    gmp = GaussianMixturePrior(mixtures, [x for x in model.parameters()], 0.99, zero_ab = zab, ab = ab, scaling = scaling)\n",
    "    gmp.print_batch = False\n",
    "\n",
    "    mlr = 0.5e-4 if scaling else 0.5e-4\n",
    "\n",
    "    optimizable_params = [\n",
    "        {'params': model.parameters(), 'lr': 5e-4},\n",
    "        {'params': [gmp.means], 'lr': mlr},\n",
    "        {'params': [gmp.gammas, gmp.rhos], 'lr': 3e-3}]\n",
    "    if (scaling):\n",
    "        optimizable_params = optimizable_params + [{'params': gmp.scale, 'lr': 1e-6}]\n",
    "\n",
    "    opt = torch.optim.Adam(optimizable_params)#log precisions and mixing proportions\n",
    "\n",
    "    res_stats = plot_data(init_model = model, gmp = gmp, mode = 'retrain', data_size = \"full\", loss_type='CE', mv = (mean, var), zmv = (zmean, zvar), tau = tau, temp = temp, mixtures = mixtures, dset=dset)\n",
    "    s_hist = []\n",
    "    a_hist = []\n",
    "    for epoch in range(retraining_epochs):\n",
    "        ### [ACT DISABLE LR]\n",
    "        if(scaling and epoch == 0):\n",
    "            opt.param_groups[3]['lr'] = 0\n",
    "            print (\"Scaling Disabled - Epoch {}\".format(epoch))\n",
    "        model, loss = retrain_sws_epoch(model, gmp, opt, loader, tau, temp, loss_type)\n",
    "        res_stats.data_epoch(epoch + 1, model, gmp)\n",
    "\n",
    "\n",
    "        if (trueAfterN(epoch, 10)):\n",
    "            #test_acc = test_accuracy(test_data_full, test_labels_full, model)\n",
    "            nm = sws_prune_copy(model, gmp)\n",
    "            s = get_sparsity(nm)\n",
    "            a = test_accuracy(test_data_full, test_labels_full, nm)[0]\n",
    "\n",
    "            print('Epoch: {}. Test Accuracy: {:.2f}, Prune Accuracy: {:.2f}, Sparsity: {:.2f}'.format(epoch+1, res_stats.test_accuracy[-1], a, s))\n",
    "            #show_sws_weights(model = model, means = list(gmp.means.data.clone().cpu()), precisions = list(gmp.gammas.data.clone().cpu()), epoch = epoch)###\n",
    "        nm = sws_prune_copy(model, gmp)\n",
    "        s = get_sparsity(nm)\n",
    "        a = test_accuracy(test_data_full, test_labels_full, nm)[0]\n",
    "        s_hist.append(s)\n",
    "        a_hist.append(a)\n",
    "\n",
    "    res = res_stats.gen_dict()\n",
    "\n",
    "    model_prune = sws_prune_copy(model, gmp)\n",
    "\n",
    "    res_stats.data_prune(model_prune)\n",
    "    res = res_stats.gen_dict()\n",
    "    res['test_prune_acc'] = a_hist\n",
    "    res['test_prune_sp'] = s_hist\n",
    "    cm = compressed_model(model_prune.state_dict(), [gmp])\n",
    "    res['cm'] = cm.get_cr_list()\n",
    "\n",
    "    print('Retrain Test: {:.2f}, Prune Test: {:.2f}, Prune Sparsity: {:.2f}'.format(res['test_acc'][-1], res['prune_acc']['test'],res['sparsity']))\n",
    "\n",
    "    if(model_save_dir!=\"\"):\n",
    "        torch.save(model, model_save_dir + '/mnist_retrain_model_{}.m'.format(exp_name))\n",
    "        with open(model_save_dir + '/mnist_retrain_gmp_{}.p'.format(exp_name),'wb') as f:\n",
    "            pickle.dump(gmp, f)\n",
    "        with open(model_save_dir + '/mnist_retrain_res_{}.p'.format(exp_name),'wb') as f:\n",
    "            pickle.dump(res, f)\n",
    "\n",
    "    return model, gmp, res"
   ]
  },
  {
   "cell_type": "code",
   "execution_count": 130,
   "metadata": {},
   "outputs": [
    {
     "name": "stderr",
     "output_type": "stream",
     "text": [
      "/anaconda/envs/py35/lib/python3.5/site-packages/torch/serialization.py:325: SourceChangeWarning: source code of class 'model_archs.LeNet_300_100' has changed. you can retrieve the original source code by accessing the object's source attribute or set `torch.nn.Module.dump_patches = True` and use the patch tool to revert the changes.\n",
      "  warnings.warn(msg, SourceChangeWarning)\n"
     ]
    },
    {
     "name": "stdout",
     "output_type": "stream",
     "text": [
      "0-component Mean: 1000.0 Variance: 1000.0\n",
      "Non-zero component Mean: 1.0 Variance: 0.1\n",
      "Epoch: 10. Test Accuracy: 98.18, Prune Accuracy: 97.80, Sparsity: 54.30\n",
      "Epoch: 20. Test Accuracy: 97.72, Prune Accuracy: 96.37, Sparsity: 72.96\n",
      "Epoch: 30. Test Accuracy: 96.93, Prune Accuracy: 92.99, Sparsity: 82.70\n",
      "Epoch: 40. Test Accuracy: 96.01, Prune Accuracy: 77.89, Sparsity: 87.36\n",
      "Epoch: 50. Test Accuracy: 94.94, Prune Accuracy: 67.40, Sparsity: 89.23\n",
      "Epoch: 60. Test Accuracy: 94.16, Prune Accuracy: 65.56, Sparsity: 91.05\n",
      "Epoch: 70. Test Accuracy: 94.18, Prune Accuracy: 61.33, Sparsity: 92.44\n",
      "Epoch: 80. Test Accuracy: 93.40, Prune Accuracy: 55.10, Sparsity: 94.21\n",
      "Epoch: 90. Test Accuracy: 93.49, Prune Accuracy: 46.23, Sparsity: 95.98\n",
      "Epoch: 100. Test Accuracy: 92.83, Prune Accuracy: 42.15, Sparsity: 97.50\n",
      "Epoch: 110. Test Accuracy: 92.18, Prune Accuracy: 25.08, Sparsity: 98.43\n",
      "Epoch: 120. Test Accuracy: 92.04, Prune Accuracy: 28.78, Sparsity: 98.92\n",
      "Epoch: 130. Test Accuracy: 91.84, Prune Accuracy: 26.68, Sparsity: 99.22\n",
      "Epoch: 140. Test Accuracy: 91.37, Prune Accuracy: 39.59, Sparsity: 99.44\n",
      "Epoch: 150. Test Accuracy: 91.09, Prune Accuracy: 38.26, Sparsity: 99.58\n",
      "Epoch: 160. Test Accuracy: 90.30, Prune Accuracy: 43.86, Sparsity: 99.65\n",
      "Epoch: 170. Test Accuracy: 89.94, Prune Accuracy: 52.52, Sparsity: 99.70\n",
      "Epoch: 180. Test Accuracy: 89.16, Prune Accuracy: 55.01, Sparsity: 99.72\n",
      "Epoch: 190. Test Accuracy: 88.33, Prune Accuracy: 56.64, Sparsity: 99.72\n",
      "Epoch: 200. Test Accuracy: 88.31, Prune Accuracy: 60.09, Sparsity: 99.72\n",
      "Epoch: 210. Test Accuracy: 88.32, Prune Accuracy: 61.93, Sparsity: 99.72\n",
      "Epoch: 220. Test Accuracy: 88.23, Prune Accuracy: 61.18, Sparsity: 99.72\n",
      "Epoch: 230. Test Accuracy: 88.10, Prune Accuracy: 61.68, Sparsity: 99.72\n",
      "Epoch: 240. Test Accuracy: 87.66, Prune Accuracy: 62.99, Sparsity: 99.72\n",
      "Epoch: 250. Test Accuracy: 88.04, Prune Accuracy: 62.54, Sparsity: 99.72\n",
      "Retrain Test: 88.04, Prune Test: 62.54, Prune Sparsity: 99.72\n"
     ]
    },
    {
     "data": {
      "text/plain": [
       "<matplotlib.figure.Figure at 0x7f5d8edfb940>"
      ]
     },
     "metadata": {},
     "output_type": "display_data"
    },
    {
     "data": {
      "image/png": "[encoded data removed]",
      "text/plain": [
       "<matplotlib.figure.Figure at 0x7f5d8edfbd68>"
      ]
     },
     "metadata": {},
     "output_type": "display_data"
    }
   ],
   "source": [
    "model, gmp, res = retrain_model(1, 0.1, 1000, 1000, 5e-6, int(0), 16, \"LeNet_300_100\", \"sws\", 'CESNT', False, \"\")\n",
    "show_sws_weights_log(model = model, means = list(gmp.means.data.clone().cpu()), precisions = list(gmp.gammas.data.clone().cpu()))"
   ]
  },
  {
   "cell_type": "code",
   "execution_count": 131,
   "metadata": {},
   "outputs": [
    {
     "name": "stderr",
     "output_type": "stream",
     "text": [
      "/anaconda/envs/py35/lib/python3.5/site-packages/torch/serialization.py:325: SourceChangeWarning: source code of class 'model_archs.LeNet_300_100' has changed. you can retrieve the original source code by accessing the object's source attribute or set `torch.nn.Module.dump_patches = True` and use the patch tool to revert the changes.\n",
      "  warnings.warn(msg, SourceChangeWarning)\n"
     ]
    },
    {
     "name": "stdout",
     "output_type": "stream",
     "text": [
      "0-component Mean: 2500.0 Variance: 1250.0\n",
      "Non-zero component Mean: 250.0 Variance: 10.0\n",
      "Epoch: 10. Test Accuracy: 98.25, Prune Accuracy: 98.08, Sparsity: 49.13\n",
      "Epoch: 20. Test Accuracy: 97.69, Prune Accuracy: 97.37, Sparsity: 61.89\n",
      "Epoch: 30. Test Accuracy: 96.88, Prune Accuracy: 96.51, Sparsity: 68.68\n",
      "Epoch: 40. Test Accuracy: 96.02, Prune Accuracy: 95.74, Sparsity: 72.40\n",
      "Epoch: 50. Test Accuracy: 95.51, Prune Accuracy: 94.44, Sparsity: 75.37\n",
      "Epoch: 60. Test Accuracy: 94.72, Prune Accuracy: 90.13, Sparsity: 77.90\n",
      "Epoch: 70. Test Accuracy: 94.27, Prune Accuracy: 74.36, Sparsity: 88.27\n",
      "Epoch: 80. Test Accuracy: 94.00, Prune Accuracy: 66.03, Sparsity: 93.88\n",
      "Epoch: 90. Test Accuracy: 93.76, Prune Accuracy: 60.43, Sparsity: 95.93\n",
      "Epoch: 100. Test Accuracy: 93.55, Prune Accuracy: 54.46, Sparsity: 97.35\n",
      "Epoch: 110. Test Accuracy: 93.18, Prune Accuracy: 51.42, Sparsity: 98.38\n",
      "Epoch: 120. Test Accuracy: 92.88, Prune Accuracy: 50.55, Sparsity: 99.07\n",
      "Epoch: 130. Test Accuracy: 92.55, Prune Accuracy: 63.93, Sparsity: 99.47\n",
      "Epoch: 140. Test Accuracy: 92.15, Prune Accuracy: 58.49, Sparsity: 99.54\n",
      "Epoch: 150. Test Accuracy: 91.84, Prune Accuracy: 67.15, Sparsity: 99.54\n",
      "Epoch: 160. Test Accuracy: 91.41, Prune Accuracy: 62.57, Sparsity: 99.55\n",
      "Epoch: 170. Test Accuracy: 91.04, Prune Accuracy: 60.88, Sparsity: 99.55\n",
      "Epoch: 180. Test Accuracy: 90.92, Prune Accuracy: 65.31, Sparsity: 99.55\n",
      "Epoch: 190. Test Accuracy: 90.73, Prune Accuracy: 69.80, Sparsity: 99.55\n",
      "Epoch: 200. Test Accuracy: 90.64, Prune Accuracy: 74.11, Sparsity: 99.55\n",
      "Epoch: 210. Test Accuracy: 90.91, Prune Accuracy: 73.38, Sparsity: 99.55\n",
      "Epoch: 220. Test Accuracy: 90.58, Prune Accuracy: 74.36, Sparsity: 99.55\n",
      "Epoch: 230. Test Accuracy: 90.57, Prune Accuracy: 76.38, Sparsity: 99.55\n",
      "Epoch: 240. Test Accuracy: 90.79, Prune Accuracy: 81.03, Sparsity: 99.55\n",
      "Epoch: 250. Test Accuracy: 90.58, Prune Accuracy: 78.91, Sparsity: 99.55\n",
      "Retrain Test: 90.58, Prune Test: 78.91, Prune Sparsity: 99.55\n"
     ]
    },
    {
     "data": {
      "text/plain": [
       "<matplotlib.figure.Figure at 0x7f5d8e9d68d0>"
      ]
     },
     "metadata": {},
     "output_type": "display_data"
    },
    {
     "data": {
      "image/png": "[encoded data removed]",
      "text/plain": [
       "<matplotlib.figure.Figure at 0x7f5d8ee9d6a0>"
      ]
     },
     "metadata": {},
     "output_type": "display_data"
    }
   ],
   "source": [
    "model, gmp, res = retrain_model(250, 10, 2500, 1250, 5e-6, 5, 16, \"LeNet_300_100\", \"kd\", 'MSEST', False, \"\")\n",
    "show_sws_weights_log(model = model, means = list(gmp.means.data.clone().cpu()), precisions = list(gmp.gammas.data.clone().cpu()))"
   ]
  },
  {
   "cell_type": "code",
   "execution_count": 132,
   "metadata": {},
   "outputs": [
    {
     "name": "stderr",
     "output_type": "stream",
     "text": [
      "/anaconda/envs/py35/lib/python3.5/site-packages/torch/serialization.py:325: SourceChangeWarning: source code of class 'model_archs.LeNet_300_100' has changed. you can retrieve the original source code by accessing the object's source attribute or set `torch.nn.Module.dump_patches = True` and use the patch tool to revert the changes.\n",
      "  warnings.warn(msg, SourceChangeWarning)\n"
     ]
    },
    {
     "name": "stdout",
     "output_type": "stream",
     "text": [
      "0-component Mean: 2500.0 Variance: 1250.0\n",
      "Non-zero component Mean: 250.0 Variance: 10.0\n",
      "Epoch: 10. Test Accuracy: 97.70, Prune Accuracy: 96.78, Sparsity: 58.55\n",
      "Epoch: 20. Test Accuracy: 94.46, Prune Accuracy: 69.77, Sparsity: 96.34\n",
      "Epoch: 30. Test Accuracy: 90.93, Prune Accuracy: 77.64, Sparsity: 90.71\n",
      "Epoch: 40. Test Accuracy: 89.43, Prune Accuracy: 84.97, Sparsity: 99.32\n",
      "Epoch: 50. Test Accuracy: 89.16, Prune Accuracy: 86.62, Sparsity: 99.47\n",
      "Epoch: 60. Test Accuracy: 89.90, Prune Accuracy: 87.67, Sparsity: 99.47\n",
      "Epoch: 70. Test Accuracy: 89.55, Prune Accuracy: 87.45, Sparsity: 99.47\n",
      "Epoch: 80. Test Accuracy: 89.79, Prune Accuracy: 87.59, Sparsity: 99.42\n",
      "Epoch: 90. Test Accuracy: 89.64, Prune Accuracy: 88.52, Sparsity: 97.91\n",
      "Epoch: 100. Test Accuracy: 90.04, Prune Accuracy: 88.64, Sparsity: 99.26\n",
      "Epoch: 110. Test Accuracy: 89.89, Prune Accuracy: 87.91, Sparsity: 99.41\n",
      "Epoch: 120. Test Accuracy: 89.72, Prune Accuracy: 88.58, Sparsity: 99.41\n",
      "Epoch: 130. Test Accuracy: 89.83, Prune Accuracy: 88.71, Sparsity: 99.43\n",
      "Epoch: 140. Test Accuracy: 89.87, Prune Accuracy: 88.77, Sparsity: 99.42\n",
      "Epoch: 150. Test Accuracy: 89.28, Prune Accuracy: 88.72, Sparsity: 99.43\n",
      "Epoch: 160. Test Accuracy: 90.08, Prune Accuracy: 88.68, Sparsity: 99.43\n",
      "Epoch: 170. Test Accuracy: 89.40, Prune Accuracy: 88.62, Sparsity: 99.43\n",
      "Epoch: 180. Test Accuracy: 89.71, Prune Accuracy: 88.37, Sparsity: 99.43\n",
      "Epoch: 190. Test Accuracy: 89.46, Prune Accuracy: 88.40, Sparsity: 99.43\n",
      "Epoch: 200. Test Accuracy: 89.92, Prune Accuracy: 89.03, Sparsity: 99.44\n",
      "Epoch: 210. Test Accuracy: 89.89, Prune Accuracy: 88.42, Sparsity: 99.44\n",
      "Epoch: 220. Test Accuracy: 90.02, Prune Accuracy: 88.04, Sparsity: 99.45\n",
      "Epoch: 230. Test Accuracy: 90.11, Prune Accuracy: 88.00, Sparsity: 99.45\n",
      "Epoch: 240. Test Accuracy: 89.80, Prune Accuracy: 87.88, Sparsity: 99.44\n",
      "Epoch: 250. Test Accuracy: 90.02, Prune Accuracy: 87.93, Sparsity: 99.44\n",
      "Retrain Test: 90.02, Prune Test: 87.93, Prune Sparsity: 99.44\n"
     ]
    },
    {
     "data": {
      "text/plain": [
       "<matplotlib.figure.Figure at 0x7f5d8d5a7e48>"
      ]
     },
     "metadata": {},
     "output_type": "display_data"
    },
    {
     "data": {
      "image/png": "[encoded data removed]",
      "text/plain": [
       "<matplotlib.figure.Figure at 0x7f5d8d5a7ef0>"
      ]
     },
     "metadata": {},
     "output_type": "display_data"
    }
   ],
   "source": [
    "model, gmp, res = retrain_model(250, 10, 2500, 1250, 5e-6, 5, 16, \"LeNet_300_100\", \"synth\", 'MSEST', False, \"\")\n",
    "show_sws_weights_log(model = model, means = list(gmp.means.data.clone().cpu()), precisions = list(gmp.gammas.data.clone().cpu()))"
   ]
  },
  {
   "cell_type": "code",
   "execution_count": 128,
   "metadata": {
    "collapsed": true
   },
   "outputs": [
    {
     "name": "stderr",
     "output_type": "stream",
     "text": [
      "/anaconda/envs/py35/lib/python3.5/site-packages/torch/serialization.py:325: SourceChangeWarning: source code of class 'model_archs.LeNet_300_100' has changed. you can retrieve the original source code by accessing the object's source attribute or set `torch.nn.Module.dump_patches = True` and use the patch tool to revert the changes.\n",
      "  warnings.warn(msg, SourceChangeWarning)\n"
     ]
    },
    {
     "name": "stdout",
     "output_type": "stream",
     "text": [
      "0-component Mean: 2500.0 Variance: 1250.0\n",
      "Non-zero component Mean: 250.0 Variance: 10.0\n",
      "Epoch: 10. Test Accuracy: 98.33, Prune Accuracy: 98.16, Sparsity: 36.82\n",
      "Epoch: 20. Test Accuracy: 97.94, Prune Accuracy: 97.24, Sparsity: 53.64\n",
      "Epoch: 30. Test Accuracy: 96.67, Prune Accuracy: 54.89, Sparsity: 93.92\n",
      "Epoch: 40. Test Accuracy: 92.51, Prune Accuracy: 64.68, Sparsity: 98.84\n",
      "Epoch: 50. Test Accuracy: 93.17, Prune Accuracy: 76.84, Sparsity: 98.84\n",
      "Epoch: 60. Test Accuracy: 93.34, Prune Accuracy: 81.55, Sparsity: 98.85\n",
      "Epoch: 70. Test Accuracy: 92.98, Prune Accuracy: 81.40, Sparsity: 98.85\n",
      "Epoch: 80. Test Accuracy: 93.67, Prune Accuracy: 82.41, Sparsity: 98.85\n",
      "Epoch: 90. Test Accuracy: 93.99, Prune Accuracy: 81.48, Sparsity: 98.86\n",
      "Epoch: 100. Test Accuracy: 93.62, Prune Accuracy: 82.63, Sparsity: 98.86\n",
      "Epoch: 110. Test Accuracy: 93.50, Prune Accuracy: 82.89, Sparsity: 98.87\n",
      "Epoch: 120. Test Accuracy: 93.84, Prune Accuracy: 84.42, Sparsity: 98.87\n",
      "Epoch: 130. Test Accuracy: 93.52, Prune Accuracy: 84.37, Sparsity: 98.87\n",
      "Epoch: 140. Test Accuracy: 93.59, Prune Accuracy: 84.00, Sparsity: 98.87\n",
      "Epoch: 150. Test Accuracy: 93.63, Prune Accuracy: 83.98, Sparsity: 98.88\n",
      "Epoch: 160. Test Accuracy: 93.67, Prune Accuracy: 83.74, Sparsity: 98.88\n",
      "Epoch: 170. Test Accuracy: 93.87, Prune Accuracy: 84.59, Sparsity: 98.88\n",
      "Epoch: 180. Test Accuracy: 93.77, Prune Accuracy: 84.16, Sparsity: 98.88\n",
      "Epoch: 190. Test Accuracy: 93.92, Prune Accuracy: 83.50, Sparsity: 98.88\n",
      "Epoch: 200. Test Accuracy: 93.63, Prune Accuracy: 82.00, Sparsity: 98.89\n",
      "Epoch: 210. Test Accuracy: 93.79, Prune Accuracy: 83.47, Sparsity: 98.89\n",
      "Epoch: 220. Test Accuracy: 93.92, Prune Accuracy: 84.16, Sparsity: 98.89\n",
      "Epoch: 230. Test Accuracy: 94.06, Prune Accuracy: 84.52, Sparsity: 98.89\n",
      "Epoch: 240. Test Accuracy: 93.40, Prune Accuracy: 83.60, Sparsity: 98.89\n",
      "Epoch: 250. Test Accuracy: 94.14, Prune Accuracy: 84.21, Sparsity: 98.89\n",
      "Retrain Test: 94.14, Prune Test: 84.21, Prune Sparsity: 98.89\n"
     ]
    },
    {
     "data": {
      "text/plain": [
       "<matplotlib.figure.Figure at 0x7fa1883672b0>"
      ]
     },
     "metadata": {},
     "output_type": "display_data"
    },
    {
     "data": {
      "image/png": "[encoded data removed]",
      "text/plain": [
       "<matplotlib.figure.Figure at 0x7fa18837b160>"
      ]
     },
     "metadata": {},
     "output_type": "display_data"
    }
   ],
   "source": [
    "model, gmp, res = retrain_model(250, 10, 2500, 1250, 5e-6, 5, 16, \"LeNet_300_100\", \"synth\", 'MSEST', False, \"\")\n",
    "show_sws_weights_log(model = model, means = list(gmp.means.data.clone().cpu()), precisions = list(gmp.gammas.data.clone().cpu()))"
   ]
  },
  {
   "cell_type": "markdown",
   "metadata": {},
   "source": [
    "### Data Augmentation"
   ]
  },
  {
   "cell_type": "code",
   "execution_count": 126,
   "metadata": {},
   "outputs": [],
   "source": [
    "import math\n",
    "import numpy as np\n",
    "import matplotlib.pyplot as plt\n",
    "\n",
    "from skimage import data\n",
    "from skimage import transform as tf\n",
    "\n",
    "scale = np.random.uniform(low=0.8, high=1.2, size = 10000)\n",
    "rotation = np.random.uniform(low=-math.pi/9, high=math.pi/9, size = 10000)\n",
    "translation_x = np.round(np.random.uniform(low=-4, high=4, size = 10000),0)\n",
    "translation_y = np.round(np.random.uniform(low=-4, high=4, size = 10000),0)\n",
    "\n",
    "train_input_exp = torch.cat([train_data(fetch = \"data\")[0:2000].cuda() for x in range(5)])\n",
    "train_input_np = train_input_exp.cpu().numpy()\n",
    "\n",
    "for i in range(len(train_input_np)):\n",
    "    s = float(scale[i])\n",
    "    r = float(rotation[i])\n",
    "    tx = int(translation_x[i])\n",
    "    ty = int(translation_y[i])\n",
    "    tform = tf.SimilarityTransform(scale=s, rotation=r, translation=(tx, ty))\n",
    "    train_input_np[i] = tf.warp(train_input_np[i], tform)\n",
    "    \n",
    "train_input_exp = torch.Tensor(train_input_np).cuda()"
   ]
  },
  {
   "cell_type": "code",
   "execution_count": 127,
   "metadata": {},
   "outputs": [],
   "source": [
    "torch.save(train_input_exp, \"synth_data_2.m\")"
   ]
  },
  {
   "cell_type": "markdown",
   "metadata": {},
   "source": [
    "### FashionMNIST"
   ]
  },
  {
   "cell_type": "code",
   "execution_count": 10,
   "metadata": {},
   "outputs": [
    {
     "name": "stderr",
     "output_type": "stream",
     "text": [
      "/anaconda/envs/py35/lib/python3.5/site-packages/torch/serialization.py:325: SourceChangeWarning: source code of class 'model_archs.LeNet_300_100' has changed. you can retrieve the original source code by accessing the object's source attribute or set `torch.nn.Module.dump_patches = True` and use the patch tool to revert the changes.\n",
      "  warnings.warn(msg, SourceChangeWarning)\n"
     ]
    },
    {
     "name": "stdout",
     "output_type": "stream",
     "text": [
      "0-component Mean: 1000.0 Variance: 1000.0\n",
      "Non-zero component Mean: 1.0 Variance: 0.1\n",
      "Epoch: 10. Test Accuracy: 89.88, Prune Accuracy: 88.36, Sparsity: 33.64\n",
      "Epoch: 20. Test Accuracy: 89.84, Prune Accuracy: 88.40, Sparsity: 44.69\n",
      "Epoch: 30. Test Accuracy: 88.77, Prune Accuracy: 85.59, Sparsity: 53.15\n",
      "Epoch: 40. Test Accuracy: 89.14, Prune Accuracy: 85.32, Sparsity: 56.99\n",
      "Epoch: 50. Test Accuracy: 88.47, Prune Accuracy: 79.00, Sparsity: 62.61\n",
      "Epoch: 60. Test Accuracy: 87.71, Prune Accuracy: 74.41, Sparsity: 66.68\n",
      "Epoch: 70. Test Accuracy: 86.87, Prune Accuracy: 53.29, Sparsity: 74.84\n",
      "Epoch: 80. Test Accuracy: 84.80, Prune Accuracy: 32.04, Sparsity: 87.03\n",
      "Epoch: 90. Test Accuracy: 81.71, Prune Accuracy: 45.44, Sparsity: 95.18\n",
      "Epoch: 100. Test Accuracy: 81.93, Prune Accuracy: 55.05, Sparsity: 97.15\n",
      "Epoch: 110. Test Accuracy: 81.15, Prune Accuracy: 60.41, Sparsity: 97.75\n",
      "Epoch: 120. Test Accuracy: 81.84, Prune Accuracy: 69.21, Sparsity: 97.90\n",
      "Epoch: 130. Test Accuracy: 81.43, Prune Accuracy: 73.84, Sparsity: 97.94\n",
      "Epoch: 140. Test Accuracy: 81.98, Prune Accuracy: 73.77, Sparsity: 97.95\n",
      "Epoch: 150. Test Accuracy: 82.47, Prune Accuracy: 75.80, Sparsity: 97.96\n",
      "Epoch: 160. Test Accuracy: 82.42, Prune Accuracy: 77.50, Sparsity: 97.97\n",
      "Epoch: 170. Test Accuracy: 82.09, Prune Accuracy: 78.02, Sparsity: 97.98\n",
      "Epoch: 180. Test Accuracy: 82.24, Prune Accuracy: 78.91, Sparsity: 97.98\n",
      "Epoch: 190. Test Accuracy: 82.09, Prune Accuracy: 79.28, Sparsity: 97.99\n",
      "Epoch: 200. Test Accuracy: 82.57, Prune Accuracy: 79.59, Sparsity: 97.99\n",
      "Epoch: 210. Test Accuracy: 82.60, Prune Accuracy: 80.14, Sparsity: 98.00\n",
      "Epoch: 220. Test Accuracy: 82.38, Prune Accuracy: 80.30, Sparsity: 98.00\n",
      "Epoch: 230. Test Accuracy: 82.05, Prune Accuracy: 80.38, Sparsity: 98.01\n",
      "Epoch: 240. Test Accuracy: 81.86, Prune Accuracy: 80.04, Sparsity: 98.01\n",
      "Epoch: 250. Test Accuracy: 82.12, Prune Accuracy: 79.85, Sparsity: 98.02\n",
      "Retrain Test: 82.12, Prune Test: 79.85, Prune Sparsity: 98.02\n"
     ]
    },
    {
     "data": {
      "text/plain": [
       "<matplotlib.figure.Figure at 0x7fd1df181d30>"
      ]
     },
     "metadata": {},
     "output_type": "display_data"
    },
    {
     "data": {
      "image/png": "[encoded data removed]",
      "text/plain": [
       "<matplotlib.figure.Figure at 0x7fd1dd335b70>"
      ]
     },
     "metadata": {},
     "output_type": "display_data"
    }
   ],
   "source": [
    "model, gmp, res = retrain_model(1, 0.1, 1000, 1000, 5e-6, int(0), 16, \"LeNet_300_100\", \"sws\", 'CESNT', False, \"\", dset='fashionmnist')\n",
    "show_sws_weights_log(model = model, means = list(gmp.means.data.clone().cpu()), precisions = list(gmp.gammas.data.clone().cpu()))"
   ]
  },
  {
   "cell_type": "code",
   "execution_count": null,
   "metadata": {},
   "outputs": [],
   "source": [
    "model, gmp, res = retrain_model(250, 10, 2500, 1250, 5e-5, 5, 16, \"LeNet_300_100\", \"kd\", 'MSEST', False, \"\", dset='fashionmnist')\n",
    "show_sws_weights_log(model = model, means = list(gmp.means.data.clone().cpu()), precisions = list(gmp.gammas.data.clone().cpu()))"
   ]
  },
  {
   "cell_type": "code",
   "execution_count": 13,
   "metadata": {
    "collapsed": true
   },
   "outputs": [
    {
     "name": "stderr",
     "output_type": "stream",
     "text": [
      "/anaconda/envs/py35/lib/python3.5/site-packages/torch/serialization.py:325: SourceChangeWarning: source code of class 'model_archs.LeNet_300_100' has changed. you can retrieve the original source code by accessing the object's source attribute or set `torch.nn.Module.dump_patches = True` and use the patch tool to revert the changes.\n",
      "  warnings.warn(msg, SourceChangeWarning)\n"
     ]
    },
    {
     "name": "stdout",
     "output_type": "stream",
     "text": [
      "0-component Mean: 2500.0 Variance: 1250.0\n",
      "Non-zero component Mean: 250.0 Variance: 10.0\n",
      "Epoch: 10. Test Accuracy: 88.54, Prune Accuracy: 86.14, Sparsity: 34.27\n",
      "Epoch: 20. Test Accuracy: 86.08, Prune Accuracy: 81.27, Sparsity: 53.63\n",
      "Epoch: 30. Test Accuracy: 75.69, Prune Accuracy: 50.90, Sparsity: 98.30\n",
      "Epoch: 40. Test Accuracy: 75.49, Prune Accuracy: 68.81, Sparsity: 98.24\n",
      "Epoch: 50. Test Accuracy: 75.79, Prune Accuracy: 70.37, Sparsity: 98.24\n",
      "Epoch: 60. Test Accuracy: 76.50, Prune Accuracy: 72.00, Sparsity: 98.24\n",
      "Epoch: 70. Test Accuracy: 77.02, Prune Accuracy: 70.75, Sparsity: 98.23\n",
      "Epoch: 80. Test Accuracy: 76.60, Prune Accuracy: 70.58, Sparsity: 98.23\n",
      "Epoch: 90. Test Accuracy: 77.17, Prune Accuracy: 71.23, Sparsity: 98.23\n",
      "Epoch: 100. Test Accuracy: 76.81, Prune Accuracy: 71.27, Sparsity: 98.23\n",
      "Epoch: 110. Test Accuracy: 76.61, Prune Accuracy: 71.91, Sparsity: 98.23\n",
      "Epoch: 120. Test Accuracy: 75.23, Prune Accuracy: 72.55, Sparsity: 98.23\n",
      "Epoch: 130. Test Accuracy: 76.89, Prune Accuracy: 73.27, Sparsity: 98.24\n",
      "Epoch: 140. Test Accuracy: 76.98, Prune Accuracy: 73.91, Sparsity: 98.23\n",
      "Epoch: 150. Test Accuracy: 76.03, Prune Accuracy: 74.80, Sparsity: 98.23\n",
      "Epoch: 160. Test Accuracy: 76.52, Prune Accuracy: 74.69, Sparsity: 98.23\n",
      "Epoch: 170. Test Accuracy: 75.93, Prune Accuracy: 74.72, Sparsity: 98.23\n",
      "Epoch: 180. Test Accuracy: 76.90, Prune Accuracy: 74.66, Sparsity: 98.23\n"
     ]
    },
    {
     "ename": "KeyboardInterrupt",
     "evalue": "",
     "output_type": "error",
     "traceback": [
      "\u001b[0;31m---------------------------------------------------------------------------\u001b[0m",
      "\u001b[0;31mKeyboardInterrupt\u001b[0m                         Traceback (most recent call last)",
      "\u001b[0;32m<ipython-input-13-ffda9099594c>\u001b[0m in \u001b[0;36m<module>\u001b[0;34m()\u001b[0m\n\u001b[0;32m----> 1\u001b[0;31m \u001b[0mmodel\u001b[0m\u001b[0;34m,\u001b[0m \u001b[0mgmp\u001b[0m\u001b[0;34m,\u001b[0m \u001b[0mres\u001b[0m \u001b[0;34m=\u001b[0m \u001b[0mretrain_model\u001b[0m\u001b[0;34m(\u001b[0m\u001b[0;36m250\u001b[0m\u001b[0;34m,\u001b[0m \u001b[0;36m10\u001b[0m\u001b[0;34m,\u001b[0m \u001b[0;36m2500\u001b[0m\u001b[0;34m,\u001b[0m \u001b[0;36m1250\u001b[0m\u001b[0;34m,\u001b[0m \u001b[0;36m5e-6\u001b[0m\u001b[0;34m,\u001b[0m \u001b[0;36m5\u001b[0m\u001b[0;34m,\u001b[0m \u001b[0;36m16\u001b[0m\u001b[0;34m,\u001b[0m \u001b[0;34m\"LeNet_300_100\"\u001b[0m\u001b[0;34m,\u001b[0m \u001b[0;34m\"synth\"\u001b[0m\u001b[0;34m,\u001b[0m \u001b[0;34m'MSEST'\u001b[0m\u001b[0;34m,\u001b[0m \u001b[0;32mFalse\u001b[0m\u001b[0;34m,\u001b[0m \u001b[0;34m\"\"\u001b[0m\u001b[0;34m,\u001b[0m \u001b[0mdset\u001b[0m\u001b[0;34m=\u001b[0m\u001b[0;34m\"fashionmnist\"\u001b[0m\u001b[0;34m)\u001b[0m\u001b[0;34m\u001b[0m\u001b[0m\n\u001b[0m\u001b[1;32m      2\u001b[0m \u001b[0mshow_sws_weights_log\u001b[0m\u001b[0;34m(\u001b[0m\u001b[0mmodel\u001b[0m \u001b[0;34m=\u001b[0m \u001b[0mmodel\u001b[0m\u001b[0;34m,\u001b[0m \u001b[0mmeans\u001b[0m \u001b[0;34m=\u001b[0m \u001b[0mlist\u001b[0m\u001b[0;34m(\u001b[0m\u001b[0mgmp\u001b[0m\u001b[0;34m.\u001b[0m\u001b[0mmeans\u001b[0m\u001b[0;34m.\u001b[0m\u001b[0mdata\u001b[0m\u001b[0;34m.\u001b[0m\u001b[0mclone\u001b[0m\u001b[0;34m(\u001b[0m\u001b[0;34m)\u001b[0m\u001b[0;34m.\u001b[0m\u001b[0mcpu\u001b[0m\u001b[0;34m(\u001b[0m\u001b[0;34m)\u001b[0m\u001b[0;34m)\u001b[0m\u001b[0;34m,\u001b[0m \u001b[0mprecisions\u001b[0m \u001b[0;34m=\u001b[0m \u001b[0mlist\u001b[0m\u001b[0;34m(\u001b[0m\u001b[0mgmp\u001b[0m\u001b[0;34m.\u001b[0m\u001b[0mgammas\u001b[0m\u001b[0;34m.\u001b[0m\u001b[0mdata\u001b[0m\u001b[0;34m.\u001b[0m\u001b[0mclone\u001b[0m\u001b[0;34m(\u001b[0m\u001b[0;34m)\u001b[0m\u001b[0;34m.\u001b[0m\u001b[0mcpu\u001b[0m\u001b[0;34m(\u001b[0m\u001b[0;34m)\u001b[0m\u001b[0;34m)\u001b[0m\u001b[0;34m)\u001b[0m\u001b[0;34m\u001b[0m\u001b[0m\n",
      "\u001b[0;32m<ipython-input-9-f1d8b39c509f>\u001b[0m in \u001b[0;36mretrain_model\u001b[0;34m(mean, var, zmean, zvar, tau, temp, mixtures, model_name, mode, loss_type, scaling, model_save_dir, fn, dset)\u001b[0m\n\u001b[1;32m     65\u001b[0m             \u001b[0mopt\u001b[0m\u001b[0;34m.\u001b[0m\u001b[0mparam_groups\u001b[0m\u001b[0;34m[\u001b[0m\u001b[0;36m3\u001b[0m\u001b[0;34m]\u001b[0m\u001b[0;34m[\u001b[0m\u001b[0;34m'lr'\u001b[0m\u001b[0;34m]\u001b[0m \u001b[0;34m=\u001b[0m \u001b[0;36m0\u001b[0m\u001b[0;34m\u001b[0m\u001b[0m\n\u001b[1;32m     66\u001b[0m             \u001b[0mprint\u001b[0m \u001b[0;34m(\u001b[0m\u001b[0;34m\"Scaling Disabled - Epoch {}\"\u001b[0m\u001b[0;34m.\u001b[0m\u001b[0mformat\u001b[0m\u001b[0;34m(\u001b[0m\u001b[0mepoch\u001b[0m\u001b[0;34m)\u001b[0m\u001b[0;34m)\u001b[0m\u001b[0;34m\u001b[0m\u001b[0m\n\u001b[0;32m---> 67\u001b[0;31m         \u001b[0mmodel\u001b[0m\u001b[0;34m,\u001b[0m \u001b[0mloss\u001b[0m \u001b[0;34m=\u001b[0m \u001b[0mretrain_sws_epoch\u001b[0m\u001b[0;34m(\u001b[0m\u001b[0mmodel\u001b[0m\u001b[0;34m,\u001b[0m \u001b[0mgmp\u001b[0m\u001b[0;34m,\u001b[0m \u001b[0mopt\u001b[0m\u001b[0;34m,\u001b[0m \u001b[0mloader\u001b[0m\u001b[0;34m,\u001b[0m \u001b[0mtau\u001b[0m\u001b[0;34m,\u001b[0m \u001b[0mtemp\u001b[0m\u001b[0;34m,\u001b[0m \u001b[0mloss_type\u001b[0m\u001b[0;34m)\u001b[0m\u001b[0;34m\u001b[0m\u001b[0m\n\u001b[0m\u001b[1;32m     68\u001b[0m         \u001b[0mres_stats\u001b[0m\u001b[0;34m.\u001b[0m\u001b[0mdata_epoch\u001b[0m\u001b[0;34m(\u001b[0m\u001b[0mepoch\u001b[0m \u001b[0;34m+\u001b[0m \u001b[0;36m1\u001b[0m\u001b[0;34m,\u001b[0m \u001b[0mmodel\u001b[0m\u001b[0;34m,\u001b[0m \u001b[0mgmp\u001b[0m\u001b[0;34m)\u001b[0m\u001b[0;34m\u001b[0m\u001b[0m\n\u001b[1;32m     69\u001b[0m \u001b[0;34m\u001b[0m\u001b[0m\n",
      "\u001b[0;32m~/NNC/NN_compression/src/utils_model.py\u001b[0m in \u001b[0;36mretrain_sws_epoch\u001b[0;34m(model, gmp, optimizer, train_loader, tau, temp, loss_type)\u001b[0m\n\u001b[1;32m    187\u001b[0m                 \u001b[0;31m#MSE Hidden Activation - no temp - ReLU - MSE Loss - no mult by temp\u001b[0m\u001b[0;34m\u001b[0m\u001b[0;34m\u001b[0m\u001b[0m\n\u001b[1;32m    188\u001b[0m                 \u001b[0;31m#MSE Logit / Hidden No Act - no temp - MSE Loss - no mult by temp\u001b[0m\u001b[0;34m\u001b[0m\u001b[0;34m\u001b[0m\u001b[0m\n\u001b[0;32m--> 189\u001b[0;31m                 \u001b[0mloss\u001b[0m \u001b[0;34m=\u001b[0m \u001b[0mloss_acc\u001b[0m \u001b[0;34m+\u001b[0m \u001b[0mtau\u001b[0m \u001b[0;34m*\u001b[0m \u001b[0mgmp\u001b[0m\u001b[0;34m.\u001b[0m\u001b[0mcall\u001b[0m\u001b[0;34m(\u001b[0m\u001b[0;34m)\u001b[0m\u001b[0;34m\u001b[0m\u001b[0m\n\u001b[0m\u001b[1;32m    190\u001b[0m                 \u001b[0mloss\u001b[0m\u001b[0;34m.\u001b[0m\u001b[0mbackward\u001b[0m\u001b[0;34m(\u001b[0m\u001b[0;34m)\u001b[0m\u001b[0;34m\u001b[0m\u001b[0m\n\u001b[1;32m    191\u001b[0m                 \u001b[0;31m# Updating parameters\u001b[0m\u001b[0;34m\u001b[0m\u001b[0;34m\u001b[0m\u001b[0m\n",
      "\u001b[0;32m~/NNC/NN_compression/src/utils_sws.py\u001b[0m in \u001b[0;36mcall\u001b[0;34m(self, mask)\u001b[0m\n\u001b[1;32m     86\u001b[0m                                 \u001b[0mweight_loss\u001b[0m \u001b[0;34m=\u001b[0m \u001b[0mself\u001b[0m\u001b[0;34m.\u001b[0m\u001b[0mcompute_loss\u001b[0m\u001b[0;34m(\u001b[0m\u001b[0mweights\u001b[0m \u001b[0;34m/\u001b[0m \u001b[0mscale\u001b[0m\u001b[0;34m[\u001b[0m\u001b[0mint\u001b[0m\u001b[0;34m(\u001b[0m\u001b[0mi\u001b[0m\u001b[0;34m/\u001b[0m\u001b[0;36m2\u001b[0m\u001b[0;34m)\u001b[0m\u001b[0;34m]\u001b[0m\u001b[0;34m.\u001b[0m\u001b[0mexp\u001b[0m\u001b[0;34m(\u001b[0m\u001b[0;34m)\u001b[0m\u001b[0;34m,\u001b[0m \u001b[0mmixing_proportions\u001b[0m\u001b[0;34m,\u001b[0m \u001b[0mmeans\u001b[0m\u001b[0;34m,\u001b[0m \u001b[0mprecision\u001b[0m\u001b[0;34m)\u001b[0m\u001b[0;34m\u001b[0m\u001b[0m\n\u001b[1;32m     87\u001b[0m                         \u001b[0;32melse\u001b[0m\u001b[0;34m:\u001b[0m\u001b[0;34m\u001b[0m\u001b[0m\n\u001b[0;32m---> 88\u001b[0;31m                                 \u001b[0mweight_loss\u001b[0m \u001b[0;34m=\u001b[0m \u001b[0mself\u001b[0m\u001b[0;34m.\u001b[0m\u001b[0mcompute_loss\u001b[0m\u001b[0;34m(\u001b[0m\u001b[0mweights\u001b[0m\u001b[0;34m,\u001b[0m \u001b[0mmixing_proportions\u001b[0m\u001b[0;34m,\u001b[0m \u001b[0mmeans\u001b[0m\u001b[0;34m,\u001b[0m \u001b[0mprecision\u001b[0m\u001b[0;34m)\u001b[0m\u001b[0;34m\u001b[0m\u001b[0m\n\u001b[0m\u001b[1;32m     89\u001b[0m                         \u001b[0;32mif\u001b[0m\u001b[0;34m(\u001b[0m\u001b[0mself\u001b[0m\u001b[0;34m.\u001b[0m\u001b[0mprint_batch\u001b[0m\u001b[0;34m)\u001b[0m\u001b[0;34m:\u001b[0m\u001b[0;34m\u001b[0m\u001b[0m\n\u001b[1;32m     90\u001b[0m                                 \u001b[0mprint\u001b[0m \u001b[0;34m(\u001b[0m\u001b[0;34m\"Layer Loss: {:.3f}\"\u001b[0m\u001b[0;34m.\u001b[0m\u001b[0mformat\u001b[0m\u001b[0;34m(\u001b[0m\u001b[0mfloat\u001b[0m\u001b[0;34m(\u001b[0m\u001b[0mweight_loss\u001b[0m\u001b[0;34m.\u001b[0m\u001b[0mdata\u001b[0m\u001b[0;34m)\u001b[0m\u001b[0;34m)\u001b[0m\u001b[0;34m)\u001b[0m\u001b[0;34m\u001b[0m\u001b[0m\n",
      "\u001b[0;32m~/NNC/NN_compression/src/utils_sws.py\u001b[0m in \u001b[0;36mcompute_loss\u001b[0;34m(self, weights, mixing_proportions, means, precision)\u001b[0m\n\u001b[1;32m    119\u001b[0m                 \u001b[0;31m#myt=unnormalized_log_likelihood\u001b[0m\u001b[0;34m\u001b[0m\u001b[0;34m\u001b[0m\u001b[0m\n\u001b[1;32m    120\u001b[0m                 \u001b[0mlog_likelihood\u001b[0m \u001b[0;34m=\u001b[0m \u001b[0mlogsumexp\u001b[0m\u001b[0;34m(\u001b[0m\u001b[0munnormalized_log_likelihood\u001b[0m\u001b[0;34m,\u001b[0m \u001b[0mw\u001b[0m\u001b[0;34m=\u001b[0m\u001b[0;34m(\u001b[0m\u001b[0mmixing_proportions\u001b[0m \u001b[0;34m*\u001b[0m \u001b[0mZ\u001b[0m\u001b[0;34m)\u001b[0m\u001b[0;34m,\u001b[0m \u001b[0maxis\u001b[0m\u001b[0;34m=\u001b[0m\u001b[0;36m1\u001b[0m\u001b[0;34m)\u001b[0m\u001b[0;34m\u001b[0m\u001b[0m\n\u001b[0;32m--> 121\u001b[0;31m                 \u001b[0;32mreturn\u001b[0m \u001b[0;34m-\u001b[0m\u001b[0mlog_likelihood\u001b[0m\u001b[0;34m.\u001b[0m\u001b[0msum\u001b[0m\u001b[0;34m(\u001b[0m\u001b[0;34m)\u001b[0m\u001b[0;34m\u001b[0m\u001b[0m\n\u001b[0m\u001b[1;32m    122\u001b[0m \u001b[0;34m\u001b[0m\u001b[0m\n\u001b[1;32m    123\u001b[0m \u001b[0;32mdef\u001b[0m \u001b[0mspecial_flatten\u001b[0m\u001b[0;34m(\u001b[0m\u001b[0mstate_dict\u001b[0m\u001b[0;34m)\u001b[0m\u001b[0;34m:\u001b[0m\u001b[0;34m\u001b[0m\u001b[0m\n",
      "\u001b[0;31mKeyboardInterrupt\u001b[0m: "
     ]
    }
   ],
   "source": [
    "model, gmp, res = retrain_model(250, 10, 2500, 1250, 5e-6, 5, 16, \"LeNet_300_100\", \"synth\", 'MSEST', False, \"\", dset=\"fashionmnist\")\n",
    "show_sws_weights_log(model = model, means = list(gmp.means.data.clone().cpu()), precisions = list(gmp.gammas.data.clone().cpu()))"
   ]
  },
  {
   "cell_type": "markdown",
   "metadata": {},
   "source": [
    "### 1K Datapoints"
   ]
  },
  {
   "cell_type": "markdown",
   "metadata": {},
   "source": [
    "Soft-weight Sharing (SWS) & 42.7 & 99.2 & 57.8 & 97.7 \\\\\n",
    "SWS with Knowledge Distillation  (KD) & 46.2 & 99.7 &  35.0 & 98.7 \\\\\n",
    "SWS with KD on Synthetic Data & 84.7 & 99.5 & 73.8 & 98.3 \\\\"
   ]
  },
  {
   "cell_type": "code",
   "execution_count": 15,
   "metadata": {},
   "outputs": [
    {
     "name": "stderr",
     "output_type": "stream",
     "text": [
      "/anaconda/envs/py35/lib/python3.5/site-packages/torch/serialization.py:325: SourceChangeWarning: source code of class 'model_archs.LeNet_300_100' has changed. you can retrieve the original source code by accessing the object's source attribute or set `torch.nn.Module.dump_patches = True` and use the patch tool to revert the changes.\n",
      "  warnings.warn(msg, SourceChangeWarning)\n"
     ]
    },
    {
     "name": "stdout",
     "output_type": "stream",
     "text": [
      "0-component Mean: 1000.0 Variance: 1000.0\n",
      "Non-zero component Mean: 1.0 Variance: 0.1\n",
      "Epoch: 10. Test Accuracy: 98.33, Prune Accuracy: 98.17, Sparsity: 41.09\n",
      "Epoch: 20. Test Accuracy: 98.24, Prune Accuracy: 97.79, Sparsity: 54.57\n",
      "Epoch: 30. Test Accuracy: 97.80, Prune Accuracy: 96.71, Sparsity: 65.59\n",
      "Epoch: 40. Test Accuracy: 97.38, Prune Accuracy: 94.65, Sparsity: 74.26\n",
      "Epoch: 50. Test Accuracy: 96.56, Prune Accuracy: 90.21, Sparsity: 80.56\n",
      "Epoch: 60. Test Accuracy: 95.65, Prune Accuracy: 85.11, Sparsity: 84.90\n",
      "Epoch: 70. Test Accuracy: 94.70, Prune Accuracy: 84.99, Sparsity: 87.22\n",
      "Epoch: 80. Test Accuracy: 93.99, Prune Accuracy: 80.61, Sparsity: 89.18\n",
      "Epoch: 90. Test Accuracy: 93.53, Prune Accuracy: 78.42, Sparsity: 90.37\n",
      "Epoch: 100. Test Accuracy: 92.68, Prune Accuracy: 75.58, Sparsity: 91.03\n",
      "Epoch: 110. Test Accuracy: 92.41, Prune Accuracy: 72.69, Sparsity: 91.68\n",
      "Epoch: 120. Test Accuracy: 91.68, Prune Accuracy: 70.02, Sparsity: 92.45\n",
      "Epoch: 130. Test Accuracy: 91.73, Prune Accuracy: 65.28, Sparsity: 93.29\n",
      "Epoch: 140. Test Accuracy: 91.68, Prune Accuracy: 61.63, Sparsity: 93.95\n",
      "Epoch: 150. Test Accuracy: 91.64, Prune Accuracy: 57.94, Sparsity: 94.78\n",
      "Epoch: 160. Test Accuracy: 91.33, Prune Accuracy: 54.85, Sparsity: 95.61\n",
      "Epoch: 170. Test Accuracy: 91.30, Prune Accuracy: 52.19, Sparsity: 96.42\n",
      "Epoch: 180. Test Accuracy: 91.53, Prune Accuracy: 46.15, Sparsity: 97.12\n",
      "Epoch: 190. Test Accuracy: 90.60, Prune Accuracy: 42.59, Sparsity: 97.66\n",
      "Epoch: 200. Test Accuracy: 90.90, Prune Accuracy: 39.08, Sparsity: 98.11\n",
      "Epoch: 210. Test Accuracy: 90.70, Prune Accuracy: 42.36, Sparsity: 98.47\n",
      "Epoch: 220. Test Accuracy: 90.32, Prune Accuracy: 38.51, Sparsity: 98.71\n",
      "Epoch: 230. Test Accuracy: 89.88, Prune Accuracy: 40.11, Sparsity: 98.89\n",
      "Epoch: 240. Test Accuracy: 89.43, Prune Accuracy: 46.05, Sparsity: 99.05\n",
      "Epoch: 250. Test Accuracy: 89.52, Prune Accuracy: 42.68, Sparsity: 99.19\n",
      "Retrain Test: 89.52, Prune Test: 42.68, Prune Sparsity: 99.19\n"
     ]
    },
    {
     "data": {
      "text/plain": [
       "<matplotlib.figure.Figure at 0x7fd1df307278>"
      ]
     },
     "metadata": {},
     "output_type": "display_data"
    },
    {
     "data": {
      "image/png": "[encoded data removed]",
      "text/plain": [
       "<matplotlib.figure.Figure at 0x7fd1df307518>"
      ]
     },
     "metadata": {},
     "output_type": "display_data"
    },
    {
     "name": "stdout",
     "output_type": "stream",
     "text": [
      "0-component Mean: 2500.0 Variance: 1250.0\n",
      "Non-zero component Mean: 250.0 Variance: 10.0\n",
      "Epoch: 10. Test Accuracy: 98.36, Prune Accuracy: 98.37, Sparsity: 39.12\n",
      "Epoch: 20. Test Accuracy: 98.19, Prune Accuracy: 97.93, Sparsity: 50.97\n",
      "Epoch: 30. Test Accuracy: 97.71, Prune Accuracy: 97.55, Sparsity: 59.16\n",
      "Epoch: 40. Test Accuracy: 96.90, Prune Accuracy: 96.80, Sparsity: 64.92\n",
      "Epoch: 50. Test Accuracy: 96.13, Prune Accuracy: 96.15, Sparsity: 68.82\n",
      "Epoch: 60. Test Accuracy: 95.20, Prune Accuracy: 94.76, Sparsity: 71.51\n",
      "Epoch: 70. Test Accuracy: 94.53, Prune Accuracy: 94.09, Sparsity: 73.26\n",
      "Epoch: 80. Test Accuracy: 93.63, Prune Accuracy: 92.69, Sparsity: 74.67\n",
      "Epoch: 90. Test Accuracy: 93.16, Prune Accuracy: 92.06, Sparsity: 75.48\n",
      "Epoch: 100. Test Accuracy: 92.66, Prune Accuracy: 90.53, Sparsity: 77.03\n",
      "Epoch: 110. Test Accuracy: 92.46, Prune Accuracy: 88.74, Sparsity: 78.12\n",
      "Epoch: 120. Test Accuracy: 92.02, Prune Accuracy: 81.59, Sparsity: 79.18\n",
      "Epoch: 130. Test Accuracy: 92.11, Prune Accuracy: 75.17, Sparsity: 84.72\n",
      "Epoch: 140. Test Accuracy: 91.64, Prune Accuracy: 69.21, Sparsity: 90.29\n",
      "Epoch: 150. Test Accuracy: 91.01, Prune Accuracy: 65.61, Sparsity: 93.30\n",
      "Epoch: 160. Test Accuracy: 91.56, Prune Accuracy: 58.05, Sparsity: 95.02\n",
      "Epoch: 170. Test Accuracy: 91.48, Prune Accuracy: 57.37, Sparsity: 96.21\n",
      "Epoch: 180. Test Accuracy: 91.46, Prune Accuracy: 61.80, Sparsity: 97.14\n",
      "Epoch: 190. Test Accuracy: 91.08, Prune Accuracy: 61.06, Sparsity: 98.00\n",
      "Epoch: 200. Test Accuracy: 91.12, Prune Accuracy: 65.68, Sparsity: 98.68\n",
      "Epoch: 210. Test Accuracy: 90.89, Prune Accuracy: 66.59, Sparsity: 99.12\n",
      "Epoch: 220. Test Accuracy: 90.77, Prune Accuracy: 66.14, Sparsity: 99.38\n",
      "Epoch: 230. Test Accuracy: 90.59, Prune Accuracy: 58.31, Sparsity: 99.52\n",
      "Epoch: 240. Test Accuracy: 90.30, Prune Accuracy: 53.10, Sparsity: 99.60\n",
      "Epoch: 250. Test Accuracy: 90.28, Prune Accuracy: 46.15, Sparsity: 99.65\n",
      "Retrain Test: 90.28, Prune Test: 46.15, Prune Sparsity: 99.65\n"
     ]
    },
    {
     "data": {
      "text/plain": [
       "<matplotlib.figure.Figure at 0x7fd1df1c0128>"
      ]
     },
     "metadata": {},
     "output_type": "display_data"
    },
    {
     "data": {
      "image/png": "[encoded data removed]",
      "text/plain": [
       "<matplotlib.figure.Figure at 0x7fd1df22bf98>"
      ]
     },
     "metadata": {},
     "output_type": "display_data"
    },
    {
     "name": "stdout",
     "output_type": "stream",
     "text": [
      "0-component Mean: 2500.0 Variance: 1250.0\n",
      "Non-zero component Mean: 250.0 Variance: 10.0\n",
      "Epoch: 10. Test Accuracy: 97.66, Prune Accuracy: 96.70, Sparsity: 59.55\n",
      "Epoch: 20. Test Accuracy: 92.93, Prune Accuracy: 63.13, Sparsity: 97.01\n",
      "Epoch: 30. Test Accuracy: 89.37, Prune Accuracy: 84.25, Sparsity: 94.18\n",
      "Epoch: 40. Test Accuracy: 87.58, Prune Accuracy: 83.77, Sparsity: 99.51\n",
      "Epoch: 50. Test Accuracy: 87.62, Prune Accuracy: 85.20, Sparsity: 99.51\n",
      "Epoch: 60. Test Accuracy: 87.80, Prune Accuracy: 85.61, Sparsity: 99.51\n",
      "Epoch: 70. Test Accuracy: 87.30, Prune Accuracy: 86.11, Sparsity: 99.52\n",
      "Epoch: 80. Test Accuracy: 87.87, Prune Accuracy: 85.95, Sparsity: 99.52\n",
      "Epoch: 90. Test Accuracy: 87.27, Prune Accuracy: 85.16, Sparsity: 99.52\n",
      "Epoch: 100. Test Accuracy: 87.51, Prune Accuracy: 85.64, Sparsity: 99.52\n",
      "Epoch: 110. Test Accuracy: 87.08, Prune Accuracy: 85.53, Sparsity: 99.52\n",
      "Epoch: 120. Test Accuracy: 87.25, Prune Accuracy: 85.01, Sparsity: 99.52\n",
      "Epoch: 130. Test Accuracy: 87.34, Prune Accuracy: 84.97, Sparsity: 99.52\n",
      "Epoch: 140. Test Accuracy: 87.67, Prune Accuracy: 85.08, Sparsity: 99.52\n",
      "Epoch: 150. Test Accuracy: 87.34, Prune Accuracy: 84.98, Sparsity: 99.52\n",
      "Epoch: 160. Test Accuracy: 87.08, Prune Accuracy: 85.09, Sparsity: 99.52\n",
      "Epoch: 170. Test Accuracy: 87.09, Prune Accuracy: 85.20, Sparsity: 99.52\n",
      "Epoch: 180. Test Accuracy: 87.10, Prune Accuracy: 85.29, Sparsity: 99.52\n",
      "Epoch: 190. Test Accuracy: 87.15, Prune Accuracy: 85.42, Sparsity: 99.52\n",
      "Epoch: 200. Test Accuracy: 86.89, Prune Accuracy: 85.25, Sparsity: 99.52\n",
      "Epoch: 210. Test Accuracy: 86.87, Prune Accuracy: 84.89, Sparsity: 99.52\n",
      "Epoch: 220. Test Accuracy: 86.82, Prune Accuracy: 84.54, Sparsity: 99.52\n",
      "Epoch: 230. Test Accuracy: 87.67, Prune Accuracy: 85.03, Sparsity: 99.52\n",
      "Epoch: 240. Test Accuracy: 87.14, Prune Accuracy: 84.88, Sparsity: 99.52\n",
      "Epoch: 250. Test Accuracy: 87.19, Prune Accuracy: 84.70, Sparsity: 99.52\n",
      "Retrain Test: 87.19, Prune Test: 84.70, Prune Sparsity: 99.52\n"
     ]
    },
    {
     "data": {
      "text/plain": [
       "<matplotlib.figure.Figure at 0x7fd1df307860>"
      ]
     },
     "metadata": {},
     "output_type": "display_data"
    },
    {
     "data": {
      "image/png": "[encoded data removed]",
      "text/plain": [
       "<matplotlib.figure.Figure at 0x7fd1ded27c18>"
      ]
     },
     "metadata": {},
     "output_type": "display_data"
    }
   ],
   "source": [
    "model, gmp, res = retrain_model(1, 0.1, 1000, 1000, 5e-6, int(0), 16, \"LeNet_300_100\", \"sws\", 'CESNT', False, \"\")\n",
    "show_sws_weights_log(model = model, means = list(gmp.means.data.clone().cpu()), precisions = list(gmp.gammas.data.clone().cpu()))\n",
    "model, gmp, res = retrain_model(250, 10, 2500, 1250, 5e-6, 5, 16, \"LeNet_300_100\", \"kd\", 'MSEST', False, \"\")\n",
    "show_sws_weights_log(model = model, means = list(gmp.means.data.clone().cpu()), precisions = list(gmp.gammas.data.clone().cpu()))\n",
    "model, gmp, res = retrain_model(250, 10, 2500, 1250, 5e-6, 5, 16, \"LeNet_300_100\", \"synth\", 'MSEST', False, \"\")\n",
    "show_sws_weights_log(model = model, means = list(gmp.means.data.clone().cpu()), precisions = list(gmp.gammas.data.clone().cpu()))"
   ]
  },
  {
   "cell_type": "code",
   "execution_count": 16,
   "metadata": {},
   "outputs": [
    {
     "name": "stderr",
     "output_type": "stream",
     "text": [
      "/anaconda/envs/py35/lib/python3.5/site-packages/torch/serialization.py:325: SourceChangeWarning: source code of class 'model_archs.LeNet_300_100' has changed. you can retrieve the original source code by accessing the object's source attribute or set `torch.nn.Module.dump_patches = True` and use the patch tool to revert the changes.\n",
      "  warnings.warn(msg, SourceChangeWarning)\n"
     ]
    },
    {
     "name": "stdout",
     "output_type": "stream",
     "text": [
      "0-component Mean: 1000.0 Variance: 1000.0\n",
      "Non-zero component Mean: 1.0 Variance: 0.1\n",
      "Epoch: 10. Test Accuracy: 89.60, Prune Accuracy: 88.51, Sparsity: 26.77\n",
      "Epoch: 20. Test Accuracy: 89.61, Prune Accuracy: 88.24, Sparsity: 34.92\n",
      "Epoch: 30. Test Accuracy: 89.33, Prune Accuracy: 88.32, Sparsity: 41.43\n",
      "Epoch: 40. Test Accuracy: 89.18, Prune Accuracy: 87.56, Sparsity: 47.85\n",
      "Epoch: 50. Test Accuracy: 88.99, Prune Accuracy: 84.43, Sparsity: 54.04\n",
      "Epoch: 60. Test Accuracy: 88.60, Prune Accuracy: 79.51, Sparsity: 59.44\n",
      "Epoch: 70. Test Accuracy: 87.84, Prune Accuracy: 75.03, Sparsity: 60.99\n",
      "Epoch: 80. Test Accuracy: 87.47, Prune Accuracy: 70.81, Sparsity: 65.43\n",
      "Epoch: 90. Test Accuracy: 87.02, Prune Accuracy: 67.10, Sparsity: 69.70\n",
      "Epoch: 100. Test Accuracy: 85.48, Prune Accuracy: 58.42, Sparsity: 66.08\n",
      "Epoch: 110. Test Accuracy: 85.76, Prune Accuracy: 53.25, Sparsity: 77.20\n",
      "Epoch: 120. Test Accuracy: 84.42, Prune Accuracy: 36.25, Sparsity: 81.52\n",
      "Epoch: 130. Test Accuracy: 82.78, Prune Accuracy: 27.59, Sparsity: 83.02\n",
      "Epoch: 140. Test Accuracy: 82.25, Prune Accuracy: 26.67, Sparsity: 88.68\n",
      "Epoch: 150. Test Accuracy: 80.87, Prune Accuracy: 28.56, Sparsity: 91.68\n",
      "Epoch: 160. Test Accuracy: 81.62, Prune Accuracy: 33.33, Sparsity: 92.91\n",
      "Epoch: 170. Test Accuracy: 82.17, Prune Accuracy: 33.13, Sparsity: 94.47\n",
      "Epoch: 180. Test Accuracy: 82.34, Prune Accuracy: 35.79, Sparsity: 95.29\n",
      "Epoch: 190. Test Accuracy: 80.29, Prune Accuracy: 44.01, Sparsity: 95.65\n",
      "Epoch: 200. Test Accuracy: 81.29, Prune Accuracy: 45.70, Sparsity: 96.59\n",
      "Epoch: 210. Test Accuracy: 80.68, Prune Accuracy: 49.19, Sparsity: 96.93\n",
      "Epoch: 220. Test Accuracy: 80.73, Prune Accuracy: 53.98, Sparsity: 97.24\n",
      "Epoch: 230. Test Accuracy: 80.79, Prune Accuracy: 56.94, Sparsity: 97.40\n",
      "Epoch: 240. Test Accuracy: 80.71, Prune Accuracy: 57.79, Sparsity: 97.59\n",
      "Epoch: 250. Test Accuracy: 80.86, Prune Accuracy: 57.83, Sparsity: 97.73\n",
      "Retrain Test: 80.86, Prune Test: 57.83, Prune Sparsity: 97.73\n"
     ]
    },
    {
     "data": {
      "text/plain": [
       "<matplotlib.figure.Figure at 0x7fd1df04b080>"
      ]
     },
     "metadata": {},
     "output_type": "display_data"
    },
    {
     "data": {
      "image/png": "[encoded data removed]",
      "text/plain": [
       "<matplotlib.figure.Figure at 0x7fd1df04b978>"
      ]
     },
     "metadata": {},
     "output_type": "display_data"
    },
    {
     "name": "stdout",
     "output_type": "stream",
     "text": [
      "0-component Mean: 2500.0 Variance: 1250.0\n",
      "Non-zero component Mean: 250.0 Variance: 10.0\n",
      "Epoch: 10. Test Accuracy: 89.75, Prune Accuracy: 88.39, Sparsity: 25.36\n",
      "Epoch: 20. Test Accuracy: 89.82, Prune Accuracy: 88.07, Sparsity: 31.05\n",
      "Epoch: 30. Test Accuracy: 89.62, Prune Accuracy: 88.18, Sparsity: 34.28\n",
      "Epoch: 40. Test Accuracy: 89.57, Prune Accuracy: 88.17, Sparsity: 37.70\n",
      "Epoch: 50. Test Accuracy: 89.39, Prune Accuracy: 88.57, Sparsity: 41.82\n",
      "Epoch: 60. Test Accuracy: 89.07, Prune Accuracy: 88.33, Sparsity: 45.70\n",
      "Epoch: 70. Test Accuracy: 88.90, Prune Accuracy: 87.63, Sparsity: 50.53\n",
      "Epoch: 80. Test Accuracy: 88.24, Prune Accuracy: 85.37, Sparsity: 55.47\n",
      "Epoch: 90. Test Accuracy: 87.94, Prune Accuracy: 82.44, Sparsity: 59.03\n",
      "Epoch: 100. Test Accuracy: 87.21, Prune Accuracy: 78.71, Sparsity: 64.88\n",
      "Epoch: 110. Test Accuracy: 86.59, Prune Accuracy: 63.44, Sparsity: 73.77\n",
      "Epoch: 120. Test Accuracy: 85.84, Prune Accuracy: 43.35, Sparsity: 84.56\n",
      "Epoch: 130. Test Accuracy: 84.69, Prune Accuracy: 36.65, Sparsity: 91.84\n",
      "Epoch: 140. Test Accuracy: 84.18, Prune Accuracy: 23.65, Sparsity: 95.83\n",
      "Epoch: 150. Test Accuracy: 83.84, Prune Accuracy: 22.32, Sparsity: 97.72\n",
      "Epoch: 160. Test Accuracy: 82.66, Prune Accuracy: 23.98, Sparsity: 98.38\n",
      "Epoch: 170. Test Accuracy: 82.66, Prune Accuracy: 21.05, Sparsity: 98.63\n",
      "Epoch: 180. Test Accuracy: 81.81, Prune Accuracy: 23.19, Sparsity: 98.71\n",
      "Epoch: 190. Test Accuracy: 82.12, Prune Accuracy: 26.88, Sparsity: 98.72\n",
      "Epoch: 200. Test Accuracy: 82.46, Prune Accuracy: 29.57, Sparsity: 98.71\n",
      "Epoch: 210. Test Accuracy: 81.95, Prune Accuracy: 32.04, Sparsity: 98.70\n",
      "Epoch: 220. Test Accuracy: 82.31, Prune Accuracy: 32.65, Sparsity: 98.70\n",
      "Epoch: 230. Test Accuracy: 81.47, Prune Accuracy: 32.69, Sparsity: 98.70\n",
      "Epoch: 240. Test Accuracy: 80.95, Prune Accuracy: 34.34, Sparsity: 98.70\n",
      "Epoch: 250. Test Accuracy: 81.94, Prune Accuracy: 34.98, Sparsity: 98.70\n",
      "Retrain Test: 81.94, Prune Test: 34.98, Prune Sparsity: 98.70\n"
     ]
    },
    {
     "data": {
      "text/plain": [
       "<matplotlib.figure.Figure at 0x7fd1df21be80>"
      ]
     },
     "metadata": {},
     "output_type": "display_data"
    },
    {
     "data": {
      "image/png": "[encoded data removed]",
      "text/plain": [
       "<matplotlib.figure.Figure at 0x7fd1df227e48>"
      ]
     },
     "metadata": {},
     "output_type": "display_data"
    },
    {
     "name": "stdout",
     "output_type": "stream",
     "text": [
      "0-component Mean: 2500.0 Variance: 1250.0\n",
      "Non-zero component Mean: 250.0 Variance: 10.0\n",
      "Epoch: 10. Test Accuracy: 88.64, Prune Accuracy: 87.31, Sparsity: 34.84\n",
      "Epoch: 20. Test Accuracy: 84.81, Prune Accuracy: 79.41, Sparsity: 55.55\n",
      "Epoch: 30. Test Accuracy: 75.30, Prune Accuracy: 53.50, Sparsity: 98.27\n",
      "Epoch: 40. Test Accuracy: 73.95, Prune Accuracy: 67.00, Sparsity: 98.24\n",
      "Epoch: 50. Test Accuracy: 75.54, Prune Accuracy: 71.96, Sparsity: 98.25\n",
      "Epoch: 60. Test Accuracy: 75.91, Prune Accuracy: 73.22, Sparsity: 98.25\n",
      "Epoch: 70. Test Accuracy: 76.52, Prune Accuracy: 72.88, Sparsity: 98.25\n",
      "Epoch: 80. Test Accuracy: 75.80, Prune Accuracy: 73.26, Sparsity: 98.25\n",
      "Epoch: 90. Test Accuracy: 76.15, Prune Accuracy: 72.69, Sparsity: 98.25\n",
      "Epoch: 100. Test Accuracy: 75.54, Prune Accuracy: 72.62, Sparsity: 98.25\n",
      "Epoch: 110. Test Accuracy: 75.63, Prune Accuracy: 73.10, Sparsity: 98.25\n",
      "Epoch: 120. Test Accuracy: 74.02, Prune Accuracy: 73.42, Sparsity: 98.25\n",
      "Epoch: 130. Test Accuracy: 74.74, Prune Accuracy: 73.45, Sparsity: 98.25\n",
      "Epoch: 140. Test Accuracy: 75.18, Prune Accuracy: 73.43, Sparsity: 98.25\n",
      "Epoch: 150. Test Accuracy: 76.04, Prune Accuracy: 74.29, Sparsity: 98.25\n",
      "Epoch: 160. Test Accuracy: 75.79, Prune Accuracy: 74.82, Sparsity: 98.25\n",
      "Epoch: 170. Test Accuracy: 75.29, Prune Accuracy: 74.70, Sparsity: 98.25\n",
      "Epoch: 180. Test Accuracy: 76.63, Prune Accuracy: 74.73, Sparsity: 98.25\n",
      "Epoch: 190. Test Accuracy: 76.67, Prune Accuracy: 74.05, Sparsity: 98.25\n",
      "Epoch: 200. Test Accuracy: 76.32, Prune Accuracy: 73.44, Sparsity: 98.25\n",
      "Epoch: 210. Test Accuracy: 76.02, Prune Accuracy: 72.98, Sparsity: 98.25\n",
      "Epoch: 220. Test Accuracy: 75.84, Prune Accuracy: 73.39, Sparsity: 98.25\n",
      "Epoch: 230. Test Accuracy: 75.65, Prune Accuracy: 73.67, Sparsity: 98.25\n",
      "Epoch: 240. Test Accuracy: 76.62, Prune Accuracy: 74.64, Sparsity: 98.26\n",
      "Epoch: 250. Test Accuracy: 76.64, Prune Accuracy: 73.79, Sparsity: 98.26\n",
      "Retrain Test: 76.64, Prune Test: 73.79, Prune Sparsity: 98.26\n"
     ]
    },
    {
     "data": {
      "text/plain": [
       "<matplotlib.figure.Figure at 0x7fd1df0fb978>"
      ]
     },
     "metadata": {},
     "output_type": "display_data"
    },
    {
     "data": {
      "image/png": "[encoded data removed]",
      "text/plain": [
       "<matplotlib.figure.Figure at 0x7fd1df1cfda0>"
      ]
     },
     "metadata": {},
     "output_type": "display_data"
    }
   ],
   "source": [
    "model, gmp, res = retrain_model(1, 0.1, 1000, 1000, 5e-6, int(0), 16, \"LeNet_300_100\", \"sws\", 'CESNT', False, \"\", dset=\"fashionmnist\")\n",
    "show_sws_weights_log(model = model, means = list(gmp.means.data.clone().cpu()), precisions = list(gmp.gammas.data.clone().cpu()))\n",
    "model, gmp, res = retrain_model(250, 10, 2500, 1250, 5e-6, 5, 16, \"LeNet_300_100\", \"kd\", 'MSEST', False, \"\", dset=\"fashionmnist\")\n",
    "show_sws_weights_log(model = model, means = list(gmp.means.data.clone().cpu()), precisions = list(gmp.gammas.data.clone().cpu()))\n",
    "model, gmp, res = retrain_model(250, 10, 2500, 1250, 5e-6, 5, 16, \"LeNet_300_100\", \"synth\", 'MSEST', False, \"\", dset=\"fashionmnist\")\n",
    "show_sws_weights_log(model = model, means = list(gmp.means.data.clone().cpu()), precisions = list(gmp.gammas.data.clone().cpu()))"
   ]
  }
 ],
 "metadata": {
  "kernelspec": {
   "display_name": "Python [conda env:py35]",
   "language": "python",
   "name": "conda-env-py35-py"
  },
  "language_info": {
   "codemirror_mode": {
    "name": "ipython",
    "version": 3
   },
   "file_extension": ".py",
   "mimetype": "text/x-python",
   "name": "python",
   "nbconvert_exporter": "python",
   "pygments_lexer": "ipython3",
   "version": "3.5.4"
  }
 },
 "nbformat": 4,
 "nbformat_minor": 2
}
