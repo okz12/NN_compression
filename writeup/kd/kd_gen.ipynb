{
 "cells": [
  {
   "cell_type": "code",
   "execution_count": 1,
   "metadata": {},
   "outputs": [
    {
     "data": {
      "text/html": [
       "<style>.container { width:95% !important; }</style>"
      ],
      "text/plain": [
       "<IPython.core.display.HTML object>"
      ]
     },
     "metadata": {},
     "output_type": "display_data"
    },
    {
     "data": {
      "application/javascript": [
       "if (!(\"Notification\" in window)) {\n",
       "    alert(\"This browser does not support desktop notifications, so the %%notify magic will not work.\");\n",
       "} else if (Notification.permission !== 'granted' && Notification.permission !== 'denied') {\n",
       "    Notification.requestPermission(function (permission) {\n",
       "        if(!('permission' in Notification)) {\n",
       "            Notification.permission = permission;\n",
       "        }\n",
       "    })\n",
       "}\n"
      ],
      "text/plain": [
       "<IPython.core.display.Javascript object>"
      ]
     },
     "metadata": {},
     "output_type": "display_data"
    },
    {
     "name": "stdout",
     "output_type": "stream",
     "text": [
      "Automatic pdb calling has been turned ON\n"
     ]
    }
   ],
   "source": [
    "#Expand notebook to take full screen width\n",
    "from IPython.core.display import display, HTML\n",
    "display(HTML(\"<style>.container { width:95% !important; }</style>\"))\n",
    "\n",
    "#Jupyter magic to notify when a cell finishes execution with %%notify command -- does not work with Jupyterlab\n",
    "import jupyternotify\n",
    "ip = get_ipython()\n",
    "ip.register_magics(jupyternotify.JupyterNotifyMagics)\n",
    "\n",
    "###\n",
    "import sys\n",
    "sys.path.insert(0,'../../src/')\n",
    "\n",
    "%load_ext autoreload\n",
    "%autoreload 2\n",
    "\n",
    "%pdb"
   ]
  },
  {
   "cell_type": "code",
   "execution_count": 6,
   "metadata": {},
   "outputs": [],
   "source": [
    "import torch\n",
    "import torch.nn as nn\n",
    "import torchvision.transforms as transforms\n",
    "import torchvision.datasets as dsets\n",
    "from torch.nn.modules import Module\n",
    "from torch.autograd import Variable\n",
    "import torch.nn.functional as F\n",
    "import numpy as np\n",
    "import copy\n",
    "import pickle\n",
    "import model_archs\n",
    "\n",
    "from utils_plot import show_sws_weights, show_weights, print_dims, prune_plot, draw_sws_graphs, joint_plot, plot_data, show_sws_weights_log\n",
    "from utils_model import test_accuracy, train_epoch, retrain_sws_epoch, model_prune, get_weight_penalty, layer_accuracy\n",
    "from utils_misc import trueAfterN, logsumexp, root_dir, model_load_dir, get_ab, get_sparsity\n",
    "from utils_sws import GaussianMixturePrior, special_flatten, KL, compute_responsibilies, merger, sws_prune, sws_prune_l2, sws_prune_copy\n",
    "from mnist_loader import search_train_data, search_retrain_data, search_validation_data, train_data, test_data, batch_size\n",
    "from extract_targets import get_targets\n",
    "from retrain_layer import init_retrain_layer\n",
    "from retrain_model import retrain_model\n",
    "\n",
    "test_data_full = Variable(test_data(fetch='data')).cuda()\n",
    "test_labels_full = Variable(test_data(fetch='labels')).cuda()\n",
    "\n",
    "%matplotlib inline\n",
    "import matplotlib.pyplot as plt\n",
    "import seaborn as sns\n",
    "import numpy as np\n",
    "import pickle"
   ]
  },
  {
   "cell_type": "markdown",
   "metadata": {},
   "source": [
    "### 1. Accuracy - Loss"
   ]
  },
  {
   "cell_type": "code",
   "execution_count": 9,
   "metadata": {
    "scrolled": true
   },
   "outputs": [
    {
     "name": "stderr",
     "output_type": "stream",
     "text": [
      "/anaconda/envs/py35/lib/python3.5/site-packages/torch/serialization.py:325: SourceChangeWarning: source code of class 'model_archs.LeNet_300_100' has changed. you can retrieve the original source code by accessing the object's source attribute or set `torch.nn.Module.dump_patches = True` and use the patch tool to revert the changes.\n",
      "  warnings.warn(msg, SourceChangeWarning)\n"
     ]
    },
    {
     "name": "stdout",
     "output_type": "stream",
     "text": [
      "0-component Mean: 2500.0 Variance: 1250.0\n",
      "Non-zero component Mean: 250.0 Variance: 10.0\n",
      "Epoch: 10. Test Accuracy: 98.37, Prune Accuracy: 97.92, Sparsity: 66.80\n",
      "Epoch: 20. Test Accuracy: 98.31, Prune Accuracy: 94.94, Sparsity: 96.41\n",
      "Epoch: 30. Test Accuracy: 97.90, Prune Accuracy: 97.46, Sparsity: 97.02\n",
      "Epoch: 40. Test Accuracy: 98.12, Prune Accuracy: 97.56, Sparsity: 97.02\n",
      "Epoch: 50. Test Accuracy: 98.09, Prune Accuracy: 97.75, Sparsity: 97.02\n",
      "Retrain Test: 98.09, Prune Test: 97.75, Prune Sparsity: 97.02\n"
     ]
    },
    {
     "data": {
      "text/plain": [
       "<matplotlib.figure.Figure at 0x7fbb2499a6a0>"
      ]
     },
     "metadata": {},
     "output_type": "display_data"
    },
    {
     "data": {
      "image/png": "[encoded data removed]",
      "text/plain": [
       "<matplotlib.figure.Figure at 0x7fbaae04a518>"
      ]
     },
     "metadata": {},
     "output_type": "display_data"
    }
   ],
   "source": [
    "model, gmp, res = retrain_model(250, 10, 2500, 1250, 1e-5, 5, 16, \"LeNet_300_100\", \"full\", 'CEST', False, \"./files\")\n",
    "show_sws_weights_log(model = model, means = list(gmp.means.data.clone().cpu()), precisions = list(gmp.gammas.data.clone().cpu()))"
   ]
  },
  {
   "cell_type": "markdown",
   "metadata": {},
   "source": [
    "### 2. Gamma Prior Variance"
   ]
  },
  {
   "cell_type": "code",
   "execution_count": 12,
   "metadata": {
    "scrolled": true
   },
   "outputs": [
    {
     "name": "stderr",
     "output_type": "stream",
     "text": [
      "/anaconda/envs/py35/lib/python3.5/site-packages/torch/serialization.py:325: SourceChangeWarning: source code of class 'model_archs.LeNet_300_100' has changed. you can retrieve the original source code by accessing the object's source attribute or set `torch.nn.Module.dump_patches = True` and use the patch tool to revert the changes.\n",
      "  warnings.warn(msg, SourceChangeWarning)\n"
     ]
    },
    {
     "name": "stdout",
     "output_type": "stream",
     "text": [
      "0-component Mean: 2500.0 Variance: 1250.0\n",
      "Non-zero component Mean: 250.0 Variance: 0.1\n",
      "Epoch: 10. Test Accuracy: 98.44, Prune Accuracy: 98.35, Sparsity: 58.61\n",
      "Epoch: 20. Test Accuracy: 98.44, Prune Accuracy: 98.34, Sparsity: 66.71\n",
      "Epoch: 30. Test Accuracy: 98.44, Prune Accuracy: 98.31, Sparsity: 72.00\n",
      "Epoch: 40. Test Accuracy: 98.44, Prune Accuracy: 98.17, Sparsity: 75.89\n",
      "Epoch: 50. Test Accuracy: 98.46, Prune Accuracy: 98.11, Sparsity: 78.85\n",
      "Retrain Test: 98.46, Prune Test: 98.11, Prune Sparsity: 78.85\n"
     ]
    },
    {
     "data": {
      "text/plain": [
       "<matplotlib.figure.Figure at 0x7fbaac25ac88>"
      ]
     },
     "metadata": {},
     "output_type": "display_data"
    },
    {
     "data": {
      "image/png": "[encoded data removed]",
      "text/plain": [
       "<matplotlib.figure.Figure at 0x7fbaae1946a0>"
      ]
     },
     "metadata": {},
     "output_type": "display_data"
    },
    {
     "name": "stdout",
     "output_type": "stream",
     "text": [
      "0-component Mean: 2500.0 Variance: 1250.0\n",
      "Non-zero component Mean: 250.0 Variance: 1.0\n",
      "Epoch: 10. Test Accuracy: 98.42, Prune Accuracy: 98.39, Sparsity: 58.60\n",
      "Epoch: 20. Test Accuracy: 98.54, Prune Accuracy: 98.38, Sparsity: 66.69\n",
      "Epoch: 30. Test Accuracy: 98.50, Prune Accuracy: 98.31, Sparsity: 72.06\n",
      "Epoch: 40. Test Accuracy: 98.46, Prune Accuracy: 98.14, Sparsity: 75.86\n",
      "Epoch: 50. Test Accuracy: 98.48, Prune Accuracy: 98.14, Sparsity: 78.88\n",
      "Retrain Test: 98.48, Prune Test: 98.14, Prune Sparsity: 78.88\n"
     ]
    },
    {
     "data": {
      "text/plain": [
       "<matplotlib.figure.Figure at 0x7fbaae2064a8>"
      ]
     },
     "metadata": {},
     "output_type": "display_data"
    },
    {
     "data": {
      "image/png": "[encoded data removed]",
      "text/plain": [
       "<matplotlib.figure.Figure at 0x7fbaae206518>"
      ]
     },
     "metadata": {},
     "output_type": "display_data"
    },
    {
     "name": "stdout",
     "output_type": "stream",
     "text": [
      "0-component Mean: 2500.0 Variance: 1250.0\n",
      "Non-zero component Mean: 250.0 Variance: 10.0\n",
      "Epoch: 10. Test Accuracy: 98.43, Prune Accuracy: 98.30, Sparsity: 58.65\n",
      "Epoch: 20. Test Accuracy: 98.47, Prune Accuracy: 98.46, Sparsity: 66.72\n",
      "Epoch: 30. Test Accuracy: 98.48, Prune Accuracy: 98.29, Sparsity: 72.10\n",
      "Epoch: 40. Test Accuracy: 98.43, Prune Accuracy: 98.12, Sparsity: 76.49\n",
      "Epoch: 50. Test Accuracy: 98.42, Prune Accuracy: 98.15, Sparsity: 79.74\n",
      "Retrain Test: 98.42, Prune Test: 98.15, Prune Sparsity: 79.74\n"
     ]
    },
    {
     "data": {
      "text/plain": [
       "<matplotlib.figure.Figure at 0x7fbaae206ba8>"
      ]
     },
     "metadata": {},
     "output_type": "display_data"
    },
    {
     "data": {
      "image/png": "[encoded data removed]",
      "text/plain": [
       "<matplotlib.figure.Figure at 0x7fbaadf94588>"
      ]
     },
     "metadata": {},
     "output_type": "display_data"
    },
    {
     "name": "stdout",
     "output_type": "stream",
     "text": [
      "0-component Mean: 2500.0 Variance: 1250.0\n",
      "Non-zero component Mean: 250.0 Variance: 100.0\n",
      "Epoch: 10. Test Accuracy: 98.41, Prune Accuracy: 98.26, Sparsity: 58.74\n",
      "Epoch: 20. Test Accuracy: 98.45, Prune Accuracy: 98.38, Sparsity: 68.06\n",
      "Epoch: 30. Test Accuracy: 98.49, Prune Accuracy: 98.22, Sparsity: 75.14\n",
      "Epoch: 40. Test Accuracy: 98.47, Prune Accuracy: 98.10, Sparsity: 76.20\n",
      "Epoch: 50. Test Accuracy: 98.39, Prune Accuracy: 97.77, Sparsity: 75.54\n",
      "Retrain Test: 98.39, Prune Test: 97.77, Prune Sparsity: 75.54\n"
     ]
    },
    {
     "data": {
      "text/plain": [
       "<matplotlib.figure.Figure at 0x7fbaae1ec390>"
      ]
     },
     "metadata": {},
     "output_type": "display_data"
    },
    {
     "data": {
      "image/png": "[encoded data removed]",
      "text/plain": [
       "<matplotlib.figure.Figure at 0x7fbaae1ec5c0>"
      ]
     },
     "metadata": {},
     "output_type": "display_data"
    },
    {
     "name": "stdout",
     "output_type": "stream",
     "text": [
      "0-component Mean: 2500.0 Variance: 1250.0\n",
      "Non-zero component Mean: 250.0 Variance: 1000.0\n",
      "Epoch: 10. Test Accuracy: 98.44, Prune Accuracy: 98.30, Sparsity: 58.82\n",
      "Epoch: 20. Test Accuracy: 98.50, Prune Accuracy: 98.21, Sparsity: 66.18\n",
      "Epoch: 30. Test Accuracy: 98.49, Prune Accuracy: 98.03, Sparsity: 68.93\n",
      "Epoch: 40. Test Accuracy: 98.45, Prune Accuracy: 97.70, Sparsity: 71.95\n",
      "Epoch: 50. Test Accuracy: 98.45, Prune Accuracy: 97.33, Sparsity: 73.51\n",
      "Retrain Test: 98.45, Prune Test: 97.33, Prune Sparsity: 73.51\n"
     ]
    },
    {
     "data": {
      "text/plain": [
       "<matplotlib.figure.Figure at 0x7fbaae1eca90>"
      ]
     },
     "metadata": {},
     "output_type": "display_data"
    },
    {
     "data": {
      "image/png": "[encoded data removed]",
      "text/plain": [
       "<matplotlib.figure.Figure at 0x7fbaadf9bbe0>"
      ]
     },
     "metadata": {},
     "output_type": "display_data"
    }
   ],
   "source": [
    "vlist = [0.1, 1, 10, 100, 1000]\n",
    "zvar = 1250\n",
    "for var in vlist:\n",
    "    fn_text = \"_var_{}_zvar_{}\".format(var,zvar)\n",
    "    model, gmp, res = retrain_model(250, var, 2500, zvar, 1e-6, 5, 15, \"LeNet_300_100\", \"full\", 'CEST', False, \"./files\", fn = fn_text)\n",
    "    show_sws_weights_log(model = model, means = list(gmp.means.data.clone().cpu()), precisions = list(gmp.gammas.data.clone().cpu()))"
   ]
  }
 ],
 "metadata": {
  "kernelspec": {
   "display_name": "Python [conda env:py35]",
   "language": "python",
   "name": "conda-env-py35-py"
  },
  "language_info": {
   "codemirror_mode": {
    "name": "ipython",
    "version": 3
   },
   "file_extension": ".py",
   "mimetype": "text/x-python",
   "name": "python",
   "nbconvert_exporter": "python",
   "pygments_lexer": "ipython3",
   "version": "3.5.4"
  }
 },
 "nbformat": 4,
 "nbformat_minor": 2
}
