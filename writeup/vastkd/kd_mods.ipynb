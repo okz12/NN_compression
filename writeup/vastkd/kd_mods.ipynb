{
 "cells": [
  {
   "cell_type": "code",
   "execution_count": 1,
   "metadata": {},
   "outputs": [
    {
     "data": {
      "text/html": [
       "<style>.container { width:95% !important; }</style>"
      ],
      "text/plain": [
       "<IPython.core.display.HTML object>"
      ]
     },
     "metadata": {},
     "output_type": "display_data"
    },
    {
     "data": {
      "application/javascript": [
       "if (!(\"Notification\" in window)) {\n",
       "    alert(\"This browser does not support desktop notifications, so the %%notify magic will not work.\");\n",
       "} else if (Notification.permission !== 'granted' && Notification.permission !== 'denied') {\n",
       "    Notification.requestPermission(function (permission) {\n",
       "        if(!('permission' in Notification)) {\n",
       "            Notification.permission = permission;\n",
       "        }\n",
       "    })\n",
       "}\n"
      ],
      "text/plain": [
       "<IPython.core.display.Javascript object>"
      ]
     },
     "metadata": {},
     "output_type": "display_data"
    }
   ],
   "source": [
    "#Expand notebook to take full screen width\n",
    "from IPython.core.display import display, HTML\n",
    "display(HTML(\"<style>.container { width:95% !important; }</style>\"))\n",
    "\n",
    "#Jupyter magic to notify when a cell finishes execution with %%notify command -- does not work with Jupyterlab\n",
    "import jupyternotify\n",
    "ip = get_ipython()\n",
    "ip.register_magics(jupyternotify.JupyterNotifyMagics)\n",
    "\n",
    "###\n",
    "import sys\n",
    "sys.path.insert(0,'../../src/')\n",
    "\n",
    "%load_ext autoreload\n",
    "%autoreload 2\n",
    "\n",
    "#%pdb"
   ]
  },
  {
   "cell_type": "code",
   "execution_count": 29,
   "metadata": {},
   "outputs": [],
   "source": [
    "import torch\n",
    "import torch.nn as nn\n",
    "import torchvision.transforms as transforms\n",
    "import torchvision.datasets as dsets\n",
    "from torch.nn.modules import Module\n",
    "from torch.autograd import Variable\n",
    "import torch.nn.functional as F\n",
    "import numpy as np\n",
    "import copy\n",
    "import pickle\n",
    "import model_archs\n",
    "\n",
    "from utils_plot import show_sws_weights, show_weights, print_dims, prune_plot, draw_sws_graphs, joint_plot, plot_data, show_sws_weights_log\n",
    "from utils_model import test_accuracy, train_epoch, retrain_sws_epoch, model_prune, get_weight_penalty, layer_accuracy\n",
    "from utils_misc import trueAfterN, logsumexp, root_dir, model_load_dir, get_ab, get_sparsity\n",
    "from utils_sws import GaussianMixturePrior, special_flatten, KL, compute_responsibilies, merger, sws_prune, sws_prune_l2, sws_prune_copy\n",
    "from mnist_loader import search_train_data, search_retrain_data, search_validation_data, train_data, test_data, batch_size\n",
    "from extract_targets import get_targets\n",
    "from retrain_layer import init_retrain_layer\n",
    "from retrain_model import retrain_model\n",
    "\n",
    "test_data_full = Variable(test_data(fetch='data')).cuda()\n",
    "test_labels_full = Variable(test_data(fetch='labels')).cuda()\n",
    "\n",
    "%matplotlib inline\n",
    "import matplotlib.pyplot as plt\n",
    "import seaborn as sns\n",
    "import numpy as np\n",
    "import pickle\n",
    "\n",
    "retraining_epochs = 50"
   ]
  },
  {
   "cell_type": "markdown",
   "metadata": {},
   "source": [
    "### Exps\n",
    "\n",
    "1. Anneal Tau\n",
    "2. Try SWS Targets on LeNet-300-100\n",
    "3. Capture MSEST Loss"
   ]
  },
  {
   "cell_type": "code",
   "execution_count": 71,
   "metadata": {},
   "outputs": [],
   "source": [
    "def mse_loss(input, target):\n",
    "    return torch.sum((input - target).pow(2)) / input.numel()"
   ]
  },
  {
   "cell_type": "code",
   "execution_count": 72,
   "metadata": {},
   "outputs": [
    {
     "name": "stderr",
     "output_type": "stream",
     "text": [
      "/anaconda/envs/py35/lib/python3.5/site-packages/ipykernel/__main__.py:2: DeprecationWarning: object of type <class 'float'> cannot be safely interpreted as an integer.\n",
      "  from ipykernel import kernelapp as app\n"
     ]
    },
    {
     "data": {
      "image/png": "[encoded data removed]",
      "text/plain": [
       "<matplotlib.figure.Figure at 0x7f25b5daa710>"
      ]
     },
     "metadata": {},
     "output_type": "display_data"
    }
   ],
   "source": [
    "def tau_warmup(tmax, tmin, epochs):\n",
    "    x = np.linspace(tmin, tmax, epochs/2)\n",
    "    tausch = np.concatenate([x, np.ones(epochs - len(x)) * tmax])\n",
    "    return list(tausch)\n",
    "plt.plot(tau_warmup(1e-5, 1e-6, 50))\n",
    "\n",
    "def sawtooth(tmax, tmin, epochs, upratio, cycle):\n",
    "    gup = cycle * upratio\n",
    "    gdown = cycle * (1-upratio)\n",
    "    step_grad = (tmax-tmin)/ (epochs*( 2 * upratio - 1))\n",
    "    v = tmin\n",
    "    l=[]\n",
    "    for i in range (int(epochs/cycle)):\n",
    "        for j in range (int(gup)):\n",
    "            v += step_grad\n",
    "            l.append(v)\n",
    "        for j in range (int(gdown)):\n",
    "            v -= step_grad\n",
    "            l.append(v)\n",
    "    return l\n",
    "plt.plot(sawtooth(1e-5, 1e-6, 50, 0.7, 10))\n",
    "\n",
    "def get_loss (data, targets, model, temp, loss_type=\"\"):\n",
    "    forward = model(data)\n",
    "    outputs = nn.Softmax(dim=1)(forward/temp).data\n",
    "    loss_acc = mse_loss(outputs, targets) * temp ** 2\n",
    "    return loss_acc"
   ]
  },
  {
   "cell_type": "code",
   "execution_count": 73,
   "metadata": {},
   "outputs": [],
   "source": [
    "def retrain_model(mean, var, zmean, zvar, tau, temp, mixtures, model_name, data_size, loss_type = 'MSESNT', scaling = False, model_save_dir = \"\",  fn=\"\", dset=\"mnist\", tscd=\"const\"):\n",
    "    ab = get_ab(mean, var)\n",
    "    zab = get_ab(zmean, zvar)\n",
    "    \n",
    "    model_file = '{}_{}_{}_{}'.format(dset, model_name, 100, data_size)\n",
    "    model = torch.load(model_load_dir + model_file + '.m').cuda()\n",
    "    \n",
    "    train_dataset = train_data\n",
    "    test_data_full = Variable(test_data(fetch='data', dset=dset)).cuda()\n",
    "    test_labels_full = Variable(test_data(fetch='labels', dset=dset)).cuda()\n",
    "    test_targets_full = model(test_data_full)\n",
    "    train_data_full = Variable(train_data(fetch='data', dset=dset)).cuda()\n",
    "    \n",
    "    test_output = model(test_data_full)\n",
    "    test_output = (nn.Softmax(dim=1)(test_output/temp)).data\n",
    "    \n",
    "    #Same Model Targets\n",
    "    output = torch.load(\"{}{}_targets/{}.out.m\".format(model_load_dir, model_file, \"fc3\" if \"300_100\" in model.name else \"fc2\"))\n",
    "    #SWS Targets\n",
    "    #output = torch.load(\"{}{}_{}_targets/{}.out.m\".format(model_load_dir, dset, \"SWSModel_100_full\", \"fc2\")) #Use SWSModel targets\n",
    "    output = (nn.Softmax(dim=1)(output/temp)).data\n",
    "    dataset = torch.utils.data.TensorDataset(train_dataset(fetch='data', dset=dset), output)\n",
    "    loader = torch.utils.data.DataLoader(dataset=dataset, batch_size=batch_size, shuffle=True)\n",
    "    \n",
    "    s = \"s\" if scaling else \"f\" \n",
    "    exp_name = \"{}_m{}_zm{}_r{}_t{}_m{}_kdT{}_{}_{}\".format(model.name, mean, zmean, retraining_epochs, tau, int(mixtures), int(temp), s, data_size) + fn\n",
    "    gmp = GaussianMixturePrior(mixtures, [x for x in model.parameters()], 0.99, zero_ab = zab, ab = ab, scaling = scaling)\n",
    "    gmp.print_batch = False\n",
    "    \n",
    "    if (tscd==\"const\"):\n",
    "        tauscd = tau_warmup(1e-5, 1e-5, retraining_epochs)\n",
    "    if (tscd==\"warmup\"):\n",
    "        tauscd = tau_warmup(1e-5, 1e-6, retraining_epochs)\n",
    "    if (tscd==\"sawtooth\"):\n",
    "        tauscd = sawtooth(1e-5, 1e-6, retraining_epochs, 0.7, 10)\n",
    "\n",
    "    optimizable_params = [\n",
    "        {'params': model.parameters(), 'lr': 2e-4},\n",
    "        {'params': [gmp.means], 'lr': 0.5e-4},\n",
    "        {'params': [gmp.gammas, gmp.rhos], 'lr': 3e-3}]\n",
    "    if (scaling):\n",
    "        optimizable_params = optimizable_params + [{'params': gmp.scale, 'lr': 1e-6}]\n",
    "    opt = torch.optim.Adam(optimizable_params)#log precisions and mixing proportions\n",
    "\n",
    "    res_stats = plot_data(init_model = model, gmp = gmp, mode = 'retrain', data_size = data_size, loss_type='CE', mv = (mean, var), zmv = (zmean, zvar), tau = tau, temp = temp, mixtures = mixtures, dset = dset)\n",
    "    s_hist = a_hist = test_loss = train_loss = []\n",
    "    \n",
    "    test_loss.append(float(get_loss(test_data_full, test_output, model, temp)[0].cpu()))\n",
    "    train_loss.append(float(get_loss(train_data_full, output, model, temp)[0].cpu()))\n",
    "    \n",
    "    for epoch in range(retraining_epochs):\n",
    "        tau = tauscd[epoch]\n",
    "        model, loss = retrain_sws_epoch(model, gmp, opt, loader, tau, temp, loss_type)\n",
    "        res_stats.data_epoch(epoch + 1, model, gmp)\n",
    "        \n",
    "        test_loss.append(float(get_loss(test_data_full, test_output, model, temp)[0].cpu()))\n",
    "        train_loss.append(float(get_loss(train_data_full, output, model, temp)[0].cpu()))\n",
    "\n",
    "        if (trueAfterN(epoch, 10)):\n",
    "            nm = sws_prune_copy(model, gmp)\n",
    "            s = get_sparsity(nm)\n",
    "            a = test_accuracy(test_data_full, test_labels_full, nm)[0]\n",
    "\n",
    "            print('Epoch: {}. Test Accuracy: {:.2f}, Prune Accuracy: {:.2f}, Sparsity: {:.2f}'.format(epoch+1, res_stats.test_accuracy[-1], a, s))\n",
    "            #show_sws_weights(model = model, means = list(gmp.means.data.clone().cpu()), precisions = list(gmp.gammas.data.clone().cpu()), epoch = epoch)###\n",
    "        nm = sws_prune_copy(model, gmp)\n",
    "        s = get_sparsity(nm)\n",
    "        a = test_accuracy(test_data_full, test_labels_full, nm)[0]\n",
    "        s_hist.append(s)\n",
    "        a_hist.append(a)\n",
    "        \n",
    "    model_prune = sws_prune_copy(model, gmp)\n",
    "\n",
    "    res_stats.data_prune(model_prune)\n",
    "    res = res_stats.gen_dict()\n",
    "    res['test_prune_acc'] = a_hist\n",
    "    res['test_prune_sp'] = s_hist\n",
    "    res['test_loss_mse'] = test_loss\n",
    "    res['train_loss_mse'] = train_loss\n",
    "\n",
    "    print('Retrain Test: {:.2f}, Prune Test: {:.2f}, Prune Sparsity: {:.2f}'.format(res['test_acc'][-1], res['prune_acc']['test'],res['sparsity']))\n",
    "\n",
    "    if(model_save_dir!=\"\"):\n",
    "        torch.save(model, model_save_dir + '/{}_retrain_model_{}.m'.format(dset, exp_name))\n",
    "        with open(model_save_dir + '/{}_retrain_gmp_{}.p'.format(dset, exp_name),'wb') as f:\n",
    "            pickle.dump(gmp, f)\n",
    "        with open(model_save_dir + '/{}_retrain_res_{}.p'.format(dset, exp_name),'wb') as f:\n",
    "            pickle.dump(res, f)\n",
    "\n",
    "    return model, gmp, res"
   ]
  },
  {
   "cell_type": "code",
   "execution_count": 74,
   "metadata": {},
   "outputs": [
    {
     "name": "stderr",
     "output_type": "stream",
     "text": [
      "/anaconda/envs/py35/lib/python3.5/site-packages/torch/serialization.py:325: SourceChangeWarning: source code of class 'model_archs.LeNet_300_100' has changed. you can retrieve the original source code by accessing the object's source attribute or set `torch.nn.Module.dump_patches = True` and use the patch tool to revert the changes.\n",
      "  warnings.warn(msg, SourceChangeWarning)\n"
     ]
    },
    {
     "name": "stdout",
     "output_type": "stream",
     "text": [
      "0-component Mean: 2500.0 Variance: 1250.0\n",
      "Non-zero component Mean: 100.0 Variance: 10.0\n"
     ]
    },
    {
     "name": "stderr",
     "output_type": "stream",
     "text": [
      "/anaconda/envs/py35/lib/python3.5/site-packages/ipykernel/__main__.py:2: DeprecationWarning: object of type <class 'float'> cannot be safely interpreted as an integer.\n",
      "  from ipykernel import kernelapp as app\n"
     ]
    },
    {
     "ename": "TypeError",
     "evalue": "'float' object is not subscriptable",
     "output_type": "error",
     "traceback": [
      "\u001b[0;31m---------------------------------------------------------------------------\u001b[0m",
      "\u001b[0;31mTypeError\u001b[0m                                 Traceback (most recent call last)",
      "\u001b[0;32m<ipython-input-74-842a8c272b58>\u001b[0m in \u001b[0;36m<module>\u001b[0;34m()\u001b[0m\n\u001b[0;32m----> 1\u001b[0;31m \u001b[0mmodel\u001b[0m\u001b[0;34m,\u001b[0m \u001b[0mgmp\u001b[0m\u001b[0;34m,\u001b[0m \u001b[0mres\u001b[0m \u001b[0;34m=\u001b[0m \u001b[0mretrain_model\u001b[0m\u001b[0;34m(\u001b[0m\u001b[0;36m100\u001b[0m\u001b[0;34m,\u001b[0m \u001b[0;36m10\u001b[0m\u001b[0;34m,\u001b[0m \u001b[0;36m2500\u001b[0m\u001b[0;34m,\u001b[0m \u001b[0;36m1250\u001b[0m\u001b[0;34m,\u001b[0m \u001b[0;36m1e-6\u001b[0m\u001b[0;34m,\u001b[0m \u001b[0;36m4\u001b[0m\u001b[0;34m,\u001b[0m \u001b[0;36m16\u001b[0m\u001b[0;34m,\u001b[0m \u001b[0;34m\"LeNet_300_100\"\u001b[0m\u001b[0;34m,\u001b[0m \u001b[0;34m\"full\"\u001b[0m\u001b[0;34m,\u001b[0m \u001b[0;34m'MSEST'\u001b[0m\u001b[0;34m,\u001b[0m \u001b[0;32mFalse\u001b[0m\u001b[0;34m,\u001b[0m \u001b[0;34m\"\"\u001b[0m\u001b[0;34m,\u001b[0m \u001b[0mdset\u001b[0m\u001b[0;34m=\u001b[0m\u001b[0;34m\"mnist\"\u001b[0m\u001b[0;34m)\u001b[0m\u001b[0;34m\u001b[0m\u001b[0m\n\u001b[0m",
      "\u001b[0;32m<ipython-input-73-279208c3ceb0>\u001b[0m in \u001b[0;36mretrain_model\u001b[0;34m(mean, var, zmean, zvar, tau, temp, mixtures, model_name, data_size, loss_type, scaling, model_save_dir, fn, dset, tscd)\u001b[0m\n\u001b[1;32m     46\u001b[0m     \u001b[0ms_hist\u001b[0m \u001b[0;34m=\u001b[0m \u001b[0ma_hist\u001b[0m \u001b[0;34m=\u001b[0m \u001b[0mtest_loss\u001b[0m \u001b[0;34m=\u001b[0m \u001b[0mtrain_loss\u001b[0m \u001b[0;34m=\u001b[0m \u001b[0;34m[\u001b[0m\u001b[0;34m]\u001b[0m\u001b[0;34m\u001b[0m\u001b[0m\n\u001b[1;32m     47\u001b[0m \u001b[0;34m\u001b[0m\u001b[0m\n\u001b[0;32m---> 48\u001b[0;31m     \u001b[0mtest_loss\u001b[0m\u001b[0;34m.\u001b[0m\u001b[0mappend\u001b[0m\u001b[0;34m(\u001b[0m\u001b[0mfloat\u001b[0m\u001b[0;34m(\u001b[0m\u001b[0mget_loss\u001b[0m\u001b[0;34m(\u001b[0m\u001b[0mtest_data_full\u001b[0m\u001b[0;34m,\u001b[0m \u001b[0mtest_output\u001b[0m\u001b[0;34m,\u001b[0m \u001b[0mmodel\u001b[0m\u001b[0;34m,\u001b[0m \u001b[0mtemp\u001b[0m\u001b[0;34m)\u001b[0m\u001b[0;34m[\u001b[0m\u001b[0;36m0\u001b[0m\u001b[0;34m]\u001b[0m\u001b[0;34m.\u001b[0m\u001b[0mcpu\u001b[0m\u001b[0;34m(\u001b[0m\u001b[0;34m)\u001b[0m\u001b[0;34m)\u001b[0m\u001b[0;34m)\u001b[0m\u001b[0;34m\u001b[0m\u001b[0m\n\u001b[0m\u001b[1;32m     49\u001b[0m     \u001b[0mtrain_loss\u001b[0m\u001b[0;34m.\u001b[0m\u001b[0mappend\u001b[0m\u001b[0;34m(\u001b[0m\u001b[0mfloat\u001b[0m\u001b[0;34m(\u001b[0m\u001b[0mget_loss\u001b[0m\u001b[0;34m(\u001b[0m\u001b[0mtrain_data_full\u001b[0m\u001b[0;34m,\u001b[0m \u001b[0moutput\u001b[0m\u001b[0;34m,\u001b[0m \u001b[0mmodel\u001b[0m\u001b[0;34m,\u001b[0m \u001b[0mtemp\u001b[0m\u001b[0;34m)\u001b[0m\u001b[0;34m[\u001b[0m\u001b[0;36m0\u001b[0m\u001b[0;34m]\u001b[0m\u001b[0;34m.\u001b[0m\u001b[0mcpu\u001b[0m\u001b[0;34m(\u001b[0m\u001b[0;34m)\u001b[0m\u001b[0;34m)\u001b[0m\u001b[0;34m)\u001b[0m\u001b[0;34m\u001b[0m\u001b[0m\n\u001b[1;32m     50\u001b[0m \u001b[0;34m\u001b[0m\u001b[0m\n",
      "\u001b[0;31mTypeError\u001b[0m: 'float' object is not subscriptable"
     ]
    }
   ],
   "source": [
    "model, gmp, res = retrain_model(100, 10, 2500, 1250, 1e-6, 4, 16, \"LeNet_300_100\", \"full\", 'MSEST', False, \"\", dset=\"mnist\")"
   ]
  },
  {
   "cell_type": "markdown",
   "metadata": {},
   "source": [
    "### SWS Targets"
   ]
  },
  {
   "cell_type": "code",
   "execution_count": 30,
   "metadata": {},
   "outputs": [
    {
     "name": "stderr",
     "output_type": "stream",
     "text": [
      "/anaconda/envs/py35/lib/python3.5/site-packages/torch/serialization.py:325: SourceChangeWarning: source code of class 'model_archs.LeNet_300_100' has changed. you can retrieve the original source code by accessing the object's source attribute or set `torch.nn.Module.dump_patches = True` and use the patch tool to revert the changes.\n",
      "  warnings.warn(msg, SourceChangeWarning)\n"
     ]
    },
    {
     "name": "stdout",
     "output_type": "stream",
     "text": [
      "0-component Mean: 2500.0 Variance: 1250.0\n",
      "Non-zero component Mean: 250.0 Variance: 10.0\n",
      "Epoch: 10. Test Accuracy: 98.26, Prune Accuracy: 89.67, Sparsity: 73.68\n",
      "Epoch: 20. Test Accuracy: 97.59, Prune Accuracy: 96.97, Sparsity: 92.93\n",
      "Epoch: 30. Test Accuracy: 97.85, Prune Accuracy: 97.46, Sparsity: 96.75\n",
      "Epoch: 40. Test Accuracy: 98.06, Prune Accuracy: 97.71, Sparsity: 97.23\n",
      "Epoch: 50. Test Accuracy: 98.07, Prune Accuracy: 97.68, Sparsity: 97.25\n",
      "Retrain Test: 98.07, Prune Test: 97.68, Prune Sparsity: 97.25\n"
     ]
    }
   ],
   "source": [
    "model, gmp, res = retrain_model(250, 10, 2500, 1250, 1e-6, 5, 16, \"LeNet_300_100\", \"full\", 'MSEST', False, \"\", dset=\"mnist\")"
   ]
  },
  {
   "cell_type": "code",
   "execution_count": 38,
   "metadata": {},
   "outputs": [
    {
     "name": "stderr",
     "output_type": "stream",
     "text": [
      "/anaconda/envs/py35/lib/python3.5/site-packages/torch/serialization.py:325: SourceChangeWarning: source code of class 'model_archs.LeNet_300_100' has changed. you can retrieve the original source code by accessing the object's source attribute or set `torch.nn.Module.dump_patches = True` and use the patch tool to revert the changes.\n",
      "  warnings.warn(msg, SourceChangeWarning)\n"
     ]
    },
    {
     "name": "stdout",
     "output_type": "stream",
     "text": [
      "0-component Mean: 2500.0 Variance: 1250.0\n",
      "Non-zero component Mean: 500.0 Variance: 10.0\n",
      "Epoch: 10. Test Accuracy: 98.24, Prune Accuracy: 96.64, Sparsity: 71.74\n",
      "Epoch: 20. Test Accuracy: 97.57, Prune Accuracy: 97.36, Sparsity: 97.09\n",
      "Epoch: 30. Test Accuracy: 97.82, Prune Accuracy: 97.17, Sparsity: 97.10\n",
      "Epoch: 40. Test Accuracy: 97.95, Prune Accuracy: 97.24, Sparsity: 97.15\n",
      "Epoch: 50. Test Accuracy: 97.98, Prune Accuracy: 97.44, Sparsity: 97.18\n",
      "Retrain Test: 97.98, Prune Test: 97.44, Prune Sparsity: 97.18\n"
     ]
    }
   ],
   "source": [
    "model, gmp, res = retrain_model(100, 10, 2500, 1250, 0.8e-6, 4, 16, \"LeNet_300_100\", \"full\", 'MSEST', False, \"\", dset=\"mnist\")"
   ]
  },
  {
   "cell_type": "code",
   "execution_count": null,
   "metadata": {},
   "outputs": [],
   "source": [
    "model, gmp, res = retrain_model(100, 10, 2500, 1250, 0.8e-6, 4, 16, \"LeNet_300_100\", \"full\", 'MSEST', False, \"\", dset=\"mnist\")"
   ]
  },
  {
   "cell_type": "code",
   "execution_count": 39,
   "metadata": {},
   "outputs": [
    {
     "name": "stderr",
     "output_type": "stream",
     "text": [
      "/anaconda/envs/py35/lib/python3.5/site-packages/torch/serialization.py:325: SourceChangeWarning: source code of class 'model_archs.LeNet_300_100' has changed. you can retrieve the original source code by accessing the object's source attribute or set `torch.nn.Module.dump_patches = True` and use the patch tool to revert the changes.\n",
      "  warnings.warn(msg, SourceChangeWarning)\n"
     ]
    }
   ],
   "source": [
    "model_file = '{}_{}_{}_{}'.format(\"mnist\", \"LeNet_300_100\", 100, \"full\")\n",
    "model_orig = torch.load(model_load_dir + model_file + '.m').cuda()\n",
    "test_output = model_orig(test_data_full)\n",
    "test_output = Variable((nn.Softmax(dim=1)(output/5)).data, requires_grad = False)\n",
    "#output = torch.load(\"{}{}_targets/fc3.out.m\".format(model_load_dir, \"mnist_LeNet_300_100_100_full\", \"fc3\" if \"300_100\" in model.name else \"fc2\"))\n"
   ]
  },
  {
   "cell_type": "code",
   "execution_count": 41,
   "metadata": {
    "scrolled": true
   },
   "outputs": [
    {
     "data": {
      "text/plain": [
       "Variable containing:\n",
       "1.00000e-02 *\n",
       "  4.1783\n",
       "[torch.cuda.FloatTensor of size 1 (GPU 0)]"
      ]
     },
     "execution_count": 41,
     "metadata": {},
     "output_type": "execute_result"
    }
   ],
   "source": [
    "get_loss(test_data_full, output, model, 5)"
   ]
  }
 ],
 "metadata": {
  "kernelspec": {
   "display_name": "Python [conda env:py35]",
   "language": "python",
   "name": "conda-env-py35-py"
  },
  "language_info": {
   "codemirror_mode": {
    "name": "ipython",
    "version": 3
   },
   "file_extension": ".py",
   "mimetype": "text/x-python",
   "name": "python",
   "nbconvert_exporter": "python",
   "pygments_lexer": "ipython3",
   "version": "3.5.4"
  }
 },
 "nbformat": 4,
 "nbformat_minor": 2
}
