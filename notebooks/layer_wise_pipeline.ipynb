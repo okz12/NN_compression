{
 "cells": [
  {
   "cell_type": "code",
   "execution_count": 1,
   "metadata": {},
   "outputs": [
    {
     "data": {
      "text/html": [
       "<style>.container { width:95% !important; }</style>"
      ],
      "text/plain": [
       "<IPython.core.display.HTML object>"
      ]
     },
     "metadata": {},
     "output_type": "display_data"
    },
    {
     "data": {
      "application/javascript": [
       "if (!(\"Notification\" in window)) {\n",
       "    alert(\"This browser does not support desktop notifications, so the %%notify magic will not work.\");\n",
       "} else if (Notification.permission !== 'granted' && Notification.permission !== 'denied') {\n",
       "    Notification.requestPermission(function (permission) {\n",
       "        if(!('permission' in Notification)) {\n",
       "            Notification.permission = permission;\n",
       "        }\n",
       "    })\n",
       "}\n"
      ],
      "text/plain": [
       "<IPython.core.display.Javascript object>"
      ]
     },
     "metadata": {},
     "output_type": "display_data"
    }
   ],
   "source": [
    "#Expand notebook to take full screen width\n",
    "from IPython.core.display import display, HTML\n",
    "display(HTML(\"<style>.container { width:95% !important; }</style>\"))\n",
    "\n",
    "#Jupyter magic to notify when a cell finishes execution with %%notify command -- does not work with Jupyterlab\n",
    "import jupyternotify\n",
    "ip = get_ipython()\n",
    "ip.register_magics(jupyternotify.JupyterNotifyMagics)\n",
    "\n",
    "###\n",
    "import sys\n",
    "sys.path.insert(0,'../src/')\n",
    "\n",
    "%load_ext autoreload\n",
    "%autoreload 2\n",
    "\n",
    "import copy\n",
    "%matplotlib inline\n",
    "import matplotlib.pyplot as plt\n",
    "#%pdb"
   ]
  },
  {
   "cell_type": "code",
   "execution_count": 3,
   "metadata": {},
   "outputs": [],
   "source": [
    "import torch\n",
    "import torch.nn as nn\n",
    "import torchvision.transforms as transforms\n",
    "import torchvision.datasets as dsets\n",
    "from torch.nn.modules import Module\n",
    "from torch.autograd import Variable\n",
    "import torch.nn.functional as F\n",
    "import numpy as np\n",
    "import copy\n",
    "import pickle\n",
    "import argparse\n",
    "\n",
    "model_dir = \"./models/\"\n",
    "import model_archs\n",
    "from utils_plot import show_sws_weights, show_weights, print_dims, prune_plot, draw_sws_graphs, joint_plot, plot_data\n",
    "from utils_model import test_accuracy, train_epoch, retrain_sws_epoch, model_prune, get_weight_penalty, layer_accuracy\n",
    "from utils_misc import trueAfterN, logsumexp, root_dir, model_load_dir, get_ab, get_sparsity\n",
    "from utils_sws import GaussianMixturePrior, special_flatten, KL, compute_responsibilies, merger, sws_prune, sws_prune_l2, sws_prune_copy, sws_replace\n",
    "from mnist_loader import search_train_data, search_retrain_data, search_validation_data, train_data, test_data, batch_size\n",
    "from extract_targets import get_targets, get_layer_data\n",
    "from retrain_layer import retrain_layer\n",
    "retraining_epochs = 50\n",
    "\n",
    "\n",
    "test_data_full = Variable(test_data(fetch = \"data\")).cuda()\n",
    "test_labels_full = Variable(test_data(fetch = \"labels\")).cuda()\n",
    "val_data_full = Variable(search_validation_data(fetch = \"data\")).cuda()\n",
    "val_labels_full = Variable(search_validation_data(fetch = \"labels\")).cuda()\n"
   ]
  },
  {
   "cell_type": "code",
   "execution_count": 22,
   "metadata": {},
   "outputs": [],
   "source": [
    "#1. Train all 3 layers\n",
    "#2. Unify model and replace priors\n",
    "#3. Optimize as usual\n",
    "def layer_retrain_LeNet_300_100(mean, zmean, temp, tau, mixtures, data_size, loss_type = 'MSEHNA', savedir = ''):\n",
    "    zvar = 10\n",
    "    var = 2\n",
    "    model_name = 'LeNet_300_100'\n",
    "    \n",
    "    #train 3 layers independently\n",
    "    layer_model_1, gmp_1, res_1 = retrain_layer(mean, var, zmean, zvar, mixtures, 1, tau, 1, data_size, model_name, loss_type, savedir)\n",
    "    layer_model_2, gmp_2, res_2 = retrain_layer(mean, var, zmean, zvar, mixtures, 1, tau, 2, data_size, model_name, loss_type, savedir)\n",
    "    layer_model_3, gmp_3, res_3 = retrain_layer(mean, var, zmean, zvar, mixtures, temp, tau, 3, data_size, model_name, loss_type, savedir)\n",
    "\n",
    "    #transfer GMP to new unified model architecture\n",
    "    unified_model = sws_replace(model_archs.LeNet_300_100().cuda(), [layer_model_1.state_dict(), layer_model_2.state_dict(), layer_model_3.state_dict()])\n",
    "    gmp_u1 = GaussianMixturePrior(mixtures, [x for x in unified_model.fc1.parameters()], 0.99, zero_ab = get_ab(zmean, zvar), ab = get_ab(mean, var), means = gmp_1.means.clone().data.cpu().numpy(), scaling = False)\n",
    "    gmp_u2 = GaussianMixturePrior(mixtures, [x for x in unified_model.fc2.parameters()], 0.99, zero_ab = get_ab(zmean, zvar), ab = get_ab(mean, var), means = gmp_2.means.clone().data.cpu().numpy(), scaling = False)\n",
    "    gmp_u3 = GaussianMixturePrior(mixtures, [x for x in unified_model.fc3.parameters()], 0.99, zero_ab = get_ab(zmean, zvar), ab = get_ab(mean, var), means = gmp_3.means.clone().data.cpu().numpy(), scaling = False)\n",
    "\n",
    "    #load datasets\n",
    "    data_size = 'search'\n",
    "    if(data_size == 'search'):\n",
    "        train_dataset = search_train_data()\n",
    "        val_data_full = Variable(test_data(fetch='data')).cuda()\n",
    "        val_labels_full = Variable(test_data(fetch='labels')).cuda()\n",
    "        un_val_acc = test_accuracy(val_data_full, val_labels_full, unified_model)[0]\n",
    "    if(data_size == 'full'):\n",
    "        train_dataset = train_data()\n",
    "\n",
    "    loader = torch.utils.data.DataLoader(dataset=train_dataset, batch_size=batch_size, shuffle=True)\n",
    "    test_data_full = Variable(test_data(fetch='data')).cuda()\n",
    "    test_labels_full = Variable(test_data(fetch='labels')).cuda()\n",
    "    \n",
    "    \n",
    "    #unified accuracy\n",
    "    unify_res = plot_data(unified_model, mode = 'retrain', data_size = data_size, loss_type='CE', mv = (mean, var), zmv = (zmean, zvar), tau = tau, temp = temp, mixtures = mixtures)\n",
    "    unify_res.data_epoch(0, unified_model)\n",
    "    \n",
    "    #init optimizers\n",
    "    loss_type = 'CESNT'\n",
    "    opt_1 = torch.optim.Adam([\n",
    "            {'params': unified_model.fc1.parameters(), 'lr': 1e-4},\n",
    "            {'params': [gmp_u1.means], 'lr': 3e-4},\n",
    "            {'params': [gmp_u1.gammas, gmp_u1.rhos], 'lr': 3e-3}])\n",
    "    opt_2 = torch.optim.Adam([\n",
    "            {'params': unified_model.fc2.parameters(), 'lr': 1e-4},\n",
    "            {'params': [gmp_u2.means], 'lr': 3e-4},\n",
    "            {'params': [gmp_u2.gammas, gmp_u2.rhos], 'lr': 3e-3}])\n",
    "    opt_3 = torch.optim.Adam([\n",
    "            {'params': unified_model.fc3.parameters(), 'lr': 1e-4},\n",
    "            {'params': [gmp_u3.means], 'lr': 3e-4},\n",
    "            {'params': [gmp_u3.gammas, gmp_u3.rhos], 'lr': 3e-3}])\n",
    "\n",
    "    #align and retrain\n",
    "    show_sws_weights(unified_model)\n",
    "    for epoch in range(30):\n",
    "        unified_model, loss = retrain_sws_epoch(unified_model, gmp_u1, opt_1, loader, tau, 1, loss_type)\n",
    "        unified_model, loss = retrain_sws_epoch(unified_model, gmp_u2, opt_2, loader, tau, 1, loss_type)\n",
    "        unified_model, loss = retrain_sws_epoch(unified_model, gmp_u3, opt_3, loader, tau, 1, loss_type)\n",
    "        #test_acc = test_accuracy(test_data_full, test_labels_full, model_n)\n",
    "        #print('Epoch: {}. Test Accuracy: {:.2f}'.format(epoch+1, test_acc[0]))\n",
    "        #model_n, means = clamp_weights (model_n, means)\n",
    "        unify_res.data_epoch(epoch+1, unified_model)\n",
    "        \n",
    "        if (trueAfterN(epoch, 10)):\n",
    "            print (\"Epoch: {}, Test Acc: {:.2f}\".format(epoch+1, unify_res.test_accuracy[-1]))\n",
    "    show_sws_weights(unified_model)\n",
    "\n",
    "    #prune model\n",
    "    l1_prune = sws_prune(dict((l, unified_model.state_dict()[l]) for l in (\"fc1.bias\", \"fc1.weight\")), gmp_u1)\n",
    "    l2_prune = sws_prune(dict((l, unified_model.state_dict()[l]) for l in (\"fc2.bias\", \"fc2.weight\")), gmp_u2)\n",
    "    l3_prune = sws_prune(dict((l, unified_model.state_dict()[l]) for l in (\"fc3.bias\", \"fc3.weight\")), gmp_u3)\n",
    "    pruned_model = sws_replace(unified_model, [l1_prune, l2_prune, l3_prune])\n",
    "    \n",
    "    ures = unify_res.gen_dict()\n",
    "\n",
    "    show_sws_weights(pruned_model)\n",
    "    res_test = test_accuracy(res_stats.test_data_full, res_stats.test_labels_full, unified_model)\n",
    "    ures['compress_test'] = res_test[0]\n",
    "    ures['prune_test'] = res_test[2]\n",
    "    ures['sparsity'] = res_test[3]\n",
    "    if (data_size == \"search\"):\n",
    "        res_val = layer_accuracy(res_stats.val_data_full, res_stats.val_labels_full, unified_model)\n",
    "        res['prune_val'] = res_val[2]\n",
    "        res['compress_val'] = res_val[0]\n",
    "    \n",
    "    return layer_model_1, gmp_1, res_1, layer_model_2, gmp_2, res_2, layer_model_3, gmp_3, res_3, unified_model, ures"
   ]
  },
  {
   "cell_type": "code",
   "execution_count": null,
   "metadata": {},
   "outputs": [
    {
     "name": "stdout",
     "output_type": "stream",
     "text": [
      "0-component Mean: 5000.0 Variance: 10.0\n",
      "Non-zero component Mean: 5000.0 Variance: 2.0\n"
     ]
    }
   ],
   "source": [
    "_, _, r1, _, _, r2, _, _, r3, _, ru = layer_retrain_LeNet_300_100(mean = 5000, zmean = 5000, temp = 4, tau = 1e-7, mixtures = 15, data_size = 'search', loss_type = 'MSEHNA', savedir = '')"
   ]
  },
  {
   "cell_type": "code",
   "execution_count": null,
   "metadata": {},
   "outputs": [],
   "source": [
    "savedir = './expfiles/'"
   ]
  },
  {
   "cell_type": "code",
   "execution_count": null,
   "metadata": {},
   "outputs": [],
   "source": [
    "\n",
    "model_n = copy.deepcopy(prune_model)\n",
    "data_size = 'search'\n",
    "if(data_size == 'search'):\n",
    "    train_dataset = search_train_data()\n",
    "if(data_size == 'full'):\n",
    "    train_dataset = train_data()\n",
    "\n",
    "train_loader = torch.utils.data.DataLoader(dataset=train_dataset, batch_size=batch_size, shuffle=True)\n",
    "test_data_full = Variable(test_data(fetch='data')).cuda()\n",
    "test_labels_full = Variable(test_data(fetch='labels')).cuda()\n",
    "\n",
    "criterion = nn.CrossEntropyLoss()\n",
    "optimizer = torch.optim.Adam(model_n.parameters(), lr=2e-5, weight_decay = 0.000)\n",
    "gmp_list = [gmp_1, gmp_2, gmp_3]\n",
    "means = np.concatenate([x.means.clone().data.cpu().numpy() for x in gmp_list] + np.array([0]))\n",
    "\n",
    "for epoch in range(20):\n",
    "    model_n, loss = train_epoch(model_n, optimizer, criterion, train_loader)\n",
    "\n",
    "    test_acc = test_accuracy(test_data_full, test_labels_full, model_n)\n",
    "    #print('Epoch: {}. Test Accuracy: {:.2f}'.format(epoch+1, test_acc[0]))\n",
    "\n",
    "    model_n, means = clamp_weights (model_n, means)\n",
    "    if (trueAfterN(epoch, 10)):\n",
    "        test_acc = test_accuracy(val_data_full, val_labels_full, model_n)\n",
    "        print('Clamped Training - Epoch: {}. Test Accuracy: {:.2f} - Sparsity: {:.2f}'.format(epoch+1, test_acc[0], get_sparsity(model_n)))\n",
    "        #show_sws_weights(model_n)\n",
    "    #print (get_sparsity(model_n))\n",
    "clamped_val = test_accuracy(val_data_full, val_labels_full, model_n)\n",
    "clamped_sp = get_sparsity(model_n)\n",
    "res_str += \"- Clamped Acc: {:.2f} Clamped Sp: {:.2f}\\n\".format(clamped_val[0], clamped_sp)\n",
    "overall_res += res_str"
   ]
  },
  {
   "cell_type": "code",
   "execution_count": null,
   "metadata": {},
   "outputs": [
    {
     "name": "stdout",
     "output_type": "stream",
     "text": [
      "0-component Mean: 10.0 Variance: 10.0\n",
      "Non-zero component Mean: 10.0 Variance: 2.0\n",
      "Epoch: 25. Loss: 0.00\n"
     ]
    },
    {
     "data": {
      "text/plain": [
       "<matplotlib.figure.Figure at 0x7f4ed5c34e80>"
      ]
     },
     "metadata": {},
     "output_type": "display_data"
    },
    {
     "data": {
      "image/png": "[encoded data removed]",
      "text/plain": [
       "<matplotlib.figure.Figure at 0x7f4ed5c34668>"
      ]
     },
     "metadata": {},
     "output_type": "display_data"
    },
    {
     "name": "stdout",
     "output_type": "stream",
     "text": [
      "Original: 98.26% - Retrain: 98.28% - Prune: 98.03% - Quantize: 98.07% - Sparsity: 50.79%\n",
      "Epoch: 50. Loss: 0.00\n"
     ]
    },
    {
     "data": {
      "text/plain": [
       "<matplotlib.figure.Figure at 0x7f4ed5affeb8>"
      ]
     },
     "metadata": {},
     "output_type": "display_data"
    },
    {
     "data": {
      "image/png": "[encoded data removed]",
      "text/plain": [
       "<matplotlib.figure.Figure at 0x7f4ed55832e8>"
      ]
     },
     "metadata": {},
     "output_type": "display_data"
    },
    {
     "name": "stdout",
     "output_type": "stream",
     "text": [
      "Original: 98.26% - Retrain: 98.29% - Prune: 98.04% - Quantize: 98.05% - Sparsity: 51.51%\n",
      "Original: 98.15% - Retrain: 98.12% - Prune: 97.99% - Quantize: 98.03% - Sparsity: 51.51%\n",
      "Original: 98.26% - Retrain: 98.29% - Prune: 98.04% - Quantize: 98.05% - Sparsity: 51.51%\n",
      "0-component Mean: 10.0 Variance: 10.0\n",
      "Non-zero component Mean: 10.0 Variance: 2.0\n",
      "Epoch: 25. Loss: 0.00\n"
     ]
    },
    {
     "data": {
      "text/plain": [
       "<matplotlib.figure.Figure at 0x7f4ecc61f550>"
      ]
     },
     "metadata": {},
     "output_type": "display_data"
    },
    {
     "data": {
      "image/png": "[encoded data removed]",
      "text/plain": [
       "<matplotlib.figure.Figure at 0x7f4ed55a7d30>"
      ]
     },
     "metadata": {},
     "output_type": "display_data"
    },
    {
     "name": "stdout",
     "output_type": "stream",
     "text": [
      "Original: 98.26% - Retrain: 98.26% - Prune: 98.27% - Quantize: 98.22% - Sparsity: 42.09%\n",
      "Epoch: 50. Loss: 0.00\n"
     ]
    },
    {
     "data": {
      "text/plain": [
       "<matplotlib.figure.Figure at 0x7f4ed531bf60>"
      ]
     },
     "metadata": {},
     "output_type": "display_data"
    },
    {
     "data": {
      "image/png": "[encoded data removed]",
      "text/plain": [
       "<matplotlib.figure.Figure at 0x7f4ed531be10>"
      ]
     },
     "metadata": {},
     "output_type": "display_data"
    },
    {
     "name": "stdout",
     "output_type": "stream",
     "text": [
      "Original: 98.26% - Retrain: 98.26% - Prune: 98.27% - Quantize: 98.22% - Sparsity: 42.16%\n",
      "Original: 98.15% - Retrain: 98.15% - Prune: 98.16% - Quantize: 98.08% - Sparsity: 42.16%\n",
      "Original: 98.26% - Retrain: 98.26% - Prune: 98.27% - Quantize: 98.22% - Sparsity: 42.16%\n",
      "0-component Mean: 10.0 Variance: 10.0\n",
      "Non-zero component Mean: 10.0 Variance: 2.0\n"
     ]
    }
   ],
   "source": [
    "overall_res = \"\"\n",
    "for mean in [10, 100, 1000, 10000]:\n",
    "    for zmean in [10, 100, 1000, 10000]:\n",
    "        res_str = \"Mean: {:.2f} ZMean: {:.2f}\\n\".format(mean,zmean)\n",
    "        layer_model_1, gmp_1, res_1 = layer_exp(mean, 2, zmean, 10, 15, 1, 1e-7, 1, 'MSEHNA')\n",
    "        layer_model_2, gmp_2, res_2 = layer_exp(mean, 2, zmean, 10, 15, 1, 1e-7, 2, 'MSEHNA')\n",
    "        layer_model_3, gmp_3, res_3 = layer_exp(mean, 2, zmean, 10, 15, 1, 1e-8, 3, 'MSEHNA')\n",
    "        prune_model = sws_replace(model_archs.LeNet_300_100().cuda(), [sws_prune_l2(layer_model_1, gmp_1), sws_prune_l2(layer_model_2, gmp_2), sws_prune_l2(layer_model_3, gmp_3)])\n",
    "        test_acc = test_accuracy(val_data_full, val_labels_full, prune_model)\n",
    "        res_str += \"Layer 1 Acc: {:.2f}% - Layer 1 Sp: {:.2f} - Layer 2 Acc: {:.2f}% - Layer 2 Sp: {:.2f} - Layer 3 Acc: {:.2f}% - Layer 3 Sp: {:.2f} - Model Acc: {:.2f} - Model Sp: {:.2f}\".format(res_1['prune_val'], res_1['sparsity'], res_2['prune_val'], res_2['sparsity'], res_3['prune_val'], res_3['sparsity'], test_acc[0], get_sparsity(prune_model))\n",
    "\n",
    "        model_n = copy.deepcopy(prune_model)\n",
    "        data_size = 'search'\n",
    "        if(data_size == 'search'):\n",
    "            train_dataset = search_train_data()\n",
    "        if(data_size == 'full'):\n",
    "            train_dataset = train_data()\n",
    "\n",
    "        train_loader = torch.utils.data.DataLoader(dataset=train_dataset, batch_size=batch_size, shuffle=True)\n",
    "        test_data_full = Variable(test_data(fetch='data')).cuda()\n",
    "        test_labels_full = Variable(test_data(fetch='labels')).cuda()\n",
    "\n",
    "        criterion = nn.CrossEntropyLoss()\n",
    "        optimizer = torch.optim.Adam(model_n.parameters(), lr=2e-5, weight_decay = 0.000)\n",
    "        gmp_list = [gmp_1, gmp_2, gmp_3]\n",
    "        means = np.concatenate([x.means.clone().data.cpu().numpy() for x in gmp_list] + np.array([0]))\n",
    "\n",
    "        for epoch in range(20):\n",
    "            model_n, loss = train_epoch(model_n, optimizer, criterion, train_loader)\n",
    "\n",
    "            test_acc = test_accuracy(test_data_full, test_labels_full, model_n)\n",
    "            #print('Epoch: {}. Test Accuracy: {:.2f}'.format(epoch+1, test_acc[0]))\n",
    "\n",
    "            model_n, means = clamp_weights (model_n, means)\n",
    "            if (trueAfterN(epoch, 10)):\n",
    "                test_acc = test_accuracy(val_data_full, val_labels_full, model_n)\n",
    "                print('Clamped Training - Epoch: {}. Test Accuracy: {:.2f} - Sparsity: {:.2f}'.format(epoch+1, test_acc[0], get_sparsity(model_n)))\n",
    "                #show_sws_weights(model_n)\n",
    "            #print (get_sparsity(model_n))\n",
    "        clamped_val = test_accuracy(val_data_full, val_labels_full, model_n)\n",
    "        clamped_sp = get_sparsity(model_n)\n",
    "        res_str += \"- Clamped Acc: {:.2f} Clamped Sp: {:.2f}\\n\".format(clamped_val[0], clamped_sp)\n",
    "        overall_res += res_str\n",
    "\n",
    "print(overall_res)"
   ]
  },
  {
   "cell_type": "code",
   "execution_count": 22,
   "metadata": {
    "collapsed": true
   },
   "outputs": [
    {
     "name": "stdout",
     "output_type": "stream",
     "text": [
      "Original: 98.26% - Retrain: 97.24% - Prune: 95.52% - Quantize: 94.95% - Sparsity: 97.40%\n"
     ]
    },
    {
     "data": {
      "text/plain": [
       "(97.24, 95.52, 94.95, 97.40382165605097)"
      ]
     },
     "execution_count": 22,
     "metadata": {},
     "output_type": "execute_result"
    }
   ],
   "source": [
    "model_file = 'mnist_{}_{}_{}'.format(model_name, 100, data_size)\n",
    "full_model = torch.load(model_load_dir + model_file + \".m\")\n",
    "layer_accuracy(layer_model, gmp, full_model, test_data_full, test_labels_full)"
   ]
  }
 ],
 "metadata": {
  "kernelspec": {
   "display_name": "Python [conda env:py35]",
   "language": "python",
   "name": "conda-env-py35-py"
  },
  "language_info": {
   "codemirror_mode": {
    "name": "ipython",
    "version": 3
   },
   "file_extension": ".py",
   "mimetype": "text/x-python",
   "name": "python",
   "nbconvert_exporter": "python",
   "pygments_lexer": "ipython3",
   "version": "3.5.4"
  }
 },
 "nbformat": 4,
 "nbformat_minor": 2
}
