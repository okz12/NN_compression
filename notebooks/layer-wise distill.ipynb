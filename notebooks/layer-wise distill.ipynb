{
 "cells": [
  {
   "cell_type": "code",
   "execution_count": 1,
   "metadata": {},
   "outputs": [
    {
     "data": {
      "text/html": [
       "<style>.container { width:95% !important; }</style>"
      ],
      "text/plain": [
       "<IPython.core.display.HTML object>"
      ]
     },
     "metadata": {},
     "output_type": "display_data"
    },
    {
     "data": {
      "application/javascript": [
       "if (!(\"Notification\" in window)) {\n",
       "    alert(\"This browser does not support desktop notifications, so the %%notify magic will not work.\");\n",
       "} else if (Notification.permission !== 'granted' && Notification.permission !== 'denied') {\n",
       "    Notification.requestPermission(function (permission) {\n",
       "        if(!('permission' in Notification)) {\n",
       "            Notification.permission = permission;\n",
       "        }\n",
       "    })\n",
       "}\n"
      ],
      "text/plain": [
       "<IPython.core.display.Javascript object>"
      ]
     },
     "metadata": {},
     "output_type": "display_data"
    },
    {
     "name": "stdout",
     "output_type": "stream",
     "text": [
      "Automatic pdb calling has been turned ON\n"
     ]
    }
   ],
   "source": [
    "#Expand notebook to take full screen width\n",
    "from IPython.core.display import display, HTML\n",
    "display(HTML(\"<style>.container { width:95% !important; }</style>\"))\n",
    "\n",
    "#Jupyter magic to notify when a cell finishes execution with %%notify command -- does not work with Jupyterlab\n",
    "import jupyternotify\n",
    "ip = get_ipython()\n",
    "ip.register_magics(jupyternotify.JupyterNotifyMagics)\n",
    "\n",
    "###\n",
    "import sys\n",
    "sys.path.insert(0,'../src/')\n",
    "\n",
    "%load_ext autoreload\n",
    "%autoreload 2\n",
    "\n",
    "import copy\n",
    "%matplotlib inline\n",
    "import matplotlib.pyplot as plt\n",
    "%pdb"
   ]
  },
  {
   "cell_type": "code",
   "execution_count": 2,
   "metadata": {},
   "outputs": [],
   "source": [
    "import torch\n",
    "import torch.nn as nn\n",
    "import torchvision.transforms as transforms\n",
    "import torchvision.datasets as dsets\n",
    "from torch.nn.modules import Module\n",
    "from torch.autograd import Variable\n",
    "import torch.nn.functional as F\n",
    "import numpy as np\n",
    "import copy\n",
    "import pickle\n",
    "import argparse\n",
    "\n",
    "model_dir = \"./models/\"\n",
    "import model_archs\n",
    "from utils_plot import show_sws_weights, show_weights, print_dims, prune_plot, draw_sws_graphs, joint_plot\n",
    "from utils_model import test_accuracy, train_epoch, retrain_sws_epoch, model_prune, get_weight_penalty, layer_accuracy\n",
    "from utils_misc import trueAfterN, logsumexp, root_dir, model_load_dir\n",
    "from utils_sws import GaussianMixturePrior, special_flatten, KL, compute_responsibilies, merger, sws_prune, sws_prune_l2\n",
    "from mnist_loader import search_train_data, search_retrain_data, search_validation_data, train_data, test_data, batch_size\n",
    "from extract_targets import get_targets\n",
    "retraining_epochs = 50\n",
    "\n",
    "def retrain_layer(model_retrain, model_orig, data_loader, test_data_full, test_labels_full, alpha, beta, tau, mixtures, temp, loss_type = 'MSEL', data_size = 'search', savedir = ''):\n",
    "    \n",
    "    weight_loader = model_retrain.state_dict()\n",
    "    for layer in model_retrain.state_dict():\n",
    "        weight_loader[layer] = model_orig.state_dict()[layer]\n",
    "    model_retrain.load_state_dict(weight_loader)\n",
    "\n",
    "    exp_name = \"{}_a{}_b{}_r{}_t{}_m{}_kdT{}_{}\".format(model_retrain.name, alpha, beta, retraining_epochs, tau, int(mixtures), int(temp), data_size)\n",
    "    gmp = GaussianMixturePrior(mixtures, [x for x in model_retrain.parameters()], 0.99, ab = (alpha, beta), scaling = False)\n",
    "    gmp.print_batch = False\n",
    "\n",
    "    print (\"Model Name: {}\".format(model_retrain.name))\n",
    "    criterion = nn.MSELoss()\n",
    "    opt = torch.optim.Adam([\n",
    "        {'params': model_retrain.parameters(), 'lr': 1e-4},\n",
    "        {'params': [gmp.means], 'lr': 1e-4},\n",
    "        {'params': [gmp.gammas, gmp.rhos], 'lr': 3e-3}])#log precisions and mixing proportions\n",
    "\n",
    "    \n",
    "    for epoch in range(retraining_epochs):\n",
    "        model_retrain, loss = retrain_sws_epoch(model_retrain, gmp, opt, criterion, data_loader, tau, temp, loss_type)\n",
    "\n",
    "        if (trueAfterN(epoch, 10)):\n",
    "            print('Epoch: {}. Loss: {:.2f}'.format(epoch+1, float(loss.data)))\n",
    "            layer_accuracy(model_retrain, gmp, model_orig, test_data_full, test_labels_full)\n",
    "            \n",
    "    if(savedir!=\"\"):\n",
    "        torch.save(model_retrain, savedir + 'mnist_retrain_{}.m'.format(exp_name))\n",
    "        with open(savedir + 'mnist_retrain_{}_gmp.p'.format(exp_name),'wb') as f:\n",
    "            pickle.dump(gmp, f)\n",
    "            \n",
    "    return model_retrain, gmp\n",
    "\n",
    "def get_layer_data(target_dir, temp, layer, model_name, data_size):\n",
    "    x_start = 0\n",
    "    x_end = 60000\n",
    "    if (data_size == \"search\"):\n",
    "        x_start = 40000\n",
    "        x_end = 50000\n",
    "    if (\"SWSModel\" in model_name):\n",
    "        if (layer == 1):\n",
    "            layer_model = model_archs.SWSModelConv1().cuda()\n",
    "            input = Variable(train_data(fetch = \"data\")[x_start:x_end]).cuda()\n",
    "            output = get_targets(target_dir, temp, [\"conv1.out\"])[\"conv1.out\"][x_start:x_end]\n",
    "        if (layer == 2):\n",
    "            layer_model = model_archs.SWSModelConv2().cuda()\n",
    "            input = nn.ReLU()(get_targets(target_dir, temp, [\"conv1.out\"])[\"conv1.out\"][x_start:x_end])\n",
    "            output = (get_targets(target_dir, temp, [\"conv2.out\"])[\"conv2.out\"][x_start:x_end])\n",
    "        if (layer == 3):\n",
    "            layer_model = model_archs.SWSModelFC1().cuda()\n",
    "            input = nn.ReLU()(get_targets(target_dir, temp, [\"conv2.out\"])[\"conv2.out\"][x_start:x_end])\n",
    "            output = get_targets(target_dir, temp, [\"fc1.out\"])[\"fc1.out\"][x_start:x_end]\n",
    "        if (layer == 4):\n",
    "            layer_model = model_archs.SWSModelFC2().cuda()\n",
    "            input = nn.ReLU()(get_targets(target_dir, temp, [\"fc1.out\"])[\"fc1.out\"][x_start:x_end])\n",
    "            output = get_targets(target_dir, temp, [\"fc2.out\"])[\"fc2.out\"][x_start:x_end]\n",
    "\n",
    "    if (\"LeNet_300_100\" in model_name):\n",
    "        if (layer == 1):\n",
    "            layer_model = model_archs.LeNet_300_100FC1().cuda()\n",
    "            input = Variable(train_data(fetch = \"data\")[x_start:x_end]).cuda()\n",
    "            output = get_targets(target_dir, temp, [\"fc1.out\"])[\"fc1.out\"][x_start:x_end]\n",
    "        if (layer == 2):\n",
    "            layer_model = model_archs.LeNet_300_100FC2().cuda()\n",
    "            input = nn.ReLU()(get_targets(target_dir, temp, [\"fc2.out\"])[\"fc2.out\"][x_start:x_end])\n",
    "            output = (get_targets(target_dir, temp, [\"fc2.out\"])[\"fc2.out\"][x_start:x_end])\n",
    "        if (layer == 3):\n",
    "            layer_model = model_archs.LeNet_300_100FC3().cuda()\n",
    "            input = nn.ReLU()(get_targets(target_dir, temp, [\"fc3.out\"])[\"fc3.out\"][x_start:x_end])\n",
    "            output = get_targets(target_dir, temp, [\"fc3.out\"])[\"fc3.out\"][x_start:x_end]\n",
    "\n",
    "\n",
    "    dataset = torch.utils.data.TensorDataset(input.data, output.data)\n",
    "    loader = torch.utils.data.DataLoader(dataset=dataset, batch_size=batch_size, shuffle=True)\n",
    "    return layer_model, loader\n",
    "\n",
    "def init_retrain_layer(alpha, beta, tau, temp, mixtures, model_name, data_size, layer, savedir = \"\"):\n",
    "    test_data_full =  Variable(test_data(fetch = \"data\")).cuda()\n",
    "    test_labels_full =  Variable(test_data(fetch = \"labels\")).cuda()\n",
    "    val_data_full =  Variable(search_validation_data(fetch = \"data\")).cuda()\n",
    "    val_labels_full =  Variable(search_validation_data(fetch = \"labels\")).cuda()\n",
    "\n",
    "    model_file = 'mnist_{}_{}_{}'.format(model_name, 100, data_size)\n",
    "    model_orig = torch.load(model_load_dir + model_file + '.m').cuda()\n",
    "\n",
    "    layer_model, loader = get_layer_data(target_dir, temp, layer, model_name, data_size)\n",
    "\n",
    "    model, gmp = retrain_layer(layer_model, model_orig, loader, test_data_full, test_labels_full, alpha, beta, tau, mixtures, temp, data_size, model_dir + model_file)\n",
    "    return model, gmp"
   ]
  },
  {
   "cell_type": "code",
   "execution_count": 3,
   "metadata": {},
   "outputs": [
    {
     "data": {
      "text/plain": [
       "[<matplotlib.lines.Line2D at 0x7f44118ddb00>]"
      ]
     },
     "execution_count": 3,
     "metadata": {},
     "output_type": "execute_result"
    },
    {
     "data": {
      "image/png": "[encoded data removed]",
      "text/plain": [
       "<matplotlib.figure.Figure at 0x7f447c31fa90>"
      ]
     },
     "metadata": {},
     "output_type": "display_data"
    }
   ],
   "source": [
    "def get_init_means(start, end, jump):\n",
    "    numlist = (list(range(-end, -start + 1, jump)) + list(range(start, end + 1, jump)))\n",
    "    return [x/100.0 for x in numlist]\n",
    "    \n",
    "mean_mult = np.array(list(range(retraining_epochs))) - (retraining_epochs-1)/2\n",
    "mean_mult = 5 * mean_mult/mean_mult.max()\n",
    "mean_mult = (0.1 + 0.9 * (1.0/(1.0 + np.exp(mean_mult)))) * 1e-10\n",
    "plt.plot(mean_mult)\n"
   ]
  },
  {
   "cell_type": "code",
   "execution_count": 4,
   "metadata": {
    "scrolled": true
   },
   "outputs": [],
   "source": [
    "\n",
    "mean = 20000\n",
    "var = 2\n",
    "zmean = 20000\n",
    "zvar = 10\n",
    "#means = get_init_means(8, 60, 9)\n",
    "#print (means)\n",
    "mixtures = 15\n",
    "temp = 5\n",
    "tau = 1e-8\n",
    "def layer_exp(mean, var, zmean, zvar, mixtures, temp, tau, layer = 1, loss_type):\n",
    "    data_size = 'search'\n",
    "    model_name = 'LeNet_300_100'\n",
    "\n",
    "    beta = mean/var\n",
    "    alpha = mean * beta\n",
    "    ab = (alpha, beta)\n",
    "    zbeta = zmean/zvar\n",
    "    zalpha = zmean * zbeta\n",
    "    zab = (zalpha, beta)\n",
    "    \n",
    "    #tau_scd = np.array(list(range(retraining_epochs))) - (retraining_epochs-1)/2\n",
    "    #tau_scd = 5 * tau_scd/tau_scd.max()\n",
    "    #tau_scd = (0.1 + 0.9 * (1.0/(1.0 + np.exp(tau_scd)))) * 1e-10\n",
    "\n",
    "    model_file = 'mnist_{}_{}_{}'.format(model_name, 100, data_size)\n",
    "    full_model = torch.load(model_load_dir + model_file + \".m\")\n",
    "\n",
    "    (x_start, x_end) = (25000, 50000)\n",
    "    if(layer == 1):\n",
    "        layer_model = model_archs.LeNet_300_100FC1().cuda()\n",
    "        input = Variable(train_data(fetch = \"data\")[x_start:x_end]).cuda()\n",
    "        output = (get_targets(model_file, 0, [\"fc1.out\"])[\"fc1.out\"][x_start:x_end]).cuda()\n",
    "    if(layer == 2):\n",
    "        layer_model = model_archs.LeNet_300_100FC2().cuda()\n",
    "        input = (get_targets(model_file, 0, [\"fc1.out\"])[\"fc1.out\"][x_start:x_end]).cuda()\n",
    "        input = nn.ReLU()(input)\n",
    "        input = input/temp\n",
    "        output = (get_targets(model_file, 0, [\"fc2.out\"])[\"fc2.out\"][x_start:x_end]).cuda()\n",
    "    #output = (get_targets(model_file, temp, [\"fc1.out\"])[\"fc1.out\"][x_start:x_end]).cuda()\n",
    "    \n",
    "    ###ReLU Check\n",
    "    output = nn.ReLU()(output)\n",
    "    output = nn.Softmax(dim=1)(output/temp)\n",
    "\n",
    "    test_data_full = Variable(test_data(fetch = \"data\")).cuda()\n",
    "    test_labels_full = Variable(test_data(fetch = \"labels\")).cuda()\n",
    "\n",
    "    dataset = torch.utils.data.TensorDataset(input.data, output.data)\n",
    "    loader = torch.utils.data.DataLoader(dataset=dataset, batch_size=batch_size, shuffle=True)\n",
    "\n",
    "    state_dict = copy.deepcopy(layer_model.state_dict())\n",
    "    for layer in state_dict:\n",
    "        state_dict[layer] = full_model.state_dict()[layer]\n",
    "    layer_model.load_state_dict(state_dict)\n",
    "\n",
    "    exp_name = \"{}_a{}_za{}_r{}_t{}_m{}_kdT{}_{}\".format(layer_model.name, ab[0], zab[0], retraining_epochs, tau, int(mixtures), int(temp), data_size)\n",
    "    gmp = GaussianMixturePrior(mixtures, [x for x in layer_model.parameters()], 0.999, zero_ab = (zalpha, zbeta), ab = (alpha, beta), scaling = False)\n",
    "    gmp.print_batch = False\n",
    "    criterion = nn.MSELoss()\n",
    "    opt = torch.optim.Adam([\n",
    "        {'params': layer_model.parameters(), 'lr': 5e-4},\n",
    "        {'params': [gmp.means], 'lr': 3e-4},\n",
    "        {'params': [gmp.gammas, gmp.rhos], 'lr': 3e-3}])#log precisions and mixing proportions\n",
    "\n",
    "    for epoch in range(50):\n",
    "        #mean = mean_mult[epoch]\n",
    "        #mean = 50000\n",
    "        #beta = mean/var\n",
    "        #alpha = mean * beta\n",
    "        #gmp.ab = (alpha, beta)\n",
    "\n",
    "        layer_model, loss = retrain_sws_epoch(layer_model, gmp, opt, criterion, loader, tau, temp, loss_type)\n",
    "\n",
    "        if (trueAfterN(epoch, 10)):\n",
    "            print('Epoch: {}. Loss: {:.2f}'.format(epoch+1, float(loss.data)))\n",
    "            show_sws_weights(model = layer_model, means = list(gmp.means.data.clone().cpu()), precisions = list(gmp.gammas.data.clone().cpu()))\n",
    "            res = layer_accuracy(layer_model, gmp, full_model, test_data_full, test_labels_full)\n",
    "    \n",
    "    res = layer_accuracy(layer_model, gmp, full_model, test_data_full, test_labels_full)\n",
    "    return layer_model, gmp, \"{:.2f}|{:.2f}_{:.2f}|{:.2f}\".format(res[0], res[1], res[2], res[3]) "
   ]
  },
  {
   "cell_type": "code",
   "execution_count": 5,
   "metadata": {
    "collapsed": true
   },
   "outputs": [
    {
     "name": "stdout",
     "output_type": "stream",
     "text": [
      "0-component Mean: 50000.0 Variance: 10.0\n",
      "Non-zero component Mean: 50000.0 Variance: 2.0\n"
     ]
    },
    {
     "ename": "KeyboardInterrupt",
     "evalue": "",
     "output_type": "error",
     "traceback": [
      "\u001b[0;31m---------------------------------------------------------------------------\u001b[0m",
      "\u001b[0;31mKeyboardInterrupt\u001b[0m                         Traceback (most recent call last)",
      "\u001b[0;32m<ipython-input-5-d371ae32ea36>\u001b[0m in \u001b[0;36m<module>\u001b[0;34m()\u001b[0m\n\u001b[0;32m----> 1\u001b[0;31m \u001b[0mlayer_model\u001b[0m\u001b[0;34m,\u001b[0m \u001b[0mgmp\u001b[0m\u001b[0;34m,\u001b[0m \u001b[0mres\u001b[0m \u001b[0;34m=\u001b[0m \u001b[0mlayer_exp\u001b[0m\u001b[0;34m(\u001b[0m\u001b[0;36m50000\u001b[0m\u001b[0;34m,\u001b[0m \u001b[0;36m2\u001b[0m\u001b[0;34m,\u001b[0m \u001b[0;36m50000\u001b[0m\u001b[0;34m,\u001b[0m \u001b[0;36m10\u001b[0m\u001b[0;34m,\u001b[0m \u001b[0;36m15\u001b[0m\u001b[0;34m,\u001b[0m \u001b[0;36m4\u001b[0m\u001b[0;34m,\u001b[0m \u001b[0;36m1e-9\u001b[0m\u001b[0;34m,\u001b[0m \u001b[0;36m1\u001b[0m\u001b[0;34m)\u001b[0m\u001b[0;34m\u001b[0m\u001b[0m\n\u001b[0m\u001b[1;32m      2\u001b[0m \u001b[0mprint\u001b[0m \u001b[0;34m(\u001b[0m\u001b[0mres\u001b[0m\u001b[0;34m)\u001b[0m\u001b[0;34m\u001b[0m\u001b[0m\n",
      "\u001b[0;32m<ipython-input-4-977dd278f4d1>\u001b[0m in \u001b[0;36mlayer_exp\u001b[0;34m(mean, var, zmean, zvar, mixtures, temp, tau, layer)\u001b[0m\n\u001b[1;32m     71\u001b[0m         \u001b[0;31m#gmp.ab = (alpha, beta)\u001b[0m\u001b[0;34m\u001b[0m\u001b[0;34m\u001b[0m\u001b[0m\n\u001b[1;32m     72\u001b[0m \u001b[0;34m\u001b[0m\u001b[0m\n\u001b[0;32m---> 73\u001b[0;31m         \u001b[0mlayer_model\u001b[0m\u001b[0;34m,\u001b[0m \u001b[0mloss\u001b[0m \u001b[0;34m=\u001b[0m \u001b[0mretrain_sws_epoch\u001b[0m\u001b[0;34m(\u001b[0m\u001b[0mlayer_model\u001b[0m\u001b[0;34m,\u001b[0m \u001b[0mgmp\u001b[0m\u001b[0;34m,\u001b[0m \u001b[0mopt\u001b[0m\u001b[0;34m,\u001b[0m \u001b[0mcriterion\u001b[0m\u001b[0;34m,\u001b[0m \u001b[0mloader\u001b[0m\u001b[0;34m,\u001b[0m \u001b[0mtau\u001b[0m\u001b[0;34m,\u001b[0m \u001b[0mtemp\u001b[0m\u001b[0;34m)\u001b[0m\u001b[0;34m\u001b[0m\u001b[0m\n\u001b[0m\u001b[1;32m     74\u001b[0m \u001b[0;34m\u001b[0m\u001b[0m\n\u001b[1;32m     75\u001b[0m         \u001b[0;32mif\u001b[0m \u001b[0;34m(\u001b[0m\u001b[0mtrueAfterN\u001b[0m\u001b[0;34m(\u001b[0m\u001b[0mepoch\u001b[0m\u001b[0;34m,\u001b[0m \u001b[0;36m10\u001b[0m\u001b[0;34m)\u001b[0m\u001b[0;34m)\u001b[0m\u001b[0;34m:\u001b[0m\u001b[0;34m\u001b[0m\u001b[0m\n",
      "\u001b[0;32m~/NNC/NN_compression/src/utils_model.py\u001b[0m in \u001b[0;36mretrain_sws_epoch\u001b[0;34m(model, gmp, optimizer, criterion, train_loader, tau, temp, loss_type)\u001b[0m\n\u001b[1;32m    149\u001b[0m                 \u001b[0;31m#MSE Hidden Activation - no temp - ReLU - MSE Loss - no mult by temp\u001b[0m\u001b[0;34m\u001b[0m\u001b[0;34m\u001b[0m\u001b[0m\n\u001b[1;32m    150\u001b[0m                 \u001b[0;31m#MSE Logit / Hidden No Act - no temp - MSE Loss - no mult by temp\u001b[0m\u001b[0;34m\u001b[0m\u001b[0;34m\u001b[0m\u001b[0m\n\u001b[0;32m--> 151\u001b[0;31m                 \u001b[0mloss\u001b[0m \u001b[0;34m=\u001b[0m \u001b[0mloss_acc\u001b[0m \u001b[0;34m+\u001b[0m \u001b[0mtau\u001b[0m \u001b[0;34m*\u001b[0m \u001b[0mgmp\u001b[0m\u001b[0;34m.\u001b[0m\u001b[0mcall\u001b[0m\u001b[0;34m(\u001b[0m\u001b[0;34m)\u001b[0m\u001b[0;34m\u001b[0m\u001b[0m\n\u001b[0m\u001b[1;32m    152\u001b[0m                 \u001b[0mloss\u001b[0m\u001b[0;34m.\u001b[0m\u001b[0mbackward\u001b[0m\u001b[0;34m(\u001b[0m\u001b[0;34m)\u001b[0m\u001b[0;34m\u001b[0m\u001b[0m\n\u001b[1;32m    153\u001b[0m                 \u001b[0;31m# Updating parameters\u001b[0m\u001b[0;34m\u001b[0m\u001b[0;34m\u001b[0m\u001b[0m\n",
      "\u001b[0;32m~/NNC/NN_compression/src/utils_sws.py\u001b[0m in \u001b[0;36mcall\u001b[0;34m(self, mask)\u001b[0m\n\u001b[1;32m     96\u001b[0m         \u001b[0;32mif\u001b[0m\u001b[0;34m(\u001b[0m\u001b[0mself\u001b[0m\u001b[0;34m.\u001b[0m\u001b[0mprint_batch\u001b[0m\u001b[0;34m)\u001b[0m\u001b[0;34m:\u001b[0m\u001b[0;34m\u001b[0m\u001b[0m\n\u001b[1;32m     97\u001b[0m             \u001b[0mprint\u001b[0m \u001b[0;34m(\u001b[0m\u001b[0;34m\"0-neglogprop Loss: {:.3f}\"\u001b[0m\u001b[0;34m.\u001b[0m\u001b[0mformat\u001b[0m\u001b[0;34m(\u001b[0m\u001b[0mfloat\u001b[0m\u001b[0;34m(\u001b[0m\u001b[0mneglogprop\u001b[0m\u001b[0;34m.\u001b[0m\u001b[0mdata\u001b[0m\u001b[0;34m)\u001b[0m\u001b[0;34m)\u001b[0m\u001b[0;34m)\u001b[0m\u001b[0;34m\u001b[0m\u001b[0m\n\u001b[0;32m---> 98\u001b[0;31m         \u001b[0mloss\u001b[0m \u001b[0;34m=\u001b[0m \u001b[0mloss\u001b[0m \u001b[0;34m+\u001b[0m \u001b[0mneglogprop\u001b[0m\u001b[0;34m.\u001b[0m\u001b[0msum\u001b[0m\u001b[0;34m(\u001b[0m\u001b[0;34m)\u001b[0m\u001b[0;34m\u001b[0m\u001b[0m\n\u001b[0m\u001b[1;32m     99\u001b[0m         \u001b[0;31m# ... and all other component\u001b[0m\u001b[0;34m\u001b[0m\u001b[0;34m\u001b[0m\u001b[0m\n\u001b[1;32m    100\u001b[0m         \u001b[0malpha\u001b[0m\u001b[0;34m,\u001b[0m \u001b[0mbeta\u001b[0m \u001b[0;34m=\u001b[0m \u001b[0mself\u001b[0m\u001b[0;34m.\u001b[0m\u001b[0mab\u001b[0m\u001b[0;34m\u001b[0m\u001b[0m\n",
      "\u001b[0;31mKeyboardInterrupt\u001b[0m: "
     ]
    },
    {
     "name": "stdout",
     "output_type": "stream",
     "text": [
      "> \u001b[0;32m/home/okz21/NNC/NN_compression/src/utils_sws.py\u001b[0m(98)\u001b[0;36mcall\u001b[0;34m()\u001b[0m\n",
      "\u001b[0;32m     96 \u001b[0;31m        \u001b[0;32mif\u001b[0m\u001b[0;34m(\u001b[0m\u001b[0mself\u001b[0m\u001b[0;34m.\u001b[0m\u001b[0mprint_batch\u001b[0m\u001b[0;34m)\u001b[0m\u001b[0;34m:\u001b[0m\u001b[0;34m\u001b[0m\u001b[0m\n",
      "\u001b[0m\u001b[0;32m     97 \u001b[0;31m            \u001b[0mprint\u001b[0m \u001b[0;34m(\u001b[0m\u001b[0;34m\"0-neglogprop Loss: {:.3f}\"\u001b[0m\u001b[0;34m.\u001b[0m\u001b[0mformat\u001b[0m\u001b[0;34m(\u001b[0m\u001b[0mfloat\u001b[0m\u001b[0;34m(\u001b[0m\u001b[0mneglogprop\u001b[0m\u001b[0;34m.\u001b[0m\u001b[0mdata\u001b[0m\u001b[0;34m)\u001b[0m\u001b[0;34m)\u001b[0m\u001b[0;34m)\u001b[0m\u001b[0;34m\u001b[0m\u001b[0m\n",
      "\u001b[0m\u001b[0;32m---> 98 \u001b[0;31m        \u001b[0mloss\u001b[0m \u001b[0;34m=\u001b[0m \u001b[0mloss\u001b[0m \u001b[0;34m+\u001b[0m \u001b[0mneglogprop\u001b[0m\u001b[0;34m.\u001b[0m\u001b[0msum\u001b[0m\u001b[0;34m(\u001b[0m\u001b[0;34m)\u001b[0m\u001b[0;34m\u001b[0m\u001b[0m\n",
      "\u001b[0m\u001b[0;32m     99 \u001b[0;31m        \u001b[0;31m# ... and all other component\u001b[0m\u001b[0;34m\u001b[0m\u001b[0;34m\u001b[0m\u001b[0m\n",
      "\u001b[0m\u001b[0;32m    100 \u001b[0;31m        \u001b[0malpha\u001b[0m\u001b[0;34m,\u001b[0m \u001b[0mbeta\u001b[0m \u001b[0;34m=\u001b[0m \u001b[0mself\u001b[0m\u001b[0;34m.\u001b[0m\u001b[0mab\u001b[0m\u001b[0;34m\u001b[0m\u001b[0m\n",
      "\u001b[0m\n",
      "ipdb> exit\n"
     ]
    }
   ],
   "source": [
    "layer_model, gmp, res = layer_exp(50000, 2, 50000, 10, 15, 4, 1e-9, 1, 'MSEHA')\n",
    "print (res)"
   ]
  },
  {
   "cell_type": "code",
   "execution_count": 22,
   "metadata": {
    "collapsed": true
   },
   "outputs": [
    {
     "name": "stdout",
     "output_type": "stream",
     "text": [
      "Original: 98.26% - Retrain: 97.24% - Prune: 95.52% - Quantize: 94.95% - Sparsity: 97.40%\n"
     ]
    },
    {
     "data": {
      "text/plain": [
       "(97.24, 95.52, 94.95, 97.40382165605097)"
      ]
     },
     "execution_count": 22,
     "metadata": {},
     "output_type": "execute_result"
    }
   ],
   "source": [
    "model_file = 'mnist_{}_{}_{}'.format(model_name, 100, data_size)\n",
    "full_model = torch.load(model_load_dir + model_file + \".m\")\n",
    "layer_accuracy(layer_model, gmp, full_model, test_data_full, test_labels_full)"
   ]
  },
  {
   "cell_type": "code",
   "execution_count": 6,
   "metadata": {},
   "outputs": [],
   "source": [
    "data_size = 'search'\n",
    "model_name = 'LeNet_300_100'\n",
    "model_file = 'mnist_{}_{}_{}'.format(model_name, 100, data_size)\n",
    "\n",
    "test_data_full = Variable(test_data(fetch = \"data\")).cuda()\n",
    "test_labels_full = Variable(test_data(fetch = \"labels\")).cuda()\n",
    "\n",
    "(x_start, x_end) = (40000, 50000)\n",
    "images = Variable(train_data(fetch = \"data\")[x_start:x_end]).cuda()\n",
    "targets = (get_targets(model_file, 0, [\"fc1.out\"])[\"fc1.out\"][x_start:x_end]).cuda()\n",
    "targets = nn.ReLU()(targets)\n",
    "targets = nn.Softmax(dim=1)(targets/temp)\n",
    "\n",
    "forward = layer_model(test_data_full)\n",
    "outputs = nn.LogSoftmax(dim=1)((nn.ReLU()(forward))/temp)\n",
    "loss_soft_target = -torch.mean(torch.sum(targets * outputs, dim=1))"
   ]
  },
  {
   "cell_type": "code",
   "execution_count": 7,
   "metadata": {
    "collapsed": true
   },
   "outputs": [
    {
     "name": "stdout",
     "output_type": "stream",
     "text": [
      "0-component Mean: 20000.0 Variance: 10000.0\n",
      "Non-zero component Mean: 50000.0 Variance: 2.0\n"
     ]
    },
    {
     "ename": "KeyboardInterrupt",
     "evalue": "",
     "output_type": "error",
     "traceback": [
      "\u001b[0;31m---------------------------------------------------------------------------\u001b[0m",
      "\u001b[0;31mKeyboardInterrupt\u001b[0m                         Traceback (most recent call last)",
      "\u001b[0;32m<ipython-input-7-fb3398726ce3>\u001b[0m in \u001b[0;36m<module>\u001b[0;34m()\u001b[0m\n\u001b[1;32m      1\u001b[0m \u001b[0mres_str\u001b[0m \u001b[0;34m=\u001b[0m \u001b[0;34m[\u001b[0m\u001b[0;34m]\u001b[0m\u001b[0;34m\u001b[0m\u001b[0m\n\u001b[0;32m----> 2\u001b[0;31m \u001b[0mres_str\u001b[0m\u001b[0;34m.\u001b[0m\u001b[0mappend\u001b[0m\u001b[0;34m(\u001b[0m\u001b[0mlayer_exp\u001b[0m\u001b[0;34m(\u001b[0m\u001b[0;36m50000\u001b[0m\u001b[0;34m,\u001b[0m \u001b[0;36m2\u001b[0m\u001b[0;34m,\u001b[0m \u001b[0;36m20000\u001b[0m\u001b[0;34m,\u001b[0m \u001b[0;36m10000\u001b[0m\u001b[0;34m,\u001b[0m \u001b[0;36m15\u001b[0m\u001b[0;34m,\u001b[0m \u001b[0;36m4\u001b[0m\u001b[0;34m,\u001b[0m \u001b[0;36m1e-8\u001b[0m\u001b[0;34m)\u001b[0m\u001b[0;34m)\u001b[0m\u001b[0;34m\u001b[0m\u001b[0m\n\u001b[0m\u001b[1;32m      3\u001b[0m \u001b[0mres_str\u001b[0m\u001b[0;34m.\u001b[0m\u001b[0mappend\u001b[0m\u001b[0;34m(\u001b[0m\u001b[0mlayer_exp\u001b[0m\u001b[0;34m(\u001b[0m\u001b[0;36m20000\u001b[0m\u001b[0;34m,\u001b[0m \u001b[0;36m2\u001b[0m\u001b[0;34m,\u001b[0m \u001b[0;36m80000\u001b[0m\u001b[0;34m,\u001b[0m \u001b[0;36m10\u001b[0m\u001b[0;34m,\u001b[0m \u001b[0;36m15\u001b[0m\u001b[0;34m,\u001b[0m \u001b[0;36m5\u001b[0m\u001b[0;34m,\u001b[0m \u001b[0;36m1e-8\u001b[0m\u001b[0;34m)\u001b[0m\u001b[0;34m)\u001b[0m\u001b[0;34m\u001b[0m\u001b[0m\n\u001b[1;32m      4\u001b[0m \u001b[0mfin\u001b[0m \u001b[0;34m=\u001b[0m \u001b[0;34m\"\\n\"\u001b[0m\u001b[0;34m.\u001b[0m\u001b[0mjoin\u001b[0m\u001b[0;34m(\u001b[0m\u001b[0mres_str\u001b[0m\u001b[0;34m)\u001b[0m\u001b[0;34m\u001b[0m\u001b[0m\n\u001b[1;32m      5\u001b[0m \u001b[0mfin\u001b[0m\u001b[0;34m\u001b[0m\u001b[0m\n",
      "\u001b[0;32m<ipython-input-5-6cbb7ba4a3cf>\u001b[0m in \u001b[0;36mlayer_exp\u001b[0;34m(mean, var, zmean, zvar, mixtures, temp, tau)\u001b[0m\n\u001b[1;32m     52\u001b[0m         \u001b[0;31m#gmp.ab = (alpha, beta)\u001b[0m\u001b[0;34m\u001b[0m\u001b[0;34m\u001b[0m\u001b[0m\n\u001b[1;32m     53\u001b[0m \u001b[0;34m\u001b[0m\u001b[0m\n\u001b[0;32m---> 54\u001b[0;31m         \u001b[0mlayer_model\u001b[0m\u001b[0;34m,\u001b[0m \u001b[0mloss\u001b[0m \u001b[0;34m=\u001b[0m \u001b[0mretrain_sws_epoch\u001b[0m\u001b[0;34m(\u001b[0m\u001b[0mlayer_model\u001b[0m\u001b[0;34m,\u001b[0m \u001b[0mgmp\u001b[0m\u001b[0;34m,\u001b[0m \u001b[0mopt\u001b[0m\u001b[0;34m,\u001b[0m \u001b[0mcriterion\u001b[0m\u001b[0;34m,\u001b[0m \u001b[0mloader\u001b[0m\u001b[0;34m,\u001b[0m \u001b[0mtau\u001b[0m\u001b[0;34m,\u001b[0m \u001b[0mtemp\u001b[0m\u001b[0;34m)\u001b[0m\u001b[0;34m\u001b[0m\u001b[0m\n\u001b[0m\u001b[1;32m     55\u001b[0m \u001b[0;34m\u001b[0m\u001b[0m\n\u001b[1;32m     56\u001b[0m         \u001b[0;32mif\u001b[0m \u001b[0;34m(\u001b[0m\u001b[0mtrueAfterN\u001b[0m\u001b[0;34m(\u001b[0m\u001b[0mepoch\u001b[0m\u001b[0;34m,\u001b[0m \u001b[0;36m25\u001b[0m\u001b[0;34m)\u001b[0m\u001b[0;34m)\u001b[0m\u001b[0;34m:\u001b[0m\u001b[0;34m\u001b[0m\u001b[0m\n",
      "\u001b[0;32m~/NNC/NN_compression/src/utils_model.py\u001b[0m in \u001b[0;36mretrain_sws_epoch\u001b[0;34m(model, gmp, optimizer, criterion, train_loader, tau, temp)\u001b[0m\n\u001b[1;32m    126\u001b[0m                         \u001b[0;31m#MSE Loss\u001b[0m\u001b[0;34m\u001b[0m\u001b[0;34m\u001b[0m\u001b[0m\n\u001b[1;32m    127\u001b[0m                         \u001b[0moutputs\u001b[0m \u001b[0;34m=\u001b[0m \u001b[0mnn\u001b[0m\u001b[0;34m.\u001b[0m\u001b[0mSoftmax\u001b[0m\u001b[0;34m(\u001b[0m\u001b[0mdim\u001b[0m\u001b[0;34m=\u001b[0m\u001b[0;36m1\u001b[0m\u001b[0;34m)\u001b[0m\u001b[0;34m(\u001b[0m\u001b[0mmodel\u001b[0m\u001b[0;34m(\u001b[0m\u001b[0mimages\u001b[0m\u001b[0;34m)\u001b[0m\u001b[0;34m/\u001b[0m\u001b[0mtemp\u001b[0m\u001b[0;34m)\u001b[0m\u001b[0;34m\u001b[0m\u001b[0m\n\u001b[0;32m--> 128\u001b[0;31m                         \u001b[0mloss\u001b[0m \u001b[0;34m=\u001b[0m \u001b[0mnn\u001b[0m\u001b[0;34m.\u001b[0m\u001b[0mMSELoss\u001b[0m\u001b[0;34m(\u001b[0m\u001b[0;34m)\u001b[0m\u001b[0;34m(\u001b[0m\u001b[0moutputs\u001b[0m\u001b[0;34m,\u001b[0m \u001b[0mtargets\u001b[0m\u001b[0;34m)\u001b[0m \u001b[0;34m*\u001b[0m \u001b[0;34m(\u001b[0m\u001b[0mtemp\u001b[0m\u001b[0;34m**\u001b[0m\u001b[0;36m2\u001b[0m\u001b[0;34m)\u001b[0m \u001b[0;34m+\u001b[0m \u001b[0mtau\u001b[0m \u001b[0;34m*\u001b[0m \u001b[0mgmp\u001b[0m\u001b[0;34m.\u001b[0m\u001b[0mcall\u001b[0m\u001b[0;34m(\u001b[0m\u001b[0;34m)\u001b[0m\u001b[0;34m\u001b[0m\u001b[0m\n\u001b[0m\u001b[1;32m    129\u001b[0m \u001b[0;34m\u001b[0m\u001b[0m\n\u001b[1;32m    130\u001b[0m                 \u001b[0;31m# Calculate Loss: softmax --> cross entropy loss\u001b[0m\u001b[0;34m\u001b[0m\u001b[0;34m\u001b[0m\u001b[0m\n",
      "\u001b[0;32m~/NNC/NN_compression/src/utils_sws.py\u001b[0m in \u001b[0;36mcall\u001b[0;34m(self, mask)\u001b[0m\n\u001b[1;32m     82\u001b[0m                 \u001b[0mweight_loss\u001b[0m \u001b[0;34m=\u001b[0m \u001b[0mself\u001b[0m\u001b[0;34m.\u001b[0m\u001b[0mcompute_loss\u001b[0m\u001b[0;34m(\u001b[0m\u001b[0mweights\u001b[0m \u001b[0;34m/\u001b[0m \u001b[0mself\u001b[0m\u001b[0;34m.\u001b[0m\u001b[0mscale\u001b[0m\u001b[0;34m[\u001b[0m\u001b[0mint\u001b[0m\u001b[0;34m(\u001b[0m\u001b[0mi\u001b[0m\u001b[0;34m/\u001b[0m\u001b[0;36m2\u001b[0m\u001b[0;34m)\u001b[0m\u001b[0;34m]\u001b[0m\u001b[0;34m.\u001b[0m\u001b[0mexp\u001b[0m\u001b[0;34m(\u001b[0m\u001b[0;34m)\u001b[0m\u001b[0;34m,\u001b[0m \u001b[0mmixing_proportions\u001b[0m\u001b[0;34m,\u001b[0m \u001b[0mmeans\u001b[0m\u001b[0;34m,\u001b[0m \u001b[0mprecision\u001b[0m\u001b[0;34m)\u001b[0m\u001b[0;34m\u001b[0m\u001b[0m\n\u001b[1;32m     83\u001b[0m             \u001b[0;32melse\u001b[0m\u001b[0;34m:\u001b[0m\u001b[0;34m\u001b[0m\u001b[0m\n\u001b[0;32m---> 84\u001b[0;31m                 \u001b[0mweight_loss\u001b[0m \u001b[0;34m=\u001b[0m \u001b[0mself\u001b[0m\u001b[0;34m.\u001b[0m\u001b[0mcompute_loss\u001b[0m\u001b[0;34m(\u001b[0m\u001b[0mweights\u001b[0m\u001b[0;34m,\u001b[0m \u001b[0mmixing_proportions\u001b[0m\u001b[0;34m,\u001b[0m \u001b[0mmeans\u001b[0m\u001b[0;34m,\u001b[0m \u001b[0mprecision\u001b[0m\u001b[0;34m)\u001b[0m\u001b[0;34m\u001b[0m\u001b[0m\n\u001b[0m\u001b[1;32m     85\u001b[0m             \u001b[0;32mif\u001b[0m\u001b[0;34m(\u001b[0m\u001b[0mself\u001b[0m\u001b[0;34m.\u001b[0m\u001b[0mprint_batch\u001b[0m\u001b[0;34m)\u001b[0m\u001b[0;34m:\u001b[0m\u001b[0;34m\u001b[0m\u001b[0m\n\u001b[1;32m     86\u001b[0m                 \u001b[0mprint\u001b[0m \u001b[0;34m(\u001b[0m\u001b[0;34m\"Layer Loss: {:.3f}\"\u001b[0m\u001b[0;34m.\u001b[0m\u001b[0mformat\u001b[0m\u001b[0;34m(\u001b[0m\u001b[0mfloat\u001b[0m\u001b[0;34m(\u001b[0m\u001b[0mweight_loss\u001b[0m\u001b[0;34m.\u001b[0m\u001b[0mdata\u001b[0m\u001b[0;34m)\u001b[0m\u001b[0;34m)\u001b[0m\u001b[0;34m)\u001b[0m\u001b[0;34m\u001b[0m\u001b[0m\n",
      "\u001b[0;32m~/NNC/NN_compression/src/utils_sws.py\u001b[0m in \u001b[0;36mcompute_loss\u001b[0;34m(self, weights, mixing_proportions, means, precision)\u001b[0m\n\u001b[1;32m    108\u001b[0m \u001b[0;34m\u001b[0m\u001b[0m\n\u001b[1;32m    109\u001b[0m     \u001b[0;32mdef\u001b[0m \u001b[0mcompute_loss\u001b[0m\u001b[0;34m(\u001b[0m\u001b[0mself\u001b[0m\u001b[0;34m,\u001b[0m \u001b[0mweights\u001b[0m\u001b[0;34m,\u001b[0m \u001b[0mmixing_proportions\u001b[0m\u001b[0;34m,\u001b[0m \u001b[0mmeans\u001b[0m\u001b[0;34m,\u001b[0m \u001b[0mprecision\u001b[0m\u001b[0;34m)\u001b[0m\u001b[0;34m:\u001b[0m\u001b[0;34m\u001b[0m\u001b[0m\n\u001b[0;32m--> 110\u001b[0;31m         \u001b[0mdiff\u001b[0m \u001b[0;34m=\u001b[0m \u001b[0mweights\u001b[0m\u001b[0;34m.\u001b[0m\u001b[0mexpand\u001b[0m\u001b[0;34m(\u001b[0m\u001b[0mmeans\u001b[0m\u001b[0;34m.\u001b[0m\u001b[0msize\u001b[0m\u001b[0;34m(\u001b[0m\u001b[0;36m0\u001b[0m\u001b[0;34m)\u001b[0m\u001b[0;34m,\u001b[0m \u001b[0;34m-\u001b[0m\u001b[0;36m1\u001b[0m\u001b[0;34m)\u001b[0m \u001b[0;34m-\u001b[0m \u001b[0mmeans\u001b[0m\u001b[0;34m.\u001b[0m\u001b[0mexpand\u001b[0m\u001b[0;34m(\u001b[0m\u001b[0mweights\u001b[0m\u001b[0;34m.\u001b[0m\u001b[0msize\u001b[0m\u001b[0;34m(\u001b[0m\u001b[0;36m0\u001b[0m\u001b[0;34m)\u001b[0m\u001b[0;34m,\u001b[0m \u001b[0;34m-\u001b[0m\u001b[0;36m1\u001b[0m\u001b[0;34m)\u001b[0m\u001b[0;34m.\u001b[0m\u001b[0mt\u001b[0m\u001b[0;34m(\u001b[0m\u001b[0;34m)\u001b[0m\u001b[0;34m\u001b[0m\u001b[0m\n\u001b[0m\u001b[1;32m    111\u001b[0m         \u001b[0munnormalized_log_likelihood\u001b[0m \u001b[0;34m=\u001b[0m \u001b[0;34m(\u001b[0m\u001b[0;34m-\u001b[0m\u001b[0;34m(\u001b[0m\u001b[0mdiff\u001b[0m \u001b[0;34m**\u001b[0m \u001b[0;36m2\u001b[0m\u001b[0;34m)\u001b[0m\u001b[0;34m/\u001b[0m\u001b[0;36m2\u001b[0m\u001b[0;34m)\u001b[0m\u001b[0;34m.\u001b[0m\u001b[0mt\u001b[0m\u001b[0;34m(\u001b[0m\u001b[0;34m)\u001b[0m \u001b[0;34m*\u001b[0m \u001b[0mprecision\u001b[0m\u001b[0;34m\u001b[0m\u001b[0m\n\u001b[1;32m    112\u001b[0m         \u001b[0;31m#unnormalized_log_likelihood = (-1/2) * precision.matmul((diff ** 2))\u001b[0m\u001b[0;34m\u001b[0m\u001b[0;34m\u001b[0m\u001b[0m\n",
      "\u001b[0;31mKeyboardInterrupt\u001b[0m: "
     ]
    },
    {
     "data": {
      "application/javascript": [
       "$(document).ready(\n",
       "    function() {\n",
       "        function appendUniqueDiv(){\n",
       "            // append a div with our uuid so we can check that it's already\n",
       "            // been sent and avoid duplicates on page reload\n",
       "            var notifiedDiv = document.createElement(\"div\")\n",
       "            notifiedDiv.id = \"f1286795-0ce6-47a1-b058-525779b5e05b\"\n",
       "            element.append(notifiedDiv)\n",
       "        }\n",
       "\n",
       "        // only send notifications if the pageload is complete; this will\n",
       "        // help stop extra notifications when a saved notebook is loaded,\n",
       "        // which during testing gives us state \"interactive\", not \"complete\"\n",
       "        if (document.readyState === 'complete') {\n",
       "            // check for the div that signifies that the notification\n",
       "            // was already sent\n",
       "            if (document.getElementById(\"f1286795-0ce6-47a1-b058-525779b5e05b\") === null) {\n",
       "                var notificationPayload = {\"body\": \"Cell execution has finished!\", \"icon\": \"/static/base/images/favicon.ico\", \"requireInteraction\": false};\n",
       "                if (Notification.permission !== 'denied') {\n",
       "                    if (Notification.permission !== 'granted') { \n",
       "                        Notification.requestPermission(function (permission) {\n",
       "                            if(!('permission' in Notification)) {\n",
       "                                Notification.permission = permission\n",
       "                            }\n",
       "                        })\n",
       "                    }\n",
       "                    if (Notification.permission === 'granted') {\n",
       "                    var notification = new Notification(\"Jupyter Notebook\", notificationPayload)\n",
       "                    appendUniqueDiv()\n",
       "                    notification.onclick = function () {\n",
       "                        window.focus();\n",
       "                        this.close();\n",
       "                        };\n",
       "                    } \n",
       "                }     \n",
       "            }\n",
       "        }\n",
       "    }\n",
       ")\n"
      ],
      "text/plain": [
       "<IPython.core.display.Javascript object>"
      ]
     },
     "metadata": {},
     "output_type": "display_data"
    }
   ],
   "source": [
    "%%notify\n",
    "res_str = []\n",
    "res_str.append(layer_exp(50000, 2, 20000, 10000, 15, 4, 1e-8))\n",
    "res_str.append(layer_exp(20000, 2, 80000, 10, 15, 5, 1e-8))\n",
    "fin = \"\\n\".join(res_str)\n",
    "fin"
   ]
  }
 ],
 "metadata": {
  "kernelspec": {
   "display_name": "Python [conda env:py35]",
   "language": "python",
   "name": "conda-env-py35-py"
  },
  "language_info": {
   "codemirror_mode": {
    "name": "ipython",
    "version": 3
   },
   "file_extension": ".py",
   "mimetype": "text/x-python",
   "name": "python",
   "nbconvert_exporter": "python",
   "pygments_lexer": "ipython3",
   "version": "3.5.4"
  }
 },
 "nbformat": 4,
 "nbformat_minor": 2
}
