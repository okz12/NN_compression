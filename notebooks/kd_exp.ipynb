{
 "cells": [
  {
   "cell_type": "code",
   "execution_count": 1,
   "metadata": {},
   "outputs": [
    {
     "data": {
      "text/html": [
       "<style>.container { width:95% !important; }</style>"
      ],
      "text/plain": [
       "<IPython.core.display.HTML object>"
      ]
     },
     "metadata": {},
     "output_type": "display_data"
    },
    {
     "data": {
      "application/javascript": [
       "if (!(\"Notification\" in window)) {\n",
       "    alert(\"This browser does not support desktop notifications, so the %%notify magic will not work.\");\n",
       "} else if (Notification.permission !== 'granted' && Notification.permission !== 'denied') {\n",
       "    Notification.requestPermission(function (permission) {\n",
       "        if(!('permission' in Notification)) {\n",
       "            Notification.permission = permission;\n",
       "        }\n",
       "    })\n",
       "}\n"
      ],
      "text/plain": [
       "<IPython.core.display.Javascript object>"
      ]
     },
     "metadata": {},
     "output_type": "display_data"
    }
   ],
   "source": [
    "#Expand notebook to take full screen width\n",
    "from IPython.core.display import display, HTML\n",
    "display(HTML(\"<style>.container { width:95% !important; }</style>\"))\n",
    "\n",
    "#Jupyter magic to notify when a cell finishes execution with %%notify command -- does not work with Jupyterlab\n",
    "import jupyternotify\n",
    "ip = get_ipython()\n",
    "ip.register_magics(jupyternotify.JupyterNotifyMagics)\n",
    "\n",
    "###\n",
    "import sys\n",
    "sys.path.insert(0,'../src/')\n",
    "\n",
    "%load_ext autoreload\n",
    "%autoreload 2"
   ]
  },
  {
   "cell_type": "code",
   "execution_count": 7,
   "metadata": {},
   "outputs": [],
   "source": [
    "#execution example: python retrain.py --model SWSModel --alpha 2500 --beta 10 --tau 1e-6 --mixtures 8 --temp 10\n",
    "import torch\n",
    "import torch.nn as nn\n",
    "import torchvision.transforms as transforms\n",
    "import torchvision.datasets as dsets\n",
    "from torch.nn.modules import Module\n",
    "from torch.autograd import Variable\n",
    "import numpy as np\n",
    "\n",
    "import model_archs\n",
    "from utils_plot import show_sws_weights, show_weights, print_dims, prune_plot, draw_sws_graphs, joint_plot\n",
    "from utils_model import test_accuracy, train_epoch, retrain_sws_epoch, model_prune, get_weight_penalty\n",
    "from utils_misc import trueAfterN, logsumexp, root_dir, model_load_dir\n",
    "from utils_sws import GaussianMixturePrior, special_flatten, KL, compute_responsibilies, merger, sws_prune, sws_prune_l2\n",
    "from mnist_loader import search_train_data, search_retrain_data, search_validation_data, train_data, test_data, batch_size\n",
    "import copy\n",
    "import pickle\n",
    "import argparse\n",
    "retraining_epochs = 50\n",
    "\n",
    "def retrain_model(alpha, beta, tau, temp, mixtures, model_name, data_size, lr, model_save_dir = \"\", scaling = False):\n",
    "    if(data_size == 'search'):\n",
    "        train_dataset = search_retrain_data\n",
    "        val_data_full = Variable(search_validation_data(fetch='data')).cuda()\n",
    "        val_labels_full = Variable(search_validation_data(fetch='labels')).cuda()\n",
    "        (x_start, x_end) = (40000, 50000)\n",
    "    if(data_size == 'full'):\n",
    "        train_dataset = train_data\n",
    "        (x_start, x_end) = (0, 60000)\n",
    "    test_data_full = Variable(test_data(fetch='data')).cuda()\n",
    "    test_labels_full = Variable(test_data(fetch='labels')).cuda()\n",
    "        \n",
    "    model_file = 'mnist_{}_{}_{}'.format(model_name, 100, data_size)\n",
    "    model = torch.load(model_load_dir + model_file + '.m').cuda()\n",
    "        \n",
    "    if temp == 0:\n",
    "        criterion = nn.CrossEntropyLoss()\n",
    "        loader = torch.utils.data.DataLoader(dataset=train_dataset(), batch_size=batch_size, shuffle=True)\n",
    "        temp_mult = 1\n",
    "    else:\n",
    "        criterion = nn.MSELoss()\n",
    "        output = torch.load(\"{}{}_targets/{}.out.m\".format(model_load_dir, model_file.replace(\"search\", \"full\"), \"fc2\"))[x_start:x_end]#.data / float(temp)\n",
    "        output = (nn.Softmax(dim=1)(output/temp)).data\n",
    "        dataset = torch.utils.data.TensorDataset(train_dataset(fetch='data'), output)\n",
    "        loader = torch.utils.data.DataLoader(dataset=dataset, batch_size=batch_size, shuffle=True)\n",
    "        #new_model = model_archs.SWSModelKD().cuda()\n",
    "        #new_model.load_state_dict(model.state_dict())\n",
    "        #del model\n",
    "        #model = new_model\n",
    "        temp_mult = temp ** 2\n",
    "\n",
    "    exp_name = \"{}_a{}_b{}_r{}_t{}_m{}_kdT{}_{}\".format(model.name, alpha, beta, retraining_epochs, tau, int(mixtures), int(temp), data_size)\n",
    "    gmp = GaussianMixturePrior(mixtures, [x for x in model.parameters()], 0.99, ab = (alpha, beta), scaling = scaling)\n",
    "    gmp.print_batch = False\n",
    "\n",
    "    opt = torch.optim.Adam([\n",
    "        {'params': model.parameters(), 'lr': lr[0]},\n",
    "        {'params': [gmp.means], 'lr': lr[1]},\n",
    "        {'params': [gmp.gammas, gmp.rhos], 'lr': lr[2]}])#log precisions and mixing proportions\n",
    "\n",
    "    for epoch in range(retraining_epochs):\n",
    "        model, loss = retrain_sws_epoch(model, gmp, opt, criterion, loader, tau, temp_mult)\n",
    "\n",
    "        if (trueAfterN(epoch, 25)):\n",
    "            ###\n",
    "            #show_sws_weights(model = model, means = list(gmp.means.data.clone().cpu()), precisions = list(gmp.gammas.data.clone().cpu()), epoch = epoch)\n",
    "            test_acc = test_accuracy(test_data_full, test_labels_full, model)\n",
    "            print('Epoch: {}. Test Accuracy: {:.2f}'.format(epoch+1, test_acc[0]))\n",
    "    if(model_save_dir!=\"\"):\n",
    "        torch.save(model, model_save_dir + '/mnist_retrain_{}.m'.format(exp_name))\n",
    "        with open(model_save_dir + '/mnist_retrain_{}_gmp.p'.format(exp_name),'wb') as f:\n",
    "            pickle.dump(gmp, f)\n",
    "    \n",
    "    test_accuracy_pre = float((test_accuracy(test_data_full, test_labels_full, model)[0]))\n",
    "    val_accuracy_pre = 0 if (data_size != 'search') else float((test_accuracy(val_data_full, val_labels_full, model)[0]))\n",
    "    \n",
    "    model_prune = copy.deepcopy(model)\n",
    "    model_prune.load_state_dict(sws_prune_l2(model_prune, gmp))\n",
    "    prune_acc = (test_accuracy(test_data_full, test_labels_full, model_prune))\n",
    "    test_accuracy_prune = float((test_accuracy(test_data_full, test_labels_full, model_prune)[0]))\n",
    "    val_accuracy = 0 if (data_size != 'search') else float((test_accuracy(val_data_full, val_labels_full, model_prune)[0]))\n",
    "    sparsity = (special_flatten(model_prune.state_dict())==0).sum()/(special_flatten(model_prune.state_dict())>0).numel() * 100\n",
    "    print('Retrain Test: {:.2f}, Retrain Validation: {:.2f}, Prune Test: {:.2f}, Prune Validation: {:.2f}, Prune Sparsity: {:.2f}'\n",
    "          .format(test_accuracy_pre, val_accuracy_pre, test_accuracy_prune, val_accuracy, sparsity))\n",
    "    \n",
    "        \n",
    "    return model, gmp"
   ]
  },
  {
   "cell_type": "markdown",
   "metadata": {},
   "source": [
    "### Measuring Variance in Results"
   ]
  },
  {
   "cell_type": "code",
   "execution_count": 12,
   "metadata": {},
   "outputs": [
    {
     "name": "stdout",
     "output_type": "stream",
     "text": [
      "exp:240 mean: 0.10181517217181825, var: 0.1034304555503225, tau: 6.479230606842127e-07, temp: 19.0, mixtures: 9\n"
     ]
    }
   ],
   "source": [
    "with open(\"../search/sobol_search.p\", \"rb\") as handle:\n",
    "    params = pickle.load(handle)\n",
    "i = 240\n",
    "print (\"exp:{} mean: {}, var: {}, tau: {}, temp: {}, mixtures: {}\".format(i, params['mean'][i], params['var'][i], params['tau'][i], params['temp'][i], int(params['mixtures'][i])))\n",
    "mean = float(params['mean'][i])\n",
    "var = float(params['var'][i])\n",
    "beta = mean/var\n",
    "alpha = mean * beta"
   ]
  },
  {
   "cell_type": "code",
   "execution_count": 9,
   "metadata": {},
   "outputs": [
    {
     "name": "stdout",
     "output_type": "stream",
     "text": [
      "0-component Mean: 2500.0 Variance: 1250.0\n",
      "Non-zero component Mean: 0.10181517217181825 Variance: 0.1034304555503225\n",
      "Epoch: 25. Test Accuracy: 98.63\n",
      "Epoch: 50. Test Accuracy: 98.70\n",
      "Retrain Test: 98.70, Retrain Validation: 98.52, Prune Test: 98.66, Prune Validation: 98.41, Prune Sparsity: 70.09\n",
      "0-component Mean: 2500.0 Variance: 1250.0\n",
      "Non-zero component Mean: 0.10181517217181825 Variance: 0.1034304555503225\n",
      "Epoch: 25. Test Accuracy: 98.74\n",
      "Epoch: 50. Test Accuracy: 98.69\n",
      "Retrain Test: 98.69, Retrain Validation: 98.67, Prune Test: 98.44, Prune Validation: 98.37, Prune Sparsity: 71.17\n",
      "0-component Mean: 2500.0 Variance: 1250.0\n",
      "Non-zero component Mean: 0.10181517217181825 Variance: 0.1034304555503225\n",
      "Epoch: 25. Test Accuracy: 98.80\n",
      "Epoch: 50. Test Accuracy: 98.70\n",
      "Retrain Test: 98.70, Retrain Validation: 98.57, Prune Test: 98.64, Prune Validation: 98.44, Prune Sparsity: 68.92\n",
      "0-component Mean: 2500.0 Variance: 1250.0\n",
      "Non-zero component Mean: 0.10181517217181825 Variance: 0.1034304555503225\n",
      "Epoch: 25. Test Accuracy: 98.85\n",
      "Epoch: 50. Test Accuracy: 98.73\n",
      "Retrain Test: 98.73, Retrain Validation: 98.59, Prune Test: 98.54, Prune Validation: 98.51, Prune Sparsity: 69.48\n",
      "0-component Mean: 2500.0 Variance: 1250.0\n",
      "Non-zero component Mean: 0.10181517217181825 Variance: 0.1034304555503225\n",
      "Epoch: 25. Test Accuracy: 98.74\n",
      "Epoch: 50. Test Accuracy: 98.71\n",
      "Retrain Test: 98.71, Retrain Validation: 98.71, Prune Test: 98.60, Prune Validation: 98.56, Prune Sparsity: 69.71\n",
      "0-component Mean: 2500.0 Variance: 1250.0\n",
      "Non-zero component Mean: 0.10181517217181825 Variance: 0.1034304555503225\n",
      "Epoch: 25. Test Accuracy: 98.71\n",
      "Epoch: 50. Test Accuracy: 98.71\n",
      "Retrain Test: 98.71, Retrain Validation: 98.69, Prune Test: 98.53, Prune Validation: 98.50, Prune Sparsity: 70.00\n",
      "0-component Mean: 2500.0 Variance: 1250.0\n",
      "Non-zero component Mean: 0.10181517217181825 Variance: 0.1034304555503225\n",
      "Epoch: 25. Test Accuracy: 98.77\n",
      "Epoch: 50. Test Accuracy: 98.20\n",
      "Retrain Test: 98.20, Retrain Validation: 98.45, Prune Test: 98.17, Prune Validation: 98.16, Prune Sparsity: 70.96\n",
      "0-component Mean: 2500.0 Variance: 1250.0\n",
      "Non-zero component Mean: 0.10181517217181825 Variance: 0.1034304555503225\n",
      "Epoch: 25. Test Accuracy: 98.66\n",
      "Epoch: 50. Test Accuracy: 98.52\n",
      "Retrain Test: 98.52, Retrain Validation: 98.63, Prune Test: 98.46, Prune Validation: 98.51, Prune Sparsity: 68.64\n",
      "0-component Mean: 2500.0 Variance: 1250.0\n",
      "Non-zero component Mean: 0.10181517217181825 Variance: 0.1034304555503225\n",
      "Epoch: 25. Test Accuracy: 98.73\n",
      "Epoch: 50. Test Accuracy: 98.70\n",
      "Retrain Test: 98.70, Retrain Validation: 98.53, Prune Test: 98.43, Prune Validation: 98.34, Prune Sparsity: 71.36\n",
      "0-component Mean: 2500.0 Variance: 1250.0\n",
      "Non-zero component Mean: 0.10181517217181825 Variance: 0.1034304555503225\n",
      "Epoch: 25. Test Accuracy: 98.69\n",
      "Epoch: 50. Test Accuracy: 98.78\n",
      "Retrain Test: 98.78, Retrain Validation: 98.61, Prune Test: 98.48, Prune Validation: 98.23, Prune Sparsity: 69.79\n"
     ]
    }
   ],
   "source": [
    "for j in range(0,10):\n",
    "    _, _ = retrain_model(alpha, beta, float(params['tau'][i]), params['temp'][i], int(params['mixtures'][i]), 'SWSModel', 'search', (5e-4, 1e-4, 3e-3), \"\", False)"
   ]
  },
  {
   "cell_type": "markdown",
   "metadata": {},
   "source": [
    "### Running over full dataset"
   ]
  },
  {
   "cell_type": "markdown",
   "metadata": {},
   "source": [
    "#### Search 10K Parameters"
   ]
  },
  {
   "cell_type": "code",
   "execution_count": 14,
   "metadata": {},
   "outputs": [
    {
     "name": "stdout",
     "output_type": "stream",
     "text": [
      "0-component Mean: 2500.0 Variance: 1250.0\n",
      "Non-zero component Mean: 0.10181517217181825 Variance: 0.1034304555503225\n",
      "Epoch: 25. Test Accuracy: 98.63\n",
      "Epoch: 50. Test Accuracy: 98.67\n",
      "Retrain Test: 98.67, Retrain Validation: 98.74, Prune Test: 98.63, Prune Validation: 98.56, Prune Sparsity: 70.45\n"
     ]
    }
   ],
   "source": [
    "model, gmp = retrain_model(alpha, beta, float(params['tau'][i]), params['temp'][i], int(params['mixtures'][i]), 'SWSModel', 'search', (5e-4, 1e-4, 3e-3), \"\", False)"
   ]
  },
  {
   "cell_type": "markdown",
   "metadata": {},
   "source": [
    "#### Full 60K Parameters"
   ]
  },
  {
   "cell_type": "code",
   "execution_count": 15,
   "metadata": {},
   "outputs": [
    {
     "name": "stdout",
     "output_type": "stream",
     "text": [
      "0-component Mean: 2500.0 Variance: 1250.0\n",
      "Non-zero component Mean: 0.10181517217181825 Variance: 0.1034304555503225\n",
      "Epoch: 25. Test Accuracy: 98.89\n",
      "Epoch: 50. Test Accuracy: 98.94\n",
      "Retrain Test: 98.94, Retrain Validation: 0.00, Prune Test: 98.75, Prune Validation: 0.00, Prune Sparsity: 79.67\n"
     ]
    }
   ],
   "source": [
    "model, gmp = retrain_model(alpha, beta, float(params['tau'][i]), params['temp'][i], int(params['mixtures'][i]), 'SWSModel', 'full', (5e-4, 1e-4, 3e-3), \"\", False)"
   ]
  },
  {
   "cell_type": "markdown",
   "metadata": {},
   "source": [
    "#### Search 10K Parameters w/ Scaling"
   ]
  },
  {
   "cell_type": "code",
   "execution_count": 16,
   "metadata": {},
   "outputs": [
    {
     "name": "stdout",
     "output_type": "stream",
     "text": [
      "0-component Mean: 2500.0 Variance: 1250.0\n",
      "Non-zero component Mean: 0.10181517217181825 Variance: 0.1034304555503225\n",
      "Epoch: 25. Test Accuracy: 98.74\n",
      "Epoch: 50. Test Accuracy: 98.55\n",
      "Retrain Test: 98.55, Retrain Validation: 98.50, Prune Test: 98.52, Prune Validation: 98.41, Prune Sparsity: 71.14\n"
     ]
    }
   ],
   "source": [
    "model, gmp = retrain_model(alpha, beta, float(params['tau'][i]), params['temp'][i], int(params['mixtures'][i]), 'SWSModel', 'search', (5e-4, 1e-4, 3e-3), \"\", True)"
   ]
  },
  {
   "cell_type": "markdown",
   "metadata": {},
   "source": [
    "#### Full 60K Parameters w/ Scaling"
   ]
  },
  {
   "cell_type": "code",
   "execution_count": 17,
   "metadata": {},
   "outputs": [
    {
     "name": "stdout",
     "output_type": "stream",
     "text": [
      "0-component Mean: 2500.0 Variance: 1250.0\n",
      "Non-zero component Mean: 0.10181517217181825 Variance: 0.1034304555503225\n",
      "Epoch: 25. Test Accuracy: 98.79\n",
      "Epoch: 50. Test Accuracy: 99.00\n",
      "Retrain Test: 99.00, Retrain Validation: 0.00, Prune Test: 98.51, Prune Validation: 0.00, Prune Sparsity: 78.08\n"
     ]
    }
   ],
   "source": [
    "model, gmp = retrain_model(alpha, beta, float(params['tau'][i]), params['temp'][i], int(params['mixtures'][i]), 'SWSModel', 'full', (5e-4, 1e-4, 3e-3), \"\", True)"
   ]
  }
 ],
 "metadata": {
  "kernelspec": {
   "display_name": "Python [conda env:py35]",
   "language": "python",
   "name": "conda-env-py35-py"
  },
  "language_info": {
   "codemirror_mode": {
    "name": "ipython",
    "version": 3
   },
   "file_extension": ".py",
   "mimetype": "text/x-python",
   "name": "python",
   "nbconvert_exporter": "python",
   "pygments_lexer": "ipython3",
   "version": "3.5.4"
  }
 },
 "nbformat": 4,
 "nbformat_minor": 2
}
