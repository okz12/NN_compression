{
 "cells": [
  {
   "cell_type": "code",
   "execution_count": 1,
   "metadata": {},
   "outputs": [
    {
     "data": {
      "text/html": [
       "<style>.container { width:95% !important; }</style>"
      ],
      "text/plain": [
       "<IPython.core.display.HTML object>"
      ]
     },
     "metadata": {},
     "output_type": "display_data"
    }
   ],
   "source": [
    "#Expand notebook to take full screen width\n",
    "from IPython.core.display import display, HTML\n",
    "display(HTML(\"<style>.container { width:95% !important; }</style>\"))\n",
    "\n",
    "#Jupyter magic to notify when a cell finishes execution with %%notify command -- does not work with Jupyterlab\n",
    "#import jupyternotify\n",
    "#ip = get_ipython()\n",
    "#ip.register_magics(jupyternotify.JupyterNotifyMagics)\n",
    "\n",
    "###\n",
    "import sys\n",
    "sys.path.insert(0,'../src/')\n",
    "\n",
    "%load_ext autoreload"
   ]
  },
  {
   "cell_type": "code",
   "execution_count": 128,
   "metadata": {},
   "outputs": [],
   "source": []
  },
  {
   "cell_type": "code",
   "execution_count": 140,
   "metadata": {},
   "outputs": [
    {
     "name": "stdout",
     "output_type": "stream",
     "text": [
      "12800000 6056 54504 24224 512 161.53457849570924\n"
     ]
    }
   ],
   "source": []
  },
  {
   "cell_type": "code",
   "execution_count": 88,
   "metadata": {},
   "outputs": [],
   "source": [
    "R_recov = []\n",
    "for index, weight in zip(index_list, weight_list):\n",
    "    for z in range(int(index-1)):\n",
    "        R_recov.append(0)\n",
    "    R_recov.append(weight)"
   ]
  },
  {
   "cell_type": "code",
   "execution_count": 92,
   "metadata": {},
   "outputs": [
    {
     "data": {
      "text/plain": [
       "0.0"
      ]
     },
     "execution_count": 92,
     "metadata": {},
     "output_type": "execute_result"
    }
   ],
   "source": [
    "(np.array(R_recov) - R).sum()"
   ]
  },
  {
   "cell_type": "code",
   "execution_count": 17,
   "metadata": {},
   "outputs": [
    {
     "data": {
      "text/plain": [
       "<matplotlib.collections.PathCollection at 0x7f0e3e9dfda0>"
      ]
     },
     "execution_count": 17,
     "metadata": {},
     "output_type": "execute_result"
    },
    {
     "data": {
      "image/png": "[encoded data removed]",
      "text/plain": [
       "<matplotlib.figure.Figure at 0x7f0e3ea749b0>"
      ]
     },
     "metadata": {},
     "output_type": "display_data"
    }
   ],
   "source": [
    "from SALib.sample import saltelli\n",
    "import numpy as np\n",
    "import pickle\n",
    "\n",
    "problem = {\n",
    "  'num_vars': 5,\n",
    "  'names': ['mean', 'var', 'tau', 'temp', 'mixtures'],\n",
    "  'bounds': [[np.log(0.01), np.log(1000)],\n",
    "    [np.log(0.001), np.log(100000)],\n",
    "    [np.log(1e-8), np.log(1e-3)],\n",
    "    [1.5,20.49],\n",
    "    [2.5,16.49]]\n",
    "}\n",
    "\n",
    "# Generate samples\n",
    "param_values = saltelli.sample(problem, 10000)\n",
    "\n",
    "params = {}\n",
    "params['mean'] = np.exp(param_values[:,0])\n",
    "params['var'] = np.exp(param_values[:,1])\n",
    "params['tau'] = np.exp(param_values[:,2])\n",
    "params['temp'] = np.around(param_values[:,3])\n",
    "params['mixtures'] = np.around(param_values[:,4])\n",
    "\n",
    "with open('filename.pickle', 'wb') as handle:\n",
    "    pickle.dump(\"sobol_search.p\", handle)"
   ]
  },
  {
   "cell_type": "code",
   "execution_count": 20,
   "metadata": {},
   "outputs": [],
   "source": []
  },
  {
   "cell_type": "code",
   "execution_count": 3,
   "metadata": {},
   "outputs": [
    {
     "name": "stderr",
     "output_type": "stream",
     "text": [
      "/homes/okz21/.conda/envs/nncpy3/lib/python3.5/site-packages/torch/serialization.py:284: SourceChangeWarning: source code of class 'torch.nn.modules.conv.Conv2d' has changed. you can retrieve the original source code by accessing the object's source attribute or set `torch.nn.Module.dump_patches = True` and use the patch tool to revert the changes.\n",
      "  warnings.warn(msg, SourceChangeWarning)\n",
      "/homes/okz21/.conda/envs/nncpy3/lib/python3.5/site-packages/torch/serialization.py:284: SourceChangeWarning: source code of class 'torch.nn.modules.activation.ReLU' has changed. you can retrieve the original source code by accessing the object's source attribute or set `torch.nn.Module.dump_patches = True` and use the patch tool to revert the changes.\n",
      "  warnings.warn(msg, SourceChangeWarning)\n",
      "/homes/okz21/.conda/envs/nncpy3/lib/python3.5/site-packages/torch/serialization.py:284: SourceChangeWarning: source code of class 'torch.nn.modules.linear.Linear' has changed. you can retrieve the original source code by accessing the object's source attribute or set `torch.nn.Module.dump_patches = True` and use the patch tool to revert the changes.\n",
      "  warnings.warn(msg, SourceChangeWarning)\n",
      "/homes/okz21/.conda/envs/nncpy3/lib/python3.5/site-packages/torch/serialization.py:284: SourceChangeWarning: source code of class 'torch.nn.modules.activation.Softmax' has changed. you can retrieve the original source code by accessing the object's source attribute or set `torch.nn.Module.dump_patches = True` and use the patch tool to revert the changes.\n",
      "  warnings.warn(msg, SourceChangeWarning)\n"
     ]
    },
    {
     "data": {
      "text/plain": [
       "{'conv1': Variable containing:\n",
       " (  0  ,  0  ,.,.) = \n",
       "  -4.8679e-02 -4.8679e-02 -4.8679e-02  ...  -4.8679e-02 -4.8679e-02 -4.8679e-02\n",
       "  -4.8679e-02 -4.8679e-02 -3.9411e-02  ...  -9.2864e-04  9.8376e-01  2.9793e-01\n",
       "  -4.8679e-02 -4.8679e-02 -3.9908e-01  ...  -8.6784e-02  1.4188e+00  2.0589e-01\n",
       "                  ...                   ⋱                   ...                \n",
       "  -4.8679e-02 -4.3118e-02 -1.5655e-02  ...  -1.0699e-01 -5.0016e-02 -4.8679e-02\n",
       "  -8.1621e-02 -2.8955e-01 -9.0108e-02  ...  -1.0082e-01 -4.8679e-02 -4.8679e-02\n",
       "  -3.7796e-01 -1.0296e+00 -1.9022e-01  ...  -4.8679e-02 -4.8679e-02 -4.8679e-02\n",
       " \n",
       " (  0  ,  1  ,.,.) = \n",
       "  -4.6514e-03 -4.6514e-03 -4.6514e-03  ...  -4.6514e-03 -4.6514e-03 -4.6514e-03\n",
       "  -4.6514e-03 -4.6514e-03 -1.5715e-02  ...  -1.5107e+00 -6.8004e-01  1.6714e-01\n",
       "  -4.6514e-03 -4.6514e-03 -3.0868e-01  ...   1.1335e+00  1.6749e-02 -3.7608e-01\n",
       "                  ...                   ⋱                   ...                \n",
       "  -4.6514e-03 -1.1290e-02 -1.9535e-01  ...  -9.5631e-01 -6.8806e-03 -4.6514e-03\n",
       "  -9.7538e-02 -9.4411e-01 -7.9440e-01  ...  -9.1590e-02 -4.6514e-03 -4.6514e-03\n",
       "   3.9778e-01  1.4148e+00  1.1198e+00  ...  -4.6514e-03 -4.6514e-03 -4.6514e-03\n",
       " \n",
       " (  0  ,  2  ,.,.) = \n",
       "  -2.8798e-02 -2.8798e-02 -2.8798e-02  ...  -2.8798e-02 -2.8798e-02 -2.8798e-02\n",
       "  -2.8798e-02 -2.8798e-02 -4.9928e-02  ...  -4.0915e-01 -5.8607e-01 -9.1433e-01\n",
       "  -2.8798e-02 -2.8798e-02 -1.9959e-01  ...   1.8232e-01  8.9796e-01  1.7833e-01\n",
       "                  ...                   ⋱                   ...                \n",
       "  -2.8798e-02 -4.1476e-02 -7.1451e-02  ...   1.5009e-01 -2.9488e-02 -2.8798e-02\n",
       "  -1.2992e-01  2.1167e-01 -4.7630e-01  ...  -5.5706e-02 -2.8798e-02 -2.8798e-02\n",
       "  -3.5672e-01 -3.9065e-01  6.5827e-02  ...  -2.8798e-02 -2.8798e-02 -2.8798e-02\n",
       "        ...  \n",
       " \n",
       " (  0  , 22  ,.,.) = \n",
       "   5.6456e-03  5.6456e-03  5.6456e-03  ...   5.6456e-03  5.6456e-03  5.6456e-03\n",
       "   5.6456e-03  5.6456e-03  2.6824e-02  ...   2.3810e-01 -2.9164e-01 -3.4315e-02\n",
       "   5.6456e-03  5.6456e-03  4.8014e-01  ...   1.2686e+00 -7.0985e-01 -1.1388e+00\n",
       "                  ...                   ⋱                   ...                \n",
       "   5.6456e-03  1.8353e-02  1.1739e-01  ...  -1.4423e+00  4.3692e-03  5.6456e-03\n",
       "   1.5547e-01  4.2509e-01  9.7139e-01  ...  -4.4135e-02  5.6456e-03  5.6456e-03\n",
       "   3.6622e-01  1.8821e+00  1.5413e+00  ...   5.6456e-03  5.6456e-03  5.6456e-03\n",
       " \n",
       " (  0  , 23  ,.,.) = \n",
       "   2.0660e-02  2.0660e-02  2.0660e-02  ...   2.0660e-02  2.0660e-02  2.0660e-02\n",
       "   2.0660e-02  2.0660e-02  9.0497e-03  ...   1.0955e+00  1.8563e+00  6.2269e-01\n",
       "   2.0660e-02  2.0660e-02 -1.7878e-01  ...   1.0918e-02 -4.4788e-01 -4.5811e-01\n",
       "                  ...                   ⋱                   ...                \n",
       "   2.0660e-02  1.3694e-02  5.7641e-02  ...  -5.1820e-01  2.0757e-02  2.0660e-02\n",
       "  -6.4440e-02  2.5193e-01  1.6065e+00  ...   2.4466e-02  2.0660e-02  2.0660e-02\n",
       "  -7.7064e-02 -4.0323e-02 -7.4776e-01  ...   2.0660e-02  2.0660e-02  2.0660e-02\n",
       " \n",
       " (  0  , 24  ,.,.) = \n",
       "  -2.4724e-02 -2.4724e-02 -2.4724e-02  ...  -2.4724e-02 -2.4724e-02 -2.4724e-02\n",
       "  -2.4724e-02 -2.4724e-02  1.1946e-02  ...   9.0130e-01  5.2243e-01  5.9210e-02\n",
       "  -2.4724e-02 -2.4724e-02  9.5130e-02  ...  -1.5437e+00  1.6113e-01  3.1059e-02\n",
       "                  ...                   ⋱                   ...                \n",
       "  -2.4724e-02 -2.7223e-03  5.7057e-01  ...  -1.4475e-01 -2.4370e-02 -2.4724e-02\n",
       "   1.1803e-01  7.4960e-01  3.9172e-02  ...  -1.0885e-02 -2.4724e-02 -2.4724e-02\n",
       "  -4.5474e-01 -1.7910e+00 -1.3911e+00  ...  -2.4724e-02 -2.4724e-02 -2.4724e-02\n",
       "          ⋮   \n",
       " \n",
       " (  1  ,  0  ,.,.) = \n",
       "  -4.8679e-02 -4.8679e-02 -4.8679e-02  ...  -1.2151e-01 -4.8679e-02 -4.8679e-02\n",
       "  -4.8679e-02 -4.8679e-02 -4.8679e-02  ...   9.6062e-01 -8.1986e-02 -4.8679e-02\n",
       "  -4.8679e-02 -4.8679e-02 -4.8679e-02  ...   1.6906e+00  3.9354e-01 -4.8679e-02\n",
       "                  ...                   ⋱                   ...                \n",
       "  -4.8679e-02 -5.1965e-01 -1.6423e+00  ...  -2.4730e-01 -4.8679e-02 -4.8679e-02\n",
       "  -4.8679e-02 -3.2777e-01 -1.5780e+00  ...  -8.6114e-02 -4.8679e-02 -4.8679e-02\n",
       "  -4.8679e-02 -5.9601e-02 -5.6041e-01  ...  -4.8679e-02 -4.8679e-02 -4.8679e-02\n",
       " \n",
       " (  1  ,  1  ,.,.) = \n",
       "  -4.6514e-03 -4.6514e-03 -4.6514e-03  ...  -1.1478e-01 -4.6514e-03 -4.6514e-03\n",
       "  -4.6514e-03 -4.6514e-03 -4.6514e-03  ...  -6.2610e-02 -3.3770e-02 -4.6514e-03\n",
       "  -4.6514e-03 -4.6514e-03 -4.6514e-03  ...  -1.3503e+00  2.1883e-02 -4.6514e-03\n",
       "                  ...                   ⋱                   ...                \n",
       "  -4.6514e-03  2.3450e-01  1.4181e-01  ...  -7.5555e-01 -4.6514e-03 -4.6514e-03\n",
       "  -4.6514e-03  1.8980e-01  8.6833e-01  ...  -6.7069e-02 -4.6514e-03 -4.6514e-03\n",
       "  -4.6514e-03 -2.0280e-02 -6.7759e-02  ...  -4.6514e-03 -4.6514e-03 -4.6514e-03\n",
       " \n",
       " (  1  ,  2  ,.,.) = \n",
       "  -2.8798e-02 -2.8798e-02 -2.8798e-02  ...  -3.9077e-01 -2.8798e-02 -2.8798e-02\n",
       "  -2.8798e-02 -2.8798e-02 -2.8798e-02  ...  -1.0863e+00 -1.4422e-01 -2.8798e-02\n",
       "  -2.8798e-02 -2.8798e-02 -2.8798e-02  ...   6.0345e-01 -1.1335e+00 -2.8798e-02\n",
       "                  ...                   ⋱                   ...                \n",
       "  -2.8798e-02 -4.1730e-01 -3.7499e-01  ...  -8.7690e-02 -2.8798e-02 -2.8798e-02\n",
       "  -2.8798e-02 -2.6888e-01 -9.0743e-01  ...  -4.8117e-02 -2.8798e-02 -2.8798e-02\n",
       "  -2.8798e-02 -6.6948e-02 -5.3931e-01  ...  -2.8798e-02 -2.8798e-02 -2.8798e-02\n",
       "        ...  \n",
       " \n",
       " (  1  , 22  ,.,.) = \n",
       "   5.6456e-03  5.6456e-03  5.6456e-03  ...  -9.3889e-02  5.6456e-03  5.6456e-03\n",
       "   5.6456e-03  5.6456e-03  5.6456e-03  ...  -5.9634e-01 -1.6743e-02  5.6456e-03\n",
       "   5.6456e-03  5.6456e-03  5.6456e-03  ...  -1.8450e+00 -2.5539e-01  5.6456e-03\n",
       "                  ...                   ⋱                   ...                \n",
       "   5.6456e-03  4.1879e-01  2.6813e+00  ...  -8.4015e-01  5.6456e-03  5.6456e-03\n",
       "   5.6456e-03  2.0116e-01  2.1483e+00  ...  -3.0094e-02  5.6456e-03  5.6456e-03\n",
       "   5.6456e-03  5.4970e-03  4.1929e-01  ...   5.6456e-03  5.6456e-03  5.6456e-03\n",
       " \n",
       " (  1  , 23  ,.,.) = \n",
       "   2.0660e-02  2.0660e-02  2.0660e-02  ...   1.3889e-01  2.0660e-02  2.0660e-02\n",
       "   2.0660e-02  2.0660e-02  2.0660e-02  ...   1.1534e+00  4.3568e-02  2.0660e-02\n",
       "   2.0660e-02  2.0660e-02  2.0660e-02  ...   1.2930e+00  7.6415e-01  2.0660e-02\n",
       "                  ...                   ⋱                   ...                \n",
       "   2.0660e-02 -1.3714e-01 -4.2999e-01  ...  -1.9546e-01  2.0660e-02  2.0660e-02\n",
       "   2.0660e-02 -4.3519e-02 -8.7822e-01  ...   2.3393e-02  2.0660e-02  2.0660e-02\n",
       "   2.0660e-02  1.5337e-02 -3.8609e-01  ...   2.0660e-02  2.0660e-02  2.0660e-02\n",
       " \n",
       " (  1  , 24  ,.,.) = \n",
       "  -2.4724e-02 -2.4724e-02 -2.4724e-02  ...   3.5043e-02 -2.4724e-02 -2.4724e-02\n",
       "  -2.4724e-02 -2.4724e-02 -2.4724e-02  ...   4.5097e-01 -1.0231e-02 -2.4724e-02\n",
       "  -2.4724e-02 -2.4724e-02 -2.4724e-02  ...   9.6419e-01  1.6301e-01 -2.4724e-02\n",
       "                  ...                   ⋱                   ...                \n",
       "  -2.4724e-02 -3.8376e-01 -1.2106e+00  ...  -1.6645e-01 -2.4724e-02 -2.4724e-02\n",
       "  -2.4724e-02 -2.3638e-01 -1.7461e+00  ...  -1.4788e-02 -2.4724e-02 -2.4724e-02\n",
       "  -2.4724e-02 -2.6859e-02 -2.0534e-01  ...  -2.4724e-02 -2.4724e-02 -2.4724e-02\n",
       "          ⋮   \n",
       " \n",
       " (  2  ,  0  ,.,.) = \n",
       "  -4.8679e-02 -4.8679e-02 -4.8679e-02  ...  -4.8679e-02 -4.8679e-02 -4.8679e-02\n",
       "  -2.9525e-02  9.0837e-03 -3.9950e-02  ...  -1.2678e-01  6.2745e-01 -4.9707e-02\n",
       "  -2.4192e-01  1.7707e-01  5.3536e-01  ...  -1.9855e-02  1.1742e+00 -1.1818e-02\n",
       "                  ...                   ⋱                   ...                \n",
       "  -4.8679e-02 -4.8679e-02 -4.8679e-02  ...   3.6461e-01 -4.8679e-02 -4.8679e-02\n",
       "  -4.8679e-02 -4.8679e-02 -4.8679e-02  ...   6.2213e-01 -4.8679e-02 -4.8679e-02\n",
       "  -4.8679e-02 -4.8679e-02 -4.8679e-02  ...   2.7207e-01 -4.8679e-02 -4.8679e-02\n",
       " \n",
       " (  2  ,  1  ,.,.) = \n",
       "  -4.6514e-03 -4.6514e-03 -4.6514e-03  ...  -4.6514e-03 -4.6514e-03 -4.6514e-03\n",
       "  -2.7517e-02 -1.5266e-01 -1.0103e-01  ...  -8.2365e-01  4.4864e-03  4.8764e-03\n",
       "  -5.4340e-02 -7.6158e-01  3.6244e-02  ...  -5.4990e-01 -2.2340e-02 -4.6938e-02\n",
       "                  ...                   ⋱                   ...                \n",
       "  -4.6514e-03 -4.6514e-03 -4.6514e-03  ...  -7.4198e-01 -4.6514e-03 -4.6514e-03\n",
       "  -4.6514e-03 -4.6514e-03 -4.6514e-03  ...  -7.0676e-01 -4.6514e-03 -4.6514e-03\n",
       "  -4.6514e-03 -4.6514e-03 -4.6514e-03  ...  -9.0546e-01 -4.6514e-03 -4.6514e-03\n",
       " \n",
       " (  2  ,  2  ,.,.) = \n",
       "  -2.8798e-02 -2.8798e-02 -2.8798e-02  ...  -2.8798e-02 -2.8798e-02 -2.8798e-02\n",
       "  -7.2466e-02  5.3181e-02 -2.4392e-01  ...   4.4734e-01 -5.3318e-01 -1.7256e-01\n",
       "  -3.2616e-01  5.7508e-01 -7.7482e-01  ...   8.1311e-01 -3.9750e-01 -8.7474e-02\n",
       "                  ...                   ⋱                   ...                \n",
       "  -2.8798e-02 -2.8798e-02 -2.8798e-02  ...  -9.9630e-01 -2.8798e-02 -2.8798e-02\n",
       "  -2.8798e-02 -2.8798e-02 -2.8798e-02  ...  -8.9647e-01 -2.8798e-02 -2.8798e-02\n",
       "  -2.8798e-02 -2.8798e-02 -2.8798e-02  ...   2.9941e-01 -2.8798e-02 -2.8798e-02\n",
       "        ...  \n",
       " \n",
       " (  2  , 22  ,.,.) = \n",
       "   5.6456e-03  5.6456e-03  5.6456e-03  ...   5.6456e-03  5.6456e-03  5.6456e-03\n",
       "   4.9415e-02 -5.2137e-02 -1.0173e-01  ...   1.3233e-01 -2.8663e-01  1.5948e-02\n",
       "   4.0720e-01  2.4303e-01 -3.4826e-01  ...   1.0831e+00 -9.8028e-01 -1.3457e-01\n",
       "                  ...                   ⋱                   ...                \n",
       "   5.6456e-03  5.6456e-03  5.6456e-03  ...  -1.5278e+00  5.6456e-03  5.6456e-03\n",
       "   5.6456e-03  5.6456e-03  5.6456e-03  ...  -1.6651e+00  5.6456e-03  5.6456e-03\n",
       "   5.6456e-03  5.6456e-03  5.6456e-03  ...  -1.6665e+00  5.6456e-03  5.6456e-03\n",
       " \n",
       " (  2  , 23  ,.,.) = \n",
       "   2.0660e-02  2.0660e-02  2.0660e-02  ...   2.0660e-02  2.0660e-02  2.0660e-02\n",
       "  -3.3342e-03  1.1872e-01  1.6722e-01  ...   4.5022e-01  1.0107e+00  5.5330e-02\n",
       "  -1.7392e-01  7.7297e-01  7.8198e-01  ...   6.9358e-01  6.3937e-01 -1.7676e-02\n",
       "                  ...                   ⋱                   ...                \n",
       "   2.0660e-02  2.0660e-02  2.0660e-02  ...   2.6311e-01  2.0660e-02  2.0660e-02\n",
       "   2.0660e-02  2.0660e-02  2.0660e-02  ...   3.6373e-01  2.0660e-02  2.0660e-02\n",
       "   2.0660e-02  2.0660e-02  2.0660e-02  ...  -5.3752e-01  2.0660e-02  2.0660e-02\n",
       " \n",
       " (  2  , 24  ,.,.) = \n",
       "  -2.4724e-02 -2.4724e-02 -2.4724e-02  ...  -2.4724e-02 -2.4724e-02 -2.4724e-02\n",
       "   5.1061e-02  2.0750e-01  3.4336e-02  ...   4.4751e-01  2.6078e-01 -2.8169e-02\n",
       "   3.4057e-02  3.0505e-01  2.5388e-01  ...  -2.8209e-01  4.4525e-01 -3.4230e-02\n",
       "                  ...                   ⋱                   ...                \n",
       "  -2.4724e-02 -2.4724e-02 -2.4724e-02  ...   1.8569e-01 -2.4724e-02 -2.4724e-02\n",
       "  -2.4724e-02 -2.4724e-02 -2.4724e-02  ...   2.3800e-01 -2.4724e-02 -2.4724e-02\n",
       "  -2.4724e-02 -2.4724e-02 -2.4724e-02  ...   5.7900e-02 -2.4724e-02 -2.4724e-02\n",
       "  ...        \n",
       "          ⋮   \n",
       " \n",
       " (59997,  0  ,.,.) = \n",
       "  -4.8679e-02 -4.8679e-02 -4.8679e-02  ...  -4.8679e-02 -4.8679e-02 -4.8679e-02\n",
       "  -4.8679e-02 -4.8679e-02 -4.8679e-02  ...   7.0971e-02  6.5144e-01  8.2843e-01\n",
       "  -4.8679e-02 -4.8679e-02 -4.8679e-02  ...   4.8145e-01  9.2097e-01  7.5387e-01\n",
       "                  ...                   ⋱                   ...                \n",
       "  -4.8679e-02 -4.7123e-02  2.9286e-01  ...  -2.1805e-01 -4.8679e-02 -4.8679e-02\n",
       "  -4.8679e-02 -9.2505e-01  5.6864e-01  ...  -1.1559e-01 -4.8679e-02 -4.8679e-02\n",
       "  -4.8679e-02 -8.5030e-01 -5.4588e-01  ...  -5.8707e-02 -4.8679e-02 -4.8679e-02\n",
       " \n",
       " (59997,  1  ,.,.) = \n",
       "  -4.6514e-03 -4.6514e-03 -4.6514e-03  ...  -4.6514e-03 -4.6514e-03 -4.6514e-03\n",
       "  -4.6514e-03 -4.6514e-03 -4.6514e-03  ...  -1.5475e+00 -1.2577e+00  3.7941e-02\n",
       "  -4.6514e-03 -4.6514e-03 -4.6514e-03  ...   1.6704e+00  6.7395e-01 -3.9118e-01\n",
       "                  ...                   ⋱                   ...                \n",
       "  -4.6514e-03 -1.7191e-01 -4.7958e-01  ...  -4.2645e-01 -4.6514e-03 -4.6514e-03\n",
       "  -4.6514e-03  1.5451e-01 -5.6804e-01  ...  -1.4220e-01 -4.6514e-03 -4.6514e-03\n",
       "  -4.6514e-03  2.9922e-01  7.8932e-01  ...  -2.1370e-02 -4.6514e-03 -4.6514e-03\n",
       " \n",
       " (59997,  2  ,.,.) = \n",
       "  -2.8798e-02 -2.8798e-02 -2.8798e-02  ...  -2.8798e-02 -2.8798e-02 -2.8798e-02\n",
       "  -2.8798e-02 -2.8798e-02 -2.8798e-02  ...  -3.3573e-01 -3.4573e-01 -9.7355e-01\n",
       "  -2.8798e-02 -2.8798e-02 -2.8798e-02  ...  -8.1054e-02  6.8246e-01  5.8454e-01\n",
       "                  ...                   ⋱                   ...                \n",
       "  -2.8798e-02  3.7374e-03 -1.5799e-01  ...  -1.6582e-01 -2.8798e-02 -2.8798e-02\n",
       "  -2.8798e-02 -1.6744e-01  7.2422e-01  ...  -5.0237e-02 -2.8798e-02 -2.8798e-02\n",
       "  -2.8798e-02 -4.1115e-01 -3.2650e-01  ...  -3.3973e-02 -2.8798e-02 -2.8798e-02\n",
       "        ...  \n",
       " \n",
       " (59997, 22  ,.,.) = \n",
       "   5.6456e-03  5.6456e-03  5.6456e-03  ...   5.6456e-03  5.6456e-03  5.6456e-03\n",
       "   5.6456e-03  5.6456e-03  5.6456e-03  ...   1.8484e-02 -1.0572e-01 -1.7758e-01\n",
       "   5.6456e-03  5.6456e-03  5.6456e-03  ...   1.6207e+00  2.8464e-01 -1.4031e+00\n",
       "                  ...                   ⋱                   ...                \n",
       "   5.6456e-03  6.9744e-02 -3.1192e-01  ...  -6.4183e-01  5.6456e-03  5.6456e-03\n",
       "   5.6456e-03  1.1285e+00  6.8831e-01  ...  -1.6368e-01  5.6456e-03  5.6456e-03\n",
       "   5.6456e-03  7.6068e-01  1.1169e+00  ...  -3.9275e-03  5.6456e-03  5.6456e-03\n",
       " \n",
       " (59997, 23  ,.,.) = \n",
       "   2.0660e-02  2.0660e-02  2.0660e-02  ...   2.0660e-02  2.0660e-02  2.0660e-02\n",
       "   2.0660e-02  2.0660e-02  2.0660e-02  ...   1.1514e+00  1.8319e+00  1.3259e+00\n",
       "   2.0660e-02  2.0660e-02  2.0660e-02  ...   5.7509e-01 -4.9189e-01 -7.2197e-01\n",
       "                  ...                   ⋱                   ...                \n",
       "   2.0660e-02  1.1369e-01  5.2105e-01  ...  -1.6851e-01  2.0660e-02  2.0660e-02\n",
       "   2.0660e-02  8.0950e-04  1.1212e+00  ...  -2.5827e-02  2.0660e-02  2.0660e-02\n",
       "   2.0660e-02 -4.8978e-01 -9.6556e-01  ...   2.1392e-02  2.0660e-02  2.0660e-02\n",
       " \n",
       " (59997, 24  ,.,.) = \n",
       "  -2.4724e-02 -2.4724e-02 -2.4724e-02  ...  -2.4724e-02 -2.4724e-02 -2.4724e-02\n",
       "  -2.4724e-02 -2.4724e-02 -2.4724e-02  ...   1.1429e+00  7.4863e-01  2.2486e-01\n",
       "  -2.4724e-02 -2.4724e-02 -2.4724e-02  ...  -1.5072e+00 -5.5172e-01  2.5140e-01\n",
       "                  ...                   ⋱                   ...                \n",
       "  -2.4724e-02  5.2930e-01  4.0197e-01  ...  -5.4557e-02 -2.4724e-02 -2.4724e-02\n",
       "  -2.4724e-02 -1.0711e+00  4.6450e-01  ...  -2.4441e-02 -2.4724e-02 -2.4724e-02\n",
       "  -2.4724e-02 -4.9476e-01 -1.4345e+00  ...  -2.2063e-02 -2.4724e-02 -2.4724e-02\n",
       "          ⋮   \n",
       " \n",
       " (59998,  0  ,.,.) = \n",
       "  -4.8679e-02 -4.8679e-02 -4.8679e-02  ...   1.4170e+00  4.4515e-01 -4.8679e-02\n",
       "  -4.8679e-02 -4.8679e-02 -4.8679e-02  ...   1.1224e+00 -3.3367e-01 -4.8679e-02\n",
       "  -4.8679e-02 -4.8679e-02 -4.8679e-02  ...  -2.5624e-01 -5.4696e-02 -4.8679e-02\n",
       "                  ...                   ⋱                   ...                \n",
       "  -4.8679e-02 -1.9697e-01 -1.6132e+00  ...  -2.3217e-01 -8.6164e-02 -4.8679e-02\n",
       "  -4.8679e-02 -1.4665e-01 -9.1696e-01  ...  -4.8679e-02 -4.8679e-02 -4.8679e-02\n",
       "  -4.8679e-02 -4.8679e-02 -4.8679e-02  ...  -4.8679e-02 -4.8679e-02 -4.8679e-02\n",
       " \n",
       " (59998,  1  ,.,.) = \n",
       "  -4.6514e-03 -4.6514e-03 -4.6514e-03  ...   8.6133e-02  3.2062e-02 -4.6514e-03\n",
       "  -4.6514e-03 -4.6514e-03 -4.6514e-03  ...  -6.1049e-01 -5.3923e-01 -4.6514e-03\n",
       "  -4.6514e-03 -4.6514e-03 -4.6514e-03  ...  -8.4980e-01 -1.4683e-02 -4.6514e-03\n",
       "                  ...                   ⋱                   ...                \n",
       "  -4.6514e-03  2.0289e-02  7.8640e-02  ...  -6.6147e-01 -9.7519e-02 -4.6514e-03\n",
       "  -4.6514e-03  5.7430e-02  3.2820e-01  ...  -4.6514e-03 -4.6514e-03 -4.6514e-03\n",
       "  -4.6514e-03 -4.6514e-03 -4.6514e-03  ...  -4.6514e-03 -4.6514e-03 -4.6514e-03\n",
       " \n",
       " (59998,  2  ,.,.) = \n",
       "  -2.8798e-02 -2.8798e-02 -2.8798e-02  ...  -3.9884e-01 -2.8433e-01 -2.8798e-02\n",
       "  -2.8798e-02 -2.8798e-02 -2.8798e-02  ...  -5.7724e-02 -7.5125e-02 -2.8798e-02\n",
       "  -2.8798e-02 -2.8798e-02 -2.8798e-02  ...  -7.4879e-02 -3.1903e-02 -2.8798e-02\n",
       "                  ...                   ⋱                   ...                \n",
       "  -2.8798e-02 -1.8907e-01 -2.4303e-01  ...  -1.2070e-01 -4.9296e-02 -2.8798e-02\n",
       "  -2.8798e-02 -9.4683e-02 -3.9824e-01  ...  -2.8798e-02 -2.8798e-02 -2.8798e-02\n",
       "  -2.8798e-02 -2.8798e-02 -2.8798e-02  ...  -2.8798e-02 -2.8798e-02 -2.8798e-02\n",
       "        ...  \n",
       " \n",
       " (59998, 22  ,.,.) = \n",
       "   5.6456e-03  5.6456e-03  5.6456e-03  ...  -5.0735e-02 -2.8844e-01  5.6456e-03\n",
       "   5.6456e-03  5.6456e-03  5.6456e-03  ...  -1.4242e+00 -7.1252e-01  5.6456e-03\n",
       "   5.6456e-03  5.6456e-03  5.6456e-03  ...  -1.0227e+00 -9.8277e-05  5.6456e-03\n",
       "                  ...                   ⋱                   ...                \n",
       "   5.6456e-03  1.1919e-01  2.1821e+00  ...  -7.4362e-01 -5.1968e-02  5.6456e-03\n",
       "   5.6456e-03  6.4978e-02  1.0116e+00  ...   5.6456e-03  5.6456e-03  5.6456e-03\n",
       "   5.6456e-03  5.6456e-03  5.6456e-03  ...   5.6456e-03  5.6456e-03  5.6456e-03\n",
       " \n",
       " (59998, 23  ,.,.) = \n",
       "   2.0660e-02  2.0660e-02  2.0660e-02  ...   1.8622e+00  8.0692e-02  2.0660e-02\n",
       "   2.0660e-02  2.0660e-02  2.0660e-02  ...  -7.8960e-01 -2.1155e-01  2.0660e-02\n",
       "   2.0660e-02  2.0660e-02  2.0660e-02  ...  -2.7252e-01  2.1099e-02  2.0660e-02\n",
       "                  ...                   ⋱                   ...                \n",
       "   2.0660e-02 -3.3892e-02 -4.6808e-01  ...  -2.3164e-01  2.1500e-02  2.0660e-02\n",
       "   2.0660e-02  1.7036e-03 -7.5319e-01  ...   2.0660e-02  2.0660e-02  2.0660e-02\n",
       "   2.0660e-02  2.0660e-02  2.0660e-02  ...   2.0660e-02  2.0660e-02  2.0660e-02\n",
       " \n",
       " (59998, 24  ,.,.) = \n",
       "  -2.4724e-02 -2.4724e-02 -2.4724e-02  ...   2.8129e-01  9.2053e-02 -2.4724e-02\n",
       "  -2.4724e-02 -2.4724e-02 -2.4724e-02  ...   3.2542e-01 -9.5202e-02 -2.4724e-02\n",
       "  -2.4724e-02 -2.4724e-02 -2.4724e-02  ...  -1.8790e-01 -2.3128e-02 -2.4724e-02\n",
       "                  ...                   ⋱                   ...                \n",
       "  -2.4724e-02 -1.3774e-01 -1.6295e+00  ...  -1.7002e-01 -2.5498e-02 -2.4724e-02\n",
       "  -2.4724e-02 -8.3854e-02 -6.0450e-01  ...  -2.4724e-02 -2.4724e-02 -2.4724e-02\n",
       "  -2.4724e-02 -2.4724e-02 -2.4724e-02  ...  -2.4724e-02 -2.4724e-02 -2.4724e-02\n",
       "          ⋮   \n",
       " \n",
       " (59999,  0  ,.,.) = \n",
       "  -4.8679e-02 -4.8679e-02 -4.8679e-02  ...  -4.8679e-02 -4.8679e-02 -4.8679e-02\n",
       "  -4.8679e-02 -4.8679e-02 -4.8679e-02  ...  -6.6496e-02 -4.8679e-02 -4.8679e-02\n",
       "  -4.8679e-02 -4.8679e-02 -4.8679e-02  ...   9.7191e-01 -1.2061e-01  1.2050e-01\n",
       "                  ...                   ⋱                   ...                \n",
       "  -4.8679e-02 -3.0966e-01 -1.2828e+00  ...  -4.8679e-02 -4.8679e-02 -4.8679e-02\n",
       "  -4.8679e-02 -5.8311e-01 -1.3763e+00  ...  -4.8679e-02 -4.8679e-02 -4.8679e-02\n",
       "  -4.8679e-02 -1.4665e-01 -1.2412e+00  ...  -4.8679e-02 -4.8679e-02 -4.8679e-02\n",
       " \n",
       " (59999,  1  ,.,.) = \n",
       "  -4.6514e-03 -4.6514e-03 -4.6514e-03  ...  -4.6514e-03 -4.6514e-03 -4.6514e-03\n",
       "  -4.6514e-03 -4.6514e-03 -4.6514e-03  ...  -4.3896e-02 -4.6514e-03 -4.6514e-03\n",
       "  -4.6514e-03 -4.6514e-03 -4.6514e-03  ...  -4.1734e-01 -1.9297e-01 -4.0532e-01\n",
       "                  ...                   ⋱                   ...                \n",
       "  -4.6514e-03 -1.0482e-02  1.1766e-01  ...  -4.6514e-03 -4.6514e-03 -4.6514e-03\n",
       "  -4.6514e-03  4.3258e-01  1.0407e-01  ...  -4.6514e-03 -4.6514e-03 -4.6514e-03\n",
       "  -4.6514e-03  1.2383e-03  7.6209e-01  ...  -4.6514e-03 -4.6514e-03 -4.6514e-03\n",
       " \n",
       " (59999,  2  ,.,.) = \n",
       "  -2.8798e-02 -2.8798e-02 -2.8798e-02  ...  -2.8798e-02 -2.8798e-02 -2.8798e-02\n",
       "  -2.8798e-02 -2.8798e-02 -2.8798e-02  ...  -1.4638e-01 -2.8798e-02 -2.8798e-02\n",
       "  -2.8798e-02 -2.8798e-02 -2.8798e-02  ...  -9.6330e-01 -6.9866e-01  1.4615e-01\n",
       "                  ...                   ⋱                   ...                \n",
       "  -2.8798e-02 -2.4454e-01  2.0639e-02  ...  -2.8798e-02 -2.8798e-02 -2.8798e-02\n",
       "  -2.8798e-02 -4.1961e-01 -2.4468e-01  ...  -2.8798e-02 -2.8798e-02 -2.8798e-02\n",
       "  -2.8798e-02 -1.7145e-01 -8.2246e-01  ...  -2.8798e-02 -2.8798e-02 -2.8798e-02\n",
       "        ...  \n",
       " \n",
       " (59999, 22  ,.,.) = \n",
       "   5.6456e-03  5.6456e-03  5.6456e-03  ...   5.6456e-03  5.6456e-03  5.6456e-03\n",
       "   5.6456e-03  5.6456e-03  5.6456e-03  ...  -3.2101e-02  5.6456e-03  5.6456e-03\n",
       "   5.6456e-03  5.6456e-03  5.6456e-03  ...  -4.7415e-01  1.6172e-02 -1.6163e-01\n",
       "                  ...                   ⋱                   ...                \n",
       "   5.6456e-03  3.3901e-01  1.8662e+00  ...   5.6456e-03  5.6456e-03  5.6456e-03\n",
       "   5.6456e-03  4.4384e-01  2.3958e+00  ...   5.6456e-03  5.6456e-03  5.6456e-03\n",
       "   5.6456e-03  4.8126e-02  1.5240e+00  ...   5.6456e-03  5.6456e-03  5.6456e-03\n",
       " \n",
       " (59999, 23  ,.,.) = \n",
       "   2.0660e-02  2.0660e-02  2.0660e-02  ...   2.0660e-02  2.0660e-02  2.0660e-02\n",
       "   2.0660e-02  2.0660e-02  2.0660e-02  ...   6.7632e-02  2.0660e-02  2.0660e-02\n",
       "   2.0660e-02  2.0660e-02  2.0660e-02  ...   1.3223e+00  1.1257e-01  2.9460e-01\n",
       "                  ...                   ⋱                   ...                \n",
       "   2.0660e-02 -1.3531e-01  4.5662e-01  ...   2.0660e-02  2.0660e-02  2.0660e-02\n",
       "   2.0660e-02 -1.1190e-01 -5.9403e-01  ...   2.0660e-02  2.0660e-02  2.0660e-02\n",
       "   2.0660e-02 -6.2954e-03 -8.0092e-01  ...   2.0660e-02  2.0660e-02  2.0660e-02\n",
       " \n",
       " (59999, 24  ,.,.) = \n",
       "  -2.4724e-02 -2.4724e-02 -2.4724e-02  ...  -2.4724e-02 -2.4724e-02 -2.4724e-02\n",
       "  -2.4724e-02 -2.4724e-02 -2.4724e-02  ...  -2.6668e-03 -2.4724e-02 -2.4724e-02\n",
       "  -2.4724e-02 -2.4724e-02 -2.4724e-02  ...   6.4970e-01  2.7772e-01  5.5185e-01\n",
       "                  ...                   ⋱                   ...                \n",
       "  -2.4724e-02 -1.4176e-01 -8.4605e-01  ...  -2.4724e-02 -2.4724e-02 -2.4724e-02\n",
       "  -2.4724e-02 -4.9262e-01 -1.2308e+00  ...  -2.4724e-02 -2.4724e-02 -2.4724e-02\n",
       "  -2.4724e-02 -7.2748e-02 -1.2214e+00  ...  -2.4724e-02 -2.4724e-02 -2.4724e-02\n",
       " [torch.cuda.FloatTensor of size 60000x25x12x12 (GPU 0)],\n",
       " 'conv2': Variable containing:\n",
       " (  0  ,  0  ,.,.) = \n",
       "  -8.1130e-01 -3.5802e+00 -8.7758e+00 -8.5437e+00 -1.6527e+00\n",
       "  -2.8275e+00  2.3161e+00 -5.9241e+00 -6.1116e-01 -6.6328e+00\n",
       "  -1.2177e+00 -8.1728e+00  1.2804e+01 -1.0335e+01 -4.8441e+00\n",
       "  -1.0245e+00 -1.1499e+00 -1.2974e+01  4.3599e+00 -7.8093e+00\n",
       "  -1.8588e+00 -7.9228e+00 -8.1642e+00 -4.8977e+00 -6.0128e-01\n",
       " \n",
       " (  0  ,  1  ,.,.) = \n",
       "  -1.3976e+00 -3.4546e+00 -1.7048e+00  9.7651e-01 -9.5030e-01\n",
       "  -1.0816e+00 -2.5479e+00 -5.4141e+00 -9.9044e+00 -1.1540e+01\n",
       "  -1.7500e+00 -4.2291e+00 -8.8079e+00 -2.2277e+00  8.5077e-01\n",
       "  -1.1684e+00 -1.6858e+00 -6.3057e+00 -5.8671e+00 -7.5828e-01\n",
       "  -2.7983e+00 -1.7835e+00  4.4136e+00 -1.1690e+01 -7.3801e+00\n",
       " \n",
       " (  0  ,  2  ,.,.) = \n",
       "  -4.2499e-01 -8.0759e+00 -1.5754e+01 -1.4860e+01 -8.2983e+00\n",
       "  -8.0987e-01  2.9306e+00  2.1777e+00  4.0594e+00  2.8448e-01\n",
       "   1.8505e-02 -1.1804e+00 -4.4323e+00 -8.5801e+00 -3.8481e+00\n",
       "  -1.4317e-01 -1.6460e-01 -3.9428e+00 -1.5684e+01 -1.2336e+00\n",
       "  -4.8331e+00 -1.8049e+01 -2.2763e+00  7.2781e+00 -7.3279e-02\n",
       "        ...  \n",
       " \n",
       " (  0  , 47  ,.,.) = \n",
       "  -4.1758e-01  1.3574e+00  3.3128e+00  3.4053e+00  7.8060e-01\n",
       "  -1.7739e+00 -2.1755e+01 -5.6432e+00 -1.4705e+01 -9.5984e+00\n",
       "   3.6210e-01  4.4518e-01 -1.9214e+01  1.1449e+01  3.2744e+00\n",
       "  -2.1940e-01  3.2081e-01  6.7128e-01 -2.1419e+01  5.4088e+00\n",
       "   1.3786e-01 -1.8638e+00 -7.9238e+00 -1.1912e+01 -9.1485e+00\n",
       " \n",
       " (  0  , 48  ,.,.) = \n",
       "  -2.2247e+00 -1.3776e+00 -5.7159e+00 -4.8208e+00 -2.1892e+00\n",
       "  -4.0331e+00 -1.4483e+01 -5.7241e+00 -1.2737e+01 -9.7956e+00\n",
       "  -1.6486e+00 -4.0897e+00 -3.8855e+00  1.6333e+00 -5.7464e+00\n",
       "  -2.0374e+00 -1.9706e+00 -6.8033e+00 -5.8245e+00 -6.1097e-01\n",
       "  -1.7714e+00 -5.4903e+00 -9.8524e+00 -1.4628e+01 -4.2990e+00\n",
       " \n",
       " (  0  , 49  ,.,.) = \n",
       "  -1.3887e-01  5.8533e+00  9.5519e+00  4.8251e+00 -5.4078e+00\n",
       "  -1.5022e+00 -1.5073e+01 -2.0641e+01 -1.6168e+01 -1.6633e+00\n",
       "   1.6047e-01  2.2913e+00 -5.5738e+00  1.4782e+00  2.0785e+00\n",
       "  -4.3633e-01  3.9645e-01  8.3760e+00 -3.4863e+00 -1.0949e+01\n",
       "   4.1421e+00  5.9940e+00 -1.6930e+01 -1.7197e+01 -5.5731e+00\n",
       "          ⋮   \n",
       " \n",
       " (  1  ,  0  ,.,.) = \n",
       "  -1.0245e+00 -9.3483e-01 -3.1466e+00 -3.2669e+00 -1.0099e+01\n",
       "  -1.0674e+00 -2.9488e+00 -1.1120e+01  1.3304e+00  6.0100e+00\n",
       "  -3.0404e-01 -1.1570e+01 -4.4688e+00 -5.5865e+00  2.3832e+00\n",
       "  -2.2376e+00 -5.5464e+00 -3.1084e+00 -7.7497e+00 -8.3458e+00\n",
       "  -4.2734e+00  9.9404e+00 -5.5673e+00 -6.5892e+00 -2.7669e+00\n",
       " \n",
       " (  1  ,  1  ,.,.) = \n",
       "  -1.1684e+00 -1.2459e+00 -4.2055e+00  5.0620e+00  1.1262e+00\n",
       "  -1.2581e+00 -4.4361e+00  4.5964e+00 -1.1536e+01 -5.7222e+00\n",
       "  -2.4050e+00  3.3276e+00 -1.3908e+01 -6.4049e+00 -4.4439e+00\n",
       "  -2.1470e+00 -7.4016e+00 -5.7805e-01 -3.5866e+00 -4.5764e+00\n",
       "  -3.4026e+00 -8.9835e+00  1.0277e+00 -6.7511e+00 -6.7304e+00\n",
       " \n",
       " (  1  ,  2  ,.,.) = \n",
       "  -1.4317e-01 -3.6626e-01 -8.7042e+00 -9.3791e+00 -5.5301e+00\n",
       "  -2.0401e-01 -8.7404e+00 -1.0531e+00  2.5967e+00 -3.4844e+00\n",
       "  -2.7688e+00 -1.1937e+00  9.2154e-03 -5.3875e+00 -7.3917e+00\n",
       "  -3.4448e+00 -4.9606e+00 -3.1048e+00 -1.3330e+01  1.0174e+00\n",
       "  -3.7766e+00 -6.7283e+00 -6.1094e+00  8.3177e+00 -2.6223e+00\n",
       "        ...  \n",
       " \n",
       " (  1  , 47  ,.,.) = \n",
       "  -2.1940e-01 -1.6303e-01 -2.4121e+00  2.2754e-01  1.0709e+01\n",
       "  -9.3575e-02 -4.3513e+00 -7.7801e+00 -1.4969e+01 -4.2743e+00\n",
       "  -3.5069e+00 -1.0191e+00 -9.4829e+00 -4.7865e+00 -1.0960e+01\n",
       "  -5.6173e+00 -5.0171e+00  1.4735e+00 -1.4252e+00 -1.2474e+01\n",
       "  -7.2256e+00 -1.1931e+01 -2.5995e+00 -6.9265e+00 -6.3672e+00\n",
       " \n",
       " (  1  , 48  ,.,.) = \n",
       "  -2.0374e+00 -2.2614e+00 -3.2399e+00 -2.4080e+00 -7.8526e-01\n",
       "  -2.1905e+00 -2.9102e+00 -1.0868e+01 -9.6078e+00  4.6755e+00\n",
       "  -3.7517e+00 -8.0916e+00 -1.0041e+01 -8.5241e+00 -3.5009e+00\n",
       "  -5.8714e+00 -8.2653e-02 -6.1977e+00 -3.7673e+00 -1.1090e+01\n",
       "  -7.0189e+00  5.9987e+00 -6.6096e+00 -1.1632e+01 -5.6531e+00\n",
       " \n",
       " (  1  , 49  ,.,.) = \n",
       "  -4.3633e-01  5.9325e-03  3.4510e+00 -5.5728e+00 -1.8809e+00\n",
       "  -4.3622e-01  1.2058e+00 -1.2711e+01 -1.8542e+01 -1.2249e+01\n",
       "   3.4059e-01 -7.9096e+00 -7.3657e+00  3.6094e+00 -8.0487e+00\n",
       "  -2.3123e+00 -3.5661e+00  2.5544e+00  5.3247e+00 -6.6198e+00\n",
       "  -1.9021e+00 -1.4117e+01 -1.4494e+01 -1.6301e+01 -3.6124e+00\n",
       "          ⋮   \n",
       " \n",
       " (  2  ,  0  ,.,.) = \n",
       "  -3.0606e+00 -2.0407e+00 -1.0245e+00 -7.5020e-01 -1.6898e+00\n",
       "  -1.5694e+00 -3.1852e+00 -1.0245e+00 -1.2774e+00 -6.8501e+00\n",
       "  -1.3842e+00 -6.7391e+00 -6.2009e+00 -5.7087e+00 -6.1479e+00\n",
       "   3.1634e+00 -1.2592e+00 -4.2463e+00 -1.4784e+00 -5.9468e+00\n",
       "  -2.2986e+00 -2.4557e+00 -1.2041e+00  6.8688e-01 -8.2472e+00\n",
       " \n",
       " (  2  ,  1  ,.,.) = \n",
       "  -1.7473e+00 -5.6150e-01 -1.1684e+00 -1.5514e+00 -1.6329e+00\n",
       "  -1.4415e+00 -1.5269e+00 -1.1684e+00 -2.3969e+00 -1.6919e+00\n",
       "  -5.7641e+00 -2.0107e+00 -1.8447e+00 -1.3367e+00 -5.2556e+00\n",
       "  -4.7838e+00 -2.6847e+00 -8.0366e+00 -1.0304e+01 -6.1193e+00\n",
       "  -2.4784e+00 -1.6740e+00 -8.9359e-01 -6.7955e+00 -3.8272e+00\n",
       " \n",
       " (  2  ,  2  ,.,.) = \n",
       "  -4.3271e+00 -1.0885e+00 -1.4317e-01 -6.0358e-01 -6.3240e+00\n",
       "  -4.0726e+00 -4.3323e-01 -1.4317e-01 -2.6392e+00 -3.2817e+00\n",
       "  -4.9769e+00 -1.0788e+01 -1.2812e+01 -9.4244e+00 -2.6573e+00\n",
       "   1.0448e+00  6.1264e+00  3.5119e+00 -7.1017e+00 -1.7057e+00\n",
       "  -8.6439e-01 -1.7650e+00 -7.7506e-01 -4.9712e+00 -1.8820e+00\n",
       "        ...  \n",
       " \n",
       " (  2  , 47  ,.,.) = \n",
       "   2.3777e+00  7.8762e-01 -2.1940e-01 -1.2163e+00  2.1463e+00\n",
       "  -1.8497e+00  2.6135e+00 -2.1940e-01 -3.7027e+00 -3.5079e+00\n",
       "  -5.0024e+00  3.7137e+00  2.9407e-01 -6.8206e-01 -7.2370e+00\n",
       "  -2.0506e+01 -1.2679e+01 -1.0712e+01 -1.0146e+01 -8.5104e+00\n",
       "   2.1865e-01 -2.7679e-01 -4.7924e-02 -9.3757e+00 -2.2843e+00\n",
       " \n",
       " (  2  , 48  ,.,.) = \n",
       "  -9.9349e-01 -3.1659e+00 -2.0374e+00 -2.6430e+00  6.2495e-01\n",
       "  -7.2585e-01 -3.9903e+00 -2.0374e+00 -4.6311e+00 -3.9878e+00\n",
       "   2.3201e+00 -5.9101e+00 -5.5765e+00 -3.5332e+00 -2.9706e+00\n",
       "  -1.2651e+01 -1.1496e+01 -1.2095e+01 -4.5869e+00 -2.2712e+00\n",
       "  -1.8766e+00 -3.0925e+00 -2.6758e+00 -5.2417e+00 -1.0443e+00\n",
       " \n",
       " (  2  , 49  ,.,.) = \n",
       "   2.0881e+00  1.0213e-01 -4.3633e-01 -4.5803e-01 -8.6891e-01\n",
       "  -7.6047e+00 -3.3551e+00 -4.3633e-01 -2.4437e-01 -6.9671e+00\n",
       "  -4.4592e+00  5.5192e+00  7.2269e+00 -2.9115e+00 -7.9749e+00\n",
       "  -8.4942e+00 -1.5576e+01 -1.0527e+01 -3.6808e+00 -7.8915e+00\n",
       "   1.5789e+00  1.3911e+00 -8.1896e-02 -2.0278e+00 -8.1380e+00\n",
       "  ...        \n",
       "          ⋮   \n",
       " \n",
       " (59997,  0  ,.,.) = \n",
       "  -1.0245e+00 -1.1562e+00 -2.4424e+00 -5.9586e+00 -2.1301e+00\n",
       "  -9.5973e-01  2.7914e+00 -1.1267e+01 -7.5424e+00 -6.9576e+00\n",
       "  -1.3504e+00 -5.7272e+00  1.1749e+01 -9.9929e+00 -3.0606e+00\n",
       "  -1.0245e+00 -4.3693e+00 -9.7837e+00  1.0092e+01 -6.4616e+00\n",
       "   9.2355e-01 -8.2535e+00 -7.3081e+00 -8.8431e+00 -2.9593e+00\n",
       " \n",
       " (59997,  1  ,.,.) = \n",
       "  -1.1684e+00 -1.2294e+00 -1.7840e+00 -2.8064e+00 -9.0106e-01\n",
       "  -1.2392e+00 -4.3991e+00  5.2083e+00 -6.3158e+00 -1.3812e+01\n",
       "  -1.0647e+00 -5.1176e+00 -1.3671e+01 -7.3029e-01  1.1777e-02\n",
       "  -1.1684e+00 -4.3634e+00 -6.0163e+00 -8.6466e+00 -1.2923e+00\n",
       "  -3.2998e+00 -6.6275e-01 -2.7652e+00 -1.1631e+00 -4.1909e+00\n",
       " \n",
       " (59997,  2  ,.,.) = \n",
       "  -1.4317e-01 -3.0516e-01 -3.5139e+00 -1.3735e+01 -1.1958e+01\n",
       "  -2.6113e-01 -8.3745e+00 -2.4418e+00  6.2444e+00  4.2027e-01\n",
       "   5.1519e-02 -6.9888e-01 -3.0851e+00 -7.7877e+00 -1.7025e+00\n",
       "  -1.4317e-01  2.9346e-01 -1.7110e+00 -7.6771e+00 -1.4011e+00\n",
       "  -5.3755e+00 -8.0920e+00 -1.0566e+01 -7.6149e+00  5.4568e-01\n",
       "        ...  \n",
       " \n",
       " (59997, 47  ,.,.) = \n",
       "  -2.1940e-01  1.2376e-02  1.3945e+00 -5.3875e-01 -2.6855e+00\n",
       "  -5.6879e-01 -6.8162e+00  4.5141e-02 -9.0588e+00 -1.0560e+01\n",
       "  -2.0844e-02 -1.0316e+01 -1.6210e+01  1.0678e+01  1.9051e+00\n",
       "  -2.1940e-01  2.9545e+00 -7.5067e+00 -1.7324e+01  4.5293e+00\n",
       "  -4.8511e-02  6.2966e+00  2.5830e+00 -7.5924e+00 -1.4951e+00\n",
       " \n",
       " (59997, 48  ,.,.) = \n",
       "  -2.0374e+00 -2.2682e+00 -2.3426e+00 -5.1371e+00 -4.8148e+00\n",
       "  -2.1657e+00 -3.4548e+00 -5.8856e+00 -1.4501e+01 -9.7582e+00\n",
       "  -2.1925e+00 -1.0739e+01  3.2105e+00 -5.3445e-01 -4.5834e+00\n",
       "  -2.0374e+00 -8.0289e-01 -1.0262e+01  2.2948e+00 -3.6245e+00\n",
       "  -4.2609e-01 -2.5713e+00 -4.1767e+00 -1.0359e+01 -3.0979e+00\n",
       " \n",
       " (59997, 49  ,.,.) = \n",
       "  -4.3633e-01  7.0835e-02  4.6177e+00  8.3084e+00 -2.5360e+00\n",
       "  -3.5703e-01 -2.0154e+00 -1.4469e+01 -1.5389e+01 -2.9281e+00\n",
       "  -4.3906e-01 -3.1626e+00 -1.2003e+01  1.2302e+00  5.5965e-01\n",
       "  -4.3633e-01  3.2117e+00  1.8533e+00 -1.0465e+01 -4.9310e+00\n",
       "   1.5574e+00  6.4914e+00  8.8054e+00 -8.5747e-01 -6.7820e+00\n",
       "          ⋮   \n",
       " \n",
       " (59998,  0  ,.,.) = \n",
       "  -1.0245e+00 -1.0245e+00 -1.0215e+00 -7.9897e+00 -3.2785e+00\n",
       "  -1.0245e+00 -3.9423e-01 -6.9720e+00 -6.8870e+00 -1.2264e+00\n",
       "  -8.0115e-01 -5.4994e+00 -7.3134e+00 -5.3344e+00 -3.2251e+00\n",
       "  -1.0034e+00 -8.1652e+00 -4.6777e+00 -4.9209e+00 -2.8921e+00\n",
       "  -4.7880e+00  8.8975e+00 -2.1488e+00 -2.1363e+00 -3.7657e+00\n",
       " \n",
       " (59998,  1  ,.,.) = \n",
       "  -1.1684e+00 -1.1684e+00 -1.9642e+00  2.5963e+00 -1.0076e+01\n",
       "  -1.1684e+00 -2.3751e+00  1.7164e+00 -1.2284e+01 -1.6149e+00\n",
       "  -1.4607e+00 -1.4572e+00 -1.2169e+01 -4.2829e+00 -1.6782e-01\n",
       "  -2.5141e+00 -4.3175e+00 -1.6170e+00 -4.8374e+00 -6.2773e+00\n",
       "  -2.2024e+00 -7.7795e+00 -1.4728e+00 -2.8494e+00 -6.9001e+00\n",
       " \n",
       " (59998,  2  ,.,.) = \n",
       "  -1.4317e-01 -1.4317e-01 -1.8816e+00 -7.0410e+00  5.5596e-01\n",
       "  -1.4317e-01 -1.9918e+00 -8.5393e+00  8.6069e-01 -1.7551e+00\n",
       "  -4.1504e-01 -8.8330e+00 -6.4958e-01 -1.3724e+01 -1.0099e+01\n",
       "  -3.5345e+00  1.8212e-01 -3.8633e+00 -2.7425e-02 -1.4919e+00\n",
       "  -2.5384e+00 -9.4865e-01  5.2338e+00  5.5291e+00 -2.8362e+00\n",
       "        ...  \n",
       " \n",
       " (59998, 47  ,.,.) = \n",
       "  -2.1940e-01 -2.1940e-01 -8.4201e-01 -4.6552e+00 -1.0025e+01\n",
       "  -2.1940e-01 -2.0357e+00 -3.9078e+00 -7.9029e+00 -2.7526e+00\n",
       "  -7.8534e-01 -4.1922e+00 -9.9188e+00 -4.3771e+00  4.8632e+00\n",
       "  -4.7684e+00 -1.7352e+00 -6.2192e+00 -9.8236e+00 -1.2732e+01\n",
       "  -4.5874e+00 -1.6903e+01 -2.5427e+00 -7.2183e+00 -5.0513e+00\n",
       " \n",
       " (59998, 48  ,.,.) = \n",
       "  -2.0374e+00 -2.0374e+00 -2.3941e+00 -7.2455e+00 -7.2032e+00\n",
       "  -2.0374e+00 -3.1032e+00 -6.0389e+00 -8.0133e+00 -3.8949e+00\n",
       "  -2.5262e+00 -2.6821e+00 -8.1411e+00 -6.5818e+00  8.5135e-01\n",
       "  -4.6717e+00 -3.6281e+00 -8.1313e+00 -4.8025e+00 -1.0187e+01\n",
       "  -5.5280e+00 -2.7838e+00 -8.4086e+00 -9.8533e+00 -4.8896e+00\n",
       " \n",
       " (59998, 49  ,.,.) = \n",
       "  -4.3633e-01 -4.3633e-01  1.7172e+00 -4.9332e+00 -1.4360e+01\n",
       "  -4.3633e-01  1.2116e+00 -5.1423e+00 -7.3283e+00 -4.8034e-02\n",
       "  -2.5151e-01 -1.4690e+00 -4.5365e+00  6.9964e+00 -1.9479e+00\n",
       "  -1.1581e+00 -3.6128e+00 -1.9740e+00 -6.8253e+00 -1.0186e+01\n",
       "  -2.1219e+00 -1.5568e+01 -1.4152e+01 -7.5958e+00 -3.5053e-01\n",
       "          ⋮   \n",
       " \n",
       " (59999,  0  ,.,.) = \n",
       "  -1.0245e+00 -1.0657e+00 -1.6264e+00 -6.2862e+00 -6.8604e+00\n",
       "  -1.0245e+00  9.2394e-02 -6.7695e+00  1.2933e+00  3.0797e+00\n",
       "  -1.0245e+00 -8.5633e-01 -7.9681e+00 -7.0594e+00 -6.2070e+00\n",
       "  -6.3727e-01 -7.5072e+00 -8.2043e+00 -5.2701e+00 -2.1163e+00\n",
       "   9.0852e-01 -1.0307e+01 -1.7593e+00 -1.6337e+00 -1.0245e+00\n",
       " \n",
       " (59999,  1  ,.,.) = \n",
       "  -1.1684e+00 -1.1922e+00 -1.5780e+00 -1.5484e+00  1.1820e+00\n",
       "  -1.1684e+00 -2.5422e+00  2.2601e+00 -5.4763e+00 -4.8201e+00\n",
       "  -1.1684e+00 -1.8211e+00 -1.2399e+01  2.1073e-01 -6.0809e+00\n",
       "  -1.5006e+00 -4.9169e+00  6.7969e-01 -1.3718e+01 -1.8686e+00\n",
       "  -2.6318e+00 -6.3344e+00 -2.4519e+00 -6.7640e-01 -1.1684e+00\n",
       " \n",
       " (59999,  2  ,.,.) = \n",
       "  -1.4317e-01 -1.4844e-01 -2.3033e+00 -1.0589e+01 -6.2946e+00\n",
       "  -1.4317e-01 -2.8432e+00 -5.0229e+00  5.1651e+00 -7.5244e+00\n",
       "  -1.4317e-01 -3.1439e+00 -9.0014e+00 -1.1030e+01  7.5211e+00\n",
       "  -6.7902e-01 -1.1595e+01  3.9294e+00 -1.8568e+00 -2.6905e+00\n",
       "  -4.5086e+00 -1.1413e+00 -5.8783e+00 -1.0244e+00 -1.4317e-01\n",
       "        ...  \n",
       " \n",
       " (59999, 47  ,.,.) = \n",
       "  -2.1940e-01 -1.3885e-01  1.1375e+00  4.0678e+00  4.6356e+00\n",
       "  -2.1940e-01 -3.1525e+00 -5.9933e+00 -1.8837e+01 -1.4733e+00\n",
       "  -2.1940e-01 -5.1749e+00 -6.2291e+00 -5.5795e+00 -1.0261e+01\n",
       "  -8.3650e-01 -6.3744e+00 -6.2876e+00 -7.3121e+00 -2.8893e+00\n",
       "  -7.5534e+00  2.0771e+00 -6.7632e+00  4.9782e-01 -2.1940e-01\n",
       " \n",
       " (59999, 48  ,.,.) = \n",
       "  -2.0374e+00 -2.0883e+00 -1.4009e+00 -2.1645e+00 -5.2354e+00\n",
       "  -2.0374e+00 -3.4917e+00 -9.1409e+00 -1.5607e+01  4.3762e+00\n",
       "  -2.0374e+00 -4.2722e+00 -1.2725e+00 -9.4369e+00 -1.3208e+01\n",
       "  -2.4594e+00 -6.9774e+00 -4.4579e+00 -8.2251e+00 -4.2489e+00\n",
       "  -5.2379e+00  5.5311e-01 -2.6825e+00 -3.9684e+00 -2.0374e+00\n",
       " \n",
       " (59999, 49  ,.,.) = \n",
       "  -4.3633e-01 -4.4524e-01  2.7060e+00  8.1553e+00  4.4341e+00\n",
       "  -4.3633e-01  8.3635e-01 -9.7909e+00 -2.0381e+01 -1.1435e+01\n",
       "  -4.3633e-01 -2.8489e+00  1.9483e+00 -3.7253e+00 -1.1233e+01\n",
       "   4.1930e-01  2.9018e+00 -1.5056e+01 -2.6233e+00  1.2569e+00\n",
       "  -3.0035e+00 -2.3209e+00 -1.1221e+00 -7.5005e-01 -4.3633e-01\n",
       " [torch.cuda.FloatTensor of size 60000x50x5x5 (GPU 0)],\n",
       " 'fc1': \n",
       "  0.0000  0.0000  0.0003  ...   0.0000  0.0000  0.0000\n",
       "  0.0000  0.0000  0.0000  ...   0.0000  0.0000  0.0001\n",
       "  0.0000  0.0000  0.0000  ...   0.0000  0.0000  0.0000\n",
       "           ...             ⋱             ...          \n",
       "  0.0000  0.0000  0.0002  ...   0.0000  0.0000  0.0000\n",
       "  0.0000  0.0000  0.0000  ...   0.0000  0.0000  0.0000\n",
       "  0.0000  0.0000  0.0000  ...   0.0000  0.0000  0.0000\n",
       " [torch.cuda.FloatTensor of size 60000x500 (GPU 0)],\n",
       " 'fc2': \n",
       "  0.0000  0.0000  0.0000  ...   0.0000  0.0000  0.0000\n",
       "  1.0000  0.0000  0.0000  ...   0.0000  0.0000  0.0000\n",
       "  0.0000  0.0000  0.0000  ...   0.0000  0.0000  0.0000\n",
       "           ...             ⋱             ...          \n",
       "  0.0000  0.0000  0.0000  ...   0.0000  0.0000  0.0000\n",
       "  0.0000  0.0000  0.0000  ...   0.0000  0.0000  0.0000\n",
       "  0.0000  0.0000  0.0000  ...   0.0000  1.0000  0.0000\n",
       " [torch.cuda.FloatTensor of size 60000x10 (GPU 0)]}"
      ]
     },
     "execution_count": 3,
     "metadata": {},
     "output_type": "execute_result"
    }
   ],
   "source": [
    "%autoreload 2\n",
    "import torch\n",
    "import torch.nn as nn\n",
    "import torchvision.transforms as transforms\n",
    "import torchvision.datasets as dsets\n",
    "from torch.nn.modules import Module\n",
    "from torch.autograd import Variable\n",
    "import numpy as np\n",
    "\n",
    "import model_archs\n",
    "from utils_plot import show_sws_weights, show_weights, print_dims, prune_plot, draw_sws_graphs, joint_plot\n",
    "from utils_model import test_accuracy, train_epoch, retrain_sws_epoch, model_prune, get_weight_penalty\n",
    "from utils_misc import trueAfterN, logsumexp, root_dir, model_load_dir, root_dir\n",
    "from utils_sws import GaussianMixturePrior, special_flatten, KL, compute_responsibilies, merger, sws_prune\n",
    "from mnist_loader import search_train_data, search_retrain_data, search_validation_data, train_data, test_data, batch_size\n",
    "from extract_targets import get_targets\n",
    "import copy\n",
    "import pickle\n",
    "import argparse\n",
    "retraining_epochs = 50\n",
    "\n",
    "get_targets('mnist_SWSModel_100_full', 3)"
   ]
  },
  {
   "cell_type": "code",
   "execution_count": 4,
   "metadata": {},
   "outputs": [
    {
     "name": "stdout",
     "output_type": "stream",
     "text": [
      "mnist_LeNet_300_100_100_full.m\t  mnist_SWSModel_100_full.m\r\n",
      "mnist_LeNet_300_100_100_search.m  mnist_SWSModel_100_search.m\r\n"
     ]
    }
   ],
   "source": [
    "! ls ../models/"
   ]
  },
  {
   "cell_type": "code",
   "execution_count": 142,
   "metadata": {},
   "outputs": [
    {
     "name": "stderr",
     "output_type": "stream",
     "text": [
      "/homes/okz21/.conda/envs/nncpy3/lib/python3.5/site-packages/torch/serialization.py:284: SourceChangeWarning: source code of class 'torch.nn.modules.conv.Conv2d' has changed. you can retrieve the original source code by accessing the object's source attribute or set `torch.nn.Module.dump_patches = True` and use the patch tool to revert the changes.\n",
      "  warnings.warn(msg, SourceChangeWarning)\n",
      "/homes/okz21/.conda/envs/nncpy3/lib/python3.5/site-packages/torch/serialization.py:284: SourceChangeWarning: source code of class 'torch.nn.modules.activation.ReLU' has changed. you can retrieve the original source code by accessing the object's source attribute or set `torch.nn.Module.dump_patches = True` and use the patch tool to revert the changes.\n",
      "  warnings.warn(msg, SourceChangeWarning)\n",
      "/homes/okz21/.conda/envs/nncpy3/lib/python3.5/site-packages/torch/serialization.py:284: SourceChangeWarning: source code of class 'torch.nn.modules.linear.Linear' has changed. you can retrieve the original source code by accessing the object's source attribute or set `torch.nn.Module.dump_patches = True` and use the patch tool to revert the changes.\n",
      "  warnings.warn(msg, SourceChangeWarning)\n",
      "/homes/okz21/.conda/envs/nncpy3/lib/python3.5/site-packages/torch/serialization.py:284: SourceChangeWarning: source code of class 'torch.nn.modules.activation.Softmax' has changed. you can retrieve the original source code by accessing the object's source attribute or set `torch.nn.Module.dump_patches = True` and use the patch tool to revert the changes.\n",
      "  warnings.warn(msg, SourceChangeWarning)\n"
     ]
    },
    {
     "ename": "TypeError",
     "evalue": "__init__() got an unexpected keyword argument 'dim'",
     "output_type": "error",
     "traceback": [
      "\u001b[0;31m---------------------------------------------------------------------------\u001b[0m",
      "\u001b[0;31mTypeError\u001b[0m                                 Traceback (most recent call last)",
      "\u001b[0;32m<ipython-input-142-fa797fd5f668>\u001b[0m in \u001b[0;36m<module>\u001b[0;34m()\u001b[0m\n\u001b[1;32m    100\u001b[0m     \u001b[0;32mreturn\u001b[0m \u001b[0mval_accuracy\u001b[0m\u001b[0;34m,\u001b[0m \u001b[0msparsity\u001b[0m\u001b[0;34m,\u001b[0m \u001b[0mmodel\u001b[0m\u001b[0;34m,\u001b[0m \u001b[0mmodel_prune\u001b[0m\u001b[0;34m,\u001b[0m \u001b[0mgmp\u001b[0m\u001b[0;34m\u001b[0m\u001b[0m\n\u001b[1;32m    101\u001b[0m \u001b[0;34m\u001b[0m\u001b[0m\n\u001b[0;32m--> 102\u001b[0;31m \u001b[0m_\u001b[0m\u001b[0;34m,\u001b[0m \u001b[0m_\u001b[0m\u001b[0;34m,\u001b[0m \u001b[0mnorm\u001b[0m\u001b[0;34m,\u001b[0m \u001b[0mprune\u001b[0m\u001b[0;34m,\u001b[0m \u001b[0mgmp\u001b[0m \u001b[0;34m=\u001b[0m \u001b[0mretrain_model\u001b[0m\u001b[0;34m(\u001b[0m\u001b[0;36m25000\u001b[0m\u001b[0;34m,\u001b[0m \u001b[0;36m10\u001b[0m\u001b[0;34m,\u001b[0m \u001b[0;36m1e-6\u001b[0m\u001b[0;34m,\u001b[0m \u001b[0;36m3\u001b[0m\u001b[0;34m,\u001b[0m \u001b[0;36m4\u001b[0m\u001b[0;34m,\u001b[0m \u001b[0;34m'SWSModel'\u001b[0m\u001b[0;34m,\u001b[0m \u001b[0;34m'search'\u001b[0m\u001b[0;34m,\u001b[0m \u001b[0;34m\"\"\u001b[0m\u001b[0;34m)\u001b[0m\u001b[0;34m\u001b[0m\u001b[0m\n\u001b[0m",
      "\u001b[0;32m<ipython-input-142-fa797fd5f668>\u001b[0m in \u001b[0;36mretrain_model\u001b[0;34m(alpha, beta, tau, temp, mixtures, model_name, data_size, model_save_dir)\u001b[0m\n\u001b[1;32m     46\u001b[0m         \u001b[0mcriterion\u001b[0m \u001b[0;34m=\u001b[0m \u001b[0mnn\u001b[0m\u001b[0;34m.\u001b[0m\u001b[0mMSELoss\u001b[0m\u001b[0;34m(\u001b[0m\u001b[0;34m)\u001b[0m\u001b[0;34m\u001b[0m\u001b[0m\n\u001b[1;32m     47\u001b[0m         \u001b[0moutput\u001b[0m \u001b[0;34m=\u001b[0m \u001b[0mtorch\u001b[0m\u001b[0;34m.\u001b[0m\u001b[0mload\u001b[0m\u001b[0;34m(\u001b[0m\u001b[0;34m\"{}{}_targets/{}.out.m\"\u001b[0m\u001b[0;34m.\u001b[0m\u001b[0mformat\u001b[0m\u001b[0;34m(\u001b[0m\u001b[0mmodel_load_dir\u001b[0m\u001b[0;34m,\u001b[0m \u001b[0mmodel_file\u001b[0m\u001b[0;34m.\u001b[0m\u001b[0mreplace\u001b[0m\u001b[0;34m(\u001b[0m\u001b[0;34m\"search\"\u001b[0m\u001b[0;34m,\u001b[0m \u001b[0;34m\"full\"\u001b[0m\u001b[0;34m)\u001b[0m\u001b[0;34m,\u001b[0m \u001b[0;34m\"fc2\"\u001b[0m\u001b[0;34m)\u001b[0m\u001b[0;34m)\u001b[0m\u001b[0;34m[\u001b[0m\u001b[0mx_start\u001b[0m\u001b[0;34m:\u001b[0m\u001b[0mx_end\u001b[0m\u001b[0;34m]\u001b[0m\u001b[0;34m\u001b[0m\u001b[0m\n\u001b[0;32m---> 48\u001b[0;31m         \u001b[0moutput\u001b[0m \u001b[0;34m=\u001b[0m \u001b[0;34m(\u001b[0m\u001b[0mnn\u001b[0m\u001b[0;34m.\u001b[0m\u001b[0mSoftmax\u001b[0m\u001b[0;34m(\u001b[0m\u001b[0mdim\u001b[0m\u001b[0;34m=\u001b[0m\u001b[0;36m1\u001b[0m\u001b[0;34m)\u001b[0m\u001b[0;34m(\u001b[0m\u001b[0moutput\u001b[0m\u001b[0;34m/\u001b[0m\u001b[0mtemp\u001b[0m\u001b[0;34m)\u001b[0m\u001b[0;34m)\u001b[0m\u001b[0;34m.\u001b[0m\u001b[0mdata\u001b[0m\u001b[0;34m\u001b[0m\u001b[0m\n\u001b[0m\u001b[1;32m     49\u001b[0m         \u001b[0mdataset\u001b[0m \u001b[0;34m=\u001b[0m \u001b[0mtorch\u001b[0m\u001b[0;34m.\u001b[0m\u001b[0mutils\u001b[0m\u001b[0;34m.\u001b[0m\u001b[0mdata\u001b[0m\u001b[0;34m.\u001b[0m\u001b[0mTensorDataset\u001b[0m\u001b[0;34m(\u001b[0m\u001b[0mtrain_dataset\u001b[0m\u001b[0;34m(\u001b[0m\u001b[0mfetch\u001b[0m\u001b[0;34m=\u001b[0m\u001b[0;34m'data'\u001b[0m\u001b[0;34m)\u001b[0m\u001b[0;34m,\u001b[0m \u001b[0moutput\u001b[0m\u001b[0;34m)\u001b[0m\u001b[0;34m\u001b[0m\u001b[0m\n\u001b[1;32m     50\u001b[0m         \u001b[0mloader\u001b[0m \u001b[0;34m=\u001b[0m \u001b[0mtorch\u001b[0m\u001b[0;34m.\u001b[0m\u001b[0mutils\u001b[0m\u001b[0;34m.\u001b[0m\u001b[0mdata\u001b[0m\u001b[0;34m.\u001b[0m\u001b[0mDataLoader\u001b[0m\u001b[0;34m(\u001b[0m\u001b[0mdataset\u001b[0m\u001b[0;34m=\u001b[0m\u001b[0mdataset\u001b[0m\u001b[0;34m,\u001b[0m \u001b[0mbatch_size\u001b[0m\u001b[0;34m=\u001b[0m\u001b[0mbatch_size\u001b[0m\u001b[0;34m,\u001b[0m \u001b[0mshuffle\u001b[0m\u001b[0;34m=\u001b[0m\u001b[0;32mTrue\u001b[0m\u001b[0;34m)\u001b[0m\u001b[0;34m\u001b[0m\u001b[0m\n",
      "\u001b[0;31mTypeError\u001b[0m: __init__() got an unexpected keyword argument 'dim'"
     ]
    }
   ],
   "source": [
    "#execution example: python retrain.py --model SWSModel --alpha 2500 --beta 10 --tau 1e-6 --mixtures 8 --temp 10\n",
    "%autoreload 2\n",
    "\n",
    "import torch\n",
    "import torch.nn as nn\n",
    "import torchvision.transforms as transforms\n",
    "import torchvision.datasets as dsets\n",
    "from torch.nn.modules import Module\n",
    "from torch.autograd import Variable\n",
    "import numpy as np\n",
    "\n",
    "import model_archs\n",
    "from utils_plot import show_sws_weights, show_weights, print_dims, prune_plot, draw_sws_graphs, joint_plot\n",
    "from utils_model import test_accuracy, train_epoch, retrain_sws_epoch, model_prune, get_weight_penalty\n",
    "from utils_misc import trueAfterN, logsumexp, root_dir, model_load_dir, root_dir\n",
    "from utils_sws import GaussianMixturePrior, special_flatten, KL, compute_responsibilies, merger, sws_prune\n",
    "from mnist_loader import search_train_data, search_retrain_data, search_validation_data, train_data, test_data, batch_size\n",
    "import copy\n",
    "import pickle\n",
    "import argparse\n",
    "retraining_epochs = 50\n",
    "\n",
    "###\n",
    "import matplotlib as plt\n",
    "%matplotlib inline\n",
    "\n",
    "def retrain_model(alpha, beta, tau, temp, mixtures, model_name, data_size, model_save_dir = \"\"):\n",
    "    if(data_size == 'search'):\n",
    "        train_dataset = search_retrain_data\n",
    "        val_data_full = Variable(search_validation_data(fetch='data')).cuda()\n",
    "        val_labels_full = Variable(search_validation_data(fetch='labels')).cuda()\n",
    "        (x_start, x_end) = (40000, 50000)\n",
    "    if(data_size == 'full'):\n",
    "        train_dataset = train_data\n",
    "        (x_start, x_end) = (0, 60000)\n",
    "    test_data_full = Variable(test_data(fetch='data')).cuda()\n",
    "    test_labels_full = Variable(test_data(fetch='labels')).cuda()\n",
    "        \n",
    "    model_file = 'mnist_{}_{}_{}'.format(model_name, 100, data_size)\n",
    "    model = torch.load(model_load_dir + model_file + '.m').cuda()\n",
    "        \n",
    "    if temp == 0:\n",
    "        criterion = nn.CrossEntropyLoss()\n",
    "        loader = torch.utils.data.DataLoader(dataset=train_dataset(), batch_size=batch_size, shuffle=True)\n",
    "    else:\n",
    "        criterion = nn.MSELoss()\n",
    "        output = torch.load(\"{}{}_targets/{}.out.m\".format(model_load_dir, model_file.replace(\"search\", \"full\"), \"fc2\"))[x_start:x_end]\n",
    "        output = (nn.Softmax(dim=1)(output/temp)).data\n",
    "        dataset = torch.utils.data.TensorDataset(train_dataset(fetch='data'), output)\n",
    "        loader = torch.utils.data.DataLoader(dataset=dataset, batch_size=batch_size, shuffle=True)\n",
    "\n",
    "    exp_name = \"m{}_a{}_b{}_r{}_t{}_kdT{}_{}\".format(model.name, alpha, beta, retraining_epochs, tau, temp, data_size)\n",
    "    gmp = GaussianMixturePrior(mixtures, [x for x in model.parameters()], 0.99, ab = (alpha, beta), scaling=True)\n",
    "    gmp.print_batch = False\n",
    "    \n",
    "    scaling = True\n",
    "\n",
    "    optimizable_params = [\n",
    "        {'params': model.parameters(), 'lr': 1e-4},\n",
    "        {'params': [gmp.means], 'lr': 1e-4},\n",
    "        {'params': [gmp.gammas, gmp.rhos], 'lr': 3e-3}]\n",
    "    if (scaling):\n",
    "        optimizable_params = optimizable_params + [{'params': gmp.scale, 'lr': 1e-4}]\n",
    "        exp_name = exp_name + \"_scaling\"\n",
    "\n",
    "    opt = torch.optim.Adam(optimizable_params)\n",
    "\n",
    "    for epoch in range(retraining_epochs):\n",
    "        model, loss = retrain_sws_epoch(model, gmp, opt, criterion, loader, tau)\n",
    "        \n",
    "        print('Epoch: {}'.format(epoch+1))\n",
    "        if (trueAfterN(epoch, 5)):\n",
    "            test_acc = test_accuracy(test_data_full, test_labels_full, model)\n",
    "            print('Epoch: {}. Test Accuracy: {:.2f}'.format(epoch+1, test_acc[0]))\n",
    "            print(gmp.scale)\n",
    "            \n",
    "            ###\n",
    "            show_sws_weights(model = model, means = list(gmp.means.data.clone().cpu()), precisions = list(gmp.gammas.data.clone().cpu()), epoch = epoch)\n",
    "            print('Epoch: {}. Test Accuracy: {:.2f}'.format(epoch+1, test_acc[0]))\n",
    "    \n",
    "    if(model_save_dir!=\"\"):\n",
    "        torch.save(model, model_save_dir + '/mnist_retrain_{}.m'.format(exp_name))\n",
    "        with open(model_save_dir + '/mnist_retrain_{}_gmp.p'.format(exp_name),'wb') as f:\n",
    "            pickle.dump(gmp, f)\n",
    "    \n",
    "    test_accuracy_pre = float((test_accuracy(test_data_full, test_labels_full, model)[0]))\n",
    "    val_accuracy_pre = 0 if (data_size != 'search') else float((test_accuracy(val_data_full, val_labels_full, model)[0]))\n",
    "    \n",
    "    \n",
    "    model_prune = copy.deepcopy(model)\n",
    "    model_prune.load_state_dict(sws_prune(model_prune, gmp))\n",
    "    prune_acc = (test_accuracy(test_data_full, test_labels_full, model_prune))\n",
    "    test_accuracy_prune = float((test_accuracy(test_data_full, test_labels_full, model_prune)[0]))\n",
    "    val_accuracy = 0 if (data_size != 'search') else float((test_accuracy(val_data_full, val_labels_full, model_prune)[0]))\n",
    "    sparsity = (special_flatten(model_prune.state_dict())==0).sum()/(special_flatten(model_prune.state_dict())>0).numel() * 100\n",
    "    print('Retrain Test: {:.2f}, Retrain Validation: {:.2f}, Prune Test: {:.2f}, Prune Validation: {:.2f}, Prune Sparsity: {:.2f}'\n",
    "          .format(test_accuracy_pre, val_accuracy_pre, test_accuracy_prune, val_accuracy, sparsity))\n",
    "    \n",
    "        \n",
    "    return val_accuracy, sparsity, model, model_prune, gmp\n",
    "    \n",
    "_, _, norm, prune, gmp = retrain_model(25000, 10, 1e-6, 3, 4, 'SWSModel', 'search', \"\")"
   ]
  },
  {
   "cell_type": "code",
   "execution_count": 3,
   "metadata": {},
   "outputs": [
    {
     "data": {
      "text/plain": [
       "Variable containing:\n",
       " 2.9198\n",
       " 2.2443\n",
       " 1.3385\n",
       " 1.9122\n",
       "[torch.cuda.FloatTensor of size 4 (GPU 0)]"
      ]
     },
     "execution_count": 3,
     "metadata": {},
     "output_type": "execute_result"
    }
   ],
   "source": [
    "gmp.scale.exp()"
   ]
  },
  {
   "cell_type": "code",
   "execution_count": 4,
   "metadata": {
    "scrolled": true
   },
   "outputs": [
    {
     "data": {
      "text/plain": [
       "<matplotlib.figure.Figure at 0x7fa23afcf9b0>"
      ]
     },
     "metadata": {},
     "output_type": "display_data"
    },
    {
     "data": {
      "image/png": "[encoded data removed]",
      "text/plain": [
       "<matplotlib.figure.Figure at 0x7fa23b2bbd68>"
      ]
     },
     "metadata": {},
     "output_type": "display_data"
    }
   ],
   "source": [
    "show_sws_weights(prune)"
   ]
  },
  {
   "cell_type": "code",
   "execution_count": 195,
   "metadata": {},
   "outputs": [
    {
     "data": {
      "text/plain": [
       "\n",
       "-0.3679\n",
       "-0.1001\n",
       " 0.1602\n",
       "[torch.cuda.FloatTensor of size 3 (GPU 0)]"
      ]
     },
     "execution_count": 195,
     "metadata": {},
     "output_type": "execute_result"
    }
   ],
   "source": [
    "gmp_bkp = copy.deepcopy(gmp.means)\n",
    "gmp_bkp"
   ]
  },
  {
   "cell_type": "code",
   "execution_count": 199,
   "metadata": {},
   "outputs": [
    {
     "name": "stdout",
     "output_type": "stream",
     "text": [
      "Pruned - Epoch: 1. Test Accuracy: 74.78\n",
      "Epoch: 1. Test Accuracy: 93.09\n"
     ]
    },
    {
     "ename": "ZeroDivisionError",
     "evalue": "float division by zero",
     "output_type": "error",
     "traceback": [
      "\u001b[0;31m---------------------------------------------------------------------------\u001b[0m",
      "\u001b[0;31mZeroDivisionError\u001b[0m                         Traceback (most recent call last)",
      "\u001b[0;32m<ipython-input-199-27343d07dd08>\u001b[0m in \u001b[0;36m<module>\u001b[0;34m()\u001b[0m\n\u001b[1;32m     46\u001b[0m             \u001b[0mcluster_sum\u001b[0m \u001b[0;34m+=\u001b[0m \u001b[0;34m(\u001b[0m\u001b[0mmodel\u001b[0m\u001b[0;34m.\u001b[0m\u001b[0mstate_dict\u001b[0m\u001b[0;34m(\u001b[0m\u001b[0;34m)\u001b[0m\u001b[0;34m[\u001b[0m\u001b[0mlayer\u001b[0m\u001b[0;34m]\u001b[0m \u001b[0;34m[\u001b[0m\u001b[0midx_dict\u001b[0m\u001b[0;34m[\u001b[0m\u001b[0mlayer\u001b[0m\u001b[0;34m]\u001b[0m \u001b[0;34m==\u001b[0m \u001b[0mm\u001b[0m\u001b[0;34m+\u001b[0m\u001b[0;36m1\u001b[0m\u001b[0;34m]\u001b[0m\u001b[0;34m)\u001b[0m\u001b[0;34m.\u001b[0m\u001b[0msum\u001b[0m\u001b[0;34m(\u001b[0m\u001b[0;34m)\u001b[0m \u001b[0;34m*\u001b[0m \u001b[0mfloat\u001b[0m\u001b[0;34m(\u001b[0m\u001b[0mgmp\u001b[0m\u001b[0;34m.\u001b[0m\u001b[0mscale\u001b[0m\u001b[0;34m[\u001b[0m\u001b[0mint\u001b[0m\u001b[0;34m(\u001b[0m\u001b[0ml\u001b[0m\u001b[0;34m/\u001b[0m\u001b[0;36m2\u001b[0m\u001b[0;34m)\u001b[0m\u001b[0;34m]\u001b[0m\u001b[0;34m.\u001b[0m\u001b[0mexp\u001b[0m\u001b[0;34m(\u001b[0m\u001b[0;34m)\u001b[0m\u001b[0;34m)\u001b[0m\u001b[0;34m\u001b[0m\u001b[0m\n\u001b[1;32m     47\u001b[0m             \u001b[0;31m#print (layer, float(mean), float(gmp.scale[int(l/2)].exp()), cluster_sum, cluster_elem)\u001b[0m\u001b[0;34m\u001b[0m\u001b[0;34m\u001b[0m\u001b[0m\n\u001b[0;32m---> 48\u001b[0;31m         \u001b[0mnew_means\u001b[0m\u001b[0;34m[\u001b[0m\u001b[0mm\u001b[0m\u001b[0;34m]\u001b[0m \u001b[0;34m=\u001b[0m \u001b[0mcluster_sum\u001b[0m\u001b[0;34m/\u001b[0m\u001b[0mcluster_elem\u001b[0m\u001b[0;34m\u001b[0m\u001b[0m\n\u001b[0m\u001b[1;32m     49\u001b[0m     \u001b[0mnew_means\u001b[0m\u001b[0;34m\u001b[0m\u001b[0m\n\u001b[1;32m     50\u001b[0m \u001b[0;34m\u001b[0m\u001b[0m\n",
      "\u001b[0;31mZeroDivisionError\u001b[0m: float division by zero"
     ]
    }
   ],
   "source": [
    "model = copy.deepcopy(prune)\n",
    "\n",
    "data_size ='search'\n",
    "\n",
    "if(data_size == 'search'):\n",
    "    train_dataset = search_train_data()\n",
    "if(data_size == 'full'):\n",
    "    train_dataset = train_data()\n",
    "\n",
    "train_loader = torch.utils.data.DataLoader(dataset=train_dataset, batch_size=batch_size, shuffle=True)\n",
    "test_data_full = Variable(test_data(fetch='data')).cuda()\n",
    "test_labels_full = Variable(test_data(fetch='labels')).cuda()\n",
    "\n",
    "criterion = nn.CrossEntropyLoss()\n",
    "optimizer = torch.optim.Adam(model.parameters(), lr=1e-4, weight_decay = 0.000)\n",
    "for epoch in range(10):\n",
    "    idx_dict = copy.deepcopy(model.state_dict())\n",
    "    value_dict = copy.deepcopy(model.state_dict())\n",
    "\n",
    "    #keeping index of mixture, layer by layer\n",
    "    for l, layer in enumerate(model.state_dict()):\n",
    "        for m, mean in enumerate(gmp.means):\n",
    "            idx_dict[layer] [(model.state_dict()[layer] == mean / gmp.scale[int(l/2)].exp().data)] = m + 1 \n",
    "\n",
    "    test_acc = test_accuracy(test_data_full, test_labels_full, model)\n",
    "    print('Pruned - Epoch: {}. Test Accuracy: {:.2f}'.format(1, test_acc[0]))\n",
    "    #show_sws_weights(model)\n",
    "\n",
    "    ### Mark which tensors belong to which layer in matrices -- mixture_occ\n",
    "\n",
    "    model, loss = train_epoch(model, optimizer, criterion, train_loader)\n",
    "\n",
    "    ### Find the new means -- use mixture occ - for scaling use multipliers across all layers \n",
    "\n",
    "    test_acc = test_accuracy(test_data_full, test_labels_full, model)\n",
    "    print('Epoch: {}. Test Accuracy: {:.2f}'.format(1, test_acc[0]))\n",
    "    #show_sws_weights(model)\n",
    "    #\t\t-> Calculate new mean for each \"cluster\"\n",
    "    new_means = gmp.means.clone()\n",
    "    for m, mean in enumerate(new_means):\n",
    "        #print(m, mean)\n",
    "        cluster_sum = 0\n",
    "        cluster_elem = 0\n",
    "        for l, layer in enumerate(model.state_dict()):\n",
    "            cluster_elem += (idx_dict[layer] == m+1).sum()\n",
    "            cluster_sum += (model.state_dict()[layer] [idx_dict[layer] == m+1]).sum() * float(gmp.scale[int(l/2)].exp())\n",
    "            #print (layer, float(mean), float(gmp.scale[int(l/2)].exp()), cluster_sum, cluster_elem)\n",
    "        new_means[m] = cluster_sum/cluster_elem\n",
    "    new_means\n",
    "\n",
    "    #-> Change model parameters according to decision boundaries\n",
    "    for l, layer in enumerate(model.state_dict()):\n",
    "        #-> Draw decision boundaries using means\n",
    "        nml = sorted(list(new_means / gmp.scale[int(l/2)].exp().data) + [0])\n",
    "        partitions = [(nml[i] + nml[i+1]) * 0.5 for i in range(len(nml)-1)]\n",
    "        value_dict[layer][model.state_dict()[layer] <= partitions[0]] = float(nml[0])\n",
    "        for p, partition in enumerate(partitions):\n",
    "            #print(value_dict[layer][value_dict[layer] < partition].numel())\n",
    "            #print (layer, partition, float(nml[p]), (model.state_dict()[layer] <= partition).sum())\n",
    "            value_dict[layer][model.state_dict()[layer] > partition] = float(nml[p+1])\n",
    "\n",
    "    gmp.means = new_means\n",
    "    model.load_state_dict(value_dict)\n",
    "    test_acc = test_accuracy(test_data_full, test_labels_full, model)\n",
    "    print('Repruned - Epoch: {}. Test Accuracy: {:.2f}'.format(1, test_acc[0]))"
   ]
  },
  {
   "cell_type": "code",
   "execution_count": 197,
   "metadata": {},
   "outputs": [
    {
     "data": {
      "text/plain": [
       "-0.3678847849369049"
      ]
     },
     "execution_count": 197,
     "metadata": {},
     "output_type": "execute_result"
    }
   ],
   "source": [
    "mean"
   ]
  },
  {
   "cell_type": "code",
   "execution_count": 179,
   "metadata": {},
   "outputs": [
    {
     "data": {
      "text/plain": [
       "-0.18793274462223053"
      ]
     },
     "execution_count": 179,
     "metadata": {},
     "output_type": "execute_result"
    }
   ],
   "source": [
    "prune.state_dict()['fc2.weight'].min()"
   ]
  },
  {
   "cell_type": "code",
   "execution_count": 180,
   "metadata": {},
   "outputs": [
    {
     "data": {
      "text/plain": [
       "-0.18788480758666992"
      ]
     },
     "execution_count": 180,
     "metadata": {},
     "output_type": "execute_result"
    }
   ],
   "source": [
    "value_dict['fc2.weight'].min()"
   ]
  },
  {
   "cell_type": "code",
   "execution_count": 1,
   "metadata": {},
   "outputs": [],
   "source": [
    "import sys\n",
    "sys.path.insert(0,'../src/')"
   ]
  },
  {
   "cell_type": "code",
   "execution_count": 8,
   "metadata": {},
   "outputs": [
    {
     "name": "stderr",
     "output_type": "stream",
     "text": [
      "/anaconda/envs/py35/lib/python3.5/site-packages/ipykernel/__main__.py:52: UserWarning: Implicit dimension choice for softmax has been deprecated. Change the call to include dim=X as an argument.\n"
     ]
    }
   ],
   "source": [
    "#execution example: python retrain.py --model SWSModel --alpha 2500 --beta 10 --tau 1e-6 --mixtures 8 --temp 10\n",
    "import torch\n",
    "import torch.nn as nn\n",
    "import torchvision.transforms as transforms\n",
    "import torchvision.datasets as dsets\n",
    "from torch.nn.modules import Module\n",
    "from torch.autograd import Variable\n",
    "import torch.nn.functional as F\n",
    "import numpy as np\n",
    "\n",
    "import model_archs\n",
    "from utils_plot import show_sws_weights, show_weights, print_dims, prune_plot, draw_sws_graphs, joint_plot\n",
    "from utils_model import test_accuracy, train_epoch, retrain_sws_epoch, model_prune, get_weight_penalty\n",
    "from utils_misc import trueAfterN, logsumexp, model_load_dir\n",
    "from utils_sws import GaussianMixturePrior, special_flatten, KL, compute_responsibilies, merger, sws_prune\n",
    "\n",
    "import copy\n",
    "import pickle\n",
    "\n",
    "alpha = 25000\n",
    "beta = 10\n",
    "tau = 1e-5\n",
    "mixtures = 16\n",
    "model_name = \"SWSModel\"\n",
    "temp = 8\n",
    "\n",
    "#Data\n",
    "from mnist_loader import search_train_data, search_retrain_data, search_validation_data, train_data, test_data, batch_size\n",
    "model_dir = \"../models/\"\n",
    "training_epochs = 100\n",
    "retraining_epochs = 50\n",
    "model_file = 'mnist_{}_{}'.format(model_name, training_epochs)\n",
    "model = torch.load(model_dir + 'mnist_{}_{}_full.m'.format(model_name, 100)).cuda()\n",
    "\n",
    "test_data_full = Variable(test_data(fetch = \"data\")).cuda()\n",
    "test_labels_full = Variable(test_data(fetch = \"labels\")).cuda()\n",
    "\n",
    "trim_l = 40000\n",
    "\n",
    "if temp == 0:\n",
    "    temp = 0\n",
    "    criterion = nn.CrossEntropyLoss()\n",
    "    \n",
    "    trimmed_data = train_dataset.train_data[trim_l:]\n",
    "    trimmed_labels = train_dataset.train_labels[trim_l:]\n",
    "    trimmed_dataset = (trimmed_data, trimmed_labels)\n",
    "    loader = torch.utils.data.DataLoader(dataset=trimmed_dataset, batch_size=batch_size, shuffle=True)\n",
    "else:\n",
    "    temp = float(temp)\n",
    "    criterion = nn.MSELoss()\n",
    "    output = torch.load(\"{}{}_full_targets/{}.out.m\".format(model_dir, model_file, \"fc2\"))\n",
    "    output = (nn.Softmax()(output/temp)).data#dim=1\n",
    "    \n",
    "    train_data_full = train_data(fetch = \"data\").cuda()\n",
    "    dataset = torch.utils.data.TensorDataset(train_data_full[trim_l:], output[trim_l:])\n",
    "    \n",
    "    loader = torch.utils.data.DataLoader(dataset=dataset, batch_size=batch_size, shuffle=True)"
   ]
  },
  {
   "cell_type": "code",
   "execution_count": 9,
   "metadata": {},
   "outputs": [
    {
     "name": "stdout",
     "output_type": "stream",
     "text": [
      "0-component Mean: 2500.0 Variance: 1250.0\n",
      "Non-zero component Mean: 2500.0 Variance: 250.0\n",
      "Epoch: 1\n",
      "Layer Loss: 413.911\n",
      "Layer Loss: 12.551\n",
      "Layer Loss: 7492.972\n",
      "Layer Loss: 24.883\n",
      "Layer Loss: 412004.438\n",
      "Layer Loss: 264.206\n",
      "Layer Loss: 3325.450\n",
      "Layer Loss: 5.665\n",
      "0-neglogprop Loss: -13828.171\n",
      "Remaining-neglogprop Loss: -1037279.125\n",
      "Epoch: 2\n",
      "Epoch: 3\n",
      "Epoch: 4\n",
      "Epoch: 5\n"
     ]
    },
    {
     "data": {
      "text/plain": [
       "<matplotlib.figure.Figure at 0x7f07c6486e48>"
      ]
     },
     "metadata": {},
     "output_type": "display_data"
    },
    {
     "data": {
      "image/png": "[encoded data removed]",
      "text/plain": [
       "<matplotlib.figure.Figure at 0x7f07c6471588>"
      ]
     },
     "metadata": {},
     "output_type": "display_data"
    },
    {
     "name": "stdout",
     "output_type": "stream",
     "text": [
      "Epoch: 5. Test Accuracy: 99.00\n",
      "Epoch: 6\n",
      "Epoch: 7\n",
      "Epoch: 8\n",
      "Epoch: 9\n",
      "Epoch: 10\n"
     ]
    },
    {
     "data": {
      "text/plain": [
       "<matplotlib.figure.Figure at 0x7f07c5bb0e48>"
      ]
     },
     "metadata": {},
     "output_type": "display_data"
    },
    {
     "data": {
      "image/png": "[encoded data removed]",
      "text/plain": [
       "<matplotlib.figure.Figure at 0x7f07c5bb06a0>"
      ]
     },
     "metadata": {},
     "output_type": "display_data"
    },
    {
     "name": "stdout",
     "output_type": "stream",
     "text": [
      "Epoch: 10. Test Accuracy: 98.97\n",
      "Epoch: 11\n",
      "Epoch: 12\n",
      "Epoch: 13\n",
      "Epoch: 14\n",
      "Epoch: 15\n"
     ]
    },
    {
     "data": {
      "text/plain": [
       "<matplotlib.figure.Figure at 0x7f07c61429b0>"
      ]
     },
     "metadata": {},
     "output_type": "display_data"
    },
    {
     "data": {
      "image/png": "[encoded data removed]",
      "text/plain": [
       "<matplotlib.figure.Figure at 0x7f07c5bfe080>"
      ]
     },
     "metadata": {},
     "output_type": "display_data"
    },
    {
     "name": "stdout",
     "output_type": "stream",
     "text": [
      "Epoch: 15. Test Accuracy: 98.48\n",
      "Epoch: 16\n",
      "Epoch: 17\n",
      "Epoch: 18\n",
      "Epoch: 19\n",
      "Epoch: 20\n"
     ]
    },
    {
     "data": {
      "text/plain": [
       "<matplotlib.figure.Figure at 0x7f07c5cf3198>"
      ]
     },
     "metadata": {},
     "output_type": "display_data"
    },
    {
     "data": {
      "image/png": "[encoded data removed]",
      "text/plain": [
       "<matplotlib.figure.Figure at 0x7f07c5cf3ef0>"
      ]
     },
     "metadata": {},
     "output_type": "display_data"
    },
    {
     "name": "stdout",
     "output_type": "stream",
     "text": [
      "Epoch: 20. Test Accuracy: 96.65\n",
      "Epoch: 21\n",
      "Epoch: 22\n",
      "Epoch: 23\n",
      "Epoch: 24\n",
      "Epoch: 25\n"
     ]
    },
    {
     "data": {
      "text/plain": [
       "<matplotlib.figure.Figure at 0x7f07c5ad9a58>"
      ]
     },
     "metadata": {},
     "output_type": "display_data"
    },
    {
     "data": {
      "image/png": "[encoded data removed]",
      "text/plain": [
       "<matplotlib.figure.Figure at 0x7f07c59fccc0>"
      ]
     },
     "metadata": {},
     "output_type": "display_data"
    },
    {
     "name": "stdout",
     "output_type": "stream",
     "text": [
      "Epoch: 25. Test Accuracy: 97.11\n",
      "Epoch: 26\n",
      "Epoch: 27\n",
      "Epoch: 28\n",
      "Epoch: 29\n",
      "Epoch: 30\n"
     ]
    },
    {
     "data": {
      "text/plain": [
       "<matplotlib.figure.Figure at 0x7f07c5c8a668>"
      ]
     },
     "metadata": {},
     "output_type": "display_data"
    },
    {
     "data": {
      "image/png": "[encoded data removed]",
      "text/plain": [
       "<matplotlib.figure.Figure at 0x7f07c5a2ce48>"
      ]
     },
     "metadata": {},
     "output_type": "display_data"
    },
    {
     "name": "stdout",
     "output_type": "stream",
     "text": [
      "Epoch: 30. Test Accuracy: 97.28\n",
      "Epoch: 31\n",
      "Epoch: 32\n",
      "Epoch: 33\n",
      "Epoch: 34\n",
      "Epoch: 35\n"
     ]
    },
    {
     "data": {
      "text/plain": [
       "<matplotlib.figure.Figure at 0x7f07c5ca2cc0>"
      ]
     },
     "metadata": {},
     "output_type": "display_data"
    },
    {
     "data": {
      "image/png": "[encoded data removed]",
      "text/plain": [
       "<matplotlib.figure.Figure at 0x7f07c5ca2898>"
      ]
     },
     "metadata": {},
     "output_type": "display_data"
    },
    {
     "name": "stdout",
     "output_type": "stream",
     "text": [
      "Epoch: 35. Test Accuracy: 97.32\n",
      "Epoch: 36\n",
      "Epoch: 37\n",
      "Epoch: 38\n",
      "Epoch: 39\n",
      "Epoch: 40\n"
     ]
    },
    {
     "data": {
      "text/plain": [
       "<matplotlib.figure.Figure at 0x7f0839003898>"
      ]
     },
     "metadata": {},
     "output_type": "display_data"
    },
    {
     "data": {
      "image/png": "[encoded data removed]",
      "text/plain": [
       "<matplotlib.figure.Figure at 0x7f07c5a48198>"
      ]
     },
     "metadata": {},
     "output_type": "display_data"
    },
    {
     "name": "stdout",
     "output_type": "stream",
     "text": [
      "Epoch: 40. Test Accuracy: 97.39\n",
      "Epoch: 41\n",
      "Epoch: 42\n",
      "Epoch: 43\n",
      "Epoch: 44\n",
      "Epoch: 45\n"
     ]
    },
    {
     "data": {
      "text/plain": [
       "<matplotlib.figure.Figure at 0x7f07c5ff8e48>"
      ]
     },
     "metadata": {},
     "output_type": "display_data"
    },
    {
     "data": {
      "image/png": "[encoded data removed]",
      "text/plain": [
       "<matplotlib.figure.Figure at 0x7f07c516ecc0>"
      ]
     },
     "metadata": {},
     "output_type": "display_data"
    },
    {
     "name": "stdout",
     "output_type": "stream",
     "text": [
      "Epoch: 45. Test Accuracy: 97.37\n",
      "Epoch: 46\n",
      "Epoch: 47\n",
      "Epoch: 48\n",
      "Epoch: 49\n",
      "Epoch: 50\n"
     ]
    },
    {
     "data": {
      "text/plain": [
       "<matplotlib.figure.Figure at 0x7f07c5fea208>"
      ]
     },
     "metadata": {},
     "output_type": "display_data"
    },
    {
     "data": {
      "image/png": "[encoded data removed]",
      "text/plain": [
       "<matplotlib.figure.Figure at 0x7f07c5c870f0>"
      ]
     },
     "metadata": {},
     "output_type": "display_data"
    },
    {
     "name": "stdout",
     "output_type": "stream",
     "text": [
      "Epoch: 50. Test Accuracy: 97.54\n"
     ]
    }
   ],
   "source": [
    "#exp_name = \"m{}_a{}_b{}_r{}_t{}_kdT{}\".format(model.name, alpha, beta, retraining_epochs, tau, temp)\n",
    "model_s = torch.load(model_dir + 'mnist_{}_{}_full.m'.format(model_name, 100)).cuda()\n",
    "gmp_s = GaussianMixturePrior(mixtures, [x for x in model_s.parameters()], 0.99, ab = (alpha, beta), scaling = True)\n",
    "\n",
    "sws_param1_s = [gmp_s.means]\n",
    "sws_param2_s = [gmp_s.gammas, gmp_s.rhos]\n",
    "\n",
    "opt = torch.optim.Adam([\n",
    "        {'params': model_s.parameters(), 'lr': 1e-4},\n",
    "        {'params': [gmp_s.means], 'lr': 1e-4},\n",
    "        {'params': [gmp_s.gammas, gmp_s.rhos], 'lr': 3e-3}])#log precisions and mixing proportions\n",
    "\n",
    "for epoch in range(retraining_epochs):\n",
    "    print(\"Epoch: {}\".format(epoch+1))\n",
    "    model_s, loss = retrain_sws_epoch(model_s, gmp_s, opt, criterion, loader, tau/10)\n",
    "    \n",
    "    if (trueAfterN(epoch, 5)):\n",
    "        test_acc = test_accuracy(test_data_full, test_labels_full, model_s)\n",
    "        show_sws_weights(model = model_s, means = list(gmp_s.means.data.clone().cpu()), precisions = list(gmp_s.gammas.data.clone().cpu()), epoch = epoch)\n",
    "        print('Epoch: {}. Test Accuracy: {:.2f}'.format(epoch+1, test_acc[0]))\n",
    "\n",
    "#torch.save(model, model_dir + model_file + '/mnist_model_retrain_{}.m'.format(exp_name))\n",
    "#with open(model_dir + model_file + '/mnist_model_retrain_{}_gmp.p'.format(exp_name),'wb') as f:\n",
    "#    pickle.dump(gmp, f)"
   ]
  },
  {
   "cell_type": "code",
   "execution_count": 11,
   "metadata": {},
   "outputs": [],
   "source": [
    "pruned_dict = sws_prune(model_s, gmp_s)"
   ]
  },
  {
   "cell_type": "code",
   "execution_count": 16,
   "metadata": {},
   "outputs": [],
   "source": [
    "import pickle\n",
    "with open(\"prune_model_dict.p\", \"wb\") as handle:\n",
    "    pickle.dump(pruned_dict, handle)\n",
    "with open(\"prune_gmp.p\", \"wb\") as handle:\n",
    "    pickle.dump(gmp_s, handle)"
   ]
  }
 ],
 "metadata": {
  "kernelspec": {
   "display_name": "Python [default]",
   "language": "python",
   "name": "python3"
  },
  "language_info": {
   "codemirror_mode": {
    "name": "ipython",
    "version": 3
   },
   "file_extension": ".py",
   "mimetype": "text/x-python",
   "name": "python",
   "nbconvert_exporter": "python",
   "pygments_lexer": "ipython3",
   "version": "3.5.4"
  }
 },
 "nbformat": 4,
 "nbformat_minor": 2
}
