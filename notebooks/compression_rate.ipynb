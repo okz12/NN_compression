{
 "cells": [
  {
   "cell_type": "code",
   "execution_count": 1,
   "metadata": {},
   "outputs": [
    {
     "ename": "NameError",
     "evalue": "name 'np' is not defined",
     "output_type": "error",
     "traceback": [
      "\u001b[0;31m---------------------------------------------------------------------------\u001b[0m",
      "\u001b[0;31mNameError\u001b[0m                                 Traceback (most recent call last)",
      "\u001b[0;32m<ipython-input-1-bf50c276b2b6>\u001b[0m in \u001b[0;36m<module>\u001b[0;34m()\u001b[0m\n\u001b[1;32m      2\u001b[0m \u001b[0mnb\u001b[0m \u001b[0;34m=\u001b[0m \u001b[0;36m200000\u001b[0m \u001b[0;34m*\u001b[0m \u001b[0;36m32\u001b[0m\u001b[0;34m\u001b[0m\u001b[0m\n\u001b[1;32m      3\u001b[0m \u001b[0mkb\u001b[0m \u001b[0;34m=\u001b[0m \u001b[0;36m16\u001b[0m \u001b[0;34m*\u001b[0m \u001b[0;36m32\u001b[0m\u001b[0;34m\u001b[0m\u001b[0m\n\u001b[0;32m----> 4\u001b[0;31m \u001b[0mnl2k\u001b[0m \u001b[0;34m=\u001b[0m \u001b[0;36m0.005\u001b[0m \u001b[0;34m*\u001b[0m \u001b[0;36m200000\u001b[0m \u001b[0;34m*\u001b[0m \u001b[0mnp\u001b[0m\u001b[0;34m.\u001b[0m\u001b[0mlog2\u001b[0m\u001b[0;34m(\u001b[0m\u001b[0;36m16\u001b[0m\u001b[0;34m)\u001b[0m \u001b[0;34m+\u001b[0m \u001b[0;36m200000\u001b[0m\u001b[0;34m/\u001b[0m\u001b[0;36m16\u001b[0m \u001b[0;34m*\u001b[0m \u001b[0mnp\u001b[0m\u001b[0;34m.\u001b[0m\u001b[0mlog2\u001b[0m\u001b[0;34m(\u001b[0m\u001b[0;36m16\u001b[0m\u001b[0;34m)\u001b[0m\u001b[0;34m\u001b[0m\u001b[0m\n\u001b[0m\u001b[1;32m      5\u001b[0m \u001b[0;34m(\u001b[0m\u001b[0mnb\u001b[0m\u001b[0;34m/\u001b[0m\u001b[0;34m(\u001b[0m\u001b[0mkb\u001b[0m \u001b[0;34m+\u001b[0m \u001b[0mnl2k\u001b[0m\u001b[0;34m)\u001b[0m\u001b[0;34m)\u001b[0m\u001b[0;34m\u001b[0m\u001b[0m\n",
      "\u001b[0;31mNameError\u001b[0m: name 'np' is not defined"
     ]
    }
   ],
   "source": [
    "#naive calculation\n",
    "nb = 200000 * 32\n",
    "kb = 16 * 32\n",
    "nl2k = 0.005 * 200000 * np.log2(16) + 200000/16 * np.log2(16)\n",
    "(nb/(kb + nl2k))"
   ]
  },
  {
   "cell_type": "code",
   "execution_count": 2,
   "metadata": {},
   "outputs": [
    {
     "data": {
      "text/plain": [
       "60.443457621222713"
      ]
     },
     "execution_count": 2,
     "metadata": {},
     "output_type": "execute_result"
    }
   ],
   "source": [
    "import numpy as np\n",
    "\n",
    "number_of_elements = 266610\n",
    "pruning_rate = 0.043/2\n",
    "index_bits = 5\n",
    "#number_of_elements = 400000\n",
    "#pruning_rate = 0.005/2\n",
    "#index_bits = 6\n",
    "\n",
    "orig = number_of_elements * 32 #266k elements at 32 bit precision\n",
    "codebook = 16 * 32 # 16 cluster means at 32 bit preicison\n",
    "weight = number_of_elements * np.log2(32) * (pruning_rate + 1/(2**index_bits))\n",
    "index = number_of_elements * index_bits * (pruning_rate + 1/(2**index_bits))\n",
    "(orig/(codebook + weight + index))\n",
    "\n"
   ]
  },
  {
   "cell_type": "code",
   "execution_count": 5,
   "metadata": {},
   "outputs": [
    {
     "name": "stdout",
     "output_type": "stream",
     "text": [
      "12800000 6017 54153 24068 512 162.57477804732451\n"
     ]
    }
   ],
   "source": [
    "#encode\n",
    "R = np.random.rand(400000)\n",
    "R[R<=0.995] = 0\n",
    "R[R>0.995] = 1/100\n",
    "'''\n",
    "R[R>0.990] = 2/100\n",
    "R[R>0.985] = 3/100\n",
    "R[R>0.980] = 4/100\n",
    "R[R>0.975] = 5/100\n",
    "R[R>0.970] = 6/100\n",
    "R[R>0.965] = 7/100\n",
    "R[R>0.960] = 8/100\n",
    "R[R>0.959] = 9/100\n",
    "R[R>0.957] = 10/100\n",
    "'''\n",
    "\n",
    "R=R*100\n",
    "#[[x,list(R).count(x)] for x in set(list(R))]\n",
    "\n",
    "model =\n",
    "\n",
    "#code_list\n",
    "class compressed_model():\n",
    "    def __init__(state_dict, gmp_list):\n",
    "        #could be multiple gmps\n",
    "        #could be multiple gmp scales\n",
    "        self.means = []\n",
    "        for g in gmp_list:\n",
    "            if (g.scaling):\n",
    "                for \n",
    "            else:\n",
    "                self.means.append(list[g.means.clone().data.cpu().numpy()])\n",
    "        \n",
    "\n",
    "    def encode(R, index_bits):\n",
    "        index_spacing = index_bits**2\n",
    "        index_list = []\n",
    "        weight_list = []\n",
    "        index_counter=0\n",
    "        for pos, weight in enumerate(list(R)):\n",
    "            index_counter+=1\n",
    "            if (weight==0):\n",
    "                if index_counter==index_spacing:\n",
    "                    index_list.append(index_spacing)\n",
    "                    weight_list.append(0)\n",
    "                    index_counter=0\n",
    "            else:\n",
    "                weight_list.append(weight)\n",
    "                index_list.append(index_counter)\n",
    "                index_counter=0\n",
    "        if(index_counter>0):\n",
    "            index_list.append(index_counter)\n",
    "            weight_list.append(0)\n",
    "        return index_list, weight_list\n",
    "\n",
    "index_size = len(index_list) * index_bits\n",
    "weight_size = len(weight_list) * 4\n",
    "codebook_size = 32 * 2**4\n",
    "full_size = len(list(R)) * 32\n",
    "print(full_size, len(weight_list), index_size, weight_size, codebook_size, full_size/(index_size + weight_size + codebook_size))"
   ]
  },
  {
   "cell_type": "code",
   "execution_count": 6,
   "metadata": {},
   "outputs": [],
   "source": [
    "#decode\n",
    "R_recov = []\n",
    "for index, weight in zip(index_list, weight_list):\n",
    "    for z in range(int(index-1)):\n",
    "        R_recov.append(0)\n",
    "    R_recov.append(weight)"
   ]
  },
  {
   "cell_type": "code",
   "execution_count": 7,
   "metadata": {},
   "outputs": [
    {
     "data": {
      "text/plain": [
       "0.0"
      ]
     },
     "execution_count": 7,
     "metadata": {},
     "output_type": "execute_result"
    }
   ],
   "source": [
    "(R - R_recov).sum()"
   ]
  }
 ],
 "metadata": {
  "kernelspec": {
   "display_name": "Python 3",
   "language": "python",
   "name": "python3"
  },
  "language_info": {
   "codemirror_mode": {
    "name": "ipython",
    "version": 3
   },
   "file_extension": ".py",
   "mimetype": "text/x-python",
   "name": "python",
   "nbconvert_exporter": "python",
   "pygments_lexer": "ipython3",
   "version": "3.5.4"
  }
 },
 "nbformat": 4,
 "nbformat_minor": 2
}
